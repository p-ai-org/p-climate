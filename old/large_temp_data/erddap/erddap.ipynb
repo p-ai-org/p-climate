{
 "cells": [
  {
   "cell_type": "code",
   "execution_count": null,
   "source": [
    "# Create the griddap object\n",
    "\n",
    "from erddapClient import ERDDAP_Griddap\n",
    "\n",
    "dataset_id = \"erdSoda331oceanmday\"\n",
    "\n",
    "remote = ERDDAP_Griddap('https://coastwatch.pfeg.noaa.gov/erddap',dataset_id)\n",
    "\n",
    "# Show me the dataset general information (Until here, remote data is requested)\n",
    "print(remote)"
   ],
   "outputs": [],
   "metadata": {}
  }
 ],
 "metadata": {
  "orig_nbformat": 4,
  "language_info": {
   "name": "python"
  }
 },
 "nbformat": 4,
 "nbformat_minor": 2
}