{
 "cells": [
  {
   "cell_type": "code",
   "execution_count": null,
   "source": [
    "import os\n",
    "import pandas as pd"
   ],
   "outputs": [],
   "metadata": {}
  },
  {
   "cell_type": "code",
   "execution_count": 2,
   "source": [
    "coral_file = 'swart1998-st-1_noaa.txt'\n",
    "# Example of file with -noaa extension\n",
    "file1 = open(coral_file,'r')\n",
    "print(file1.read())\n",
    "file1.close()"
   ],
   "outputs": [
    {
     "output_type": "stream",
     "name": "stdout",
     "text": [
      "# Gulf of Guinea Coral Isotope, Luminescence and Density Data\n",
      "#----------------------------------------------------------------------- \n",
      "#                World Data Center for Paleoclimatology, Boulder \n",
      "#                                  and \n",
      "#                     NOAA Paleoclimatology Program \n",
      "#----------------------------------------------------------------------- \n",
      "# NOTE: Please cite Publication, and Online_Resource and date accessed when using these data. \n",
      "# If there is no publication information, please cite Investigators, Title, and Online_Resource and date accessed. \n",
      "#\n",
      "# Online_Resource: https://www.ncdc.noaa.gov/study/1913\n",
      "#\n",
      "# Original_Source_URL: http://www1.ncdc.noaa.gov/pub/data/paleo/coral/atlantic/saotome1998.txt\n",
      "# \n",
      "# Description/Documentation lines begin with #\n",
      "# Data lines have no #\n",
      "#\n",
      "# Archive: Corals and Sclerosponges\n",
      "#--------------------\n",
      "# Contribution_Date\n",
      "#\tDate: 2005-02-01\n",
      "#--------------------\n",
      "# Title\n",
      "#\tStudy_Name: Ponta Banana, Principe, Sao Tome - Isotope, Luminescence and Density Data\n",
      "#--------------------\n",
      "# Investigators\n",
      "#       Investigators: Swart, P.K.; White, K.S.; Enfield, D.; Dodge, R.E.; Milne, P. \n",
      "#--------------------\n",
      "# Description_and_Notes\n",
      "#\tDescription: Corals from the Gulf of Guinea - Sao Tome and Principe Collected in 1993 by the University of Miami, RSMAS. Analyzed at the University of Miami, RSMAS, Stable Isotope Lab Sampled sub-annually; reported as annual averages\n",
      "#--------------------\n",
      "# Publication \n",
      "#       Authors: Swart, P.K.; White, K.S.; Enfield, D.; Dodge, R.E.; Milne, P. \n",
      "#       Published_Date_or_Year: 1998\n",
      "#       Published_Title: Stable oxygen isotopic composition of corals from the Gulf of Guinea as indicators of periods of extreme precipitation conditions in the sub-Sahara.\n",
      "#       Journal_Name: Journal of Geophysical Research\n",
      "#       Volume: 103\n",
      "#       Edition: C12\n",
      "#       Issue: \n",
      "#       Pages: 27,885\n",
      "#       DOI: \n",
      "#       Online_Resource: \n",
      "#       Full_Citation: Swart, P.K., K.S. White, D. Enfield, R.E. Dodge, and P. Milne. 1998. Stable oxygen isotopic composition of corals from the Gulf of Guinea as indicators of periods of extreme precipitation conditions in the sub-Sahara. Journal of Geophysical Research 103(C12):27,885.\n",
      "#       Abstract: \n",
      "#------------------\n",
      "# Funding_Agency \n",
      "#       Funding_Agency_Name: \n",
      "#       Grant: \n",
      "#------------------\n",
      "# Site_Information \n",
      "#       Site_Name: Ponta Banana, Principe, Sao Tome And Principe\n",
      "#       Location: Ocean>Atlantic Ocean>South Atlantic Ocean>Sao Tome And Principe\n",
      "#\tCountry: Sao Tome And Principe \n",
      "#\tNorthernmost_Latitude: 0.47 \n",
      "# \tSouthernmost_Latitude: 0.47 \n",
      "# \tEasternmost_Longitude: 6.58 \n",
      "# \tWesternmost_Longitude: 6.58 \n",
      "# \tElevation: -4 m  \n",
      "#------------------\n",
      "# Data_Collection   \n",
      "#\tCollection_Name: 98saot02a \n",
      "#\tEarliest_Year: 1975\n",
      "#\tMost_Recent_Year: 1993 \n",
      "#\tTime_Unit: AD\n",
      "#\tCore_Length: \n",
      "#\tNotes: Coral ST-1 collected August 1993.\n",
      "#------------------\n",
      "# Species\n",
      "#\tSpecies_Name: Siderastrea spp. \n",
      "#\tCommon_Name: \n",
      "#------------------\n",
      "# Chronology_Information\n",
      "#\tChronology: \n",
      "# \n",
      "#----------------\n",
      "# Variables \n",
      "#\n",
      "# Data variables follow that are preceded by \"##\" in columns one and two.\n",
      "# Data line variables format:  Variables list, one per line, shortname-tab-longname-tab-longname components (9 components: what, material, error, units, seasonality, archive, detail, method, C or N for Character or Numeric data) \n",
      "#\n",
      "##age\tage, , ,years AD, , , ,N\n",
      "##d18O\tdelta 18O, Siderastrea spp., , permil VPDB, , Corals and Sclerosponges, , ,N\n",
      "##d13C\tdelta 13C, Siderastrea spp., , permil VPDB, , Corals and Sclerosponges, , ,N\n",
      "##lumin\tLuminescence, Siderastrea spp., , relative units, , Corals and Sclerosponges, , ,N\n",
      "##dens\tdensity, Siderastrea spp., , g/cm3, , Corals and Sclerosponges, , ,N\n",
      "#\n",
      "#----------------\n",
      "# Data:\n",
      "# Data lines follow (have no #)\n",
      "# Data line format - tab-delimited text, variable short name as header\n",
      "# Missing Values: NAN\n",
      "#\n",
      "age\td18O\td13C\tlumin\tdens\n",
      "1975\tNAN\tNAN\t-13.274\tNAN\n",
      "1976\tNAN\tNAN\t1.392\t1.664\n",
      "1977\t-3.60\t-1.05\t4.481\t1.646\n",
      "1978\t-3.48\t-1.17\t5.966\t1.645\n",
      "1979\t-3.59\t-1.07\t7.250\t1.686\n",
      "1980\t-3.69\t-1.03\t15.983\t1.590\n",
      "1981\t-3.50\t-0.87\t5.236\t1.712\n",
      "1982\t-3.52\t-1.15\t10.030\t1.675\n",
      "1983\t-3.66\t-1.23\t13.752\t1.560\n",
      "1984\t-3.85\t-0.89\t9.509\t1.472\n",
      "1985\t-3.81\t-1.10\t5.770\t1.483\n",
      "1986\t-3.51\t-1.01\t6.514\t1.744\n",
      "1987\t-3.48\t-1.12\t-1.673\t1.712\n",
      "1988\t-3.27\t-0.99\t0.708\t1.672\n",
      "1989\t-3.80\t-1.39\t2.578\t1.628\n",
      "1990\t-3.68\t-1.34\t0.703\t1.727\n",
      "1991\t-3.28\t-1.31\t6.420\t1.716\n",
      "1992\t-3.63\t-1.04\t9.449\t1.687\n",
      "1993\t-3.51\t-1.30\tNAN\tNAN\n",
      "\n"
     ]
    }
   ],
   "metadata": {}
  },
  {
   "cell_type": "markdown",
   "source": [
    "Gather metadata info! (site lat/lon & years of study)"
   ],
   "metadata": {}
  },
  {
   "cell_type": "code",
   "execution_count": 15,
   "source": [
    "file1 = open(coral_file,'r')\n",
    "file_in = file1.readlines()\n",
    "\n",
    "for line in file_in:\n",
    "    if \"Location:\" in line:\n",
    "        location = line.split(\": \")[1]\n",
    "    if \"Northernmost_Latitude:\" in line:\n",
    "        northernmost_lat = line.split(\": \")[1]\n",
    "    if \"Southernmost_Latitude:\" in line:\n",
    "        southernmost_lat = line.split(\": \")[1]\n",
    "    if \"Easternmost_Longitude:\" in line:\n",
    "        easternmost_lat = line.split(\": \")[1]\n",
    "    if \"Westernmost_Longitude:\" in line:\n",
    "        westernmost_lat = line.split(\": \")[1]\n",
    "    if \"Elevation:\" in line:\n",
    "        elevation = line.split(\": \")[1]\n",
    "    if \"Earliest_Year:\" in line:\n",
    "        earliest_year = line.split(\": \")[1]\n",
    "    if \"Most_Recent_Year:\" in line:\n",
    "        most_recent_year = line.split(\": \")[1]\n",
    "    if \"Species_Name:\" in line:\n",
    "        species = line.split(\": \")[1]\n",
    "    if line[0:2] == \"age\"\n",
    "        \n",
    "\n",
    "lat = (northernmost_lat + southernmost_lat) / 2\n",
    "long = (easternmost_lat + westernmost_lat) / 2\n",
    "\n"
   ],
   "outputs": [
    {
     "output_type": "stream",
     "name": "stdout",
     "text": [
      "Ocean>Atlantic Ocean>South Atlantic Ocean>Sao Tome And Principe\n",
      "\n"
     ]
    }
   ],
   "metadata": {}
  },
  {
   "cell_type": "markdown",
   "source": [],
   "metadata": {}
  }
 ],
 "metadata": {
  "orig_nbformat": 4,
  "language_info": {
   "name": "python",
   "version": "3.8.5",
   "mimetype": "text/x-python",
   "codemirror_mode": {
    "name": "ipython",
    "version": 3
   },
   "pygments_lexer": "ipython3",
   "nbconvert_exporter": "python",
   "file_extension": ".py"
  },
  "kernelspec": {
   "name": "python3",
   "display_name": "Python 3.8.5 64-bit"
  },
  "interpreter": {
   "hash": "aee8b7b246df8f9039afb4144a1f6fd8d2ca17a180786b69acc140d282b71a49"
  }
 },
 "nbformat": 4,
 "nbformat_minor": 2
}