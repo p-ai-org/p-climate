{
 "cells": [
  {
   "cell_type": "code",
   "execution_count": null,
   "metadata": {},
   "outputs": [],
   "source": [
    "import os\n",
    "import pandas as pd\n",
    "import io\n",
    "import unicodedata\n",
    "\n",
    "root_dir = 'coral_and_sponges_all/data/pub/data/paleo/coral'\n"
   ]
  },
  {
   "cell_type": "code",
   "execution_count": null,
   "metadata": {},
   "outputs": [],
   "source": [
    "root_files = os.listdir(root_dir)\n",
    "root_files = root_files[0:3] + root_files[4:6] + root_files[9:12]\n",
    "sub_files_to_flatten = [[f'{r}/{f}' for f in os.listdir(f'{root_dir}/{r}')] for r in root_files]\n",
    "#Flatten list of files into one list\n",
    "sub_files = [f'{root_dir}/{item}' for sublist in sub_files_to_flatten for item in sublist]"
   ]
  },
  {
   "cell_type": "code",
   "execution_count": null,
   "metadata": {},
   "outputs": [],
   "source": [
    "len(sub_files)"
   ]
  },
  {
   "cell_type": "code",
   "execution_count": null,
   "metadata": {},
   "outputs": [],
   "source": [
    "def create_coral_file_df(filename):\n",
    "    try:\n",
    "        # Using a weird encoding to solve file read issue; see https://stackoverflow.com/questions/46000191/utf-8-codec-cant-decode-byte-0x92-in-position-18-invalid-start-byte\n",
    "        coral_file = open(filename,'r', encoding=\"cp1252\")\n",
    "        file_in = coral_file.readlines()\n",
    "\n",
    "        for i in range(len(file_in)):\n",
    "            line = file_in[i]\n",
    "            if \"Location:\" in line:\n",
    "                location = line.split(\": \")[1]\n",
    "            if \"Northernmost_Latitude:\" in line:\n",
    "                northernmost_lat = line.split(\": \")[1]\n",
    "            if \"Southernmost_Latitude:\" in line:\n",
    "                southernmost_lat = line.split(\": \")[1]\n",
    "            if \"Easternmost_Longitude:\" in line:\n",
    "                easternmost_lat = line.split(\": \")[1]\n",
    "            if \"Westernmost_Longitude:\" in line:\n",
    "                westernmost_lat = line.split(\": \")[1]\n",
    "            if \"Elevation:\" in line:\n",
    "                elevation = line.split(\": \")[1].split(' ')[0]\n",
    "            if \"Earliest_Year:\" in line:\n",
    "                earliest_year = line.split(\": \")[1]\n",
    "            if \"Most_Recent_Year:\" in line:\n",
    "                most_recent_year = line.split(\": \")[1]\n",
    "            if \"Species_Name:\" in line:\n",
    "                species = line.split(\": \")[1].strip('\\n')\n",
    "            if not line.startswith('#'):\n",
    "                print(line)\n",
    "                age_line = i\n",
    "                extracted = ' '.join(file_in[age_line:])\n",
    "                # print(extracted)\n",
    "\n",
    "        try:\n",
    "            lat = (float(northernmost_lat) + float(southernmost_lat)) / 2\n",
    "            lon = (float(easternmost_lat) + float(westernmost_lat)) / 2\n",
    "\n",
    "            data = io.StringIO(extracted)\n",
    "            df = pd.read_csv(data, sep=\"\\t\", error_bad_lines=False)\n",
    "            df = df[['age', 'd18O']]\n",
    "            df = df[df['d18O'] != 'NAN']\n",
    "            df['lat'] = lat\n",
    "            df['lon'] = lon\n",
    "            df['elevation'] = elevation\n",
    "            df['species'] = species\n",
    "            return(df)\n",
    "\n",
    "        except Exception as e:\n",
    "            print(\"ERROR : \"+str(e))\n",
    "            # print(\"Error on line {}\".format(sys.exc_info()[-1].tb_lineno))\n",
    "            # print('hi')\n",
    "    except Exception as e:\n",
    "            print(\"ERROR : \"+str(e))"
   ]
  },
  {
   "cell_type": "markdown",
   "metadata": {},
   "source": [
    "Quick Proof of Concept for the function above:"
   ]
  },
  {
   "cell_type": "code",
   "execution_count": null,
   "metadata": {},
   "outputs": [],
   "source": [
    "filename = f'{root_dir}/atlantic/barbados_coral18o.txt'\n",
    "#\"coral_and_sponges_all/atlantic/goodkin2008-sst_noaa.txt\"\n",
    "#'swart1998-st-1_noaa.txt'\n",
    "\n",
    "create_coral_file_df(filename)"
   ]
  },
  {
   "cell_type": "code",
   "execution_count": null,
   "metadata": {},
   "outputs": [],
   "source": [
    "all_coral_df = pd.DataFrame(columns=['age', 'd18O', 'lat', 'lon', 'elevation', 'species'])\n",
    "for file in sub_files:\n",
    "    print(file)\n",
    "    coral_df = create_coral_file_df(file)\n",
    "    all_coral_df = pd.concat([all_coral_df, coral_df])\n",
    "\n",
    "all_coral_df.reset_index\n",
    "all_coral_df\n"
   ]
  },
  {
   "cell_type": "code",
   "execution_count": null,
   "metadata": {},
   "outputs": [],
   "source": [
    "all_coral_df.to_csv('all_coral.csv')\n"
   ]
  },
  {
   "cell_type": "code",
   "execution_count": null,
   "metadata": {},
   "outputs": [],
   "source": [
    "all_coral_df"
   ]
  },
  {
   "cell_type": "code",
   "execution_count": null,
   "metadata": {},
   "outputs": [],
   "source": [
    "coral_file = 'swart1998-st-1_noaa.txt'\n",
    "# Example of file with -noaa extension\n",
    "file1 = open(coral_file,'r')\n",
    "print(file1.read())\n",
    "file1.close()"
   ]
  },
  {
   "cell_type": "markdown",
   "metadata": {},
   "source": [
    "Gather metadata info! (site lat/lon & years of study)"
   ]
  },
  {
   "cell_type": "code",
   "execution_count": null,
   "metadata": {},
   "outputs": [],
   "source": [
    "file1 = open(coral_file,'r')\n",
    "file_in = file1.readlines()\n",
    "\n",
    "for line in file_in:\n",
    "    if \"Location:\" in line:\n",
    "        location = line.split(\": \")[1]\n",
    "    if \"Northernmost_Latitude:\" in line:\n",
    "        northernmost_lat = line.split(\": \")[1]\n",
    "    if \"Southernmost_Latitude:\" in line:\n",
    "        southernmost_lat = line.split(\": \")[1]\n",
    "    if \"Easternmost_Longitude:\" in line:\n",
    "        easternmost_lat = line.split(\": \")[1]\n",
    "    if \"Westernmost_Longitude:\" in line:\n",
    "        westernmost_lat = line.split(\": \")[1]\n",
    "    if \"Elevation:\" in line:\n",
    "        elevation = line.split(\": \")[1].split(' ')[0]\n",
    "    if \"Earliest_Year:\" in line:\n",
    "        earliest_year = line.split(\": \")[1]\n",
    "    if \"Most_Recent_Year:\" in line:\n",
    "        most_recent_year = line.split(\": \")[1]\n",
    "    if \"Species_Name:\" in line:\n",
    "        species = line.split(\": \")[1].strip('\\n')\n",
    "\n",
    "lat = (float(northernmost_lat) + float(southernmost_lat)) / 2\n",
    "lon = (float(easternmost_lat) + float(westernmost_lat)) / 2\n",
    "\n"
   ]
  },
  {
   "cell_type": "code",
   "execution_count": null,
   "metadata": {},
   "outputs": [],
   "source": [
    "age_line = 0\n",
    "file1 = open(coral_file,'r')\n",
    "with file1 as f:\n",
    "    lines = f.readlines()\n",
    "    for i in range(len(lines)):\n",
    "        if lines[i].startswith('age'):\n",
    "            print(i)\n",
    "            age_line = i\n",
    "            break\n",
    "    extracted = ' '.join(lines[age_line:])\n",
    "    print(extracted)"
   ]
  },
  {
   "cell_type": "code",
   "execution_count": null,
   "metadata": {},
   "outputs": [],
   "source": [
    "data = io.StringIO(extracted)\n",
    "df_test = pd.read_csv(data, sep=\"\\t\")\n",
    "df_test.head()"
   ]
  },
  {
   "cell_type": "markdown",
   "metadata": {},
   "source": [
    "Just grab `age` and `d18O` columns! And remove NAN values. "
   ]
  },
  {
   "cell_type": "code",
   "execution_count": null,
   "metadata": {},
   "outputs": [],
   "source": [
    "df_test_d18O = df_test[['age', 'd18O']]\n",
    "df_test_d18O = df_test_d18O[df_test_d18O['d18O'] != 'NAN']\n",
    "df_test_d18O['lat'] = lat\n",
    "df_test_d18O['lon'] = lon\n",
    "df_test_d18O['elevation'] = elevation\n",
    "df_test_d18O['species'] = species\n",
    "df_test_d18O"
   ]
  },
  {
   "cell_type": "markdown",
   "metadata": {},
   "source": []
  }
 ],
 "metadata": {
  "interpreter": {
   "hash": "31fb9be257fa66486a4962be501426b1e93bc0991188b9520df172dd4e1f0f93"
  },
  "kernelspec": {
   "display_name": "Python 3.7.6 64-bit ('p-climate': conda)",
   "name": "python3"
  },
  "language_info": {
   "codemirror_mode": {
    "name": "ipython",
    "version": 3
   },
   "file_extension": ".py",
   "mimetype": "text/x-python",
   "name": "python",
   "nbconvert_exporter": "python",
   "pygments_lexer": "ipython3",
   "version": "3.7.6"
  },
  "orig_nbformat": 4
 },
 "nbformat": 4,
 "nbformat_minor": 2
}
