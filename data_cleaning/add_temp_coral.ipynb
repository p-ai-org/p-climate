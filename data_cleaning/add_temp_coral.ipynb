{
 "cells": [
  {
   "cell_type": "markdown",
   "source": [
    "# Add Gridded Temperature Data to our Organism Files"
   ],
   "metadata": {}
  },
  {
   "cell_type": "markdown",
   "source": [
    "This file, as is, is formatted to work on the `coral` data but it should be easily convertible for Team Tree!"
   ],
   "metadata": {}
  },
  {
   "cell_type": "code",
   "execution_count": 3,
   "source": [
    "import pandas as pd\n",
    "import numpy as np"
   ],
   "outputs": [],
   "metadata": {}
  },
  {
   "cell_type": "code",
   "execution_count": 8,
   "source": [
    "temp_df_pt1 = pd.read_csv('../actual_temperature_data/gridded_averages_1880-2021/NOAAGlobalTemp_v5a_1.csv')\n",
    "temp_df_pt2 = pd.read_csv('../actual_temperature_data/gridded_averages_1880-2021/NOAAGlobalTemp_v5a_2.csv')"
   ],
   "outputs": [],
   "metadata": {}
  },
  {
   "cell_type": "code",
   "execution_count": 96,
   "source": [
    "#concatenate dataframes\n",
    "frames = [temp_df_pt1, temp_df_pt2]\n",
    "temp_df = pd.concat(frames, sort=False)\n",
    "temp_df"
   ],
   "outputs": [
    {
     "output_type": "execute_result",
     "data": {
      "text/plain": [
       "               time   lat    lon    z  anom\n",
       "0        1880-01-01 -87.5    2.5  0.0   NaN\n",
       "1        1880-01-01 -87.5    7.5  0.0   NaN\n",
       "2        1880-01-01 -87.5   12.5  0.0   NaN\n",
       "3        1880-01-01 -87.5   17.5  0.0   NaN\n",
       "4        1880-01-01 -87.5   22.5  0.0   NaN\n",
       "...             ...   ...    ...  ...   ...\n",
       "1307417  2021-09-01  87.5  337.5  0.0   NaN\n",
       "1307418  2021-09-01  87.5  342.5  0.0   NaN\n",
       "1307419  2021-09-01  87.5  347.5  0.0   NaN\n",
       "1307420  2021-09-01  87.5  352.5  0.0   NaN\n",
       "1307421  2021-09-01  87.5  357.5  0.0   NaN\n",
       "\n",
       "[4408992 rows x 5 columns]"
      ],
      "text/html": [
       "<div>\n",
       "<style scoped>\n",
       "    .dataframe tbody tr th:only-of-type {\n",
       "        vertical-align: middle;\n",
       "    }\n",
       "\n",
       "    .dataframe tbody tr th {\n",
       "        vertical-align: top;\n",
       "    }\n",
       "\n",
       "    .dataframe thead th {\n",
       "        text-align: right;\n",
       "    }\n",
       "</style>\n",
       "<table border=\"1\" class=\"dataframe\">\n",
       "  <thead>\n",
       "    <tr style=\"text-align: right;\">\n",
       "      <th></th>\n",
       "      <th>time</th>\n",
       "      <th>lat</th>\n",
       "      <th>lon</th>\n",
       "      <th>z</th>\n",
       "      <th>anom</th>\n",
       "    </tr>\n",
       "  </thead>\n",
       "  <tbody>\n",
       "    <tr>\n",
       "      <th>0</th>\n",
       "      <td>1880-01-01</td>\n",
       "      <td>-87.5</td>\n",
       "      <td>2.5</td>\n",
       "      <td>0.0</td>\n",
       "      <td>NaN</td>\n",
       "    </tr>\n",
       "    <tr>\n",
       "      <th>1</th>\n",
       "      <td>1880-01-01</td>\n",
       "      <td>-87.5</td>\n",
       "      <td>7.5</td>\n",
       "      <td>0.0</td>\n",
       "      <td>NaN</td>\n",
       "    </tr>\n",
       "    <tr>\n",
       "      <th>2</th>\n",
       "      <td>1880-01-01</td>\n",
       "      <td>-87.5</td>\n",
       "      <td>12.5</td>\n",
       "      <td>0.0</td>\n",
       "      <td>NaN</td>\n",
       "    </tr>\n",
       "    <tr>\n",
       "      <th>3</th>\n",
       "      <td>1880-01-01</td>\n",
       "      <td>-87.5</td>\n",
       "      <td>17.5</td>\n",
       "      <td>0.0</td>\n",
       "      <td>NaN</td>\n",
       "    </tr>\n",
       "    <tr>\n",
       "      <th>4</th>\n",
       "      <td>1880-01-01</td>\n",
       "      <td>-87.5</td>\n",
       "      <td>22.5</td>\n",
       "      <td>0.0</td>\n",
       "      <td>NaN</td>\n",
       "    </tr>\n",
       "    <tr>\n",
       "      <th>...</th>\n",
       "      <td>...</td>\n",
       "      <td>...</td>\n",
       "      <td>...</td>\n",
       "      <td>...</td>\n",
       "      <td>...</td>\n",
       "    </tr>\n",
       "    <tr>\n",
       "      <th>1307417</th>\n",
       "      <td>2021-09-01</td>\n",
       "      <td>87.5</td>\n",
       "      <td>337.5</td>\n",
       "      <td>0.0</td>\n",
       "      <td>NaN</td>\n",
       "    </tr>\n",
       "    <tr>\n",
       "      <th>1307418</th>\n",
       "      <td>2021-09-01</td>\n",
       "      <td>87.5</td>\n",
       "      <td>342.5</td>\n",
       "      <td>0.0</td>\n",
       "      <td>NaN</td>\n",
       "    </tr>\n",
       "    <tr>\n",
       "      <th>1307419</th>\n",
       "      <td>2021-09-01</td>\n",
       "      <td>87.5</td>\n",
       "      <td>347.5</td>\n",
       "      <td>0.0</td>\n",
       "      <td>NaN</td>\n",
       "    </tr>\n",
       "    <tr>\n",
       "      <th>1307420</th>\n",
       "      <td>2021-09-01</td>\n",
       "      <td>87.5</td>\n",
       "      <td>352.5</td>\n",
       "      <td>0.0</td>\n",
       "      <td>NaN</td>\n",
       "    </tr>\n",
       "    <tr>\n",
       "      <th>1307421</th>\n",
       "      <td>2021-09-01</td>\n",
       "      <td>87.5</td>\n",
       "      <td>357.5</td>\n",
       "      <td>0.0</td>\n",
       "      <td>NaN</td>\n",
       "    </tr>\n",
       "  </tbody>\n",
       "</table>\n",
       "<p>4408992 rows × 5 columns</p>\n",
       "</div>"
      ]
     },
     "metadata": {},
     "execution_count": 96
    }
   ],
   "metadata": {}
  },
  {
   "cell_type": "code",
   "execution_count": 97,
   "source": [
    "temp_df.columns"
   ],
   "outputs": [
    {
     "output_type": "execute_result",
     "data": {
      "text/plain": [
       "Index(['time', 'lat', 'lon', 'z', 'anom'], dtype='object')"
      ]
     },
     "metadata": {},
     "execution_count": 97
    }
   ],
   "metadata": {}
  },
  {
   "cell_type": "code",
   "execution_count": 199,
   "source": [
    "coral_df = pd.read_csv('all_coral.csv')\n",
    "coral_df.head"
   ],
   "outputs": [
    {
     "output_type": "execute_result",
     "data": {
      "text/plain": [
       "<bound method NDFrame.head of       Unnamed: 0        lat         lon elevation               species  \\\n",
       "0              0  11.170000  -60.850000        -4  Montastaea faveolata   \n",
       "1              1  11.170000  -60.850000        -4  Montastaea faveolata   \n",
       "2              2  11.170000  -60.850000        -4  Montastaea faveolata   \n",
       "3              3  11.170000  -60.850000        -4  Montastaea faveolata   \n",
       "4              4  11.170000  -60.850000        -4  Montastaea faveolata   \n",
       "...          ...        ...         ...       ...                   ...   \n",
       "9505          40  20.666667  116.833333        -5           Porites sp.   \n",
       "9506          41  20.666667  116.833333        -5           Porites sp.   \n",
       "9507          42  20.666667  116.833333        -5           Porites sp.   \n",
       "9508          43  20.666667  116.833333        -5           Porites sp.   \n",
       "9509          44  20.666667  116.833333        -5           Porites sp.   \n",
       "\n",
       "        year      d18o  d18o_anom  \n",
       "0     1927.0 -4.067500  -0.066445  \n",
       "1     1928.0 -3.865000   0.136055  \n",
       "2     1929.0 -3.865000   0.136055  \n",
       "3     1930.0 -4.007500  -0.006445  \n",
       "4     1931.0 -4.040000  -0.038945  \n",
       "...      ...       ...        ...  \n",
       "9505  2008.0 -5.474000  -0.253177  \n",
       "9506  2009.0 -5.249917  -0.029093  \n",
       "9507  2010.0 -5.299417  -0.078593  \n",
       "9508  2011.0 -5.397417  -0.176593  \n",
       "9509  2012.0 -5.337556  -0.116732  \n",
       "\n",
       "[9510 rows x 8 columns]>"
      ]
     },
     "metadata": {},
     "execution_count": 199
    }
   ],
   "metadata": {}
  },
  {
   "cell_type": "code",
   "execution_count": 200,
   "source": [
    "coral_df = coral_df[coral_df['year'].notna()]\n",
    "coral_df = coral_df[coral_df['year']!='-999']\n",
    "coral_df = coral_df[coral_df['year']!='NAN']"
   ],
   "outputs": [],
   "metadata": {}
  },
  {
   "cell_type": "code",
   "execution_count": 201,
   "source": [
    "coral_df"
   ],
   "outputs": [
    {
     "output_type": "execute_result",
     "data": {
      "text/plain": [
       "      Unnamed: 0        lat         lon elevation               species  \\\n",
       "0              0  11.170000  -60.850000        -4  Montastaea faveolata   \n",
       "1              1  11.170000  -60.850000        -4  Montastaea faveolata   \n",
       "2              2  11.170000  -60.850000        -4  Montastaea faveolata   \n",
       "3              3  11.170000  -60.850000        -4  Montastaea faveolata   \n",
       "4              4  11.170000  -60.850000        -4  Montastaea faveolata   \n",
       "...          ...        ...         ...       ...                   ...   \n",
       "9505          40  20.666667  116.833333        -5           Porites sp.   \n",
       "9506          41  20.666667  116.833333        -5           Porites sp.   \n",
       "9507          42  20.666667  116.833333        -5           Porites sp.   \n",
       "9508          43  20.666667  116.833333        -5           Porites sp.   \n",
       "9509          44  20.666667  116.833333        -5           Porites sp.   \n",
       "\n",
       "        year      d18o  d18o_anom  \n",
       "0     1927.0 -4.067500  -0.066445  \n",
       "1     1928.0 -3.865000   0.136055  \n",
       "2     1929.0 -3.865000   0.136055  \n",
       "3     1930.0 -4.007500  -0.006445  \n",
       "4     1931.0 -4.040000  -0.038945  \n",
       "...      ...       ...        ...  \n",
       "9505  2008.0 -5.474000  -0.253177  \n",
       "9506  2009.0 -5.249917  -0.029093  \n",
       "9507  2010.0 -5.299417  -0.078593  \n",
       "9508  2011.0 -5.397417  -0.176593  \n",
       "9509  2012.0 -5.337556  -0.116732  \n",
       "\n",
       "[9510 rows x 8 columns]"
      ],
      "text/html": [
       "<div>\n",
       "<style scoped>\n",
       "    .dataframe tbody tr th:only-of-type {\n",
       "        vertical-align: middle;\n",
       "    }\n",
       "\n",
       "    .dataframe tbody tr th {\n",
       "        vertical-align: top;\n",
       "    }\n",
       "\n",
       "    .dataframe thead th {\n",
       "        text-align: right;\n",
       "    }\n",
       "</style>\n",
       "<table border=\"1\" class=\"dataframe\">\n",
       "  <thead>\n",
       "    <tr style=\"text-align: right;\">\n",
       "      <th></th>\n",
       "      <th>Unnamed: 0</th>\n",
       "      <th>lat</th>\n",
       "      <th>lon</th>\n",
       "      <th>elevation</th>\n",
       "      <th>species</th>\n",
       "      <th>year</th>\n",
       "      <th>d18o</th>\n",
       "      <th>d18o_anom</th>\n",
       "    </tr>\n",
       "  </thead>\n",
       "  <tbody>\n",
       "    <tr>\n",
       "      <th>0</th>\n",
       "      <td>0</td>\n",
       "      <td>11.170000</td>\n",
       "      <td>-60.850000</td>\n",
       "      <td>-4</td>\n",
       "      <td>Montastaea faveolata</td>\n",
       "      <td>1927.0</td>\n",
       "      <td>-4.067500</td>\n",
       "      <td>-0.066445</td>\n",
       "    </tr>\n",
       "    <tr>\n",
       "      <th>1</th>\n",
       "      <td>1</td>\n",
       "      <td>11.170000</td>\n",
       "      <td>-60.850000</td>\n",
       "      <td>-4</td>\n",
       "      <td>Montastaea faveolata</td>\n",
       "      <td>1928.0</td>\n",
       "      <td>-3.865000</td>\n",
       "      <td>0.136055</td>\n",
       "    </tr>\n",
       "    <tr>\n",
       "      <th>2</th>\n",
       "      <td>2</td>\n",
       "      <td>11.170000</td>\n",
       "      <td>-60.850000</td>\n",
       "      <td>-4</td>\n",
       "      <td>Montastaea faveolata</td>\n",
       "      <td>1929.0</td>\n",
       "      <td>-3.865000</td>\n",
       "      <td>0.136055</td>\n",
       "    </tr>\n",
       "    <tr>\n",
       "      <th>3</th>\n",
       "      <td>3</td>\n",
       "      <td>11.170000</td>\n",
       "      <td>-60.850000</td>\n",
       "      <td>-4</td>\n",
       "      <td>Montastaea faveolata</td>\n",
       "      <td>1930.0</td>\n",
       "      <td>-4.007500</td>\n",
       "      <td>-0.006445</td>\n",
       "    </tr>\n",
       "    <tr>\n",
       "      <th>4</th>\n",
       "      <td>4</td>\n",
       "      <td>11.170000</td>\n",
       "      <td>-60.850000</td>\n",
       "      <td>-4</td>\n",
       "      <td>Montastaea faveolata</td>\n",
       "      <td>1931.0</td>\n",
       "      <td>-4.040000</td>\n",
       "      <td>-0.038945</td>\n",
       "    </tr>\n",
       "    <tr>\n",
       "      <th>...</th>\n",
       "      <td>...</td>\n",
       "      <td>...</td>\n",
       "      <td>...</td>\n",
       "      <td>...</td>\n",
       "      <td>...</td>\n",
       "      <td>...</td>\n",
       "      <td>...</td>\n",
       "      <td>...</td>\n",
       "    </tr>\n",
       "    <tr>\n",
       "      <th>9505</th>\n",
       "      <td>40</td>\n",
       "      <td>20.666667</td>\n",
       "      <td>116.833333</td>\n",
       "      <td>-5</td>\n",
       "      <td>Porites sp.</td>\n",
       "      <td>2008.0</td>\n",
       "      <td>-5.474000</td>\n",
       "      <td>-0.253177</td>\n",
       "    </tr>\n",
       "    <tr>\n",
       "      <th>9506</th>\n",
       "      <td>41</td>\n",
       "      <td>20.666667</td>\n",
       "      <td>116.833333</td>\n",
       "      <td>-5</td>\n",
       "      <td>Porites sp.</td>\n",
       "      <td>2009.0</td>\n",
       "      <td>-5.249917</td>\n",
       "      <td>-0.029093</td>\n",
       "    </tr>\n",
       "    <tr>\n",
       "      <th>9507</th>\n",
       "      <td>42</td>\n",
       "      <td>20.666667</td>\n",
       "      <td>116.833333</td>\n",
       "      <td>-5</td>\n",
       "      <td>Porites sp.</td>\n",
       "      <td>2010.0</td>\n",
       "      <td>-5.299417</td>\n",
       "      <td>-0.078593</td>\n",
       "    </tr>\n",
       "    <tr>\n",
       "      <th>9508</th>\n",
       "      <td>43</td>\n",
       "      <td>20.666667</td>\n",
       "      <td>116.833333</td>\n",
       "      <td>-5</td>\n",
       "      <td>Porites sp.</td>\n",
       "      <td>2011.0</td>\n",
       "      <td>-5.397417</td>\n",
       "      <td>-0.176593</td>\n",
       "    </tr>\n",
       "    <tr>\n",
       "      <th>9509</th>\n",
       "      <td>44</td>\n",
       "      <td>20.666667</td>\n",
       "      <td>116.833333</td>\n",
       "      <td>-5</td>\n",
       "      <td>Porites sp.</td>\n",
       "      <td>2012.0</td>\n",
       "      <td>-5.337556</td>\n",
       "      <td>-0.116732</td>\n",
       "    </tr>\n",
       "  </tbody>\n",
       "</table>\n",
       "<p>9510 rows × 8 columns</p>\n",
       "</div>"
      ]
     },
     "metadata": {},
     "execution_count": 201
    }
   ],
   "metadata": {}
  },
  {
   "cell_type": "code",
   "execution_count": 202,
   "source": [
    "coral_df['year'] = coral_df['year'].apply(lambda x: int(float(x)))\n",
    "coral_df"
   ],
   "outputs": [
    {
     "output_type": "execute_result",
     "data": {
      "text/plain": [
       "      Unnamed: 0        lat         lon elevation               species  year  \\\n",
       "0              0  11.170000  -60.850000        -4  Montastaea faveolata  1927   \n",
       "1              1  11.170000  -60.850000        -4  Montastaea faveolata  1928   \n",
       "2              2  11.170000  -60.850000        -4  Montastaea faveolata  1929   \n",
       "3              3  11.170000  -60.850000        -4  Montastaea faveolata  1930   \n",
       "4              4  11.170000  -60.850000        -4  Montastaea faveolata  1931   \n",
       "...          ...        ...         ...       ...                   ...   ...   \n",
       "9505          40  20.666667  116.833333        -5           Porites sp.  2008   \n",
       "9506          41  20.666667  116.833333        -5           Porites sp.  2009   \n",
       "9507          42  20.666667  116.833333        -5           Porites sp.  2010   \n",
       "9508          43  20.666667  116.833333        -5           Porites sp.  2011   \n",
       "9509          44  20.666667  116.833333        -5           Porites sp.  2012   \n",
       "\n",
       "          d18o  d18o_anom  \n",
       "0    -4.067500  -0.066445  \n",
       "1    -3.865000   0.136055  \n",
       "2    -3.865000   0.136055  \n",
       "3    -4.007500  -0.006445  \n",
       "4    -4.040000  -0.038945  \n",
       "...        ...        ...  \n",
       "9505 -5.474000  -0.253177  \n",
       "9506 -5.249917  -0.029093  \n",
       "9507 -5.299417  -0.078593  \n",
       "9508 -5.397417  -0.176593  \n",
       "9509 -5.337556  -0.116732  \n",
       "\n",
       "[9510 rows x 8 columns]"
      ],
      "text/html": [
       "<div>\n",
       "<style scoped>\n",
       "    .dataframe tbody tr th:only-of-type {\n",
       "        vertical-align: middle;\n",
       "    }\n",
       "\n",
       "    .dataframe tbody tr th {\n",
       "        vertical-align: top;\n",
       "    }\n",
       "\n",
       "    .dataframe thead th {\n",
       "        text-align: right;\n",
       "    }\n",
       "</style>\n",
       "<table border=\"1\" class=\"dataframe\">\n",
       "  <thead>\n",
       "    <tr style=\"text-align: right;\">\n",
       "      <th></th>\n",
       "      <th>Unnamed: 0</th>\n",
       "      <th>lat</th>\n",
       "      <th>lon</th>\n",
       "      <th>elevation</th>\n",
       "      <th>species</th>\n",
       "      <th>year</th>\n",
       "      <th>d18o</th>\n",
       "      <th>d18o_anom</th>\n",
       "    </tr>\n",
       "  </thead>\n",
       "  <tbody>\n",
       "    <tr>\n",
       "      <th>0</th>\n",
       "      <td>0</td>\n",
       "      <td>11.170000</td>\n",
       "      <td>-60.850000</td>\n",
       "      <td>-4</td>\n",
       "      <td>Montastaea faveolata</td>\n",
       "      <td>1927</td>\n",
       "      <td>-4.067500</td>\n",
       "      <td>-0.066445</td>\n",
       "    </tr>\n",
       "    <tr>\n",
       "      <th>1</th>\n",
       "      <td>1</td>\n",
       "      <td>11.170000</td>\n",
       "      <td>-60.850000</td>\n",
       "      <td>-4</td>\n",
       "      <td>Montastaea faveolata</td>\n",
       "      <td>1928</td>\n",
       "      <td>-3.865000</td>\n",
       "      <td>0.136055</td>\n",
       "    </tr>\n",
       "    <tr>\n",
       "      <th>2</th>\n",
       "      <td>2</td>\n",
       "      <td>11.170000</td>\n",
       "      <td>-60.850000</td>\n",
       "      <td>-4</td>\n",
       "      <td>Montastaea faveolata</td>\n",
       "      <td>1929</td>\n",
       "      <td>-3.865000</td>\n",
       "      <td>0.136055</td>\n",
       "    </tr>\n",
       "    <tr>\n",
       "      <th>3</th>\n",
       "      <td>3</td>\n",
       "      <td>11.170000</td>\n",
       "      <td>-60.850000</td>\n",
       "      <td>-4</td>\n",
       "      <td>Montastaea faveolata</td>\n",
       "      <td>1930</td>\n",
       "      <td>-4.007500</td>\n",
       "      <td>-0.006445</td>\n",
       "    </tr>\n",
       "    <tr>\n",
       "      <th>4</th>\n",
       "      <td>4</td>\n",
       "      <td>11.170000</td>\n",
       "      <td>-60.850000</td>\n",
       "      <td>-4</td>\n",
       "      <td>Montastaea faveolata</td>\n",
       "      <td>1931</td>\n",
       "      <td>-4.040000</td>\n",
       "      <td>-0.038945</td>\n",
       "    </tr>\n",
       "    <tr>\n",
       "      <th>...</th>\n",
       "      <td>...</td>\n",
       "      <td>...</td>\n",
       "      <td>...</td>\n",
       "      <td>...</td>\n",
       "      <td>...</td>\n",
       "      <td>...</td>\n",
       "      <td>...</td>\n",
       "      <td>...</td>\n",
       "    </tr>\n",
       "    <tr>\n",
       "      <th>9505</th>\n",
       "      <td>40</td>\n",
       "      <td>20.666667</td>\n",
       "      <td>116.833333</td>\n",
       "      <td>-5</td>\n",
       "      <td>Porites sp.</td>\n",
       "      <td>2008</td>\n",
       "      <td>-5.474000</td>\n",
       "      <td>-0.253177</td>\n",
       "    </tr>\n",
       "    <tr>\n",
       "      <th>9506</th>\n",
       "      <td>41</td>\n",
       "      <td>20.666667</td>\n",
       "      <td>116.833333</td>\n",
       "      <td>-5</td>\n",
       "      <td>Porites sp.</td>\n",
       "      <td>2009</td>\n",
       "      <td>-5.249917</td>\n",
       "      <td>-0.029093</td>\n",
       "    </tr>\n",
       "    <tr>\n",
       "      <th>9507</th>\n",
       "      <td>42</td>\n",
       "      <td>20.666667</td>\n",
       "      <td>116.833333</td>\n",
       "      <td>-5</td>\n",
       "      <td>Porites sp.</td>\n",
       "      <td>2010</td>\n",
       "      <td>-5.299417</td>\n",
       "      <td>-0.078593</td>\n",
       "    </tr>\n",
       "    <tr>\n",
       "      <th>9508</th>\n",
       "      <td>43</td>\n",
       "      <td>20.666667</td>\n",
       "      <td>116.833333</td>\n",
       "      <td>-5</td>\n",
       "      <td>Porites sp.</td>\n",
       "      <td>2011</td>\n",
       "      <td>-5.397417</td>\n",
       "      <td>-0.176593</td>\n",
       "    </tr>\n",
       "    <tr>\n",
       "      <th>9509</th>\n",
       "      <td>44</td>\n",
       "      <td>20.666667</td>\n",
       "      <td>116.833333</td>\n",
       "      <td>-5</td>\n",
       "      <td>Porites sp.</td>\n",
       "      <td>2012</td>\n",
       "      <td>-5.337556</td>\n",
       "      <td>-0.116732</td>\n",
       "    </tr>\n",
       "  </tbody>\n",
       "</table>\n",
       "<p>9510 rows × 8 columns</p>\n",
       "</div>"
      ]
     },
     "metadata": {},
     "execution_count": 202
    }
   ],
   "metadata": {}
  },
  {
   "cell_type": "markdown",
   "source": [
    "Remove the year values that were accidentally assigned depth values. "
   ],
   "metadata": {}
  },
  {
   "cell_type": "code",
   "execution_count": 203,
   "source": [
    "coral_df = coral_df[coral_df['year']>100]\n",
    "coral_df"
   ],
   "outputs": [
    {
     "output_type": "execute_result",
     "data": {
      "text/plain": [
       "      Unnamed: 0        lat         lon elevation               species  year  \\\n",
       "0              0  11.170000  -60.850000        -4  Montastaea faveolata  1927   \n",
       "1              1  11.170000  -60.850000        -4  Montastaea faveolata  1928   \n",
       "2              2  11.170000  -60.850000        -4  Montastaea faveolata  1929   \n",
       "3              3  11.170000  -60.850000        -4  Montastaea faveolata  1930   \n",
       "4              4  11.170000  -60.850000        -4  Montastaea faveolata  1931   \n",
       "...          ...        ...         ...       ...                   ...   ...   \n",
       "9505          40  20.666667  116.833333        -5           Porites sp.  2008   \n",
       "9506          41  20.666667  116.833333        -5           Porites sp.  2009   \n",
       "9507          42  20.666667  116.833333        -5           Porites sp.  2010   \n",
       "9508          43  20.666667  116.833333        -5           Porites sp.  2011   \n",
       "9509          44  20.666667  116.833333        -5           Porites sp.  2012   \n",
       "\n",
       "          d18o  d18o_anom  \n",
       "0    -4.067500  -0.066445  \n",
       "1    -3.865000   0.136055  \n",
       "2    -3.865000   0.136055  \n",
       "3    -4.007500  -0.006445  \n",
       "4    -4.040000  -0.038945  \n",
       "...        ...        ...  \n",
       "9505 -5.474000  -0.253177  \n",
       "9506 -5.249917  -0.029093  \n",
       "9507 -5.299417  -0.078593  \n",
       "9508 -5.397417  -0.176593  \n",
       "9509 -5.337556  -0.116732  \n",
       "\n",
       "[9510 rows x 8 columns]"
      ],
      "text/html": [
       "<div>\n",
       "<style scoped>\n",
       "    .dataframe tbody tr th:only-of-type {\n",
       "        vertical-align: middle;\n",
       "    }\n",
       "\n",
       "    .dataframe tbody tr th {\n",
       "        vertical-align: top;\n",
       "    }\n",
       "\n",
       "    .dataframe thead th {\n",
       "        text-align: right;\n",
       "    }\n",
       "</style>\n",
       "<table border=\"1\" class=\"dataframe\">\n",
       "  <thead>\n",
       "    <tr style=\"text-align: right;\">\n",
       "      <th></th>\n",
       "      <th>Unnamed: 0</th>\n",
       "      <th>lat</th>\n",
       "      <th>lon</th>\n",
       "      <th>elevation</th>\n",
       "      <th>species</th>\n",
       "      <th>year</th>\n",
       "      <th>d18o</th>\n",
       "      <th>d18o_anom</th>\n",
       "    </tr>\n",
       "  </thead>\n",
       "  <tbody>\n",
       "    <tr>\n",
       "      <th>0</th>\n",
       "      <td>0</td>\n",
       "      <td>11.170000</td>\n",
       "      <td>-60.850000</td>\n",
       "      <td>-4</td>\n",
       "      <td>Montastaea faveolata</td>\n",
       "      <td>1927</td>\n",
       "      <td>-4.067500</td>\n",
       "      <td>-0.066445</td>\n",
       "    </tr>\n",
       "    <tr>\n",
       "      <th>1</th>\n",
       "      <td>1</td>\n",
       "      <td>11.170000</td>\n",
       "      <td>-60.850000</td>\n",
       "      <td>-4</td>\n",
       "      <td>Montastaea faveolata</td>\n",
       "      <td>1928</td>\n",
       "      <td>-3.865000</td>\n",
       "      <td>0.136055</td>\n",
       "    </tr>\n",
       "    <tr>\n",
       "      <th>2</th>\n",
       "      <td>2</td>\n",
       "      <td>11.170000</td>\n",
       "      <td>-60.850000</td>\n",
       "      <td>-4</td>\n",
       "      <td>Montastaea faveolata</td>\n",
       "      <td>1929</td>\n",
       "      <td>-3.865000</td>\n",
       "      <td>0.136055</td>\n",
       "    </tr>\n",
       "    <tr>\n",
       "      <th>3</th>\n",
       "      <td>3</td>\n",
       "      <td>11.170000</td>\n",
       "      <td>-60.850000</td>\n",
       "      <td>-4</td>\n",
       "      <td>Montastaea faveolata</td>\n",
       "      <td>1930</td>\n",
       "      <td>-4.007500</td>\n",
       "      <td>-0.006445</td>\n",
       "    </tr>\n",
       "    <tr>\n",
       "      <th>4</th>\n",
       "      <td>4</td>\n",
       "      <td>11.170000</td>\n",
       "      <td>-60.850000</td>\n",
       "      <td>-4</td>\n",
       "      <td>Montastaea faveolata</td>\n",
       "      <td>1931</td>\n",
       "      <td>-4.040000</td>\n",
       "      <td>-0.038945</td>\n",
       "    </tr>\n",
       "    <tr>\n",
       "      <th>...</th>\n",
       "      <td>...</td>\n",
       "      <td>...</td>\n",
       "      <td>...</td>\n",
       "      <td>...</td>\n",
       "      <td>...</td>\n",
       "      <td>...</td>\n",
       "      <td>...</td>\n",
       "      <td>...</td>\n",
       "    </tr>\n",
       "    <tr>\n",
       "      <th>9505</th>\n",
       "      <td>40</td>\n",
       "      <td>20.666667</td>\n",
       "      <td>116.833333</td>\n",
       "      <td>-5</td>\n",
       "      <td>Porites sp.</td>\n",
       "      <td>2008</td>\n",
       "      <td>-5.474000</td>\n",
       "      <td>-0.253177</td>\n",
       "    </tr>\n",
       "    <tr>\n",
       "      <th>9506</th>\n",
       "      <td>41</td>\n",
       "      <td>20.666667</td>\n",
       "      <td>116.833333</td>\n",
       "      <td>-5</td>\n",
       "      <td>Porites sp.</td>\n",
       "      <td>2009</td>\n",
       "      <td>-5.249917</td>\n",
       "      <td>-0.029093</td>\n",
       "    </tr>\n",
       "    <tr>\n",
       "      <th>9507</th>\n",
       "      <td>42</td>\n",
       "      <td>20.666667</td>\n",
       "      <td>116.833333</td>\n",
       "      <td>-5</td>\n",
       "      <td>Porites sp.</td>\n",
       "      <td>2010</td>\n",
       "      <td>-5.299417</td>\n",
       "      <td>-0.078593</td>\n",
       "    </tr>\n",
       "    <tr>\n",
       "      <th>9508</th>\n",
       "      <td>43</td>\n",
       "      <td>20.666667</td>\n",
       "      <td>116.833333</td>\n",
       "      <td>-5</td>\n",
       "      <td>Porites sp.</td>\n",
       "      <td>2011</td>\n",
       "      <td>-5.397417</td>\n",
       "      <td>-0.176593</td>\n",
       "    </tr>\n",
       "    <tr>\n",
       "      <th>9509</th>\n",
       "      <td>44</td>\n",
       "      <td>20.666667</td>\n",
       "      <td>116.833333</td>\n",
       "      <td>-5</td>\n",
       "      <td>Porites sp.</td>\n",
       "      <td>2012</td>\n",
       "      <td>-5.337556</td>\n",
       "      <td>-0.116732</td>\n",
       "    </tr>\n",
       "  </tbody>\n",
       "</table>\n",
       "<p>9510 rows × 8 columns</p>\n",
       "</div>"
      ]
     },
     "metadata": {},
     "execution_count": 203
    }
   ],
   "metadata": {}
  },
  {
   "cell_type": "code",
   "execution_count": 204,
   "source": [
    "temp_df.lat.unique()"
   ],
   "outputs": [
    {
     "output_type": "execute_result",
     "data": {
      "text/plain": [
       "array([-67.5, -62.5, -57.5, -52.5, -47.5, -42.5, -37.5, -32.5, -27.5,\n",
       "       -22.5, -17.5, -12.5,  -7.5,  -2.5,   2.5,   7.5,  12.5,  17.5,\n",
       "        22.5,  27.5,  32.5,  37.5,  42.5,  47.5,  52.5,  57.5,  62.5,\n",
       "        67.5,  72.5,  77.5, -72.5,  82.5, -77.5, -82.5, -87.5,  87.5])"
      ]
     },
     "metadata": {},
     "execution_count": 204
    }
   ],
   "metadata": {}
  },
  {
   "cell_type": "code",
   "execution_count": 205,
   "source": [
    "temp_df.lon.unique()"
   ],
   "outputs": [
    {
     "output_type": "execute_result",
     "data": {
      "text/plain": [
       "array([262.5, 267.5, 272.5, 277.5, 297.5, 167.5, 172.5, 177.5, 182.5,\n",
       "       187.5, 192.5, 197.5, 202.5, 207.5, 212.5, 217.5, 222.5, 227.5,\n",
       "       232.5, 237.5, 242.5, 247.5, 252.5, 257.5, 282.5, 287.5, 292.5,\n",
       "       302.5, 307.5, 312.5,  27.5,  32.5,  37.5,  42.5,  47.5,  52.5,\n",
       "        57.5,  62.5,  67.5,  72.5,  77.5,  82.5,  87.5,  92.5,  97.5,\n",
       "       102.5, 107.5, 112.5, 117.5, 122.5, 127.5, 132.5, 137.5, 142.5,\n",
       "       147.5, 152.5, 157.5, 162.5, 317.5, 322.5,   2.5,   7.5,  12.5,\n",
       "        17.5,  22.5, 327.5, 332.5, 337.5, 342.5, 347.5, 352.5, 357.5])"
      ]
     },
     "metadata": {},
     "execution_count": 205
    }
   ],
   "metadata": {}
  },
  {
   "cell_type": "markdown",
   "source": [
    "Since this temperature dataset only has gridded increments of 5 degrees across both latitude and longitude, we need to find the closest gridded temp lat & long for each coral lat & long.\n",
    "\n",
    "We will be building 5x5 lat/lon grids around each data point!"
   ],
   "metadata": {}
  },
  {
   "cell_type": "code",
   "execution_count": 206,
   "source": [
    "def get_5x5_grid(og_lat, og_lon, base=2.5):\n",
    "    lat1 = base * round((og_lat-2.5)/base)\n",
    "    lat2 = base * round((og_lat+2.5)/base)\n",
    "\n",
    "    lon1 = base * round((og_lon-2.5)/base)\n",
    "    lon2 = base * round((og_lon+2.5)/base)\n",
    "\n",
    "    if lat2-2.5 < og_lat:\n",
    "        lat2 += 2.5\n",
    "        lat1 += 2.5\n",
    "    else:\n",
    "        lat2 -= 2.5\n",
    "        lat1 -= 2.5\n",
    "\n",
    "    if lon2-2.5 < og_lon:\n",
    "        lon2 += 2.5\n",
    "        lon1 += 2.5\n",
    "    else:\n",
    "        lon2 -= 2.5\n",
    "        lon1 -= 2.5\n",
    "\n",
    "    if (lat1 % 5 )== 0 or (lat2 % 5 )== 0:\n",
    "        if lat1 < 0:\n",
    "            lat1 += 2.5\n",
    "            lat2 += 2.5\n",
    "        else: \n",
    "            lat1 -= 2.5\n",
    "            lat2 -= 2.5\n",
    "\n",
    "    if (lon1 % 5 )== 0 or (lon2 % 5 )== 0:\n",
    "        lon1 += 2.5\n",
    "        lon2 += 2.5\n",
    "\n",
    "    if (lat1 == -92.5 and lat2 == -87.5):\n",
    "        lat1 = -87.5\n",
    "        lat2 = -82.5\n",
    "    elif (lat1 == 87.5 and lat2 == 92.5):\n",
    "        lat1 = 82.5\n",
    "        lat2 = 87.5\n",
    "    \n",
    "    if (lon1 == 0.0 and lon2 == 5.0):\n",
    "        lon1 = 2.5\n",
    "        lon2 = 7.5\n",
    "    elif (lon1 == 355.0 and lon2 == 360.0):\n",
    "        lon1 = 352.5\n",
    "        lon2 = 357.5\n",
    "\n",
    "    return lat1, lat2, lon1, lon2"
   ],
   "outputs": [],
   "metadata": {}
  },
  {
   "cell_type": "code",
   "execution_count": 207,
   "source": [
    "get_5x5_grid(87.5, 0.5)"
   ],
   "outputs": [
    {
     "output_type": "execute_result",
     "data": {
      "text/plain": [
       "(82.5, 87.5, 2.5, 7.5)"
      ]
     },
     "metadata": {},
     "execution_count": 207
    }
   ],
   "metadata": {}
  },
  {
   "cell_type": "markdown",
   "source": [
    "Convert the Temperature df from monthly anomalies, to annual anomalies."
   ],
   "metadata": {}
  },
  {
   "cell_type": "code",
   "execution_count": 208,
   "source": [
    "temp_df['year'] = temp_df['time'].apply(lambda x: str(x)[0:4])\n",
    "temp_df['year']"
   ],
   "outputs": [
    {
     "output_type": "stream",
     "name": "stderr",
     "text": [
      "/var/folders/ws/d7dc4bz53q3_26hs2vbmg8600000gn/T/ipykernel_51705/3225862404.py:1: SettingWithCopyWarning: \n",
      "A value is trying to be set on a copy of a slice from a DataFrame.\n",
      "Try using .loc[row_indexer,col_indexer] = value instead\n",
      "\n",
      "See the caveats in the documentation: https://pandas.pydata.org/pandas-docs/stable/user_guide/indexing.html#returning-a-view-versus-a-copy\n",
      "  temp_df['year'] = temp_df['time'].apply(lambda x: str(x)[0:4])\n"
     ]
    },
    {
     "output_type": "execute_result",
     "data": {
      "text/plain": [
       "340        1880\n",
       "341        1880\n",
       "342        1880\n",
       "343        1880\n",
       "347        1880\n",
       "           ... \n",
       "1307292    2021\n",
       "1307293    2021\n",
       "1307298    2021\n",
       "1307337    2021\n",
       "1307346    2021\n",
       "Name: year, Length: 3103094, dtype: object"
      ]
     },
     "metadata": {},
     "execution_count": 208
    }
   ],
   "metadata": {}
  },
  {
   "cell_type": "markdown",
   "source": [
    "Group by Year & average the temp anomaly."
   ],
   "metadata": {}
  },
  {
   "cell_type": "code",
   "execution_count": 209,
   "source": [
    "# first, remove any rows with anom == NaN\n",
    "temp_df = temp_df.dropna(subset=['anom'])\n",
    "temp_df"
   ],
   "outputs": [
    {
     "output_type": "execute_result",
     "data": {
      "text/plain": [
       "               time   lat    lon    z      anom  year\n",
       "340      1880-01-01 -67.5  262.5  0.0  0.190973  1880\n",
       "341      1880-01-01 -67.5  267.5  0.0  0.240573  1880\n",
       "342      1880-01-01 -67.5  272.5  0.0  0.225295  1880\n",
       "343      1880-01-01 -67.5  277.5  0.0  0.080268  1880\n",
       "347      1880-01-01 -67.5  297.5  0.0  0.066715  1880\n",
       "...             ...   ...    ...  ...       ...   ...\n",
       "1307292  2021-09-01  82.5   72.5  0.0  1.082709  2021\n",
       "1307293  2021-09-01  82.5   77.5  0.0  1.006974  2021\n",
       "1307298  2021-09-01  82.5  102.5  0.0  0.731107  2021\n",
       "1307337  2021-09-01  82.5  297.5  0.0  3.150000  2021\n",
       "1307346  2021-09-01  82.5  342.5  0.0  4.360000  2021\n",
       "\n",
       "[3103094 rows x 6 columns]"
      ],
      "text/html": [
       "<div>\n",
       "<style scoped>\n",
       "    .dataframe tbody tr th:only-of-type {\n",
       "        vertical-align: middle;\n",
       "    }\n",
       "\n",
       "    .dataframe tbody tr th {\n",
       "        vertical-align: top;\n",
       "    }\n",
       "\n",
       "    .dataframe thead th {\n",
       "        text-align: right;\n",
       "    }\n",
       "</style>\n",
       "<table border=\"1\" class=\"dataframe\">\n",
       "  <thead>\n",
       "    <tr style=\"text-align: right;\">\n",
       "      <th></th>\n",
       "      <th>time</th>\n",
       "      <th>lat</th>\n",
       "      <th>lon</th>\n",
       "      <th>z</th>\n",
       "      <th>anom</th>\n",
       "      <th>year</th>\n",
       "    </tr>\n",
       "  </thead>\n",
       "  <tbody>\n",
       "    <tr>\n",
       "      <th>340</th>\n",
       "      <td>1880-01-01</td>\n",
       "      <td>-67.5</td>\n",
       "      <td>262.5</td>\n",
       "      <td>0.0</td>\n",
       "      <td>0.190973</td>\n",
       "      <td>1880</td>\n",
       "    </tr>\n",
       "    <tr>\n",
       "      <th>341</th>\n",
       "      <td>1880-01-01</td>\n",
       "      <td>-67.5</td>\n",
       "      <td>267.5</td>\n",
       "      <td>0.0</td>\n",
       "      <td>0.240573</td>\n",
       "      <td>1880</td>\n",
       "    </tr>\n",
       "    <tr>\n",
       "      <th>342</th>\n",
       "      <td>1880-01-01</td>\n",
       "      <td>-67.5</td>\n",
       "      <td>272.5</td>\n",
       "      <td>0.0</td>\n",
       "      <td>0.225295</td>\n",
       "      <td>1880</td>\n",
       "    </tr>\n",
       "    <tr>\n",
       "      <th>343</th>\n",
       "      <td>1880-01-01</td>\n",
       "      <td>-67.5</td>\n",
       "      <td>277.5</td>\n",
       "      <td>0.0</td>\n",
       "      <td>0.080268</td>\n",
       "      <td>1880</td>\n",
       "    </tr>\n",
       "    <tr>\n",
       "      <th>347</th>\n",
       "      <td>1880-01-01</td>\n",
       "      <td>-67.5</td>\n",
       "      <td>297.5</td>\n",
       "      <td>0.0</td>\n",
       "      <td>0.066715</td>\n",
       "      <td>1880</td>\n",
       "    </tr>\n",
       "    <tr>\n",
       "      <th>...</th>\n",
       "      <td>...</td>\n",
       "      <td>...</td>\n",
       "      <td>...</td>\n",
       "      <td>...</td>\n",
       "      <td>...</td>\n",
       "      <td>...</td>\n",
       "    </tr>\n",
       "    <tr>\n",
       "      <th>1307292</th>\n",
       "      <td>2021-09-01</td>\n",
       "      <td>82.5</td>\n",
       "      <td>72.5</td>\n",
       "      <td>0.0</td>\n",
       "      <td>1.082709</td>\n",
       "      <td>2021</td>\n",
       "    </tr>\n",
       "    <tr>\n",
       "      <th>1307293</th>\n",
       "      <td>2021-09-01</td>\n",
       "      <td>82.5</td>\n",
       "      <td>77.5</td>\n",
       "      <td>0.0</td>\n",
       "      <td>1.006974</td>\n",
       "      <td>2021</td>\n",
       "    </tr>\n",
       "    <tr>\n",
       "      <th>1307298</th>\n",
       "      <td>2021-09-01</td>\n",
       "      <td>82.5</td>\n",
       "      <td>102.5</td>\n",
       "      <td>0.0</td>\n",
       "      <td>0.731107</td>\n",
       "      <td>2021</td>\n",
       "    </tr>\n",
       "    <tr>\n",
       "      <th>1307337</th>\n",
       "      <td>2021-09-01</td>\n",
       "      <td>82.5</td>\n",
       "      <td>297.5</td>\n",
       "      <td>0.0</td>\n",
       "      <td>3.150000</td>\n",
       "      <td>2021</td>\n",
       "    </tr>\n",
       "    <tr>\n",
       "      <th>1307346</th>\n",
       "      <td>2021-09-01</td>\n",
       "      <td>82.5</td>\n",
       "      <td>342.5</td>\n",
       "      <td>0.0</td>\n",
       "      <td>4.360000</td>\n",
       "      <td>2021</td>\n",
       "    </tr>\n",
       "  </tbody>\n",
       "</table>\n",
       "<p>3103094 rows × 6 columns</p>\n",
       "</div>"
      ]
     },
     "metadata": {},
     "execution_count": 209
    }
   ],
   "metadata": {}
  },
  {
   "cell_type": "code",
   "execution_count": 210,
   "source": [
    "temp_annual_df =  temp_df.groupby(['year', 'lat', 'lon']).agg({'anom': ['mean']}).reset_index()\n",
    "temp_annual_df"
   ],
   "outputs": [
    {
     "output_type": "execute_result",
     "data": {
      "text/plain": [
       "        year   lat    lon      anom\n",
       "                               mean\n",
       "0       1880 -67.5  257.5  0.194580\n",
       "1       1880 -67.5  262.5  0.198239\n",
       "2       1880 -67.5  267.5  0.167151\n",
       "3       1880 -67.5  272.5  0.226533\n",
       "4       1880 -67.5  277.5  0.335422\n",
       "...      ...   ...    ...       ...\n",
       "285999  2021  82.5  107.5  0.945156\n",
       "286000  2021  82.5  112.5  1.021202\n",
       "286001  2021  82.5  117.5  1.128091\n",
       "286002  2021  82.5  297.5  2.891111\n",
       "286003  2021  82.5  342.5  3.421111\n",
       "\n",
       "[286004 rows x 4 columns]"
      ],
      "text/html": [
       "<div>\n",
       "<style scoped>\n",
       "    .dataframe tbody tr th:only-of-type {\n",
       "        vertical-align: middle;\n",
       "    }\n",
       "\n",
       "    .dataframe tbody tr th {\n",
       "        vertical-align: top;\n",
       "    }\n",
       "\n",
       "    .dataframe thead tr th {\n",
       "        text-align: left;\n",
       "    }\n",
       "</style>\n",
       "<table border=\"1\" class=\"dataframe\">\n",
       "  <thead>\n",
       "    <tr>\n",
       "      <th></th>\n",
       "      <th>year</th>\n",
       "      <th>lat</th>\n",
       "      <th>lon</th>\n",
       "      <th>anom</th>\n",
       "    </tr>\n",
       "    <tr>\n",
       "      <th></th>\n",
       "      <th></th>\n",
       "      <th></th>\n",
       "      <th></th>\n",
       "      <th>mean</th>\n",
       "    </tr>\n",
       "  </thead>\n",
       "  <tbody>\n",
       "    <tr>\n",
       "      <th>0</th>\n",
       "      <td>1880</td>\n",
       "      <td>-67.5</td>\n",
       "      <td>257.5</td>\n",
       "      <td>0.194580</td>\n",
       "    </tr>\n",
       "    <tr>\n",
       "      <th>1</th>\n",
       "      <td>1880</td>\n",
       "      <td>-67.5</td>\n",
       "      <td>262.5</td>\n",
       "      <td>0.198239</td>\n",
       "    </tr>\n",
       "    <tr>\n",
       "      <th>2</th>\n",
       "      <td>1880</td>\n",
       "      <td>-67.5</td>\n",
       "      <td>267.5</td>\n",
       "      <td>0.167151</td>\n",
       "    </tr>\n",
       "    <tr>\n",
       "      <th>3</th>\n",
       "      <td>1880</td>\n",
       "      <td>-67.5</td>\n",
       "      <td>272.5</td>\n",
       "      <td>0.226533</td>\n",
       "    </tr>\n",
       "    <tr>\n",
       "      <th>4</th>\n",
       "      <td>1880</td>\n",
       "      <td>-67.5</td>\n",
       "      <td>277.5</td>\n",
       "      <td>0.335422</td>\n",
       "    </tr>\n",
       "    <tr>\n",
       "      <th>...</th>\n",
       "      <td>...</td>\n",
       "      <td>...</td>\n",
       "      <td>...</td>\n",
       "      <td>...</td>\n",
       "    </tr>\n",
       "    <tr>\n",
       "      <th>285999</th>\n",
       "      <td>2021</td>\n",
       "      <td>82.5</td>\n",
       "      <td>107.5</td>\n",
       "      <td>0.945156</td>\n",
       "    </tr>\n",
       "    <tr>\n",
       "      <th>286000</th>\n",
       "      <td>2021</td>\n",
       "      <td>82.5</td>\n",
       "      <td>112.5</td>\n",
       "      <td>1.021202</td>\n",
       "    </tr>\n",
       "    <tr>\n",
       "      <th>286001</th>\n",
       "      <td>2021</td>\n",
       "      <td>82.5</td>\n",
       "      <td>117.5</td>\n",
       "      <td>1.128091</td>\n",
       "    </tr>\n",
       "    <tr>\n",
       "      <th>286002</th>\n",
       "      <td>2021</td>\n",
       "      <td>82.5</td>\n",
       "      <td>297.5</td>\n",
       "      <td>2.891111</td>\n",
       "    </tr>\n",
       "    <tr>\n",
       "      <th>286003</th>\n",
       "      <td>2021</td>\n",
       "      <td>82.5</td>\n",
       "      <td>342.5</td>\n",
       "      <td>3.421111</td>\n",
       "    </tr>\n",
       "  </tbody>\n",
       "</table>\n",
       "<p>286004 rows × 4 columns</p>\n",
       "</div>"
      ]
     },
     "metadata": {},
     "execution_count": 210
    }
   ],
   "metadata": {}
  },
  {
   "cell_type": "markdown",
   "source": [
    "I'm going to run an example of the annual temperature anomaly for a random point on Earth: (62.5, 62.5)"
   ],
   "metadata": {}
  },
  {
   "cell_type": "code",
   "execution_count": 211,
   "source": [
    "temp_annual_62p5 = temp_annual_df[(temp_annual_df['lat'] == 62.5) & (temp_annual_df['lon'] == 62.5)]\n",
    "temp_annual_62p5"
   ],
   "outputs": [
    {
     "output_type": "execute_result",
     "data": {
      "text/plain": [
       "        year   lat   lon      anom\n",
       "                              mean\n",
       "5073    1882  62.5  62.5 -3.695260\n",
       "6831    1883  62.5  62.5 -1.348398\n",
       "8603    1884  62.5  62.5 -2.063026\n",
       "10384   1885  62.5  62.5 -2.513371\n",
       "12177   1886  62.5  62.5 -1.210307\n",
       "...      ...   ...   ...       ...\n",
       "276964  2017  62.5  62.5  1.523463\n",
       "279158  2018  62.5  62.5  0.514571\n",
       "281348  2019  62.5  62.5  1.090323\n",
       "283534  2020  62.5  62.5  3.718929\n",
       "285740  2021  62.5  62.5 -0.241857\n",
       "\n",
       "[140 rows x 4 columns]"
      ],
      "text/html": [
       "<div>\n",
       "<style scoped>\n",
       "    .dataframe tbody tr th:only-of-type {\n",
       "        vertical-align: middle;\n",
       "    }\n",
       "\n",
       "    .dataframe tbody tr th {\n",
       "        vertical-align: top;\n",
       "    }\n",
       "\n",
       "    .dataframe thead tr th {\n",
       "        text-align: left;\n",
       "    }\n",
       "</style>\n",
       "<table border=\"1\" class=\"dataframe\">\n",
       "  <thead>\n",
       "    <tr>\n",
       "      <th></th>\n",
       "      <th>year</th>\n",
       "      <th>lat</th>\n",
       "      <th>lon</th>\n",
       "      <th>anom</th>\n",
       "    </tr>\n",
       "    <tr>\n",
       "      <th></th>\n",
       "      <th></th>\n",
       "      <th></th>\n",
       "      <th></th>\n",
       "      <th>mean</th>\n",
       "    </tr>\n",
       "  </thead>\n",
       "  <tbody>\n",
       "    <tr>\n",
       "      <th>5073</th>\n",
       "      <td>1882</td>\n",
       "      <td>62.5</td>\n",
       "      <td>62.5</td>\n",
       "      <td>-3.695260</td>\n",
       "    </tr>\n",
       "    <tr>\n",
       "      <th>6831</th>\n",
       "      <td>1883</td>\n",
       "      <td>62.5</td>\n",
       "      <td>62.5</td>\n",
       "      <td>-1.348398</td>\n",
       "    </tr>\n",
       "    <tr>\n",
       "      <th>8603</th>\n",
       "      <td>1884</td>\n",
       "      <td>62.5</td>\n",
       "      <td>62.5</td>\n",
       "      <td>-2.063026</td>\n",
       "    </tr>\n",
       "    <tr>\n",
       "      <th>10384</th>\n",
       "      <td>1885</td>\n",
       "      <td>62.5</td>\n",
       "      <td>62.5</td>\n",
       "      <td>-2.513371</td>\n",
       "    </tr>\n",
       "    <tr>\n",
       "      <th>12177</th>\n",
       "      <td>1886</td>\n",
       "      <td>62.5</td>\n",
       "      <td>62.5</td>\n",
       "      <td>-1.210307</td>\n",
       "    </tr>\n",
       "    <tr>\n",
       "      <th>...</th>\n",
       "      <td>...</td>\n",
       "      <td>...</td>\n",
       "      <td>...</td>\n",
       "      <td>...</td>\n",
       "    </tr>\n",
       "    <tr>\n",
       "      <th>276964</th>\n",
       "      <td>2017</td>\n",
       "      <td>62.5</td>\n",
       "      <td>62.5</td>\n",
       "      <td>1.523463</td>\n",
       "    </tr>\n",
       "    <tr>\n",
       "      <th>279158</th>\n",
       "      <td>2018</td>\n",
       "      <td>62.5</td>\n",
       "      <td>62.5</td>\n",
       "      <td>0.514571</td>\n",
       "    </tr>\n",
       "    <tr>\n",
       "      <th>281348</th>\n",
       "      <td>2019</td>\n",
       "      <td>62.5</td>\n",
       "      <td>62.5</td>\n",
       "      <td>1.090323</td>\n",
       "    </tr>\n",
       "    <tr>\n",
       "      <th>283534</th>\n",
       "      <td>2020</td>\n",
       "      <td>62.5</td>\n",
       "      <td>62.5</td>\n",
       "      <td>3.718929</td>\n",
       "    </tr>\n",
       "    <tr>\n",
       "      <th>285740</th>\n",
       "      <td>2021</td>\n",
       "      <td>62.5</td>\n",
       "      <td>62.5</td>\n",
       "      <td>-0.241857</td>\n",
       "    </tr>\n",
       "  </tbody>\n",
       "</table>\n",
       "<p>140 rows × 4 columns</p>\n",
       "</div>"
      ]
     },
     "metadata": {},
     "execution_count": 211
    }
   ],
   "metadata": {}
  },
  {
   "cell_type": "markdown",
   "source": [
    "And, viola. *Climate change*."
   ],
   "metadata": {}
  },
  {
   "cell_type": "code",
   "execution_count": 212,
   "source": [
    "min_62p5_year = temp_annual_62p5['year'].min()\n",
    "max_62p5_year = temp_annual_62p5['year'].max()\n",
    "\n",
    "min_62p5_year, max_62p5_year"
   ],
   "outputs": [
    {
     "output_type": "execute_result",
     "data": {
      "text/plain": [
       "('1882', '2021')"
      ]
     },
     "metadata": {},
     "execution_count": 212
    }
   ],
   "metadata": {}
  },
  {
   "cell_type": "code",
   "execution_count": 3,
   "source": [
    "import matplotlib.pyplot as plt\n",
    "\n",
    "temp_annual_62p5['year'] = temp_annual_62p5['year'].apply(lambda x: int(x))\n",
    "\n",
    "plt.plot(temp_annual_62p5['year'], temp_annual_62p5['anom'])\n",
    "plt.xticks(np.arange(int(min_62p5_year),int(max_62p5_year),25))\n",
    "plt.xlim(int(min_62p5_year),int(max_62p5_year))"
   ],
   "outputs": [
    {
     "output_type": "error",
     "ename": "NameError",
     "evalue": "name 'temp_annual_62p5' is not defined",
     "traceback": [
      "\u001b[0;31m---------------------------------------------------------------------------\u001b[0m",
      "\u001b[0;31mNameError\u001b[0m                                 Traceback (most recent call last)",
      "\u001b[0;32m/var/folders/ws/d7dc4bz53q3_26hs2vbmg8600000gn/T/ipykernel_14920/1521919078.py\u001b[0m in \u001b[0;36m<module>\u001b[0;34m\u001b[0m\n\u001b[1;32m      1\u001b[0m \u001b[0;32mimport\u001b[0m \u001b[0mmatplotlib\u001b[0m\u001b[0;34m.\u001b[0m\u001b[0mpyplot\u001b[0m \u001b[0;32mas\u001b[0m \u001b[0mplt\u001b[0m\u001b[0;34m\u001b[0m\u001b[0;34m\u001b[0m\u001b[0m\n\u001b[1;32m      2\u001b[0m \u001b[0;34m\u001b[0m\u001b[0m\n\u001b[0;32m----> 3\u001b[0;31m \u001b[0mtemp_annual_62p5\u001b[0m\u001b[0;34m[\u001b[0m\u001b[0;34m'year'\u001b[0m\u001b[0;34m]\u001b[0m \u001b[0;34m=\u001b[0m \u001b[0mtemp_annual_62p5\u001b[0m\u001b[0;34m[\u001b[0m\u001b[0;34m'year'\u001b[0m\u001b[0;34m]\u001b[0m\u001b[0;34m.\u001b[0m\u001b[0mapply\u001b[0m\u001b[0;34m(\u001b[0m\u001b[0;32mlambda\u001b[0m \u001b[0mx\u001b[0m\u001b[0;34m:\u001b[0m \u001b[0mint\u001b[0m\u001b[0;34m(\u001b[0m\u001b[0mx\u001b[0m\u001b[0;34m)\u001b[0m\u001b[0;34m)\u001b[0m\u001b[0;34m\u001b[0m\u001b[0;34m\u001b[0m\u001b[0m\n\u001b[0m\u001b[1;32m      4\u001b[0m \u001b[0;34m\u001b[0m\u001b[0m\n\u001b[1;32m      5\u001b[0m \u001b[0mplt\u001b[0m\u001b[0;34m.\u001b[0m\u001b[0mplot\u001b[0m\u001b[0;34m(\u001b[0m\u001b[0mtemp_annual_62p5\u001b[0m\u001b[0;34m[\u001b[0m\u001b[0;34m'year'\u001b[0m\u001b[0;34m]\u001b[0m\u001b[0;34m,\u001b[0m \u001b[0mtemp_annual_62p5\u001b[0m\u001b[0;34m[\u001b[0m\u001b[0;34m'anom'\u001b[0m\u001b[0;34m]\u001b[0m\u001b[0;34m)\u001b[0m\u001b[0;34m\u001b[0m\u001b[0;34m\u001b[0m\u001b[0m\n",
      "\u001b[0;31mNameError\u001b[0m: name 'temp_annual_62p5' is not defined"
     ]
    }
   ],
   "metadata": {}
  },
  {
   "cell_type": "markdown",
   "source": [
    "## Adding the Annual Temp Anomaly to our Raw Coral/Sponge d18O Data via Lat/Lon Grid"
   ],
   "metadata": {}
  },
  {
   "cell_type": "markdown",
   "source": [
    "Take the first row of `coral_df` as an example. "
   ],
   "metadata": {}
  },
  {
   "cell_type": "code",
   "execution_count": 214,
   "source": [
    "coral_df_lon_formatted = coral_df\n",
    "coral_df_lon_formatted['lon'] = coral_df_lon_formatted['lon'].apply(lambda x: x + 180)\n",
    "coral_df_lon_formatted"
   ],
   "outputs": [
    {
     "output_type": "execute_result",
     "data": {
      "text/plain": [
       "      Unnamed: 0        lat         lon elevation               species  year  \\\n",
       "0              0  11.170000  119.150000        -4  Montastaea faveolata  1927   \n",
       "1              1  11.170000  119.150000        -4  Montastaea faveolata  1928   \n",
       "2              2  11.170000  119.150000        -4  Montastaea faveolata  1929   \n",
       "3              3  11.170000  119.150000        -4  Montastaea faveolata  1930   \n",
       "4              4  11.170000  119.150000        -4  Montastaea faveolata  1931   \n",
       "...          ...        ...         ...       ...                   ...   ...   \n",
       "9505          40  20.666667  296.833333        -5           Porites sp.  2008   \n",
       "9506          41  20.666667  296.833333        -5           Porites sp.  2009   \n",
       "9507          42  20.666667  296.833333        -5           Porites sp.  2010   \n",
       "9508          43  20.666667  296.833333        -5           Porites sp.  2011   \n",
       "9509          44  20.666667  296.833333        -5           Porites sp.  2012   \n",
       "\n",
       "          d18o  d18o_anom  \n",
       "0    -4.067500  -0.066445  \n",
       "1    -3.865000   0.136055  \n",
       "2    -3.865000   0.136055  \n",
       "3    -4.007500  -0.006445  \n",
       "4    -4.040000  -0.038945  \n",
       "...        ...        ...  \n",
       "9505 -5.474000  -0.253177  \n",
       "9506 -5.249917  -0.029093  \n",
       "9507 -5.299417  -0.078593  \n",
       "9508 -5.397417  -0.176593  \n",
       "9509 -5.337556  -0.116732  \n",
       "\n",
       "[9510 rows x 8 columns]"
      ],
      "text/html": [
       "<div>\n",
       "<style scoped>\n",
       "    .dataframe tbody tr th:only-of-type {\n",
       "        vertical-align: middle;\n",
       "    }\n",
       "\n",
       "    .dataframe tbody tr th {\n",
       "        vertical-align: top;\n",
       "    }\n",
       "\n",
       "    .dataframe thead th {\n",
       "        text-align: right;\n",
       "    }\n",
       "</style>\n",
       "<table border=\"1\" class=\"dataframe\">\n",
       "  <thead>\n",
       "    <tr style=\"text-align: right;\">\n",
       "      <th></th>\n",
       "      <th>Unnamed: 0</th>\n",
       "      <th>lat</th>\n",
       "      <th>lon</th>\n",
       "      <th>elevation</th>\n",
       "      <th>species</th>\n",
       "      <th>year</th>\n",
       "      <th>d18o</th>\n",
       "      <th>d18o_anom</th>\n",
       "    </tr>\n",
       "  </thead>\n",
       "  <tbody>\n",
       "    <tr>\n",
       "      <th>0</th>\n",
       "      <td>0</td>\n",
       "      <td>11.170000</td>\n",
       "      <td>119.150000</td>\n",
       "      <td>-4</td>\n",
       "      <td>Montastaea faveolata</td>\n",
       "      <td>1927</td>\n",
       "      <td>-4.067500</td>\n",
       "      <td>-0.066445</td>\n",
       "    </tr>\n",
       "    <tr>\n",
       "      <th>1</th>\n",
       "      <td>1</td>\n",
       "      <td>11.170000</td>\n",
       "      <td>119.150000</td>\n",
       "      <td>-4</td>\n",
       "      <td>Montastaea faveolata</td>\n",
       "      <td>1928</td>\n",
       "      <td>-3.865000</td>\n",
       "      <td>0.136055</td>\n",
       "    </tr>\n",
       "    <tr>\n",
       "      <th>2</th>\n",
       "      <td>2</td>\n",
       "      <td>11.170000</td>\n",
       "      <td>119.150000</td>\n",
       "      <td>-4</td>\n",
       "      <td>Montastaea faveolata</td>\n",
       "      <td>1929</td>\n",
       "      <td>-3.865000</td>\n",
       "      <td>0.136055</td>\n",
       "    </tr>\n",
       "    <tr>\n",
       "      <th>3</th>\n",
       "      <td>3</td>\n",
       "      <td>11.170000</td>\n",
       "      <td>119.150000</td>\n",
       "      <td>-4</td>\n",
       "      <td>Montastaea faveolata</td>\n",
       "      <td>1930</td>\n",
       "      <td>-4.007500</td>\n",
       "      <td>-0.006445</td>\n",
       "    </tr>\n",
       "    <tr>\n",
       "      <th>4</th>\n",
       "      <td>4</td>\n",
       "      <td>11.170000</td>\n",
       "      <td>119.150000</td>\n",
       "      <td>-4</td>\n",
       "      <td>Montastaea faveolata</td>\n",
       "      <td>1931</td>\n",
       "      <td>-4.040000</td>\n",
       "      <td>-0.038945</td>\n",
       "    </tr>\n",
       "    <tr>\n",
       "      <th>...</th>\n",
       "      <td>...</td>\n",
       "      <td>...</td>\n",
       "      <td>...</td>\n",
       "      <td>...</td>\n",
       "      <td>...</td>\n",
       "      <td>...</td>\n",
       "      <td>...</td>\n",
       "      <td>...</td>\n",
       "    </tr>\n",
       "    <tr>\n",
       "      <th>9505</th>\n",
       "      <td>40</td>\n",
       "      <td>20.666667</td>\n",
       "      <td>296.833333</td>\n",
       "      <td>-5</td>\n",
       "      <td>Porites sp.</td>\n",
       "      <td>2008</td>\n",
       "      <td>-5.474000</td>\n",
       "      <td>-0.253177</td>\n",
       "    </tr>\n",
       "    <tr>\n",
       "      <th>9506</th>\n",
       "      <td>41</td>\n",
       "      <td>20.666667</td>\n",
       "      <td>296.833333</td>\n",
       "      <td>-5</td>\n",
       "      <td>Porites sp.</td>\n",
       "      <td>2009</td>\n",
       "      <td>-5.249917</td>\n",
       "      <td>-0.029093</td>\n",
       "    </tr>\n",
       "    <tr>\n",
       "      <th>9507</th>\n",
       "      <td>42</td>\n",
       "      <td>20.666667</td>\n",
       "      <td>296.833333</td>\n",
       "      <td>-5</td>\n",
       "      <td>Porites sp.</td>\n",
       "      <td>2010</td>\n",
       "      <td>-5.299417</td>\n",
       "      <td>-0.078593</td>\n",
       "    </tr>\n",
       "    <tr>\n",
       "      <th>9508</th>\n",
       "      <td>43</td>\n",
       "      <td>20.666667</td>\n",
       "      <td>296.833333</td>\n",
       "      <td>-5</td>\n",
       "      <td>Porites sp.</td>\n",
       "      <td>2011</td>\n",
       "      <td>-5.397417</td>\n",
       "      <td>-0.176593</td>\n",
       "    </tr>\n",
       "    <tr>\n",
       "      <th>9509</th>\n",
       "      <td>44</td>\n",
       "      <td>20.666667</td>\n",
       "      <td>296.833333</td>\n",
       "      <td>-5</td>\n",
       "      <td>Porites sp.</td>\n",
       "      <td>2012</td>\n",
       "      <td>-5.337556</td>\n",
       "      <td>-0.116732</td>\n",
       "    </tr>\n",
       "  </tbody>\n",
       "</table>\n",
       "<p>9510 rows × 8 columns</p>\n",
       "</div>"
      ]
     },
     "metadata": {},
     "execution_count": 214
    }
   ],
   "metadata": {}
  },
  {
   "cell_type": "code",
   "execution_count": 215,
   "source": [
    "ex1 = coral_df_lon_formatted.head(1)\n",
    "ex1"
   ],
   "outputs": [
    {
     "output_type": "execute_result",
     "data": {
      "text/plain": [
       "   Unnamed: 0    lat     lon elevation               species  year    d18o  \\\n",
       "0           0  11.17  119.15        -4  Montastaea faveolata  1927 -4.0675   \n",
       "\n",
       "   d18o_anom  \n",
       "0  -0.066445  "
      ],
      "text/html": [
       "<div>\n",
       "<style scoped>\n",
       "    .dataframe tbody tr th:only-of-type {\n",
       "        vertical-align: middle;\n",
       "    }\n",
       "\n",
       "    .dataframe tbody tr th {\n",
       "        vertical-align: top;\n",
       "    }\n",
       "\n",
       "    .dataframe thead th {\n",
       "        text-align: right;\n",
       "    }\n",
       "</style>\n",
       "<table border=\"1\" class=\"dataframe\">\n",
       "  <thead>\n",
       "    <tr style=\"text-align: right;\">\n",
       "      <th></th>\n",
       "      <th>Unnamed: 0</th>\n",
       "      <th>lat</th>\n",
       "      <th>lon</th>\n",
       "      <th>elevation</th>\n",
       "      <th>species</th>\n",
       "      <th>year</th>\n",
       "      <th>d18o</th>\n",
       "      <th>d18o_anom</th>\n",
       "    </tr>\n",
       "  </thead>\n",
       "  <tbody>\n",
       "    <tr>\n",
       "      <th>0</th>\n",
       "      <td>0</td>\n",
       "      <td>11.17</td>\n",
       "      <td>119.15</td>\n",
       "      <td>-4</td>\n",
       "      <td>Montastaea faveolata</td>\n",
       "      <td>1927</td>\n",
       "      <td>-4.0675</td>\n",
       "      <td>-0.066445</td>\n",
       "    </tr>\n",
       "  </tbody>\n",
       "</table>\n",
       "</div>"
      ]
     },
     "metadata": {},
     "execution_count": 215
    }
   ],
   "metadata": {}
  },
  {
   "cell_type": "code",
   "execution_count": 216,
   "source": [
    "get_5x5_grid(16.77, 157.12)"
   ],
   "outputs": [
    {
     "output_type": "execute_result",
     "data": {
      "text/plain": [
       "(12.5, 17.5, 152.5, 157.5)"
      ]
     },
     "metadata": {},
     "execution_count": 216
    }
   ],
   "metadata": {}
  },
  {
   "cell_type": "markdown",
   "source": [
    "We have to find the average temperature for the year `1928` across those 4 points."
   ],
   "metadata": {}
  },
  {
   "cell_type": "code",
   "execution_count": 217,
   "source": [
    "ex1_temp = temp_df[((temp_df['lat'] == 12.5) | (temp_df['lat'] == 17.5)) &\n",
    "        ((temp_df['lon'] == 152.5) | (temp_df['lon'] == 157.5))] #&\n",
    "        #(temp_df['year'] == 1928)]\n",
    "ex1_temp"
   ],
   "outputs": [
    {
     "output_type": "execute_result",
     "data": {
      "text/plain": [
       "               time   lat    lon    z      anom  year\n",
       "4134     1880-02-01  17.5  152.5  0.0 -0.184901  1880\n",
       "37758    1881-03-01  12.5  152.5  0.0 -0.062720  1881\n",
       "40350    1881-04-01  12.5  152.5  0.0  0.052602  1881\n",
       "40351    1881-04-01  12.5  157.5  0.0  0.200180  1881\n",
       "40422    1881-04-01  17.5  152.5  0.0  0.215631  1881\n",
       "...             ...   ...    ...  ...       ...   ...\n",
       "1303781  2021-08-01  17.5  157.5  0.0  0.555222  2021\n",
       "1306300  2021-09-01  12.5  152.5  0.0  0.730655  2021\n",
       "1306301  2021-09-01  12.5  157.5  0.0  0.612177  2021\n",
       "1306372  2021-09-01  17.5  152.5  0.0  0.626079  2021\n",
       "1306373  2021-09-01  17.5  157.5  0.0  0.521222  2021\n",
       "\n",
       "[5623 rows x 6 columns]"
      ],
      "text/html": [
       "<div>\n",
       "<style scoped>\n",
       "    .dataframe tbody tr th:only-of-type {\n",
       "        vertical-align: middle;\n",
       "    }\n",
       "\n",
       "    .dataframe tbody tr th {\n",
       "        vertical-align: top;\n",
       "    }\n",
       "\n",
       "    .dataframe thead th {\n",
       "        text-align: right;\n",
       "    }\n",
       "</style>\n",
       "<table border=\"1\" class=\"dataframe\">\n",
       "  <thead>\n",
       "    <tr style=\"text-align: right;\">\n",
       "      <th></th>\n",
       "      <th>time</th>\n",
       "      <th>lat</th>\n",
       "      <th>lon</th>\n",
       "      <th>z</th>\n",
       "      <th>anom</th>\n",
       "      <th>year</th>\n",
       "    </tr>\n",
       "  </thead>\n",
       "  <tbody>\n",
       "    <tr>\n",
       "      <th>4134</th>\n",
       "      <td>1880-02-01</td>\n",
       "      <td>17.5</td>\n",
       "      <td>152.5</td>\n",
       "      <td>0.0</td>\n",
       "      <td>-0.184901</td>\n",
       "      <td>1880</td>\n",
       "    </tr>\n",
       "    <tr>\n",
       "      <th>37758</th>\n",
       "      <td>1881-03-01</td>\n",
       "      <td>12.5</td>\n",
       "      <td>152.5</td>\n",
       "      <td>0.0</td>\n",
       "      <td>-0.062720</td>\n",
       "      <td>1881</td>\n",
       "    </tr>\n",
       "    <tr>\n",
       "      <th>40350</th>\n",
       "      <td>1881-04-01</td>\n",
       "      <td>12.5</td>\n",
       "      <td>152.5</td>\n",
       "      <td>0.0</td>\n",
       "      <td>0.052602</td>\n",
       "      <td>1881</td>\n",
       "    </tr>\n",
       "    <tr>\n",
       "      <th>40351</th>\n",
       "      <td>1881-04-01</td>\n",
       "      <td>12.5</td>\n",
       "      <td>157.5</td>\n",
       "      <td>0.0</td>\n",
       "      <td>0.200180</td>\n",
       "      <td>1881</td>\n",
       "    </tr>\n",
       "    <tr>\n",
       "      <th>40422</th>\n",
       "      <td>1881-04-01</td>\n",
       "      <td>17.5</td>\n",
       "      <td>152.5</td>\n",
       "      <td>0.0</td>\n",
       "      <td>0.215631</td>\n",
       "      <td>1881</td>\n",
       "    </tr>\n",
       "    <tr>\n",
       "      <th>...</th>\n",
       "      <td>...</td>\n",
       "      <td>...</td>\n",
       "      <td>...</td>\n",
       "      <td>...</td>\n",
       "      <td>...</td>\n",
       "      <td>...</td>\n",
       "    </tr>\n",
       "    <tr>\n",
       "      <th>1303781</th>\n",
       "      <td>2021-08-01</td>\n",
       "      <td>17.5</td>\n",
       "      <td>157.5</td>\n",
       "      <td>0.0</td>\n",
       "      <td>0.555222</td>\n",
       "      <td>2021</td>\n",
       "    </tr>\n",
       "    <tr>\n",
       "      <th>1306300</th>\n",
       "      <td>2021-09-01</td>\n",
       "      <td>12.5</td>\n",
       "      <td>152.5</td>\n",
       "      <td>0.0</td>\n",
       "      <td>0.730655</td>\n",
       "      <td>2021</td>\n",
       "    </tr>\n",
       "    <tr>\n",
       "      <th>1306301</th>\n",
       "      <td>2021-09-01</td>\n",
       "      <td>12.5</td>\n",
       "      <td>157.5</td>\n",
       "      <td>0.0</td>\n",
       "      <td>0.612177</td>\n",
       "      <td>2021</td>\n",
       "    </tr>\n",
       "    <tr>\n",
       "      <th>1306372</th>\n",
       "      <td>2021-09-01</td>\n",
       "      <td>17.5</td>\n",
       "      <td>152.5</td>\n",
       "      <td>0.0</td>\n",
       "      <td>0.626079</td>\n",
       "      <td>2021</td>\n",
       "    </tr>\n",
       "    <tr>\n",
       "      <th>1306373</th>\n",
       "      <td>2021-09-01</td>\n",
       "      <td>17.5</td>\n",
       "      <td>157.5</td>\n",
       "      <td>0.0</td>\n",
       "      <td>0.521222</td>\n",
       "      <td>2021</td>\n",
       "    </tr>\n",
       "  </tbody>\n",
       "</table>\n",
       "<p>5623 rows × 6 columns</p>\n",
       "</div>"
      ]
     },
     "metadata": {},
     "execution_count": 217
    }
   ],
   "metadata": {}
  },
  {
   "cell_type": "code",
   "execution_count": 218,
   "source": [
    "ex1_annual_temp = ex1_temp.groupby(['year']).agg({'anom': ['mean']}).reset_index()\n",
    "ex1_annual_temp"
   ],
   "outputs": [
    {
     "output_type": "execute_result",
     "data": {
      "text/plain": [
       "     year      anom\n",
       "               mean\n",
       "0    1880 -0.184901\n",
       "1    1881  0.218206\n",
       "2    1882  0.527051\n",
       "3    1883 -0.131200\n",
       "4    1884 -0.271926\n",
       "..    ...       ...\n",
       "134  2017  0.816447\n",
       "135  2018  0.586175\n",
       "136  2019  0.628739\n",
       "137  2020  0.652434\n",
       "138  2021  0.754385\n",
       "\n",
       "[139 rows x 2 columns]"
      ],
      "text/html": [
       "<div>\n",
       "<style scoped>\n",
       "    .dataframe tbody tr th:only-of-type {\n",
       "        vertical-align: middle;\n",
       "    }\n",
       "\n",
       "    .dataframe tbody tr th {\n",
       "        vertical-align: top;\n",
       "    }\n",
       "\n",
       "    .dataframe thead tr th {\n",
       "        text-align: left;\n",
       "    }\n",
       "</style>\n",
       "<table border=\"1\" class=\"dataframe\">\n",
       "  <thead>\n",
       "    <tr>\n",
       "      <th></th>\n",
       "      <th>year</th>\n",
       "      <th>anom</th>\n",
       "    </tr>\n",
       "    <tr>\n",
       "      <th></th>\n",
       "      <th></th>\n",
       "      <th>mean</th>\n",
       "    </tr>\n",
       "  </thead>\n",
       "  <tbody>\n",
       "    <tr>\n",
       "      <th>0</th>\n",
       "      <td>1880</td>\n",
       "      <td>-0.184901</td>\n",
       "    </tr>\n",
       "    <tr>\n",
       "      <th>1</th>\n",
       "      <td>1881</td>\n",
       "      <td>0.218206</td>\n",
       "    </tr>\n",
       "    <tr>\n",
       "      <th>2</th>\n",
       "      <td>1882</td>\n",
       "      <td>0.527051</td>\n",
       "    </tr>\n",
       "    <tr>\n",
       "      <th>3</th>\n",
       "      <td>1883</td>\n",
       "      <td>-0.131200</td>\n",
       "    </tr>\n",
       "    <tr>\n",
       "      <th>4</th>\n",
       "      <td>1884</td>\n",
       "      <td>-0.271926</td>\n",
       "    </tr>\n",
       "    <tr>\n",
       "      <th>...</th>\n",
       "      <td>...</td>\n",
       "      <td>...</td>\n",
       "    </tr>\n",
       "    <tr>\n",
       "      <th>134</th>\n",
       "      <td>2017</td>\n",
       "      <td>0.816447</td>\n",
       "    </tr>\n",
       "    <tr>\n",
       "      <th>135</th>\n",
       "      <td>2018</td>\n",
       "      <td>0.586175</td>\n",
       "    </tr>\n",
       "    <tr>\n",
       "      <th>136</th>\n",
       "      <td>2019</td>\n",
       "      <td>0.628739</td>\n",
       "    </tr>\n",
       "    <tr>\n",
       "      <th>137</th>\n",
       "      <td>2020</td>\n",
       "      <td>0.652434</td>\n",
       "    </tr>\n",
       "    <tr>\n",
       "      <th>138</th>\n",
       "      <td>2021</td>\n",
       "      <td>0.754385</td>\n",
       "    </tr>\n",
       "  </tbody>\n",
       "</table>\n",
       "<p>139 rows × 2 columns</p>\n",
       "</div>"
      ]
     },
     "metadata": {},
     "execution_count": 218
    }
   ],
   "metadata": {}
  },
  {
   "cell_type": "code",
   "execution_count": 219,
   "source": [
    "ex1_temp_anom = ex1_annual_temp[ex1_annual_temp['year']=='1928']['anom']['mean'].tolist()[0]\n",
    "ex1_temp_anom"
   ],
   "outputs": [
    {
     "output_type": "execute_result",
     "data": {
      "text/plain": [
       "-0.49565370135416664"
      ]
     },
     "metadata": {},
     "execution_count": 219
    }
   ],
   "metadata": {}
  },
  {
   "cell_type": "code",
   "execution_count": 220,
   "source": [
    "ex1['temp_anom'] = ex1_temp_anom\n",
    "ex1"
   ],
   "outputs": [
    {
     "output_type": "stream",
     "name": "stderr",
     "text": [
      "/var/folders/ws/d7dc4bz53q3_26hs2vbmg8600000gn/T/ipykernel_51705/1628740514.py:1: SettingWithCopyWarning: \n",
      "A value is trying to be set on a copy of a slice from a DataFrame.\n",
      "Try using .loc[row_indexer,col_indexer] = value instead\n",
      "\n",
      "See the caveats in the documentation: https://pandas.pydata.org/pandas-docs/stable/user_guide/indexing.html#returning-a-view-versus-a-copy\n",
      "  ex1['temp_anom'] = ex1_temp_anom\n"
     ]
    },
    {
     "output_type": "execute_result",
     "data": {
      "text/plain": [
       "   Unnamed: 0    lat     lon elevation               species  year    d18o  \\\n",
       "0           0  11.17  119.15        -4  Montastaea faveolata  1927 -4.0675   \n",
       "\n",
       "   d18o_anom  temp_anom  \n",
       "0  -0.066445  -0.495654  "
      ],
      "text/html": [
       "<div>\n",
       "<style scoped>\n",
       "    .dataframe tbody tr th:only-of-type {\n",
       "        vertical-align: middle;\n",
       "    }\n",
       "\n",
       "    .dataframe tbody tr th {\n",
       "        vertical-align: top;\n",
       "    }\n",
       "\n",
       "    .dataframe thead th {\n",
       "        text-align: right;\n",
       "    }\n",
       "</style>\n",
       "<table border=\"1\" class=\"dataframe\">\n",
       "  <thead>\n",
       "    <tr style=\"text-align: right;\">\n",
       "      <th></th>\n",
       "      <th>Unnamed: 0</th>\n",
       "      <th>lat</th>\n",
       "      <th>lon</th>\n",
       "      <th>elevation</th>\n",
       "      <th>species</th>\n",
       "      <th>year</th>\n",
       "      <th>d18o</th>\n",
       "      <th>d18o_anom</th>\n",
       "      <th>temp_anom</th>\n",
       "    </tr>\n",
       "  </thead>\n",
       "  <tbody>\n",
       "    <tr>\n",
       "      <th>0</th>\n",
       "      <td>0</td>\n",
       "      <td>11.17</td>\n",
       "      <td>119.15</td>\n",
       "      <td>-4</td>\n",
       "      <td>Montastaea faveolata</td>\n",
       "      <td>1927</td>\n",
       "      <td>-4.0675</td>\n",
       "      <td>-0.066445</td>\n",
       "      <td>-0.495654</td>\n",
       "    </tr>\n",
       "  </tbody>\n",
       "</table>\n",
       "</div>"
      ]
     },
     "metadata": {},
     "execution_count": 220
    }
   ],
   "metadata": {}
  },
  {
   "cell_type": "markdown",
   "source": [
    "**Boom!** Now we just need to replicate this process for every observation in `coral_df`."
   ],
   "metadata": {}
  },
  {
   "cell_type": "markdown",
   "source": [
    "## The Actual Process"
   ],
   "metadata": {}
  },
  {
   "cell_type": "code",
   "execution_count": 221,
   "source": [
    "# given an observation row, return the row with the correct 5x5 temperature anomaly\n",
    "\n",
    "def get_gridded_temp_anom(lat, lon, year):\n",
    "    lat1, lat2, lon1, lon2 = get_5x5_grid(lat, lon)\n",
    "    temp_df_for_lat_lon = temp_df[((temp_df['lat'] == lat1) | (temp_df['lat'] == lat2)) &\n",
    "                                  ((temp_df['lon'] == lon1) | (temp_df['lon'] == lon2)) &\n",
    "                                  (temp_df['year'] == str(year))]\n",
    "    annual_temp_df_for_lat_lon = temp_df_for_lat_lon.groupby(['year']).agg({'anom': ['mean']}).reset_index()\n",
    "    if len(annual_temp_df_for_lat_lon[annual_temp_df_for_lat_lon['year']==str(year)]['anom']['mean'].tolist()) > 0:\n",
    "        temp_anom = annual_temp_df_for_lat_lon[annual_temp_df_for_lat_lon['year']==str(year)]['anom']['mean'].tolist()[0]\n",
    "        return temp_anom\n",
    "    \n",
    "    "
   ],
   "outputs": [],
   "metadata": {}
  },
  {
   "cell_type": "markdown",
   "source": [
    "Testing that it returns the same thing as above:"
   ],
   "metadata": {}
  },
  {
   "cell_type": "code",
   "execution_count": 222,
   "source": [
    "get_gridded_temp_anom(16.77, 157.12, 1928)"
   ],
   "outputs": [
    {
     "output_type": "execute_result",
     "data": {
      "text/plain": [
       "-0.49565370135416664"
      ]
     },
     "metadata": {},
     "execution_count": 222
    }
   ],
   "metadata": {}
  },
  {
   "cell_type": "code",
   "execution_count": 223,
   "source": [
    "get_gridded_temp_anom(11.17, 119.15, 1997)"
   ],
   "outputs": [
    {
     "output_type": "execute_result",
     "data": {
      "text/plain": [
       "0.10014118308333332"
      ]
     },
     "metadata": {},
     "execution_count": 223
    }
   ],
   "metadata": {}
  },
  {
   "cell_type": "markdown",
   "source": [
    "Great success! Next step is to apply this function to every row."
   ],
   "metadata": {}
  },
  {
   "cell_type": "code",
   "execution_count": 224,
   "source": [
    "first_20_coral_with_temp_df = coral_df_lon_formatted.head(20)\n",
    "first_20_coral_with_temp_df['temp_anom'] = first_20_coral_with_temp_df.apply(lambda x: get_gridded_temp_anom(x['lat'], x['lon'], x['year']), axis=1)\n",
    "first_20_coral_with_temp_df"
   ],
   "outputs": [
    {
     "output_type": "stream",
     "name": "stderr",
     "text": [
      "/var/folders/ws/d7dc4bz53q3_26hs2vbmg8600000gn/T/ipykernel_51705/3099433824.py:2: SettingWithCopyWarning: \n",
      "A value is trying to be set on a copy of a slice from a DataFrame.\n",
      "Try using .loc[row_indexer,col_indexer] = value instead\n",
      "\n",
      "See the caveats in the documentation: https://pandas.pydata.org/pandas-docs/stable/user_guide/indexing.html#returning-a-view-versus-a-copy\n",
      "  first_20_coral_with_temp_df['temp_anom'] = first_20_coral_with_temp_df.apply(lambda x: get_gridded_temp_anom(x['lat'], x['lon'], x['year']), axis=1)\n"
     ]
    },
    {
     "output_type": "execute_result",
     "data": {
      "text/plain": [
       "    Unnamed: 0    lat     lon elevation               species  year    d18o  \\\n",
       "0            0  11.17  119.15        -4  Montastaea faveolata  1927 -4.0675   \n",
       "1            1  11.17  119.15        -4  Montastaea faveolata  1928 -3.8650   \n",
       "2            2  11.17  119.15        -4  Montastaea faveolata  1929 -3.8650   \n",
       "3            3  11.17  119.15        -4  Montastaea faveolata  1930 -4.0075   \n",
       "4            4  11.17  119.15        -4  Montastaea faveolata  1931 -4.0400   \n",
       "5            5  11.17  119.15        -4  Montastaea faveolata  1932 -3.6075   \n",
       "6            6  11.17  119.15        -4  Montastaea faveolata  1933 -3.8900   \n",
       "7            7  11.17  119.15        -4  Montastaea faveolata  1934 -4.1850   \n",
       "8            8  11.17  119.15        -4  Montastaea faveolata  1935 -4.3525   \n",
       "9            9  11.17  119.15        -4  Montastaea faveolata  1936 -3.9775   \n",
       "10          10  11.17  119.15        -4  Montastaea faveolata  1937 -3.8725   \n",
       "11          11  11.17  119.15        -4  Montastaea faveolata  1938 -3.7125   \n",
       "12          12  11.17  119.15        -4  Montastaea faveolata  1939 -3.4825   \n",
       "13          13  11.17  119.15        -4  Montastaea faveolata  1940 -3.5200   \n",
       "14          14  11.17  119.15        -4  Montastaea faveolata  1941 -3.6700   \n",
       "15          15  11.17  119.15        -4  Montastaea faveolata  1942 -3.5400   \n",
       "16          16  11.17  119.15        -4  Montastaea faveolata  1943 -3.2450   \n",
       "17          17  11.17  119.15        -4  Montastaea faveolata  1944 -3.4000   \n",
       "18          18  11.17  119.15        -4  Montastaea faveolata  1945 -3.5375   \n",
       "19          19  11.17  119.15        -4  Montastaea faveolata  1946 -3.7275   \n",
       "\n",
       "    d18o_anom  temp_anom  \n",
       "0   -0.066445  -0.405418  \n",
       "1    0.136055  -0.503512  \n",
       "2    0.136055  -0.819141  \n",
       "3   -0.006445  -0.337399  \n",
       "4   -0.038945  -0.099585  \n",
       "5    0.393555  -0.541486  \n",
       "6    0.111055  -0.497872  \n",
       "7   -0.183945  -0.816273  \n",
       "8   -0.351445  -0.673577  \n",
       "9    0.023555  -0.528848  \n",
       "10   0.128555  -0.308678  \n",
       "11   0.288555  -0.503751  \n",
       "12   0.518555  -0.629062  \n",
       "13   0.481055  -0.476827  \n",
       "14   0.331055   0.122773  \n",
       "15   0.461055   0.026258  \n",
       "16   0.756055  -0.497352  \n",
       "17   0.601055  -0.173957  \n",
       "18   0.463555   0.161169  \n",
       "19   0.273555   0.174849  "
      ],
      "text/html": [
       "<div>\n",
       "<style scoped>\n",
       "    .dataframe tbody tr th:only-of-type {\n",
       "        vertical-align: middle;\n",
       "    }\n",
       "\n",
       "    .dataframe tbody tr th {\n",
       "        vertical-align: top;\n",
       "    }\n",
       "\n",
       "    .dataframe thead th {\n",
       "        text-align: right;\n",
       "    }\n",
       "</style>\n",
       "<table border=\"1\" class=\"dataframe\">\n",
       "  <thead>\n",
       "    <tr style=\"text-align: right;\">\n",
       "      <th></th>\n",
       "      <th>Unnamed: 0</th>\n",
       "      <th>lat</th>\n",
       "      <th>lon</th>\n",
       "      <th>elevation</th>\n",
       "      <th>species</th>\n",
       "      <th>year</th>\n",
       "      <th>d18o</th>\n",
       "      <th>d18o_anom</th>\n",
       "      <th>temp_anom</th>\n",
       "    </tr>\n",
       "  </thead>\n",
       "  <tbody>\n",
       "    <tr>\n",
       "      <th>0</th>\n",
       "      <td>0</td>\n",
       "      <td>11.17</td>\n",
       "      <td>119.15</td>\n",
       "      <td>-4</td>\n",
       "      <td>Montastaea faveolata</td>\n",
       "      <td>1927</td>\n",
       "      <td>-4.0675</td>\n",
       "      <td>-0.066445</td>\n",
       "      <td>-0.405418</td>\n",
       "    </tr>\n",
       "    <tr>\n",
       "      <th>1</th>\n",
       "      <td>1</td>\n",
       "      <td>11.17</td>\n",
       "      <td>119.15</td>\n",
       "      <td>-4</td>\n",
       "      <td>Montastaea faveolata</td>\n",
       "      <td>1928</td>\n",
       "      <td>-3.8650</td>\n",
       "      <td>0.136055</td>\n",
       "      <td>-0.503512</td>\n",
       "    </tr>\n",
       "    <tr>\n",
       "      <th>2</th>\n",
       "      <td>2</td>\n",
       "      <td>11.17</td>\n",
       "      <td>119.15</td>\n",
       "      <td>-4</td>\n",
       "      <td>Montastaea faveolata</td>\n",
       "      <td>1929</td>\n",
       "      <td>-3.8650</td>\n",
       "      <td>0.136055</td>\n",
       "      <td>-0.819141</td>\n",
       "    </tr>\n",
       "    <tr>\n",
       "      <th>3</th>\n",
       "      <td>3</td>\n",
       "      <td>11.17</td>\n",
       "      <td>119.15</td>\n",
       "      <td>-4</td>\n",
       "      <td>Montastaea faveolata</td>\n",
       "      <td>1930</td>\n",
       "      <td>-4.0075</td>\n",
       "      <td>-0.006445</td>\n",
       "      <td>-0.337399</td>\n",
       "    </tr>\n",
       "    <tr>\n",
       "      <th>4</th>\n",
       "      <td>4</td>\n",
       "      <td>11.17</td>\n",
       "      <td>119.15</td>\n",
       "      <td>-4</td>\n",
       "      <td>Montastaea faveolata</td>\n",
       "      <td>1931</td>\n",
       "      <td>-4.0400</td>\n",
       "      <td>-0.038945</td>\n",
       "      <td>-0.099585</td>\n",
       "    </tr>\n",
       "    <tr>\n",
       "      <th>5</th>\n",
       "      <td>5</td>\n",
       "      <td>11.17</td>\n",
       "      <td>119.15</td>\n",
       "      <td>-4</td>\n",
       "      <td>Montastaea faveolata</td>\n",
       "      <td>1932</td>\n",
       "      <td>-3.6075</td>\n",
       "      <td>0.393555</td>\n",
       "      <td>-0.541486</td>\n",
       "    </tr>\n",
       "    <tr>\n",
       "      <th>6</th>\n",
       "      <td>6</td>\n",
       "      <td>11.17</td>\n",
       "      <td>119.15</td>\n",
       "      <td>-4</td>\n",
       "      <td>Montastaea faveolata</td>\n",
       "      <td>1933</td>\n",
       "      <td>-3.8900</td>\n",
       "      <td>0.111055</td>\n",
       "      <td>-0.497872</td>\n",
       "    </tr>\n",
       "    <tr>\n",
       "      <th>7</th>\n",
       "      <td>7</td>\n",
       "      <td>11.17</td>\n",
       "      <td>119.15</td>\n",
       "      <td>-4</td>\n",
       "      <td>Montastaea faveolata</td>\n",
       "      <td>1934</td>\n",
       "      <td>-4.1850</td>\n",
       "      <td>-0.183945</td>\n",
       "      <td>-0.816273</td>\n",
       "    </tr>\n",
       "    <tr>\n",
       "      <th>8</th>\n",
       "      <td>8</td>\n",
       "      <td>11.17</td>\n",
       "      <td>119.15</td>\n",
       "      <td>-4</td>\n",
       "      <td>Montastaea faveolata</td>\n",
       "      <td>1935</td>\n",
       "      <td>-4.3525</td>\n",
       "      <td>-0.351445</td>\n",
       "      <td>-0.673577</td>\n",
       "    </tr>\n",
       "    <tr>\n",
       "      <th>9</th>\n",
       "      <td>9</td>\n",
       "      <td>11.17</td>\n",
       "      <td>119.15</td>\n",
       "      <td>-4</td>\n",
       "      <td>Montastaea faveolata</td>\n",
       "      <td>1936</td>\n",
       "      <td>-3.9775</td>\n",
       "      <td>0.023555</td>\n",
       "      <td>-0.528848</td>\n",
       "    </tr>\n",
       "    <tr>\n",
       "      <th>10</th>\n",
       "      <td>10</td>\n",
       "      <td>11.17</td>\n",
       "      <td>119.15</td>\n",
       "      <td>-4</td>\n",
       "      <td>Montastaea faveolata</td>\n",
       "      <td>1937</td>\n",
       "      <td>-3.8725</td>\n",
       "      <td>0.128555</td>\n",
       "      <td>-0.308678</td>\n",
       "    </tr>\n",
       "    <tr>\n",
       "      <th>11</th>\n",
       "      <td>11</td>\n",
       "      <td>11.17</td>\n",
       "      <td>119.15</td>\n",
       "      <td>-4</td>\n",
       "      <td>Montastaea faveolata</td>\n",
       "      <td>1938</td>\n",
       "      <td>-3.7125</td>\n",
       "      <td>0.288555</td>\n",
       "      <td>-0.503751</td>\n",
       "    </tr>\n",
       "    <tr>\n",
       "      <th>12</th>\n",
       "      <td>12</td>\n",
       "      <td>11.17</td>\n",
       "      <td>119.15</td>\n",
       "      <td>-4</td>\n",
       "      <td>Montastaea faveolata</td>\n",
       "      <td>1939</td>\n",
       "      <td>-3.4825</td>\n",
       "      <td>0.518555</td>\n",
       "      <td>-0.629062</td>\n",
       "    </tr>\n",
       "    <tr>\n",
       "      <th>13</th>\n",
       "      <td>13</td>\n",
       "      <td>11.17</td>\n",
       "      <td>119.15</td>\n",
       "      <td>-4</td>\n",
       "      <td>Montastaea faveolata</td>\n",
       "      <td>1940</td>\n",
       "      <td>-3.5200</td>\n",
       "      <td>0.481055</td>\n",
       "      <td>-0.476827</td>\n",
       "    </tr>\n",
       "    <tr>\n",
       "      <th>14</th>\n",
       "      <td>14</td>\n",
       "      <td>11.17</td>\n",
       "      <td>119.15</td>\n",
       "      <td>-4</td>\n",
       "      <td>Montastaea faveolata</td>\n",
       "      <td>1941</td>\n",
       "      <td>-3.6700</td>\n",
       "      <td>0.331055</td>\n",
       "      <td>0.122773</td>\n",
       "    </tr>\n",
       "    <tr>\n",
       "      <th>15</th>\n",
       "      <td>15</td>\n",
       "      <td>11.17</td>\n",
       "      <td>119.15</td>\n",
       "      <td>-4</td>\n",
       "      <td>Montastaea faveolata</td>\n",
       "      <td>1942</td>\n",
       "      <td>-3.5400</td>\n",
       "      <td>0.461055</td>\n",
       "      <td>0.026258</td>\n",
       "    </tr>\n",
       "    <tr>\n",
       "      <th>16</th>\n",
       "      <td>16</td>\n",
       "      <td>11.17</td>\n",
       "      <td>119.15</td>\n",
       "      <td>-4</td>\n",
       "      <td>Montastaea faveolata</td>\n",
       "      <td>1943</td>\n",
       "      <td>-3.2450</td>\n",
       "      <td>0.756055</td>\n",
       "      <td>-0.497352</td>\n",
       "    </tr>\n",
       "    <tr>\n",
       "      <th>17</th>\n",
       "      <td>17</td>\n",
       "      <td>11.17</td>\n",
       "      <td>119.15</td>\n",
       "      <td>-4</td>\n",
       "      <td>Montastaea faveolata</td>\n",
       "      <td>1944</td>\n",
       "      <td>-3.4000</td>\n",
       "      <td>0.601055</td>\n",
       "      <td>-0.173957</td>\n",
       "    </tr>\n",
       "    <tr>\n",
       "      <th>18</th>\n",
       "      <td>18</td>\n",
       "      <td>11.17</td>\n",
       "      <td>119.15</td>\n",
       "      <td>-4</td>\n",
       "      <td>Montastaea faveolata</td>\n",
       "      <td>1945</td>\n",
       "      <td>-3.5375</td>\n",
       "      <td>0.463555</td>\n",
       "      <td>0.161169</td>\n",
       "    </tr>\n",
       "    <tr>\n",
       "      <th>19</th>\n",
       "      <td>19</td>\n",
       "      <td>11.17</td>\n",
       "      <td>119.15</td>\n",
       "      <td>-4</td>\n",
       "      <td>Montastaea faveolata</td>\n",
       "      <td>1946</td>\n",
       "      <td>-3.7275</td>\n",
       "      <td>0.273555</td>\n",
       "      <td>0.174849</td>\n",
       "    </tr>\n",
       "  </tbody>\n",
       "</table>\n",
       "</div>"
      ]
     },
     "metadata": {},
     "execution_count": 224
    }
   ],
   "metadata": {}
  },
  {
   "cell_type": "markdown",
   "source": [
    "I am pretty sure that this will take 3 hours to run for the full `coral_df_lon_formatted`, so I will wait to run it on that until we are sure that we are happy with our `all_coral.csv` file! That said, here is the proof that it works :)"
   ],
   "metadata": {}
  },
  {
   "cell_type": "code",
   "execution_count": 124,
   "source": [
    "coral_df_lon_formatted_with_temp = coral_df_lon_formatted\n",
    "coral_df_lon_formatted_with_temp['temp_anom'] = coral_df_lon_formatted.apply(lambda x: get_gridded_temp_anom(x['lat'], x['lon'], x['year']), axis=1)\n",
    "coral_df_lon_formatted_with_temp"
   ],
   "outputs": [
    {
     "output_type": "stream",
     "name": "stderr",
     "text": [
      "/var/folders/ws/d7dc4bz53q3_26hs2vbmg8600000gn/T/ipykernel_51705/2500185723.py:2: SettingWithCopyWarning: \n",
      "A value is trying to be set on a copy of a slice from a DataFrame.\n",
      "Try using .loc[row_indexer,col_indexer] = value instead\n",
      "\n",
      "See the caveats in the documentation: https://pandas.pydata.org/pandas-docs/stable/user_guide/indexing.html#returning-a-view-versus-a-copy\n",
      "  coral_df_lon_formatted_with_temp['temp_anom'] = coral_df_lon_formatted.apply(lambda x: get_gridded_temp_anom(x['lat'], x['lon'], x['year']), axis=1)\n"
     ]
    },
    {
     "output_type": "execute_result",
     "data": {
      "text/plain": [
       "       Unnamed: 0        lat         lon elevation               species  \\\n",
       "0               0  11.170000  119.150000        -4  Montastaea faveolata   \n",
       "1               1  11.170000  119.150000        -4  Montastaea faveolata   \n",
       "2               2  11.170000  119.150000        -4  Montastaea faveolata   \n",
       "3               3  11.170000  119.150000        -4  Montastaea faveolata   \n",
       "4               4  11.170000  119.150000        -4  Montastaea faveolata   \n",
       "...           ...        ...         ...       ...                   ...   \n",
       "16816          40  20.666667  296.833333        -5           Porites sp.   \n",
       "16817          41  20.666667  296.833333        -5           Porites sp.   \n",
       "16818          42  20.666667  296.833333        -5           Porites sp.   \n",
       "16819          43  20.666667  296.833333        -5           Porites sp.   \n",
       "16820          44  20.666667  296.833333        -5           Porites sp.   \n",
       "\n",
       "       year      d18o  temp_anom  \n",
       "0      1927 -4.067500  -0.405418  \n",
       "1      1928 -3.865000  -0.503512  \n",
       "2      1929 -3.865000  -0.819141  \n",
       "3      1930 -4.007500  -0.337399  \n",
       "4      1931 -4.040000  -0.099585  \n",
       "...     ...       ...        ...  \n",
       "16816  2008 -5.474000   0.210579  \n",
       "16817  2009 -5.249917   0.288014  \n",
       "16818  2010 -5.299417   0.664223  \n",
       "16819  2011 -5.397417   0.425456  \n",
       "16820  2012 -5.337556   0.466424  \n",
       "\n",
       "[16438 rows x 8 columns]"
      ],
      "text/html": [
       "<div>\n",
       "<style scoped>\n",
       "    .dataframe tbody tr th:only-of-type {\n",
       "        vertical-align: middle;\n",
       "    }\n",
       "\n",
       "    .dataframe tbody tr th {\n",
       "        vertical-align: top;\n",
       "    }\n",
       "\n",
       "    .dataframe thead th {\n",
       "        text-align: right;\n",
       "    }\n",
       "</style>\n",
       "<table border=\"1\" class=\"dataframe\">\n",
       "  <thead>\n",
       "    <tr style=\"text-align: right;\">\n",
       "      <th></th>\n",
       "      <th>Unnamed: 0</th>\n",
       "      <th>lat</th>\n",
       "      <th>lon</th>\n",
       "      <th>elevation</th>\n",
       "      <th>species</th>\n",
       "      <th>year</th>\n",
       "      <th>d18o</th>\n",
       "      <th>temp_anom</th>\n",
       "    </tr>\n",
       "  </thead>\n",
       "  <tbody>\n",
       "    <tr>\n",
       "      <th>0</th>\n",
       "      <td>0</td>\n",
       "      <td>11.170000</td>\n",
       "      <td>119.150000</td>\n",
       "      <td>-4</td>\n",
       "      <td>Montastaea faveolata</td>\n",
       "      <td>1927</td>\n",
       "      <td>-4.067500</td>\n",
       "      <td>-0.405418</td>\n",
       "    </tr>\n",
       "    <tr>\n",
       "      <th>1</th>\n",
       "      <td>1</td>\n",
       "      <td>11.170000</td>\n",
       "      <td>119.150000</td>\n",
       "      <td>-4</td>\n",
       "      <td>Montastaea faveolata</td>\n",
       "      <td>1928</td>\n",
       "      <td>-3.865000</td>\n",
       "      <td>-0.503512</td>\n",
       "    </tr>\n",
       "    <tr>\n",
       "      <th>2</th>\n",
       "      <td>2</td>\n",
       "      <td>11.170000</td>\n",
       "      <td>119.150000</td>\n",
       "      <td>-4</td>\n",
       "      <td>Montastaea faveolata</td>\n",
       "      <td>1929</td>\n",
       "      <td>-3.865000</td>\n",
       "      <td>-0.819141</td>\n",
       "    </tr>\n",
       "    <tr>\n",
       "      <th>3</th>\n",
       "      <td>3</td>\n",
       "      <td>11.170000</td>\n",
       "      <td>119.150000</td>\n",
       "      <td>-4</td>\n",
       "      <td>Montastaea faveolata</td>\n",
       "      <td>1930</td>\n",
       "      <td>-4.007500</td>\n",
       "      <td>-0.337399</td>\n",
       "    </tr>\n",
       "    <tr>\n",
       "      <th>4</th>\n",
       "      <td>4</td>\n",
       "      <td>11.170000</td>\n",
       "      <td>119.150000</td>\n",
       "      <td>-4</td>\n",
       "      <td>Montastaea faveolata</td>\n",
       "      <td>1931</td>\n",
       "      <td>-4.040000</td>\n",
       "      <td>-0.099585</td>\n",
       "    </tr>\n",
       "    <tr>\n",
       "      <th>...</th>\n",
       "      <td>...</td>\n",
       "      <td>...</td>\n",
       "      <td>...</td>\n",
       "      <td>...</td>\n",
       "      <td>...</td>\n",
       "      <td>...</td>\n",
       "      <td>...</td>\n",
       "      <td>...</td>\n",
       "    </tr>\n",
       "    <tr>\n",
       "      <th>16816</th>\n",
       "      <td>40</td>\n",
       "      <td>20.666667</td>\n",
       "      <td>296.833333</td>\n",
       "      <td>-5</td>\n",
       "      <td>Porites sp.</td>\n",
       "      <td>2008</td>\n",
       "      <td>-5.474000</td>\n",
       "      <td>0.210579</td>\n",
       "    </tr>\n",
       "    <tr>\n",
       "      <th>16817</th>\n",
       "      <td>41</td>\n",
       "      <td>20.666667</td>\n",
       "      <td>296.833333</td>\n",
       "      <td>-5</td>\n",
       "      <td>Porites sp.</td>\n",
       "      <td>2009</td>\n",
       "      <td>-5.249917</td>\n",
       "      <td>0.288014</td>\n",
       "    </tr>\n",
       "    <tr>\n",
       "      <th>16818</th>\n",
       "      <td>42</td>\n",
       "      <td>20.666667</td>\n",
       "      <td>296.833333</td>\n",
       "      <td>-5</td>\n",
       "      <td>Porites sp.</td>\n",
       "      <td>2010</td>\n",
       "      <td>-5.299417</td>\n",
       "      <td>0.664223</td>\n",
       "    </tr>\n",
       "    <tr>\n",
       "      <th>16819</th>\n",
       "      <td>43</td>\n",
       "      <td>20.666667</td>\n",
       "      <td>296.833333</td>\n",
       "      <td>-5</td>\n",
       "      <td>Porites sp.</td>\n",
       "      <td>2011</td>\n",
       "      <td>-5.397417</td>\n",
       "      <td>0.425456</td>\n",
       "    </tr>\n",
       "    <tr>\n",
       "      <th>16820</th>\n",
       "      <td>44</td>\n",
       "      <td>20.666667</td>\n",
       "      <td>296.833333</td>\n",
       "      <td>-5</td>\n",
       "      <td>Porites sp.</td>\n",
       "      <td>2012</td>\n",
       "      <td>-5.337556</td>\n",
       "      <td>0.466424</td>\n",
       "    </tr>\n",
       "  </tbody>\n",
       "</table>\n",
       "<p>16438 rows × 8 columns</p>\n",
       "</div>"
      ]
     },
     "metadata": {},
     "execution_count": 124
    }
   ],
   "metadata": {}
  },
  {
   "cell_type": "code",
   "execution_count": 1,
   "source": [
    "# coral_df_lon_formatted_with_temp.to_csv('all_coral_with_temp.csv')"
   ],
   "outputs": [],
   "metadata": {}
  },
  {
   "cell_type": "code",
   "execution_count": 9,
   "source": [
    "coral_df_lon_formatted_with_temp = pd.read_csv('all_coral_with_temp.csv')"
   ],
   "outputs": [],
   "metadata": {}
  },
  {
   "cell_type": "code",
   "execution_count": 10,
   "source": [
    "import matplotlib.pyplot as plt\n",
    "ax = coral_df_lon_formatted_with_temp[['year']].plot(kind='bar')\n",
    "ax.set_xlabel(\"Year\", fontsize=12)\n",
    "ax.set_ylabel(\"Count\", fontsize=12)\n",
    "plt.show()"
   ],
   "outputs": [
    {
     "output_type": "error",
     "ename": "KeyboardInterrupt",
     "evalue": "",
     "traceback": [
      "\u001b[0;31m---------------------------------------------------------------------------\u001b[0m",
      "\u001b[0;31mKeyboardInterrupt\u001b[0m                         Traceback (most recent call last)",
      "\u001b[0;32m<ipython-input-10-dd4435555bd9>\u001b[0m in \u001b[0;36m<module>\u001b[0;34m\u001b[0m\n\u001b[1;32m      3\u001b[0m \u001b[0max\u001b[0m\u001b[0;34m.\u001b[0m\u001b[0mset_xlabel\u001b[0m\u001b[0;34m(\u001b[0m\u001b[0;34m\"Year\"\u001b[0m\u001b[0;34m,\u001b[0m \u001b[0mfontsize\u001b[0m\u001b[0;34m=\u001b[0m\u001b[0;36m12\u001b[0m\u001b[0;34m)\u001b[0m\u001b[0;34m\u001b[0m\u001b[0;34m\u001b[0m\u001b[0m\n\u001b[1;32m      4\u001b[0m \u001b[0max\u001b[0m\u001b[0;34m.\u001b[0m\u001b[0mset_ylabel\u001b[0m\u001b[0;34m(\u001b[0m\u001b[0;34m\"Count\"\u001b[0m\u001b[0;34m,\u001b[0m \u001b[0mfontsize\u001b[0m\u001b[0;34m=\u001b[0m\u001b[0;36m12\u001b[0m\u001b[0;34m)\u001b[0m\u001b[0;34m\u001b[0m\u001b[0;34m\u001b[0m\u001b[0m\n\u001b[0;32m----> 5\u001b[0;31m \u001b[0mplt\u001b[0m\u001b[0;34m.\u001b[0m\u001b[0mshow\u001b[0m\u001b[0;34m(\u001b[0m\u001b[0;34m)\u001b[0m\u001b[0;34m\u001b[0m\u001b[0;34m\u001b[0m\u001b[0m\n\u001b[0m",
      "\u001b[0;32m~/opt/anaconda3/lib/python3.8/site-packages/matplotlib/pyplot.py\u001b[0m in \u001b[0;36mshow\u001b[0;34m(*args, **kwargs)\u001b[0m\n\u001b[1;32m    351\u001b[0m     \"\"\"\n\u001b[1;32m    352\u001b[0m     \u001b[0m_warn_if_gui_out_of_main_thread\u001b[0m\u001b[0;34m(\u001b[0m\u001b[0;34m)\u001b[0m\u001b[0;34m\u001b[0m\u001b[0;34m\u001b[0m\u001b[0m\n\u001b[0;32m--> 353\u001b[0;31m     \u001b[0;32mreturn\u001b[0m \u001b[0m_backend_mod\u001b[0m\u001b[0;34m.\u001b[0m\u001b[0mshow\u001b[0m\u001b[0;34m(\u001b[0m\u001b[0;34m*\u001b[0m\u001b[0margs\u001b[0m\u001b[0;34m,\u001b[0m \u001b[0;34m**\u001b[0m\u001b[0mkwargs\u001b[0m\u001b[0;34m)\u001b[0m\u001b[0;34m\u001b[0m\u001b[0;34m\u001b[0m\u001b[0m\n\u001b[0m\u001b[1;32m    354\u001b[0m \u001b[0;34m\u001b[0m\u001b[0m\n\u001b[1;32m    355\u001b[0m \u001b[0;34m\u001b[0m\u001b[0m\n",
      "\u001b[0;32m~/opt/anaconda3/lib/python3.8/site-packages/ipykernel/pylab/backend_inline.py\u001b[0m in \u001b[0;36mshow\u001b[0;34m(close, block)\u001b[0m\n\u001b[1;32m     39\u001b[0m     \u001b[0;32mtry\u001b[0m\u001b[0;34m:\u001b[0m\u001b[0;34m\u001b[0m\u001b[0;34m\u001b[0m\u001b[0m\n\u001b[1;32m     40\u001b[0m         \u001b[0;32mfor\u001b[0m \u001b[0mfigure_manager\u001b[0m \u001b[0;32min\u001b[0m \u001b[0mGcf\u001b[0m\u001b[0;34m.\u001b[0m\u001b[0mget_all_fig_managers\u001b[0m\u001b[0;34m(\u001b[0m\u001b[0;34m)\u001b[0m\u001b[0;34m:\u001b[0m\u001b[0;34m\u001b[0m\u001b[0;34m\u001b[0m\u001b[0m\n\u001b[0;32m---> 41\u001b[0;31m             display(\n\u001b[0m\u001b[1;32m     42\u001b[0m                 \u001b[0mfigure_manager\u001b[0m\u001b[0;34m.\u001b[0m\u001b[0mcanvas\u001b[0m\u001b[0;34m.\u001b[0m\u001b[0mfigure\u001b[0m\u001b[0;34m,\u001b[0m\u001b[0;34m\u001b[0m\u001b[0;34m\u001b[0m\u001b[0m\n\u001b[1;32m     43\u001b[0m                 \u001b[0mmetadata\u001b[0m\u001b[0;34m=\u001b[0m\u001b[0m_fetch_figure_metadata\u001b[0m\u001b[0;34m(\u001b[0m\u001b[0mfigure_manager\u001b[0m\u001b[0;34m.\u001b[0m\u001b[0mcanvas\u001b[0m\u001b[0;34m.\u001b[0m\u001b[0mfigure\u001b[0m\u001b[0;34m)\u001b[0m\u001b[0;34m\u001b[0m\u001b[0;34m\u001b[0m\u001b[0m\n",
      "\u001b[0;32m~/opt/anaconda3/lib/python3.8/site-packages/IPython/core/display.py\u001b[0m in \u001b[0;36mdisplay\u001b[0;34m(include, exclude, metadata, transient, display_id, *objs, **kwargs)\u001b[0m\n\u001b[1;32m    311\u001b[0m             \u001b[0mpublish_display_data\u001b[0m\u001b[0;34m(\u001b[0m\u001b[0mdata\u001b[0m\u001b[0;34m=\u001b[0m\u001b[0mobj\u001b[0m\u001b[0;34m,\u001b[0m \u001b[0mmetadata\u001b[0m\u001b[0;34m=\u001b[0m\u001b[0mmetadata\u001b[0m\u001b[0;34m,\u001b[0m \u001b[0;34m**\u001b[0m\u001b[0mkwargs\u001b[0m\u001b[0;34m)\u001b[0m\u001b[0;34m\u001b[0m\u001b[0;34m\u001b[0m\u001b[0m\n\u001b[1;32m    312\u001b[0m         \u001b[0;32melse\u001b[0m\u001b[0;34m:\u001b[0m\u001b[0;34m\u001b[0m\u001b[0;34m\u001b[0m\u001b[0m\n\u001b[0;32m--> 313\u001b[0;31m             \u001b[0mformat_dict\u001b[0m\u001b[0;34m,\u001b[0m \u001b[0mmd_dict\u001b[0m \u001b[0;34m=\u001b[0m \u001b[0mformat\u001b[0m\u001b[0;34m(\u001b[0m\u001b[0mobj\u001b[0m\u001b[0;34m,\u001b[0m \u001b[0minclude\u001b[0m\u001b[0;34m=\u001b[0m\u001b[0minclude\u001b[0m\u001b[0;34m,\u001b[0m \u001b[0mexclude\u001b[0m\u001b[0;34m=\u001b[0m\u001b[0mexclude\u001b[0m\u001b[0;34m)\u001b[0m\u001b[0;34m\u001b[0m\u001b[0;34m\u001b[0m\u001b[0m\n\u001b[0m\u001b[1;32m    314\u001b[0m             \u001b[0;32mif\u001b[0m \u001b[0;32mnot\u001b[0m \u001b[0mformat_dict\u001b[0m\u001b[0;34m:\u001b[0m\u001b[0;34m\u001b[0m\u001b[0;34m\u001b[0m\u001b[0m\n\u001b[1;32m    315\u001b[0m                 \u001b[0;31m# nothing to display (e.g. _ipython_display_ took over)\u001b[0m\u001b[0;34m\u001b[0m\u001b[0;34m\u001b[0m\u001b[0;34m\u001b[0m\u001b[0m\n",
      "\u001b[0;32m~/opt/anaconda3/lib/python3.8/site-packages/IPython/core/formatters.py\u001b[0m in \u001b[0;36mformat\u001b[0;34m(self, obj, include, exclude)\u001b[0m\n\u001b[1;32m    178\u001b[0m             \u001b[0mmd\u001b[0m \u001b[0;34m=\u001b[0m \u001b[0;32mNone\u001b[0m\u001b[0;34m\u001b[0m\u001b[0;34m\u001b[0m\u001b[0m\n\u001b[1;32m    179\u001b[0m             \u001b[0;32mtry\u001b[0m\u001b[0;34m:\u001b[0m\u001b[0;34m\u001b[0m\u001b[0;34m\u001b[0m\u001b[0m\n\u001b[0;32m--> 180\u001b[0;31m                 \u001b[0mdata\u001b[0m \u001b[0;34m=\u001b[0m \u001b[0mformatter\u001b[0m\u001b[0;34m(\u001b[0m\u001b[0mobj\u001b[0m\u001b[0;34m)\u001b[0m\u001b[0;34m\u001b[0m\u001b[0;34m\u001b[0m\u001b[0m\n\u001b[0m\u001b[1;32m    181\u001b[0m             \u001b[0;32mexcept\u001b[0m\u001b[0;34m:\u001b[0m\u001b[0;34m\u001b[0m\u001b[0;34m\u001b[0m\u001b[0m\n\u001b[1;32m    182\u001b[0m                 \u001b[0;31m# FIXME: log the exception\u001b[0m\u001b[0;34m\u001b[0m\u001b[0;34m\u001b[0m\u001b[0;34m\u001b[0m\u001b[0m\n",
      "\u001b[0;32m<decorator-gen-2>\u001b[0m in \u001b[0;36m__call__\u001b[0;34m(self, obj)\u001b[0m\n",
      "\u001b[0;32m~/opt/anaconda3/lib/python3.8/site-packages/IPython/core/formatters.py\u001b[0m in \u001b[0;36mcatch_format_error\u001b[0;34m(method, self, *args, **kwargs)\u001b[0m\n\u001b[1;32m    222\u001b[0m     \u001b[0;34m\"\"\"show traceback on failed format call\"\"\"\u001b[0m\u001b[0;34m\u001b[0m\u001b[0;34m\u001b[0m\u001b[0m\n\u001b[1;32m    223\u001b[0m     \u001b[0;32mtry\u001b[0m\u001b[0;34m:\u001b[0m\u001b[0;34m\u001b[0m\u001b[0;34m\u001b[0m\u001b[0m\n\u001b[0;32m--> 224\u001b[0;31m         \u001b[0mr\u001b[0m \u001b[0;34m=\u001b[0m \u001b[0mmethod\u001b[0m\u001b[0;34m(\u001b[0m\u001b[0mself\u001b[0m\u001b[0;34m,\u001b[0m \u001b[0;34m*\u001b[0m\u001b[0margs\u001b[0m\u001b[0;34m,\u001b[0m \u001b[0;34m**\u001b[0m\u001b[0mkwargs\u001b[0m\u001b[0;34m)\u001b[0m\u001b[0;34m\u001b[0m\u001b[0;34m\u001b[0m\u001b[0m\n\u001b[0m\u001b[1;32m    225\u001b[0m     \u001b[0;32mexcept\u001b[0m \u001b[0mNotImplementedError\u001b[0m\u001b[0;34m:\u001b[0m\u001b[0;34m\u001b[0m\u001b[0;34m\u001b[0m\u001b[0m\n\u001b[1;32m    226\u001b[0m         \u001b[0;31m# don't warn on NotImplementedErrors\u001b[0m\u001b[0;34m\u001b[0m\u001b[0;34m\u001b[0m\u001b[0;34m\u001b[0m\u001b[0m\n",
      "\u001b[0;32m~/opt/anaconda3/lib/python3.8/site-packages/IPython/core/formatters.py\u001b[0m in \u001b[0;36m__call__\u001b[0;34m(self, obj)\u001b[0m\n\u001b[1;32m    339\u001b[0m                 \u001b[0;32mpass\u001b[0m\u001b[0;34m\u001b[0m\u001b[0;34m\u001b[0m\u001b[0m\n\u001b[1;32m    340\u001b[0m             \u001b[0;32melse\u001b[0m\u001b[0;34m:\u001b[0m\u001b[0;34m\u001b[0m\u001b[0;34m\u001b[0m\u001b[0m\n\u001b[0;32m--> 341\u001b[0;31m                 \u001b[0;32mreturn\u001b[0m \u001b[0mprinter\u001b[0m\u001b[0;34m(\u001b[0m\u001b[0mobj\u001b[0m\u001b[0;34m)\u001b[0m\u001b[0;34m\u001b[0m\u001b[0;34m\u001b[0m\u001b[0m\n\u001b[0m\u001b[1;32m    342\u001b[0m             \u001b[0;31m# Finally look for special method names\u001b[0m\u001b[0;34m\u001b[0m\u001b[0;34m\u001b[0m\u001b[0;34m\u001b[0m\u001b[0m\n\u001b[1;32m    343\u001b[0m             \u001b[0mmethod\u001b[0m \u001b[0;34m=\u001b[0m \u001b[0mget_real_method\u001b[0m\u001b[0;34m(\u001b[0m\u001b[0mobj\u001b[0m\u001b[0;34m,\u001b[0m \u001b[0mself\u001b[0m\u001b[0;34m.\u001b[0m\u001b[0mprint_method\u001b[0m\u001b[0;34m)\u001b[0m\u001b[0;34m\u001b[0m\u001b[0;34m\u001b[0m\u001b[0m\n",
      "\u001b[0;32m~/opt/anaconda3/lib/python3.8/site-packages/IPython/core/pylabtools.py\u001b[0m in \u001b[0;36m<lambda>\u001b[0;34m(fig)\u001b[0m\n\u001b[1;32m    246\u001b[0m \u001b[0;34m\u001b[0m\u001b[0m\n\u001b[1;32m    247\u001b[0m     \u001b[0;32mif\u001b[0m \u001b[0;34m'png'\u001b[0m \u001b[0;32min\u001b[0m \u001b[0mformats\u001b[0m\u001b[0;34m:\u001b[0m\u001b[0;34m\u001b[0m\u001b[0;34m\u001b[0m\u001b[0m\n\u001b[0;32m--> 248\u001b[0;31m         \u001b[0mpng_formatter\u001b[0m\u001b[0;34m.\u001b[0m\u001b[0mfor_type\u001b[0m\u001b[0;34m(\u001b[0m\u001b[0mFigure\u001b[0m\u001b[0;34m,\u001b[0m \u001b[0;32mlambda\u001b[0m \u001b[0mfig\u001b[0m\u001b[0;34m:\u001b[0m \u001b[0mprint_figure\u001b[0m\u001b[0;34m(\u001b[0m\u001b[0mfig\u001b[0m\u001b[0;34m,\u001b[0m \u001b[0;34m'png'\u001b[0m\u001b[0;34m,\u001b[0m \u001b[0;34m**\u001b[0m\u001b[0mkwargs\u001b[0m\u001b[0;34m)\u001b[0m\u001b[0;34m)\u001b[0m\u001b[0;34m\u001b[0m\u001b[0;34m\u001b[0m\u001b[0m\n\u001b[0m\u001b[1;32m    249\u001b[0m     \u001b[0;32mif\u001b[0m \u001b[0;34m'retina'\u001b[0m \u001b[0;32min\u001b[0m \u001b[0mformats\u001b[0m \u001b[0;32mor\u001b[0m \u001b[0;34m'png2x'\u001b[0m \u001b[0;32min\u001b[0m \u001b[0mformats\u001b[0m\u001b[0;34m:\u001b[0m\u001b[0;34m\u001b[0m\u001b[0;34m\u001b[0m\u001b[0m\n\u001b[1;32m    250\u001b[0m         \u001b[0mpng_formatter\u001b[0m\u001b[0;34m.\u001b[0m\u001b[0mfor_type\u001b[0m\u001b[0;34m(\u001b[0m\u001b[0mFigure\u001b[0m\u001b[0;34m,\u001b[0m \u001b[0;32mlambda\u001b[0m \u001b[0mfig\u001b[0m\u001b[0;34m:\u001b[0m \u001b[0mretina_figure\u001b[0m\u001b[0;34m(\u001b[0m\u001b[0mfig\u001b[0m\u001b[0;34m,\u001b[0m \u001b[0;34m**\u001b[0m\u001b[0mkwargs\u001b[0m\u001b[0;34m)\u001b[0m\u001b[0;34m)\u001b[0m\u001b[0;34m\u001b[0m\u001b[0;34m\u001b[0m\u001b[0m\n",
      "\u001b[0;32m~/opt/anaconda3/lib/python3.8/site-packages/IPython/core/pylabtools.py\u001b[0m in \u001b[0;36mprint_figure\u001b[0;34m(fig, fmt, bbox_inches, **kwargs)\u001b[0m\n\u001b[1;32m    130\u001b[0m         \u001b[0mFigureCanvasBase\u001b[0m\u001b[0;34m(\u001b[0m\u001b[0mfig\u001b[0m\u001b[0;34m)\u001b[0m\u001b[0;34m\u001b[0m\u001b[0;34m\u001b[0m\u001b[0m\n\u001b[1;32m    131\u001b[0m \u001b[0;34m\u001b[0m\u001b[0m\n\u001b[0;32m--> 132\u001b[0;31m     \u001b[0mfig\u001b[0m\u001b[0;34m.\u001b[0m\u001b[0mcanvas\u001b[0m\u001b[0;34m.\u001b[0m\u001b[0mprint_figure\u001b[0m\u001b[0;34m(\u001b[0m\u001b[0mbytes_io\u001b[0m\u001b[0;34m,\u001b[0m \u001b[0;34m**\u001b[0m\u001b[0mkw\u001b[0m\u001b[0;34m)\u001b[0m\u001b[0;34m\u001b[0m\u001b[0;34m\u001b[0m\u001b[0m\n\u001b[0m\u001b[1;32m    133\u001b[0m     \u001b[0mdata\u001b[0m \u001b[0;34m=\u001b[0m \u001b[0mbytes_io\u001b[0m\u001b[0;34m.\u001b[0m\u001b[0mgetvalue\u001b[0m\u001b[0;34m(\u001b[0m\u001b[0;34m)\u001b[0m\u001b[0;34m\u001b[0m\u001b[0;34m\u001b[0m\u001b[0m\n\u001b[1;32m    134\u001b[0m     \u001b[0;32mif\u001b[0m \u001b[0mfmt\u001b[0m \u001b[0;34m==\u001b[0m \u001b[0;34m'svg'\u001b[0m\u001b[0;34m:\u001b[0m\u001b[0;34m\u001b[0m\u001b[0;34m\u001b[0m\u001b[0m\n",
      "\u001b[0;32m~/opt/anaconda3/lib/python3.8/site-packages/matplotlib/backend_bases.py\u001b[0m in \u001b[0;36mprint_figure\u001b[0;34m(self, filename, dpi, facecolor, edgecolor, orientation, format, bbox_inches, pad_inches, bbox_extra_artists, backend, **kwargs)\u001b[0m\n\u001b[1;32m   2191\u001b[0m                            else suppress())\n\u001b[1;32m   2192\u001b[0m                     \u001b[0;32mwith\u001b[0m \u001b[0mctx\u001b[0m\u001b[0;34m:\u001b[0m\u001b[0;34m\u001b[0m\u001b[0;34m\u001b[0m\u001b[0m\n\u001b[0;32m-> 2193\u001b[0;31m                         \u001b[0mself\u001b[0m\u001b[0;34m.\u001b[0m\u001b[0mfigure\u001b[0m\u001b[0;34m.\u001b[0m\u001b[0mdraw\u001b[0m\u001b[0;34m(\u001b[0m\u001b[0mrenderer\u001b[0m\u001b[0;34m)\u001b[0m\u001b[0;34m\u001b[0m\u001b[0;34m\u001b[0m\u001b[0m\n\u001b[0m\u001b[1;32m   2194\u001b[0m \u001b[0;34m\u001b[0m\u001b[0m\n\u001b[1;32m   2195\u001b[0m                     bbox_inches = self.figure.get_tightbbox(\n",
      "\u001b[0;32m~/opt/anaconda3/lib/python3.8/site-packages/matplotlib/artist.py\u001b[0m in \u001b[0;36mdraw_wrapper\u001b[0;34m(artist, renderer, *args, **kwargs)\u001b[0m\n\u001b[1;32m     39\u001b[0m                 \u001b[0mrenderer\u001b[0m\u001b[0;34m.\u001b[0m\u001b[0mstart_filter\u001b[0m\u001b[0;34m(\u001b[0m\u001b[0;34m)\u001b[0m\u001b[0;34m\u001b[0m\u001b[0;34m\u001b[0m\u001b[0m\n\u001b[1;32m     40\u001b[0m \u001b[0;34m\u001b[0m\u001b[0m\n\u001b[0;32m---> 41\u001b[0;31m             \u001b[0;32mreturn\u001b[0m \u001b[0mdraw\u001b[0m\u001b[0;34m(\u001b[0m\u001b[0martist\u001b[0m\u001b[0;34m,\u001b[0m \u001b[0mrenderer\u001b[0m\u001b[0;34m,\u001b[0m \u001b[0;34m*\u001b[0m\u001b[0margs\u001b[0m\u001b[0;34m,\u001b[0m \u001b[0;34m**\u001b[0m\u001b[0mkwargs\u001b[0m\u001b[0;34m)\u001b[0m\u001b[0;34m\u001b[0m\u001b[0;34m\u001b[0m\u001b[0m\n\u001b[0m\u001b[1;32m     42\u001b[0m         \u001b[0;32mfinally\u001b[0m\u001b[0;34m:\u001b[0m\u001b[0;34m\u001b[0m\u001b[0;34m\u001b[0m\u001b[0m\n\u001b[1;32m     43\u001b[0m             \u001b[0;32mif\u001b[0m \u001b[0martist\u001b[0m\u001b[0;34m.\u001b[0m\u001b[0mget_agg_filter\u001b[0m\u001b[0;34m(\u001b[0m\u001b[0;34m)\u001b[0m \u001b[0;32mis\u001b[0m \u001b[0;32mnot\u001b[0m \u001b[0;32mNone\u001b[0m\u001b[0;34m:\u001b[0m\u001b[0;34m\u001b[0m\u001b[0;34m\u001b[0m\u001b[0m\n",
      "\u001b[0;32m~/opt/anaconda3/lib/python3.8/site-packages/matplotlib/figure.py\u001b[0m in \u001b[0;36mdraw\u001b[0;34m(self, renderer)\u001b[0m\n\u001b[1;32m   1861\u001b[0m \u001b[0;34m\u001b[0m\u001b[0m\n\u001b[1;32m   1862\u001b[0m             \u001b[0mself\u001b[0m\u001b[0;34m.\u001b[0m\u001b[0mpatch\u001b[0m\u001b[0;34m.\u001b[0m\u001b[0mdraw\u001b[0m\u001b[0;34m(\u001b[0m\u001b[0mrenderer\u001b[0m\u001b[0;34m)\u001b[0m\u001b[0;34m\u001b[0m\u001b[0;34m\u001b[0m\u001b[0m\n\u001b[0;32m-> 1863\u001b[0;31m             mimage._draw_list_compositing_images(\n\u001b[0m\u001b[1;32m   1864\u001b[0m                 renderer, self, artists, self.suppressComposite)\n\u001b[1;32m   1865\u001b[0m \u001b[0;34m\u001b[0m\u001b[0m\n",
      "\u001b[0;32m~/opt/anaconda3/lib/python3.8/site-packages/matplotlib/image.py\u001b[0m in \u001b[0;36m_draw_list_compositing_images\u001b[0;34m(renderer, parent, artists, suppress_composite)\u001b[0m\n\u001b[1;32m    129\u001b[0m     \u001b[0;32mif\u001b[0m \u001b[0mnot_composite\u001b[0m \u001b[0;32mor\u001b[0m \u001b[0;32mnot\u001b[0m \u001b[0mhas_images\u001b[0m\u001b[0;34m:\u001b[0m\u001b[0;34m\u001b[0m\u001b[0;34m\u001b[0m\u001b[0m\n\u001b[1;32m    130\u001b[0m         \u001b[0;32mfor\u001b[0m \u001b[0ma\u001b[0m \u001b[0;32min\u001b[0m \u001b[0martists\u001b[0m\u001b[0;34m:\u001b[0m\u001b[0;34m\u001b[0m\u001b[0;34m\u001b[0m\u001b[0m\n\u001b[0;32m--> 131\u001b[0;31m             \u001b[0ma\u001b[0m\u001b[0;34m.\u001b[0m\u001b[0mdraw\u001b[0m\u001b[0;34m(\u001b[0m\u001b[0mrenderer\u001b[0m\u001b[0;34m)\u001b[0m\u001b[0;34m\u001b[0m\u001b[0;34m\u001b[0m\u001b[0m\n\u001b[0m\u001b[1;32m    132\u001b[0m     \u001b[0;32melse\u001b[0m\u001b[0;34m:\u001b[0m\u001b[0;34m\u001b[0m\u001b[0;34m\u001b[0m\u001b[0m\n\u001b[1;32m    133\u001b[0m         \u001b[0;31m# Composite any adjacent images together\u001b[0m\u001b[0;34m\u001b[0m\u001b[0;34m\u001b[0m\u001b[0;34m\u001b[0m\u001b[0m\n",
      "\u001b[0;32m~/opt/anaconda3/lib/python3.8/site-packages/matplotlib/artist.py\u001b[0m in \u001b[0;36mdraw_wrapper\u001b[0;34m(artist, renderer, *args, **kwargs)\u001b[0m\n\u001b[1;32m     39\u001b[0m                 \u001b[0mrenderer\u001b[0m\u001b[0;34m.\u001b[0m\u001b[0mstart_filter\u001b[0m\u001b[0;34m(\u001b[0m\u001b[0;34m)\u001b[0m\u001b[0;34m\u001b[0m\u001b[0;34m\u001b[0m\u001b[0m\n\u001b[1;32m     40\u001b[0m \u001b[0;34m\u001b[0m\u001b[0m\n\u001b[0;32m---> 41\u001b[0;31m             \u001b[0;32mreturn\u001b[0m \u001b[0mdraw\u001b[0m\u001b[0;34m(\u001b[0m\u001b[0martist\u001b[0m\u001b[0;34m,\u001b[0m \u001b[0mrenderer\u001b[0m\u001b[0;34m,\u001b[0m \u001b[0;34m*\u001b[0m\u001b[0margs\u001b[0m\u001b[0;34m,\u001b[0m \u001b[0;34m**\u001b[0m\u001b[0mkwargs\u001b[0m\u001b[0;34m)\u001b[0m\u001b[0;34m\u001b[0m\u001b[0;34m\u001b[0m\u001b[0m\n\u001b[0m\u001b[1;32m     42\u001b[0m         \u001b[0;32mfinally\u001b[0m\u001b[0;34m:\u001b[0m\u001b[0;34m\u001b[0m\u001b[0;34m\u001b[0m\u001b[0m\n\u001b[1;32m     43\u001b[0m             \u001b[0;32mif\u001b[0m \u001b[0martist\u001b[0m\u001b[0;34m.\u001b[0m\u001b[0mget_agg_filter\u001b[0m\u001b[0;34m(\u001b[0m\u001b[0;34m)\u001b[0m \u001b[0;32mis\u001b[0m \u001b[0;32mnot\u001b[0m \u001b[0;32mNone\u001b[0m\u001b[0;34m:\u001b[0m\u001b[0;34m\u001b[0m\u001b[0;34m\u001b[0m\u001b[0m\n",
      "\u001b[0;32m~/opt/anaconda3/lib/python3.8/site-packages/matplotlib/cbook/deprecation.py\u001b[0m in \u001b[0;36mwrapper\u001b[0;34m(*inner_args, **inner_kwargs)\u001b[0m\n\u001b[1;32m    409\u001b[0m                          \u001b[0;32melse\u001b[0m \u001b[0mdeprecation_addendum\u001b[0m\u001b[0;34m,\u001b[0m\u001b[0;34m\u001b[0m\u001b[0;34m\u001b[0m\u001b[0m\n\u001b[1;32m    410\u001b[0m                 **kwargs)\n\u001b[0;32m--> 411\u001b[0;31m         \u001b[0;32mreturn\u001b[0m \u001b[0mfunc\u001b[0m\u001b[0;34m(\u001b[0m\u001b[0;34m*\u001b[0m\u001b[0minner_args\u001b[0m\u001b[0;34m,\u001b[0m \u001b[0;34m**\u001b[0m\u001b[0minner_kwargs\u001b[0m\u001b[0;34m)\u001b[0m\u001b[0;34m\u001b[0m\u001b[0;34m\u001b[0m\u001b[0m\n\u001b[0m\u001b[1;32m    412\u001b[0m \u001b[0;34m\u001b[0m\u001b[0m\n\u001b[1;32m    413\u001b[0m     \u001b[0;32mreturn\u001b[0m \u001b[0mwrapper\u001b[0m\u001b[0;34m\u001b[0m\u001b[0;34m\u001b[0m\u001b[0m\n",
      "\u001b[0;32m~/opt/anaconda3/lib/python3.8/site-packages/matplotlib/axes/_base.py\u001b[0m in \u001b[0;36mdraw\u001b[0;34m(self, renderer, inframe)\u001b[0m\n\u001b[1;32m   2745\u001b[0m             \u001b[0mrenderer\u001b[0m\u001b[0;34m.\u001b[0m\u001b[0mstop_rasterizing\u001b[0m\u001b[0;34m(\u001b[0m\u001b[0;34m)\u001b[0m\u001b[0;34m\u001b[0m\u001b[0;34m\u001b[0m\u001b[0m\n\u001b[1;32m   2746\u001b[0m \u001b[0;34m\u001b[0m\u001b[0m\n\u001b[0;32m-> 2747\u001b[0;31m         \u001b[0mmimage\u001b[0m\u001b[0;34m.\u001b[0m\u001b[0m_draw_list_compositing_images\u001b[0m\u001b[0;34m(\u001b[0m\u001b[0mrenderer\u001b[0m\u001b[0;34m,\u001b[0m \u001b[0mself\u001b[0m\u001b[0;34m,\u001b[0m \u001b[0martists\u001b[0m\u001b[0;34m)\u001b[0m\u001b[0;34m\u001b[0m\u001b[0;34m\u001b[0m\u001b[0m\n\u001b[0m\u001b[1;32m   2748\u001b[0m \u001b[0;34m\u001b[0m\u001b[0m\n\u001b[1;32m   2749\u001b[0m         \u001b[0mrenderer\u001b[0m\u001b[0;34m.\u001b[0m\u001b[0mclose_group\u001b[0m\u001b[0;34m(\u001b[0m\u001b[0;34m'axes'\u001b[0m\u001b[0;34m)\u001b[0m\u001b[0;34m\u001b[0m\u001b[0;34m\u001b[0m\u001b[0m\n",
      "\u001b[0;32m~/opt/anaconda3/lib/python3.8/site-packages/matplotlib/image.py\u001b[0m in \u001b[0;36m_draw_list_compositing_images\u001b[0;34m(renderer, parent, artists, suppress_composite)\u001b[0m\n\u001b[1;32m    129\u001b[0m     \u001b[0;32mif\u001b[0m \u001b[0mnot_composite\u001b[0m \u001b[0;32mor\u001b[0m \u001b[0;32mnot\u001b[0m \u001b[0mhas_images\u001b[0m\u001b[0;34m:\u001b[0m\u001b[0;34m\u001b[0m\u001b[0;34m\u001b[0m\u001b[0m\n\u001b[1;32m    130\u001b[0m         \u001b[0;32mfor\u001b[0m \u001b[0ma\u001b[0m \u001b[0;32min\u001b[0m \u001b[0martists\u001b[0m\u001b[0;34m:\u001b[0m\u001b[0;34m\u001b[0m\u001b[0;34m\u001b[0m\u001b[0m\n\u001b[0;32m--> 131\u001b[0;31m             \u001b[0ma\u001b[0m\u001b[0;34m.\u001b[0m\u001b[0mdraw\u001b[0m\u001b[0;34m(\u001b[0m\u001b[0mrenderer\u001b[0m\u001b[0;34m)\u001b[0m\u001b[0;34m\u001b[0m\u001b[0;34m\u001b[0m\u001b[0m\n\u001b[0m\u001b[1;32m    132\u001b[0m     \u001b[0;32melse\u001b[0m\u001b[0;34m:\u001b[0m\u001b[0;34m\u001b[0m\u001b[0;34m\u001b[0m\u001b[0m\n\u001b[1;32m    133\u001b[0m         \u001b[0;31m# Composite any adjacent images together\u001b[0m\u001b[0;34m\u001b[0m\u001b[0;34m\u001b[0m\u001b[0;34m\u001b[0m\u001b[0m\n",
      "\u001b[0;32m~/opt/anaconda3/lib/python3.8/site-packages/matplotlib/artist.py\u001b[0m in \u001b[0;36mdraw_wrapper\u001b[0;34m(artist, renderer, *args, **kwargs)\u001b[0m\n\u001b[1;32m     39\u001b[0m                 \u001b[0mrenderer\u001b[0m\u001b[0;34m.\u001b[0m\u001b[0mstart_filter\u001b[0m\u001b[0;34m(\u001b[0m\u001b[0;34m)\u001b[0m\u001b[0;34m\u001b[0m\u001b[0;34m\u001b[0m\u001b[0m\n\u001b[1;32m     40\u001b[0m \u001b[0;34m\u001b[0m\u001b[0m\n\u001b[0;32m---> 41\u001b[0;31m             \u001b[0;32mreturn\u001b[0m \u001b[0mdraw\u001b[0m\u001b[0;34m(\u001b[0m\u001b[0martist\u001b[0m\u001b[0;34m,\u001b[0m \u001b[0mrenderer\u001b[0m\u001b[0;34m,\u001b[0m \u001b[0;34m*\u001b[0m\u001b[0margs\u001b[0m\u001b[0;34m,\u001b[0m \u001b[0;34m**\u001b[0m\u001b[0mkwargs\u001b[0m\u001b[0;34m)\u001b[0m\u001b[0;34m\u001b[0m\u001b[0;34m\u001b[0m\u001b[0m\n\u001b[0m\u001b[1;32m     42\u001b[0m         \u001b[0;32mfinally\u001b[0m\u001b[0;34m:\u001b[0m\u001b[0;34m\u001b[0m\u001b[0;34m\u001b[0m\u001b[0m\n\u001b[1;32m     43\u001b[0m             \u001b[0;32mif\u001b[0m \u001b[0martist\u001b[0m\u001b[0;34m.\u001b[0m\u001b[0mget_agg_filter\u001b[0m\u001b[0;34m(\u001b[0m\u001b[0;34m)\u001b[0m \u001b[0;32mis\u001b[0m \u001b[0;32mnot\u001b[0m \u001b[0;32mNone\u001b[0m\u001b[0;34m:\u001b[0m\u001b[0;34m\u001b[0m\u001b[0;34m\u001b[0m\u001b[0m\n",
      "\u001b[0;32m~/opt/anaconda3/lib/python3.8/site-packages/matplotlib/axis.py\u001b[0m in \u001b[0;36mdraw\u001b[0;34m(self, renderer, *args, **kwargs)\u001b[0m\n\u001b[1;32m   1174\u001b[0m         \u001b[0;31m# the actual bbox\u001b[0m\u001b[0;34m\u001b[0m\u001b[0;34m\u001b[0m\u001b[0;34m\u001b[0m\u001b[0m\n\u001b[1;32m   1175\u001b[0m \u001b[0;34m\u001b[0m\u001b[0m\n\u001b[0;32m-> 1176\u001b[0;31m         \u001b[0mself\u001b[0m\u001b[0;34m.\u001b[0m\u001b[0m_update_label_position\u001b[0m\u001b[0;34m(\u001b[0m\u001b[0mrenderer\u001b[0m\u001b[0;34m)\u001b[0m\u001b[0;34m\u001b[0m\u001b[0;34m\u001b[0m\u001b[0m\n\u001b[0m\u001b[1;32m   1177\u001b[0m \u001b[0;34m\u001b[0m\u001b[0m\n\u001b[1;32m   1178\u001b[0m         \u001b[0mself\u001b[0m\u001b[0;34m.\u001b[0m\u001b[0mlabel\u001b[0m\u001b[0;34m.\u001b[0m\u001b[0mdraw\u001b[0m\u001b[0;34m(\u001b[0m\u001b[0mrenderer\u001b[0m\u001b[0;34m)\u001b[0m\u001b[0;34m\u001b[0m\u001b[0;34m\u001b[0m\u001b[0m\n",
      "\u001b[0;32m~/opt/anaconda3/lib/python3.8/site-packages/matplotlib/axis.py\u001b[0m in \u001b[0;36m_update_label_position\u001b[0;34m(self, renderer)\u001b[0m\n\u001b[1;32m   2056\u001b[0m         \u001b[0;31m# get bounding boxes for this axis and any siblings\u001b[0m\u001b[0;34m\u001b[0m\u001b[0;34m\u001b[0m\u001b[0;34m\u001b[0m\u001b[0m\n\u001b[1;32m   2057\u001b[0m         \u001b[0;31m# that have been set by `fig.align_xlabels()`\u001b[0m\u001b[0;34m\u001b[0m\u001b[0;34m\u001b[0m\u001b[0;34m\u001b[0m\u001b[0m\n\u001b[0;32m-> 2058\u001b[0;31m         \u001b[0mbboxes\u001b[0m\u001b[0;34m,\u001b[0m \u001b[0mbboxes2\u001b[0m \u001b[0;34m=\u001b[0m \u001b[0mself\u001b[0m\u001b[0;34m.\u001b[0m\u001b[0m_get_tick_boxes_siblings\u001b[0m\u001b[0;34m(\u001b[0m\u001b[0mrenderer\u001b[0m\u001b[0;34m=\u001b[0m\u001b[0mrenderer\u001b[0m\u001b[0;34m)\u001b[0m\u001b[0;34m\u001b[0m\u001b[0;34m\u001b[0m\u001b[0m\n\u001b[0m\u001b[1;32m   2059\u001b[0m \u001b[0;34m\u001b[0m\u001b[0m\n\u001b[1;32m   2060\u001b[0m         \u001b[0mx\u001b[0m\u001b[0;34m,\u001b[0m \u001b[0my\u001b[0m \u001b[0;34m=\u001b[0m \u001b[0mself\u001b[0m\u001b[0;34m.\u001b[0m\u001b[0mlabel\u001b[0m\u001b[0;34m.\u001b[0m\u001b[0mget_position\u001b[0m\u001b[0;34m(\u001b[0m\u001b[0;34m)\u001b[0m\u001b[0;34m\u001b[0m\u001b[0;34m\u001b[0m\u001b[0m\n",
      "\u001b[0;32m~/opt/anaconda3/lib/python3.8/site-packages/matplotlib/axis.py\u001b[0m in \u001b[0;36m_get_tick_boxes_siblings\u001b[0;34m(self, renderer)\u001b[0m\n\u001b[1;32m   2041\u001b[0m         \u001b[0;32mfor\u001b[0m \u001b[0mnn\u001b[0m\u001b[0;34m,\u001b[0m \u001b[0maxx\u001b[0m \u001b[0;32min\u001b[0m \u001b[0menumerate\u001b[0m\u001b[0;34m(\u001b[0m\u001b[0mgrp\u001b[0m\u001b[0;34m.\u001b[0m\u001b[0mget_siblings\u001b[0m\u001b[0;34m(\u001b[0m\u001b[0mself\u001b[0m\u001b[0;34m.\u001b[0m\u001b[0maxes\u001b[0m\u001b[0;34m)\u001b[0m\u001b[0;34m)\u001b[0m\u001b[0;34m:\u001b[0m\u001b[0;34m\u001b[0m\u001b[0;34m\u001b[0m\u001b[0m\n\u001b[1;32m   2042\u001b[0m             \u001b[0mticks_to_draw\u001b[0m \u001b[0;34m=\u001b[0m \u001b[0maxx\u001b[0m\u001b[0;34m.\u001b[0m\u001b[0mxaxis\u001b[0m\u001b[0;34m.\u001b[0m\u001b[0m_update_ticks\u001b[0m\u001b[0;34m(\u001b[0m\u001b[0;34m)\u001b[0m\u001b[0;34m\u001b[0m\u001b[0;34m\u001b[0m\u001b[0m\n\u001b[0;32m-> 2043\u001b[0;31m             \u001b[0mtlb\u001b[0m\u001b[0;34m,\u001b[0m \u001b[0mtlb2\u001b[0m \u001b[0;34m=\u001b[0m \u001b[0maxx\u001b[0m\u001b[0;34m.\u001b[0m\u001b[0mxaxis\u001b[0m\u001b[0;34m.\u001b[0m\u001b[0m_get_tick_bboxes\u001b[0m\u001b[0;34m(\u001b[0m\u001b[0mticks_to_draw\u001b[0m\u001b[0;34m,\u001b[0m \u001b[0mrenderer\u001b[0m\u001b[0;34m)\u001b[0m\u001b[0;34m\u001b[0m\u001b[0;34m\u001b[0m\u001b[0m\n\u001b[0m\u001b[1;32m   2044\u001b[0m             \u001b[0mbboxes\u001b[0m\u001b[0;34m.\u001b[0m\u001b[0mextend\u001b[0m\u001b[0;34m(\u001b[0m\u001b[0mtlb\u001b[0m\u001b[0;34m)\u001b[0m\u001b[0;34m\u001b[0m\u001b[0;34m\u001b[0m\u001b[0m\n\u001b[1;32m   2045\u001b[0m             \u001b[0mbboxes2\u001b[0m\u001b[0;34m.\u001b[0m\u001b[0mextend\u001b[0m\u001b[0;34m(\u001b[0m\u001b[0mtlb2\u001b[0m\u001b[0;34m)\u001b[0m\u001b[0;34m\u001b[0m\u001b[0;34m\u001b[0m\u001b[0m\n",
      "\u001b[0;32m~/opt/anaconda3/lib/python3.8/site-packages/matplotlib/axis.py\u001b[0m in \u001b[0;36m_get_tick_bboxes\u001b[0;34m(self, ticks, renderer)\u001b[0m\n\u001b[1;32m   1089\u001b[0m     \u001b[0;32mdef\u001b[0m \u001b[0m_get_tick_bboxes\u001b[0m\u001b[0;34m(\u001b[0m\u001b[0mself\u001b[0m\u001b[0;34m,\u001b[0m \u001b[0mticks\u001b[0m\u001b[0;34m,\u001b[0m \u001b[0mrenderer\u001b[0m\u001b[0;34m)\u001b[0m\u001b[0;34m:\u001b[0m\u001b[0;34m\u001b[0m\u001b[0;34m\u001b[0m\u001b[0m\n\u001b[1;32m   1090\u001b[0m         \u001b[0;34m\"\"\"Return lists of bboxes for ticks' label1's and label2's.\"\"\"\u001b[0m\u001b[0;34m\u001b[0m\u001b[0;34m\u001b[0m\u001b[0m\n\u001b[0;32m-> 1091\u001b[0;31m         return ([tick.label1.get_window_extent(renderer)\n\u001b[0m\u001b[1;32m   1092\u001b[0m                  for tick in ticks if tick.label1.get_visible()],\n\u001b[1;32m   1093\u001b[0m                 [tick.label2.get_window_extent(renderer)\n",
      "\u001b[0;32m~/opt/anaconda3/lib/python3.8/site-packages/matplotlib/axis.py\u001b[0m in \u001b[0;36m<listcomp>\u001b[0;34m(.0)\u001b[0m\n\u001b[1;32m   1089\u001b[0m     \u001b[0;32mdef\u001b[0m \u001b[0m_get_tick_bboxes\u001b[0m\u001b[0;34m(\u001b[0m\u001b[0mself\u001b[0m\u001b[0;34m,\u001b[0m \u001b[0mticks\u001b[0m\u001b[0;34m,\u001b[0m \u001b[0mrenderer\u001b[0m\u001b[0;34m)\u001b[0m\u001b[0;34m:\u001b[0m\u001b[0;34m\u001b[0m\u001b[0;34m\u001b[0m\u001b[0m\n\u001b[1;32m   1090\u001b[0m         \u001b[0;34m\"\"\"Return lists of bboxes for ticks' label1's and label2's.\"\"\"\u001b[0m\u001b[0;34m\u001b[0m\u001b[0;34m\u001b[0m\u001b[0m\n\u001b[0;32m-> 1091\u001b[0;31m         return ([tick.label1.get_window_extent(renderer)\n\u001b[0m\u001b[1;32m   1092\u001b[0m                  for tick in ticks if tick.label1.get_visible()],\n\u001b[1;32m   1093\u001b[0m                 [tick.label2.get_window_extent(renderer)\n",
      "\u001b[0;32m~/opt/anaconda3/lib/python3.8/site-packages/matplotlib/text.py\u001b[0m in \u001b[0;36mget_window_extent\u001b[0;34m(self, renderer, dpi)\u001b[0m\n\u001b[1;32m    898\u001b[0m \u001b[0;34m\u001b[0m\u001b[0m\n\u001b[1;32m    899\u001b[0m         \u001b[0;32mwith\u001b[0m \u001b[0mcbook\u001b[0m\u001b[0;34m.\u001b[0m\u001b[0m_setattr_cm\u001b[0m\u001b[0;34m(\u001b[0m\u001b[0mself\u001b[0m\u001b[0;34m.\u001b[0m\u001b[0mfigure\u001b[0m\u001b[0;34m,\u001b[0m \u001b[0mdpi\u001b[0m\u001b[0;34m=\u001b[0m\u001b[0mdpi\u001b[0m\u001b[0;34m)\u001b[0m\u001b[0;34m:\u001b[0m\u001b[0;34m\u001b[0m\u001b[0;34m\u001b[0m\u001b[0m\n\u001b[0;32m--> 900\u001b[0;31m             \u001b[0mbbox\u001b[0m\u001b[0;34m,\u001b[0m \u001b[0minfo\u001b[0m\u001b[0;34m,\u001b[0m \u001b[0mdescent\u001b[0m \u001b[0;34m=\u001b[0m \u001b[0mself\u001b[0m\u001b[0;34m.\u001b[0m\u001b[0m_get_layout\u001b[0m\u001b[0;34m(\u001b[0m\u001b[0mself\u001b[0m\u001b[0;34m.\u001b[0m\u001b[0m_renderer\u001b[0m\u001b[0;34m)\u001b[0m\u001b[0;34m\u001b[0m\u001b[0;34m\u001b[0m\u001b[0m\n\u001b[0m\u001b[1;32m    901\u001b[0m             \u001b[0mx\u001b[0m\u001b[0;34m,\u001b[0m \u001b[0my\u001b[0m \u001b[0;34m=\u001b[0m \u001b[0mself\u001b[0m\u001b[0;34m.\u001b[0m\u001b[0mget_unitless_position\u001b[0m\u001b[0;34m(\u001b[0m\u001b[0;34m)\u001b[0m\u001b[0;34m\u001b[0m\u001b[0;34m\u001b[0m\u001b[0m\n\u001b[1;32m    902\u001b[0m             \u001b[0mx\u001b[0m\u001b[0;34m,\u001b[0m \u001b[0my\u001b[0m \u001b[0;34m=\u001b[0m \u001b[0mself\u001b[0m\u001b[0;34m.\u001b[0m\u001b[0mget_transform\u001b[0m\u001b[0;34m(\u001b[0m\u001b[0;34m)\u001b[0m\u001b[0;34m.\u001b[0m\u001b[0mtransform\u001b[0m\u001b[0;34m(\u001b[0m\u001b[0;34m(\u001b[0m\u001b[0mx\u001b[0m\u001b[0;34m,\u001b[0m \u001b[0my\u001b[0m\u001b[0;34m)\u001b[0m\u001b[0;34m)\u001b[0m\u001b[0;34m\u001b[0m\u001b[0;34m\u001b[0m\u001b[0m\n",
      "\u001b[0;32m~/opt/anaconda3/lib/python3.8/site-packages/matplotlib/text.py\u001b[0m in \u001b[0;36m_get_layout\u001b[0;34m(self, renderer)\u001b[0m\n\u001b[1;32m    291\u001b[0m             \u001b[0mclean_line\u001b[0m\u001b[0;34m,\u001b[0m \u001b[0mismath\u001b[0m \u001b[0;34m=\u001b[0m \u001b[0mself\u001b[0m\u001b[0;34m.\u001b[0m\u001b[0m_preprocess_math\u001b[0m\u001b[0;34m(\u001b[0m\u001b[0mline\u001b[0m\u001b[0;34m)\u001b[0m\u001b[0;34m\u001b[0m\u001b[0;34m\u001b[0m\u001b[0m\n\u001b[1;32m    292\u001b[0m             \u001b[0;32mif\u001b[0m \u001b[0mclean_line\u001b[0m\u001b[0;34m:\u001b[0m\u001b[0;34m\u001b[0m\u001b[0;34m\u001b[0m\u001b[0m\n\u001b[0;32m--> 293\u001b[0;31m                 w, h, d = renderer.get_text_width_height_descent(\n\u001b[0m\u001b[1;32m    294\u001b[0m                     clean_line, self._fontproperties, ismath=ismath)\n\u001b[1;32m    295\u001b[0m             \u001b[0;32melse\u001b[0m\u001b[0;34m:\u001b[0m\u001b[0;34m\u001b[0m\u001b[0;34m\u001b[0m\u001b[0m\n",
      "\u001b[0;32m~/opt/anaconda3/lib/python3.8/site-packages/matplotlib/backends/backend_agg.py\u001b[0m in \u001b[0;36mget_text_width_height_descent\u001b[0;34m(self, s, prop, ismath)\u001b[0m\n\u001b[1;32m    235\u001b[0m \u001b[0;34m\u001b[0m\u001b[0m\n\u001b[1;32m    236\u001b[0m         \u001b[0mflags\u001b[0m \u001b[0;34m=\u001b[0m \u001b[0mget_hinting_flag\u001b[0m\u001b[0;34m(\u001b[0m\u001b[0;34m)\u001b[0m\u001b[0;34m\u001b[0m\u001b[0;34m\u001b[0m\u001b[0m\n\u001b[0;32m--> 237\u001b[0;31m         \u001b[0mfont\u001b[0m \u001b[0;34m=\u001b[0m \u001b[0mself\u001b[0m\u001b[0;34m.\u001b[0m\u001b[0m_get_agg_font\u001b[0m\u001b[0;34m(\u001b[0m\u001b[0mprop\u001b[0m\u001b[0;34m)\u001b[0m\u001b[0;34m\u001b[0m\u001b[0;34m\u001b[0m\u001b[0m\n\u001b[0m\u001b[1;32m    238\u001b[0m         \u001b[0mfont\u001b[0m\u001b[0;34m.\u001b[0m\u001b[0mset_text\u001b[0m\u001b[0;34m(\u001b[0m\u001b[0ms\u001b[0m\u001b[0;34m,\u001b[0m \u001b[0;36m0.0\u001b[0m\u001b[0;34m,\u001b[0m \u001b[0mflags\u001b[0m\u001b[0;34m=\u001b[0m\u001b[0mflags\u001b[0m\u001b[0;34m)\u001b[0m\u001b[0;34m\u001b[0m\u001b[0;34m\u001b[0m\u001b[0m\n\u001b[1;32m    239\u001b[0m         \u001b[0mw\u001b[0m\u001b[0;34m,\u001b[0m \u001b[0mh\u001b[0m \u001b[0;34m=\u001b[0m \u001b[0mfont\u001b[0m\u001b[0;34m.\u001b[0m\u001b[0mget_width_height\u001b[0m\u001b[0;34m(\u001b[0m\u001b[0;34m)\u001b[0m  \u001b[0;31m# width and height of unrotated string\u001b[0m\u001b[0;34m\u001b[0m\u001b[0;34m\u001b[0m\u001b[0m\n",
      "\u001b[0;32m~/opt/anaconda3/lib/python3.8/site-packages/matplotlib/backends/backend_agg.py\u001b[0m in \u001b[0;36m_get_agg_font\u001b[0;34m(self, prop)\u001b[0m\n\u001b[1;32m    271\u001b[0m         \"\"\"\n\u001b[1;32m    272\u001b[0m         \u001b[0mfname\u001b[0m \u001b[0;34m=\u001b[0m \u001b[0mfindfont\u001b[0m\u001b[0;34m(\u001b[0m\u001b[0mprop\u001b[0m\u001b[0;34m)\u001b[0m\u001b[0;34m\u001b[0m\u001b[0;34m\u001b[0m\u001b[0m\n\u001b[0;32m--> 273\u001b[0;31m         \u001b[0mfont\u001b[0m \u001b[0;34m=\u001b[0m \u001b[0mget_font\u001b[0m\u001b[0;34m(\u001b[0m\u001b[0mfname\u001b[0m\u001b[0;34m)\u001b[0m\u001b[0;34m\u001b[0m\u001b[0;34m\u001b[0m\u001b[0m\n\u001b[0m\u001b[1;32m    274\u001b[0m \u001b[0;34m\u001b[0m\u001b[0m\n\u001b[1;32m    275\u001b[0m         \u001b[0mfont\u001b[0m\u001b[0;34m.\u001b[0m\u001b[0mclear\u001b[0m\u001b[0;34m(\u001b[0m\u001b[0;34m)\u001b[0m\u001b[0;34m\u001b[0m\u001b[0;34m\u001b[0m\u001b[0m\n",
      "\u001b[0;32m~/opt/anaconda3/lib/python3.8/site-packages/matplotlib/font_manager.py\u001b[0m in \u001b[0;36mget_font\u001b[0;34m(filename, hinting_factor)\u001b[0m\n\u001b[1;32m   1412\u001b[0m     \u001b[0;31m# Resolving the path avoids embedding the font twice in pdf/ps output if a\u001b[0m\u001b[0;34m\u001b[0m\u001b[0;34m\u001b[0m\u001b[0;34m\u001b[0m\u001b[0m\n\u001b[1;32m   1413\u001b[0m     \u001b[0;31m# single font is selected using two different relative paths.\u001b[0m\u001b[0;34m\u001b[0m\u001b[0;34m\u001b[0m\u001b[0;34m\u001b[0m\u001b[0m\n\u001b[0;32m-> 1414\u001b[0;31m     \u001b[0mfilename\u001b[0m \u001b[0;34m=\u001b[0m \u001b[0mos\u001b[0m\u001b[0;34m.\u001b[0m\u001b[0mpath\u001b[0m\u001b[0;34m.\u001b[0m\u001b[0mrealpath\u001b[0m\u001b[0;34m(\u001b[0m\u001b[0mfilename\u001b[0m\u001b[0;34m)\u001b[0m\u001b[0;34m\u001b[0m\u001b[0;34m\u001b[0m\u001b[0m\n\u001b[0m\u001b[1;32m   1415\u001b[0m     \u001b[0;32mif\u001b[0m \u001b[0mhinting_factor\u001b[0m \u001b[0;32mis\u001b[0m \u001b[0;32mNone\u001b[0m\u001b[0;34m:\u001b[0m\u001b[0;34m\u001b[0m\u001b[0;34m\u001b[0m\u001b[0m\n\u001b[1;32m   1416\u001b[0m         \u001b[0mhinting_factor\u001b[0m \u001b[0;34m=\u001b[0m \u001b[0mrcParams\u001b[0m\u001b[0;34m[\u001b[0m\u001b[0;34m'text.hinting_factor'\u001b[0m\u001b[0;34m]\u001b[0m\u001b[0;34m\u001b[0m\u001b[0;34m\u001b[0m\u001b[0m\n",
      "\u001b[0;32m~/opt/anaconda3/lib/python3.8/posixpath.py\u001b[0m in \u001b[0;36mrealpath\u001b[0;34m(filename)\u001b[0m\n\u001b[1;32m    389\u001b[0m symbolic links encountered in the path.\"\"\"\n\u001b[1;32m    390\u001b[0m     \u001b[0mfilename\u001b[0m \u001b[0;34m=\u001b[0m \u001b[0mos\u001b[0m\u001b[0;34m.\u001b[0m\u001b[0mfspath\u001b[0m\u001b[0;34m(\u001b[0m\u001b[0mfilename\u001b[0m\u001b[0;34m)\u001b[0m\u001b[0;34m\u001b[0m\u001b[0;34m\u001b[0m\u001b[0m\n\u001b[0;32m--> 391\u001b[0;31m     \u001b[0mpath\u001b[0m\u001b[0;34m,\u001b[0m \u001b[0mok\u001b[0m \u001b[0;34m=\u001b[0m \u001b[0m_joinrealpath\u001b[0m\u001b[0;34m(\u001b[0m\u001b[0mfilename\u001b[0m\u001b[0;34m[\u001b[0m\u001b[0;34m:\u001b[0m\u001b[0;36m0\u001b[0m\u001b[0;34m]\u001b[0m\u001b[0;34m,\u001b[0m \u001b[0mfilename\u001b[0m\u001b[0;34m,\u001b[0m \u001b[0;34m{\u001b[0m\u001b[0;34m}\u001b[0m\u001b[0;34m)\u001b[0m\u001b[0;34m\u001b[0m\u001b[0;34m\u001b[0m\u001b[0m\n\u001b[0m\u001b[1;32m    392\u001b[0m     \u001b[0;32mreturn\u001b[0m \u001b[0mabspath\u001b[0m\u001b[0;34m(\u001b[0m\u001b[0mpath\u001b[0m\u001b[0;34m)\u001b[0m\u001b[0;34m\u001b[0m\u001b[0;34m\u001b[0m\u001b[0m\n\u001b[1;32m    393\u001b[0m \u001b[0;34m\u001b[0m\u001b[0m\n",
      "\u001b[0;32m~/opt/anaconda3/lib/python3.8/posixpath.py\u001b[0m in \u001b[0;36m_joinrealpath\u001b[0;34m(path, rest, seen)\u001b[0m\n\u001b[1;32m    423\u001b[0m             \u001b[0;32mcontinue\u001b[0m\u001b[0;34m\u001b[0m\u001b[0;34m\u001b[0m\u001b[0m\n\u001b[1;32m    424\u001b[0m         \u001b[0mnewpath\u001b[0m \u001b[0;34m=\u001b[0m \u001b[0mjoin\u001b[0m\u001b[0;34m(\u001b[0m\u001b[0mpath\u001b[0m\u001b[0;34m,\u001b[0m \u001b[0mname\u001b[0m\u001b[0;34m)\u001b[0m\u001b[0;34m\u001b[0m\u001b[0;34m\u001b[0m\u001b[0m\n\u001b[0;32m--> 425\u001b[0;31m         \u001b[0;32mif\u001b[0m \u001b[0;32mnot\u001b[0m \u001b[0mislink\u001b[0m\u001b[0;34m(\u001b[0m\u001b[0mnewpath\u001b[0m\u001b[0;34m)\u001b[0m\u001b[0;34m:\u001b[0m\u001b[0;34m\u001b[0m\u001b[0;34m\u001b[0m\u001b[0m\n\u001b[0m\u001b[1;32m    426\u001b[0m             \u001b[0mpath\u001b[0m \u001b[0;34m=\u001b[0m \u001b[0mnewpath\u001b[0m\u001b[0;34m\u001b[0m\u001b[0;34m\u001b[0m\u001b[0m\n\u001b[1;32m    427\u001b[0m             \u001b[0;32mcontinue\u001b[0m\u001b[0;34m\u001b[0m\u001b[0;34m\u001b[0m\u001b[0m\n",
      "\u001b[0;32m~/opt/anaconda3/lib/python3.8/posixpath.py\u001b[0m in \u001b[0;36mislink\u001b[0;34m(path)\u001b[0m\n\u001b[1;32m    165\u001b[0m     \u001b[0;34m\"\"\"Test whether a path is a symbolic link\"\"\"\u001b[0m\u001b[0;34m\u001b[0m\u001b[0;34m\u001b[0m\u001b[0m\n\u001b[1;32m    166\u001b[0m     \u001b[0;32mtry\u001b[0m\u001b[0;34m:\u001b[0m\u001b[0;34m\u001b[0m\u001b[0;34m\u001b[0m\u001b[0m\n\u001b[0;32m--> 167\u001b[0;31m         \u001b[0mst\u001b[0m \u001b[0;34m=\u001b[0m \u001b[0mos\u001b[0m\u001b[0;34m.\u001b[0m\u001b[0mlstat\u001b[0m\u001b[0;34m(\u001b[0m\u001b[0mpath\u001b[0m\u001b[0;34m)\u001b[0m\u001b[0;34m\u001b[0m\u001b[0;34m\u001b[0m\u001b[0m\n\u001b[0m\u001b[1;32m    168\u001b[0m     \u001b[0;32mexcept\u001b[0m \u001b[0;34m(\u001b[0m\u001b[0mOSError\u001b[0m\u001b[0;34m,\u001b[0m \u001b[0mValueError\u001b[0m\u001b[0;34m,\u001b[0m \u001b[0mAttributeError\u001b[0m\u001b[0;34m)\u001b[0m\u001b[0;34m:\u001b[0m\u001b[0;34m\u001b[0m\u001b[0;34m\u001b[0m\u001b[0m\n\u001b[1;32m    169\u001b[0m         \u001b[0;32mreturn\u001b[0m \u001b[0;32mFalse\u001b[0m\u001b[0;34m\u001b[0m\u001b[0;34m\u001b[0m\u001b[0m\n",
      "\u001b[0;31mKeyboardInterrupt\u001b[0m: "
     ]
    }
   ],
   "metadata": {}
  },
  {
   "cell_type": "code",
   "execution_count": 147,
   "source": [
    "coral_df_lon_formatted_with_temp_outliers_removed = coral_df_lon_formatted_with_temp[coral_df_lon_formatted_with_temp['year']<2021]\n",
    "coral_df_lon_formatted_with_temp_outliers_removed = coral_df_lon_formatted_with_temp_outliers_removed[coral_df_lon_formatted_with_temp['year']>1879]\n",
    "coral_df_lon_formatted_with_temp_outliers_removed"
   ],
   "outputs": [
    {
     "output_type": "stream",
     "name": "stderr",
     "text": [
      "/var/folders/ws/d7dc4bz53q3_26hs2vbmg8600000gn/T/ipykernel_51705/2100135380.py:2: UserWarning: Boolean Series key will be reindexed to match DataFrame index.\n",
      "  coral_df_lon_formatted_with_temp_outliers_removed = coral_df_lon_formatted_with_temp_outliers_removed[coral_df_lon_formatted_with_temp['year']>1879]\n"
     ]
    },
    {
     "output_type": "execute_result",
     "data": {
      "text/plain": [
       "       Unnamed: 0        lat         lon elevation               species  \\\n",
       "0               0  11.170000  119.150000        -4  Montastaea faveolata   \n",
       "1               1  11.170000  119.150000        -4  Montastaea faveolata   \n",
       "2               2  11.170000  119.150000        -4  Montastaea faveolata   \n",
       "3               3  11.170000  119.150000        -4  Montastaea faveolata   \n",
       "4               4  11.170000  119.150000        -4  Montastaea faveolata   \n",
       "...           ...        ...         ...       ...                   ...   \n",
       "16816          40  20.666667  296.833333        -5           Porites sp.   \n",
       "16817          41  20.666667  296.833333        -5           Porites sp.   \n",
       "16818          42  20.666667  296.833333        -5           Porites sp.   \n",
       "16819          43  20.666667  296.833333        -5           Porites sp.   \n",
       "16820          44  20.666667  296.833333        -5           Porites sp.   \n",
       "\n",
       "       year      d18o  temp_anom  \n",
       "0      1927 -4.067500  -0.405418  \n",
       "1      1928 -3.865000  -0.503512  \n",
       "2      1929 -3.865000  -0.819141  \n",
       "3      1930 -4.007500  -0.337399  \n",
       "4      1931 -4.040000  -0.099585  \n",
       "...     ...       ...        ...  \n",
       "16816  2008 -5.474000   0.210579  \n",
       "16817  2009 -5.249917   0.288014  \n",
       "16818  2010 -5.299417   0.664223  \n",
       "16819  2011 -5.397417   0.425456  \n",
       "16820  2012 -5.337556   0.466424  \n",
       "\n",
       "[9766 rows x 8 columns]"
      ],
      "text/html": [
       "<div>\n",
       "<style scoped>\n",
       "    .dataframe tbody tr th:only-of-type {\n",
       "        vertical-align: middle;\n",
       "    }\n",
       "\n",
       "    .dataframe tbody tr th {\n",
       "        vertical-align: top;\n",
       "    }\n",
       "\n",
       "    .dataframe thead th {\n",
       "        text-align: right;\n",
       "    }\n",
       "</style>\n",
       "<table border=\"1\" class=\"dataframe\">\n",
       "  <thead>\n",
       "    <tr style=\"text-align: right;\">\n",
       "      <th></th>\n",
       "      <th>Unnamed: 0</th>\n",
       "      <th>lat</th>\n",
       "      <th>lon</th>\n",
       "      <th>elevation</th>\n",
       "      <th>species</th>\n",
       "      <th>year</th>\n",
       "      <th>d18o</th>\n",
       "      <th>temp_anom</th>\n",
       "    </tr>\n",
       "  </thead>\n",
       "  <tbody>\n",
       "    <tr>\n",
       "      <th>0</th>\n",
       "      <td>0</td>\n",
       "      <td>11.170000</td>\n",
       "      <td>119.150000</td>\n",
       "      <td>-4</td>\n",
       "      <td>Montastaea faveolata</td>\n",
       "      <td>1927</td>\n",
       "      <td>-4.067500</td>\n",
       "      <td>-0.405418</td>\n",
       "    </tr>\n",
       "    <tr>\n",
       "      <th>1</th>\n",
       "      <td>1</td>\n",
       "      <td>11.170000</td>\n",
       "      <td>119.150000</td>\n",
       "      <td>-4</td>\n",
       "      <td>Montastaea faveolata</td>\n",
       "      <td>1928</td>\n",
       "      <td>-3.865000</td>\n",
       "      <td>-0.503512</td>\n",
       "    </tr>\n",
       "    <tr>\n",
       "      <th>2</th>\n",
       "      <td>2</td>\n",
       "      <td>11.170000</td>\n",
       "      <td>119.150000</td>\n",
       "      <td>-4</td>\n",
       "      <td>Montastaea faveolata</td>\n",
       "      <td>1929</td>\n",
       "      <td>-3.865000</td>\n",
       "      <td>-0.819141</td>\n",
       "    </tr>\n",
       "    <tr>\n",
       "      <th>3</th>\n",
       "      <td>3</td>\n",
       "      <td>11.170000</td>\n",
       "      <td>119.150000</td>\n",
       "      <td>-4</td>\n",
       "      <td>Montastaea faveolata</td>\n",
       "      <td>1930</td>\n",
       "      <td>-4.007500</td>\n",
       "      <td>-0.337399</td>\n",
       "    </tr>\n",
       "    <tr>\n",
       "      <th>4</th>\n",
       "      <td>4</td>\n",
       "      <td>11.170000</td>\n",
       "      <td>119.150000</td>\n",
       "      <td>-4</td>\n",
       "      <td>Montastaea faveolata</td>\n",
       "      <td>1931</td>\n",
       "      <td>-4.040000</td>\n",
       "      <td>-0.099585</td>\n",
       "    </tr>\n",
       "    <tr>\n",
       "      <th>...</th>\n",
       "      <td>...</td>\n",
       "      <td>...</td>\n",
       "      <td>...</td>\n",
       "      <td>...</td>\n",
       "      <td>...</td>\n",
       "      <td>...</td>\n",
       "      <td>...</td>\n",
       "      <td>...</td>\n",
       "    </tr>\n",
       "    <tr>\n",
       "      <th>16816</th>\n",
       "      <td>40</td>\n",
       "      <td>20.666667</td>\n",
       "      <td>296.833333</td>\n",
       "      <td>-5</td>\n",
       "      <td>Porites sp.</td>\n",
       "      <td>2008</td>\n",
       "      <td>-5.474000</td>\n",
       "      <td>0.210579</td>\n",
       "    </tr>\n",
       "    <tr>\n",
       "      <th>16817</th>\n",
       "      <td>41</td>\n",
       "      <td>20.666667</td>\n",
       "      <td>296.833333</td>\n",
       "      <td>-5</td>\n",
       "      <td>Porites sp.</td>\n",
       "      <td>2009</td>\n",
       "      <td>-5.249917</td>\n",
       "      <td>0.288014</td>\n",
       "    </tr>\n",
       "    <tr>\n",
       "      <th>16818</th>\n",
       "      <td>42</td>\n",
       "      <td>20.666667</td>\n",
       "      <td>296.833333</td>\n",
       "      <td>-5</td>\n",
       "      <td>Porites sp.</td>\n",
       "      <td>2010</td>\n",
       "      <td>-5.299417</td>\n",
       "      <td>0.664223</td>\n",
       "    </tr>\n",
       "    <tr>\n",
       "      <th>16819</th>\n",
       "      <td>43</td>\n",
       "      <td>20.666667</td>\n",
       "      <td>296.833333</td>\n",
       "      <td>-5</td>\n",
       "      <td>Porites sp.</td>\n",
       "      <td>2011</td>\n",
       "      <td>-5.397417</td>\n",
       "      <td>0.425456</td>\n",
       "    </tr>\n",
       "    <tr>\n",
       "      <th>16820</th>\n",
       "      <td>44</td>\n",
       "      <td>20.666667</td>\n",
       "      <td>296.833333</td>\n",
       "      <td>-5</td>\n",
       "      <td>Porites sp.</td>\n",
       "      <td>2012</td>\n",
       "      <td>-5.337556</td>\n",
       "      <td>0.466424</td>\n",
       "    </tr>\n",
       "  </tbody>\n",
       "</table>\n",
       "<p>9766 rows × 8 columns</p>\n",
       "</div>"
      ]
     },
     "metadata": {},
     "execution_count": 147
    }
   ],
   "metadata": {}
  },
  {
   "cell_type": "code",
   "execution_count": 148,
   "source": [
    "plt.hist(coral_df_lon_formatted_with_temp_outliers_removed['year'])"
   ],
   "outputs": [
    {
     "output_type": "execute_result",
     "data": {
      "text/plain": [
       "(array([ 677.,  820.,  874., 1051., 1088., 1288., 1377., 1322., 1016.,\n",
       "         253.]),\n",
       " array([1880. , 1893.6, 1907.2, 1920.8, 1934.4, 1948. , 1961.6, 1975.2,\n",
       "        1988.8, 2002.4, 2016. ]),\n",
       " <BarContainer object of 10 artists>)"
      ]
     },
     "metadata": {},
     "execution_count": 148
    },
    {
     "output_type": "display_data",
     "data": {
      "text/plain": [
       "<Figure size 432x288 with 1 Axes>"
      ],
      "image/png": "[encoded data removed]"
     },
     "metadata": {
      "needs_background": "light"
     }
    }
   ],
   "metadata": {}
  },
  {
   "cell_type": "code",
   "execution_count": 143,
   "source": [
    "coral_df_lon_formatted_with_temp_outliers_removed = coral_df_lon_formatted_with_temp_outliers_removed[coral_df_lon_formatted_with_temp_outliers_removed['d18o'] != '']\n",
    "plt.hist(coral_df_lon_formatted_with_temp_outliers_removed['year'])"
   ],
   "outputs": [
    {
     "output_type": "execute_result",
     "data": {
      "text/plain": [
       "(array([  34.,    0.,  203.,  283.,  507.,  286.,  843., 1411., 4004.,\n",
       "        8269.]),\n",
       " array([ 928. , 1036.8, 1145.6, 1254.4, 1363.2, 1472. , 1580.8, 1689.6,\n",
       "        1798.4, 1907.2, 2016. ]),\n",
       " <BarContainer object of 10 artists>)"
      ]
     },
     "metadata": {},
     "execution_count": 143
    },
    {
     "output_type": "display_data",
     "data": {
      "text/plain": [
       "<Figure size 432x288 with 1 Axes>"
      ],
      "image/png": "[encoded data removed]"
     },
     "metadata": {
      "needs_background": "light"
     }
    }
   ],
   "metadata": {}
  },
  {
   "cell_type": "code",
   "execution_count": 144,
   "source": [
    "coral_df_lon_formatted_with_temp_outliers_removed"
   ],
   "outputs": [
    {
     "output_type": "execute_result",
     "data": {
      "text/plain": [
       "       Unnamed: 0        lat         lon elevation               species  \\\n",
       "0               0  11.170000  119.150000        -4  Montastaea faveolata   \n",
       "1               1  11.170000  119.150000        -4  Montastaea faveolata   \n",
       "2               2  11.170000  119.150000        -4  Montastaea faveolata   \n",
       "3               3  11.170000  119.150000        -4  Montastaea faveolata   \n",
       "4               4  11.170000  119.150000        -4  Montastaea faveolata   \n",
       "...           ...        ...         ...       ...                   ...   \n",
       "16816          40  20.666667  296.833333        -5           Porites sp.   \n",
       "16817          41  20.666667  296.833333        -5           Porites sp.   \n",
       "16818          42  20.666667  296.833333        -5           Porites sp.   \n",
       "16819          43  20.666667  296.833333        -5           Porites sp.   \n",
       "16820          44  20.666667  296.833333        -5           Porites sp.   \n",
       "\n",
       "       year      d18o  temp_anom  \n",
       "0      1927 -4.067500  -0.405418  \n",
       "1      1928 -3.865000  -0.503512  \n",
       "2      1929 -3.865000  -0.819141  \n",
       "3      1930 -4.007500  -0.337399  \n",
       "4      1931 -4.040000  -0.099585  \n",
       "...     ...       ...        ...  \n",
       "16816  2008 -5.474000   0.210579  \n",
       "16817  2009 -5.249917   0.288014  \n",
       "16818  2010 -5.299417   0.664223  \n",
       "16819  2011 -5.397417   0.425456  \n",
       "16820  2012 -5.337556   0.466424  \n",
       "\n",
       "[15840 rows x 8 columns]"
      ],
      "text/html": [
       "<div>\n",
       "<style scoped>\n",
       "    .dataframe tbody tr th:only-of-type {\n",
       "        vertical-align: middle;\n",
       "    }\n",
       "\n",
       "    .dataframe tbody tr th {\n",
       "        vertical-align: top;\n",
       "    }\n",
       "\n",
       "    .dataframe thead th {\n",
       "        text-align: right;\n",
       "    }\n",
       "</style>\n",
       "<table border=\"1\" class=\"dataframe\">\n",
       "  <thead>\n",
       "    <tr style=\"text-align: right;\">\n",
       "      <th></th>\n",
       "      <th>Unnamed: 0</th>\n",
       "      <th>lat</th>\n",
       "      <th>lon</th>\n",
       "      <th>elevation</th>\n",
       "      <th>species</th>\n",
       "      <th>year</th>\n",
       "      <th>d18o</th>\n",
       "      <th>temp_anom</th>\n",
       "    </tr>\n",
       "  </thead>\n",
       "  <tbody>\n",
       "    <tr>\n",
       "      <th>0</th>\n",
       "      <td>0</td>\n",
       "      <td>11.170000</td>\n",
       "      <td>119.150000</td>\n",
       "      <td>-4</td>\n",
       "      <td>Montastaea faveolata</td>\n",
       "      <td>1927</td>\n",
       "      <td>-4.067500</td>\n",
       "      <td>-0.405418</td>\n",
       "    </tr>\n",
       "    <tr>\n",
       "      <th>1</th>\n",
       "      <td>1</td>\n",
       "      <td>11.170000</td>\n",
       "      <td>119.150000</td>\n",
       "      <td>-4</td>\n",
       "      <td>Montastaea faveolata</td>\n",
       "      <td>1928</td>\n",
       "      <td>-3.865000</td>\n",
       "      <td>-0.503512</td>\n",
       "    </tr>\n",
       "    <tr>\n",
       "      <th>2</th>\n",
       "      <td>2</td>\n",
       "      <td>11.170000</td>\n",
       "      <td>119.150000</td>\n",
       "      <td>-4</td>\n",
       "      <td>Montastaea faveolata</td>\n",
       "      <td>1929</td>\n",
       "      <td>-3.865000</td>\n",
       "      <td>-0.819141</td>\n",
       "    </tr>\n",
       "    <tr>\n",
       "      <th>3</th>\n",
       "      <td>3</td>\n",
       "      <td>11.170000</td>\n",
       "      <td>119.150000</td>\n",
       "      <td>-4</td>\n",
       "      <td>Montastaea faveolata</td>\n",
       "      <td>1930</td>\n",
       "      <td>-4.007500</td>\n",
       "      <td>-0.337399</td>\n",
       "    </tr>\n",
       "    <tr>\n",
       "      <th>4</th>\n",
       "      <td>4</td>\n",
       "      <td>11.170000</td>\n",
       "      <td>119.150000</td>\n",
       "      <td>-4</td>\n",
       "      <td>Montastaea faveolata</td>\n",
       "      <td>1931</td>\n",
       "      <td>-4.040000</td>\n",
       "      <td>-0.099585</td>\n",
       "    </tr>\n",
       "    <tr>\n",
       "      <th>...</th>\n",
       "      <td>...</td>\n",
       "      <td>...</td>\n",
       "      <td>...</td>\n",
       "      <td>...</td>\n",
       "      <td>...</td>\n",
       "      <td>...</td>\n",
       "      <td>...</td>\n",
       "      <td>...</td>\n",
       "    </tr>\n",
       "    <tr>\n",
       "      <th>16816</th>\n",
       "      <td>40</td>\n",
       "      <td>20.666667</td>\n",
       "      <td>296.833333</td>\n",
       "      <td>-5</td>\n",
       "      <td>Porites sp.</td>\n",
       "      <td>2008</td>\n",
       "      <td>-5.474000</td>\n",
       "      <td>0.210579</td>\n",
       "    </tr>\n",
       "    <tr>\n",
       "      <th>16817</th>\n",
       "      <td>41</td>\n",
       "      <td>20.666667</td>\n",
       "      <td>296.833333</td>\n",
       "      <td>-5</td>\n",
       "      <td>Porites sp.</td>\n",
       "      <td>2009</td>\n",
       "      <td>-5.249917</td>\n",
       "      <td>0.288014</td>\n",
       "    </tr>\n",
       "    <tr>\n",
       "      <th>16818</th>\n",
       "      <td>42</td>\n",
       "      <td>20.666667</td>\n",
       "      <td>296.833333</td>\n",
       "      <td>-5</td>\n",
       "      <td>Porites sp.</td>\n",
       "      <td>2010</td>\n",
       "      <td>-5.299417</td>\n",
       "      <td>0.664223</td>\n",
       "    </tr>\n",
       "    <tr>\n",
       "      <th>16819</th>\n",
       "      <td>43</td>\n",
       "      <td>20.666667</td>\n",
       "      <td>296.833333</td>\n",
       "      <td>-5</td>\n",
       "      <td>Porites sp.</td>\n",
       "      <td>2011</td>\n",
       "      <td>-5.397417</td>\n",
       "      <td>0.425456</td>\n",
       "    </tr>\n",
       "    <tr>\n",
       "      <th>16820</th>\n",
       "      <td>44</td>\n",
       "      <td>20.666667</td>\n",
       "      <td>296.833333</td>\n",
       "      <td>-5</td>\n",
       "      <td>Porites sp.</td>\n",
       "      <td>2012</td>\n",
       "      <td>-5.337556</td>\n",
       "      <td>0.466424</td>\n",
       "    </tr>\n",
       "  </tbody>\n",
       "</table>\n",
       "<p>15840 rows × 8 columns</p>\n",
       "</div>"
      ]
     },
     "metadata": {},
     "execution_count": 144
    }
   ],
   "metadata": {}
  },
  {
   "cell_type": "markdown",
   "source": [],
   "metadata": {}
  },
  {
   "cell_type": "code",
   "execution_count": 150,
   "source": [
    "x = coral_df_lon_formatted_with_temp_outliers_removed['temp_anom']\n",
    "y= coral_df_lon_formatted_with_temp_outliers_removed['d18o']\n",
    "plt.scatter(x,y)"
   ],
   "outputs": [
    {
     "output_type": "execute_result",
     "data": {
      "text/plain": [
       "<matplotlib.collections.PathCollection at 0x7fa1350ae6a0>"
      ]
     },
     "metadata": {},
     "execution_count": 150
    },
    {
     "output_type": "display_data",
     "data": {
      "text/plain": [
       "<Figure size 432x288 with 1 Axes>"
      ],
      "image/png": "[encoded data removed]"
     },
     "metadata": {
      "needs_background": "light"
     }
    }
   ],
   "metadata": {}
  },
  {
   "cell_type": "code",
   "execution_count": 162,
   "source": [
    "coral_df_lon_formatted_with_temp_outliers_removed = coral_df_lon_formatted_with_temp_outliers_removed[coral_df_lon_formatted_with_temp_outliers_removed['d18o'] > -9]"
   ],
   "outputs": [],
   "metadata": {}
  },
  {
   "cell_type": "code",
   "execution_count": 163,
   "source": [
    "x = coral_df_lon_formatted_with_temp_outliers_removed['temp_anom']\n",
    "y= coral_df_lon_formatted_with_temp_outliers_removed['d18o']\n",
    "plt.scatter(x,y)"
   ],
   "outputs": [
    {
     "output_type": "execute_result",
     "data": {
      "text/plain": [
       "<matplotlib.collections.PathCollection at 0x7fa16c1d3340>"
      ]
     },
     "metadata": {},
     "execution_count": 163
    },
    {
     "output_type": "display_data",
     "data": {
      "text/plain": [
       "<Figure size 432x288 with 1 Axes>"
      ],
      "image/png": "[encoded data removed]"
     },
     "metadata": {
      "needs_background": "light"
     }
    }
   ],
   "metadata": {}
  },
  {
   "cell_type": "code",
   "execution_count": 164,
   "source": [
    "x = coral_df_lon_formatted_with_temp_outliers_removed['year']\n",
    "y= coral_df_lon_formatted_with_temp_outliers_removed['d18o']\n",
    "plt.scatter(x,y)"
   ],
   "outputs": [
    {
     "output_type": "execute_result",
     "data": {
      "text/plain": [
       "<matplotlib.collections.PathCollection at 0x7fa134c10bb0>"
      ]
     },
     "metadata": {},
     "execution_count": 164
    },
    {
     "output_type": "display_data",
     "data": {
      "text/plain": [
       "<Figure size 432x288 with 1 Axes>"
      ],
      "image/png": "[encoded data removed]"
     },
     "metadata": {
      "needs_background": "light"
     }
    }
   ],
   "metadata": {}
  },
  {
   "cell_type": "code",
   "execution_count": 165,
   "source": [
    "x = coral_df_lon_formatted_with_temp_outliers_removed['year']\n",
    "y= coral_df_lon_formatted_with_temp_outliers_removed['temp_anom']\n",
    "plt.scatter(x,y)"
   ],
   "outputs": [
    {
     "output_type": "execute_result",
     "data": {
      "text/plain": [
       "<matplotlib.collections.PathCollection at 0x7fa16c5e51c0>"
      ]
     },
     "metadata": {},
     "execution_count": 165
    },
    {
     "output_type": "display_data",
     "data": {
      "text/plain": [
       "<Figure size 432x288 with 1 Axes>"
      ],
      "image/png": "[encoded data removed]"
     },
     "metadata": {
      "needs_background": "light"
     }
    }
   ],
   "metadata": {}
  },
  {
   "cell_type": "code",
   "execution_count": 168,
   "source": [
    "x = coral_df_lon_formatted_with_temp_outliers_removed['lat']\n",
    "y= coral_df_lon_formatted_with_temp_outliers_removed['temp_anom']\n",
    "plt.scatter(x,y)"
   ],
   "outputs": [
    {
     "output_type": "execute_result",
     "data": {
      "text/plain": [
       "<matplotlib.collections.PathCollection at 0x7fa16bc928e0>"
      ]
     },
     "metadata": {},
     "execution_count": 168
    },
    {
     "output_type": "display_data",
     "data": {
      "text/plain": [
       "<Figure size 432x288 with 1 Axes>"
      ],
      "image/png": "[encoded data removed]"
     },
     "metadata": {
      "needs_background": "light"
     }
    }
   ],
   "metadata": {}
  },
  {
   "cell_type": "code",
   "execution_count": 169,
   "source": [
    "x = coral_df_lon_formatted_with_temp_outliers_removed['lon']\n",
    "y= coral_df_lon_formatted_with_temp_outliers_removed['temp_anom']\n",
    "plt.scatter(x,y)"
   ],
   "outputs": [
    {
     "output_type": "execute_result",
     "data": {
      "text/plain": [
       "<matplotlib.collections.PathCollection at 0x7fa16c723400>"
      ]
     },
     "metadata": {},
     "execution_count": 169
    },
    {
     "output_type": "display_data",
     "data": {
      "text/plain": [
       "<Figure size 432x288 with 1 Axes>"
      ],
      "image/png": "[encoded data removed]"
     },
     "metadata": {
      "needs_background": "light"
     }
    }
   ],
   "metadata": {}
  },
  {
   "cell_type": "code",
   "execution_count": 170,
   "source": [
    "x = coral_df_lon_formatted_with_temp_outliers_removed['year']\n",
    "y= coral_df_lon_formatted_with_temp_outliers_removed['lat']\n",
    "plt.scatter(x,y)"
   ],
   "outputs": [
    {
     "output_type": "execute_result",
     "data": {
      "text/plain": [
       "<matplotlib.collections.PathCollection at 0x7fa16cd3abe0>"
      ]
     },
     "metadata": {},
     "execution_count": 170
    },
    {
     "output_type": "display_data",
     "data": {
      "text/plain": [
       "<Figure size 432x288 with 1 Axes>"
      ],
      "image/png": "[encoded data removed]"
     },
     "metadata": {
      "needs_background": "light"
     }
    }
   ],
   "metadata": {}
  },
  {
   "cell_type": "code",
   "execution_count": 171,
   "source": [
    "x = coral_df_lon_formatted_with_temp_outliers_removed['year']\n",
    "y= coral_df_lon_formatted_with_temp_outliers_removed['lon']\n",
    "plt.scatter(x,y)"
   ],
   "outputs": [
    {
     "output_type": "execute_result",
     "data": {
      "text/plain": [
       "<matplotlib.collections.PathCollection at 0x7fa16cca7eb0>"
      ]
     },
     "metadata": {},
     "execution_count": 171
    },
    {
     "output_type": "display_data",
     "data": {
      "text/plain": [
       "<Figure size 432x288 with 1 Axes>"
      ],
      "image/png": "[encoded data removed]"
     },
     "metadata": {
      "needs_background": "light"
     }
    }
   ],
   "metadata": {}
  },
  {
   "cell_type": "code",
   "execution_count": 174,
   "source": [
    "# coral_df_lon_formatted_with_temp_outliers_removed.to_csv('all_coral_with_temp_fixed.csv')"
   ],
   "outputs": [],
   "metadata": {}
  },
  {
   "cell_type": "code",
   "execution_count": 6,
   "source": [
    "import pandas as pd\n",
    "coral_df_to_use = pd.read_csv('all_coral_with_temp_fixed.csv')\n",
    "coral_df_to_use"
   ],
   "outputs": [
    {
     "output_type": "execute_result",
     "data": {
      "text/plain": [
       "      Unnamed: 0  Unnamed: 0.1        lat         lon elevation  \\\n",
       "0              0             0  11.170000  119.150000        -4   \n",
       "1              1             1  11.170000  119.150000        -4   \n",
       "2              2             2  11.170000  119.150000        -4   \n",
       "3              3             3  11.170000  119.150000        -4   \n",
       "4              4             4  11.170000  119.150000        -4   \n",
       "...          ...           ...        ...         ...       ...   \n",
       "9693       16816            40  20.666667  296.833333        -5   \n",
       "9694       16817            41  20.666667  296.833333        -5   \n",
       "9695       16818            42  20.666667  296.833333        -5   \n",
       "9696       16819            43  20.666667  296.833333        -5   \n",
       "9697       16820            44  20.666667  296.833333        -5   \n",
       "\n",
       "                   species  year      d18o  temp_anom  \n",
       "0     Montastaea faveolata  1927 -4.067500  -0.405418  \n",
       "1     Montastaea faveolata  1928 -3.865000  -0.503512  \n",
       "2     Montastaea faveolata  1929 -3.865000  -0.819141  \n",
       "3     Montastaea faveolata  1930 -4.007500  -0.337399  \n",
       "4     Montastaea faveolata  1931 -4.040000  -0.099585  \n",
       "...                    ...   ...       ...        ...  \n",
       "9693           Porites sp.  2008 -5.474000   0.210579  \n",
       "9694           Porites sp.  2009 -5.249917   0.288014  \n",
       "9695           Porites sp.  2010 -5.299417   0.664223  \n",
       "9696           Porites sp.  2011 -5.397417   0.425456  \n",
       "9697           Porites sp.  2012 -5.337556   0.466424  \n",
       "\n",
       "[9698 rows x 9 columns]"
      ],
      "text/html": [
       "<div>\n",
       "<style scoped>\n",
       "    .dataframe tbody tr th:only-of-type {\n",
       "        vertical-align: middle;\n",
       "    }\n",
       "\n",
       "    .dataframe tbody tr th {\n",
       "        vertical-align: top;\n",
       "    }\n",
       "\n",
       "    .dataframe thead th {\n",
       "        text-align: right;\n",
       "    }\n",
       "</style>\n",
       "<table border=\"1\" class=\"dataframe\">\n",
       "  <thead>\n",
       "    <tr style=\"text-align: right;\">\n",
       "      <th></th>\n",
       "      <th>Unnamed: 0</th>\n",
       "      <th>Unnamed: 0.1</th>\n",
       "      <th>lat</th>\n",
       "      <th>lon</th>\n",
       "      <th>elevation</th>\n",
       "      <th>species</th>\n",
       "      <th>year</th>\n",
       "      <th>d18o</th>\n",
       "      <th>temp_anom</th>\n",
       "    </tr>\n",
       "  </thead>\n",
       "  <tbody>\n",
       "    <tr>\n",
       "      <th>0</th>\n",
       "      <td>0</td>\n",
       "      <td>0</td>\n",
       "      <td>11.170000</td>\n",
       "      <td>119.150000</td>\n",
       "      <td>-4</td>\n",
       "      <td>Montastaea faveolata</td>\n",
       "      <td>1927</td>\n",
       "      <td>-4.067500</td>\n",
       "      <td>-0.405418</td>\n",
       "    </tr>\n",
       "    <tr>\n",
       "      <th>1</th>\n",
       "      <td>1</td>\n",
       "      <td>1</td>\n",
       "      <td>11.170000</td>\n",
       "      <td>119.150000</td>\n",
       "      <td>-4</td>\n",
       "      <td>Montastaea faveolata</td>\n",
       "      <td>1928</td>\n",
       "      <td>-3.865000</td>\n",
       "      <td>-0.503512</td>\n",
       "    </tr>\n",
       "    <tr>\n",
       "      <th>2</th>\n",
       "      <td>2</td>\n",
       "      <td>2</td>\n",
       "      <td>11.170000</td>\n",
       "      <td>119.150000</td>\n",
       "      <td>-4</td>\n",
       "      <td>Montastaea faveolata</td>\n",
       "      <td>1929</td>\n",
       "      <td>-3.865000</td>\n",
       "      <td>-0.819141</td>\n",
       "    </tr>\n",
       "    <tr>\n",
       "      <th>3</th>\n",
       "      <td>3</td>\n",
       "      <td>3</td>\n",
       "      <td>11.170000</td>\n",
       "      <td>119.150000</td>\n",
       "      <td>-4</td>\n",
       "      <td>Montastaea faveolata</td>\n",
       "      <td>1930</td>\n",
       "      <td>-4.007500</td>\n",
       "      <td>-0.337399</td>\n",
       "    </tr>\n",
       "    <tr>\n",
       "      <th>4</th>\n",
       "      <td>4</td>\n",
       "      <td>4</td>\n",
       "      <td>11.170000</td>\n",
       "      <td>119.150000</td>\n",
       "      <td>-4</td>\n",
       "      <td>Montastaea faveolata</td>\n",
       "      <td>1931</td>\n",
       "      <td>-4.040000</td>\n",
       "      <td>-0.099585</td>\n",
       "    </tr>\n",
       "    <tr>\n",
       "      <th>...</th>\n",
       "      <td>...</td>\n",
       "      <td>...</td>\n",
       "      <td>...</td>\n",
       "      <td>...</td>\n",
       "      <td>...</td>\n",
       "      <td>...</td>\n",
       "      <td>...</td>\n",
       "      <td>...</td>\n",
       "      <td>...</td>\n",
       "    </tr>\n",
       "    <tr>\n",
       "      <th>9693</th>\n",
       "      <td>16816</td>\n",
       "      <td>40</td>\n",
       "      <td>20.666667</td>\n",
       "      <td>296.833333</td>\n",
       "      <td>-5</td>\n",
       "      <td>Porites sp.</td>\n",
       "      <td>2008</td>\n",
       "      <td>-5.474000</td>\n",
       "      <td>0.210579</td>\n",
       "    </tr>\n",
       "    <tr>\n",
       "      <th>9694</th>\n",
       "      <td>16817</td>\n",
       "      <td>41</td>\n",
       "      <td>20.666667</td>\n",
       "      <td>296.833333</td>\n",
       "      <td>-5</td>\n",
       "      <td>Porites sp.</td>\n",
       "      <td>2009</td>\n",
       "      <td>-5.249917</td>\n",
       "      <td>0.288014</td>\n",
       "    </tr>\n",
       "    <tr>\n",
       "      <th>9695</th>\n",
       "      <td>16818</td>\n",
       "      <td>42</td>\n",
       "      <td>20.666667</td>\n",
       "      <td>296.833333</td>\n",
       "      <td>-5</td>\n",
       "      <td>Porites sp.</td>\n",
       "      <td>2010</td>\n",
       "      <td>-5.299417</td>\n",
       "      <td>0.664223</td>\n",
       "    </tr>\n",
       "    <tr>\n",
       "      <th>9696</th>\n",
       "      <td>16819</td>\n",
       "      <td>43</td>\n",
       "      <td>20.666667</td>\n",
       "      <td>296.833333</td>\n",
       "      <td>-5</td>\n",
       "      <td>Porites sp.</td>\n",
       "      <td>2011</td>\n",
       "      <td>-5.397417</td>\n",
       "      <td>0.425456</td>\n",
       "    </tr>\n",
       "    <tr>\n",
       "      <th>9697</th>\n",
       "      <td>16820</td>\n",
       "      <td>44</td>\n",
       "      <td>20.666667</td>\n",
       "      <td>296.833333</td>\n",
       "      <td>-5</td>\n",
       "      <td>Porites sp.</td>\n",
       "      <td>2012</td>\n",
       "      <td>-5.337556</td>\n",
       "      <td>0.466424</td>\n",
       "    </tr>\n",
       "  </tbody>\n",
       "</table>\n",
       "<p>9698 rows × 9 columns</p>\n",
       "</div>"
      ]
     },
     "metadata": {},
     "execution_count": 6
    }
   ],
   "metadata": {}
  },
  {
   "cell_type": "code",
   "execution_count": 7,
   "source": [
    "import matplotlib.pyplot as plt\n",
    "plt.hist(coral_df_to_use['year'])"
   ],
   "outputs": [
    {
     "output_type": "execute_result",
     "data": {
      "text/plain": [
       "(array([ 649.,  808.,  874., 1050., 1086., 1279., 1374., 1317., 1012.,\n",
       "         249.]),\n",
       " array([1880. , 1893.6, 1907.2, 1920.8, 1934.4, 1948. , 1961.6, 1975.2,\n",
       "        1988.8, 2002.4, 2016. ]),\n",
       " <BarContainer object of 10 artists>)"
      ]
     },
     "metadata": {},
     "execution_count": 7
    },
    {
     "output_type": "display_data",
     "data": {
      "text/plain": [
       "<Figure size 432x288 with 1 Axes>"
      ],
      "image/png": "[encoded data removed]"
     },
     "metadata": {
      "needs_background": "light"
     }
    }
   ],
   "metadata": {}
  },
  {
   "cell_type": "code",
   "execution_count": 178,
   "source": [
    "plt.hist(coral_df_to_use['lat'])"
   ],
   "outputs": [
    {
     "output_type": "execute_result",
     "data": {
      "text/plain": [
       "(array([ 693., 1861.,  540.,  627., 1264., 1257.,  582., 1290.,  607.,\n",
       "         977.]),\n",
       " array([-28.4617   , -22.3688633, -16.2760266, -10.1831899,  -4.0903532,\n",
       "          2.0024835,   8.0953202,  14.1881569,  20.2809936,  26.3738303,\n",
       "         32.466667 ]),\n",
       " <BarContainer object of 10 artists>)"
      ]
     },
     "metadata": {},
     "execution_count": 178
    },
    {
     "output_type": "display_data",
     "data": {
      "text/plain": [
       "<Figure size 432x288 with 1 Axes>"
      ],
      "image/png": "[encoded data removed]"
     },
     "metadata": {
      "needs_background": "light"
     }
    }
   ],
   "metadata": {}
  },
  {
   "cell_type": "code",
   "execution_count": 179,
   "source": [
    "plt.hist(coral_df_to_use['lon'])"
   ],
   "outputs": [
    {
     "output_type": "execute_result",
     "data": {
      "text/plain": [
       "(array([1642.,   77., 1298.,  636.,   75.,  625., 1232.,  167., 2193.,\n",
       "        1753.]),\n",
       " array([ 10.45 ,  45.328,  80.206, 115.084, 149.962, 184.84 , 219.718,\n",
       "        254.596, 289.474, 324.352, 359.23 ]),\n",
       " <BarContainer object of 10 artists>)"
      ]
     },
     "metadata": {},
     "execution_count": 179
    },
    {
     "output_type": "display_data",
     "data": {
      "text/plain": [
       "<Figure size 432x288 with 1 Axes>"
      ],
      "image/png": "[encoded data removed]"
     },
     "metadata": {
      "needs_background": "light"
     }
    }
   ],
   "metadata": {}
  },
  {
   "cell_type": "code",
   "execution_count": 180,
   "source": [],
   "outputs": [
    {
     "output_type": "execute_result",
     "data": {
      "text/plain": [
       "(array([ 649.,  808.,  874., 1050., 1086., 1279., 1374., 1317., 1012.,\n",
       "         249.]),\n",
       " array([1880. , 1893.6, 1907.2, 1920.8, 1934.4, 1948. , 1961.6, 1975.2,\n",
       "        1988.8, 2002.4, 2016. ]),\n",
       " <BarContainer object of 10 artists>)"
      ]
     },
     "metadata": {},
     "execution_count": 180
    },
    {
     "output_type": "display_data",
     "data": {
      "text/plain": [
       "<Figure size 432x288 with 1 Axes>"
      ],
      "image/png": "[encoded data removed]"
     },
     "metadata": {
      "needs_background": "light"
     }
    }
   ],
   "metadata": {}
  },
  {
   "cell_type": "code",
   "execution_count": 184,
   "source": [
    "test1 = coral_df_to_use.groupby(['year'], as_index=False).agg({'temp_anom':['mean']})\n",
    "x = test1['year']\n",
    "y = test1['temp_anom']['mean']\n",
    "plt.bar(x, y)"
   ],
   "outputs": [
    {
     "output_type": "execute_result",
     "data": {
      "text/plain": [
       "<BarContainer object of 137 artists>"
      ]
     },
     "metadata": {},
     "execution_count": 184
    },
    {
     "output_type": "display_data",
     "data": {
      "text/plain": [
       "<Figure size 432x288 with 1 Axes>"
      ],
      "image/png": "[encoded data removed]"
     },
     "metadata": {
      "needs_background": "light"
     }
    }
   ],
   "metadata": {}
  },
  {
   "cell_type": "code",
   "execution_count": 186,
   "source": [
    "global_temp_anom = pd.read_csv('global_temp_anom1880-2020.csv')\n",
    "global_temp_anom\n"
   ],
   "outputs": [
    {
     "output_type": "execute_result",
     "data": {
      "text/plain": [
       "     Year  Value\n",
       "0    1880  -0.12\n",
       "1    1881  -0.09\n",
       "2    1882  -0.10\n",
       "3    1883  -0.18\n",
       "4    1884  -0.27\n",
       "..    ...    ...\n",
       "136  2016   0.99\n",
       "137  2017   0.91\n",
       "138  2018   0.82\n",
       "139  2019   0.95\n",
       "140  2020   0.98\n",
       "\n",
       "[141 rows x 2 columns]"
      ],
      "text/html": [
       "<div>\n",
       "<style scoped>\n",
       "    .dataframe tbody tr th:only-of-type {\n",
       "        vertical-align: middle;\n",
       "    }\n",
       "\n",
       "    .dataframe tbody tr th {\n",
       "        vertical-align: top;\n",
       "    }\n",
       "\n",
       "    .dataframe thead th {\n",
       "        text-align: right;\n",
       "    }\n",
       "</style>\n",
       "<table border=\"1\" class=\"dataframe\">\n",
       "  <thead>\n",
       "    <tr style=\"text-align: right;\">\n",
       "      <th></th>\n",
       "      <th>Year</th>\n",
       "      <th>Value</th>\n",
       "    </tr>\n",
       "  </thead>\n",
       "  <tbody>\n",
       "    <tr>\n",
       "      <th>0</th>\n",
       "      <td>1880</td>\n",
       "      <td>-0.12</td>\n",
       "    </tr>\n",
       "    <tr>\n",
       "      <th>1</th>\n",
       "      <td>1881</td>\n",
       "      <td>-0.09</td>\n",
       "    </tr>\n",
       "    <tr>\n",
       "      <th>2</th>\n",
       "      <td>1882</td>\n",
       "      <td>-0.10</td>\n",
       "    </tr>\n",
       "    <tr>\n",
       "      <th>3</th>\n",
       "      <td>1883</td>\n",
       "      <td>-0.18</td>\n",
       "    </tr>\n",
       "    <tr>\n",
       "      <th>4</th>\n",
       "      <td>1884</td>\n",
       "      <td>-0.27</td>\n",
       "    </tr>\n",
       "    <tr>\n",
       "      <th>...</th>\n",
       "      <td>...</td>\n",
       "      <td>...</td>\n",
       "    </tr>\n",
       "    <tr>\n",
       "      <th>136</th>\n",
       "      <td>2016</td>\n",
       "      <td>0.99</td>\n",
       "    </tr>\n",
       "    <tr>\n",
       "      <th>137</th>\n",
       "      <td>2017</td>\n",
       "      <td>0.91</td>\n",
       "    </tr>\n",
       "    <tr>\n",
       "      <th>138</th>\n",
       "      <td>2018</td>\n",
       "      <td>0.82</td>\n",
       "    </tr>\n",
       "    <tr>\n",
       "      <th>139</th>\n",
       "      <td>2019</td>\n",
       "      <td>0.95</td>\n",
       "    </tr>\n",
       "    <tr>\n",
       "      <th>140</th>\n",
       "      <td>2020</td>\n",
       "      <td>0.98</td>\n",
       "    </tr>\n",
       "  </tbody>\n",
       "</table>\n",
       "<p>141 rows × 2 columns</p>\n",
       "</div>"
      ]
     },
     "metadata": {},
     "execution_count": 186
    }
   ],
   "metadata": {}
  },
  {
   "cell_type": "code",
   "execution_count": 189,
   "source": [
    "x = global_temp_anom['Year']\n",
    "y = global_temp_anom['Value']\n",
    "plt.bar(x, y)"
   ],
   "outputs": [
    {
     "output_type": "execute_result",
     "data": {
      "text/plain": [
       "<BarContainer object of 141 artists>"
      ]
     },
     "metadata": {},
     "execution_count": 189
    },
    {
     "output_type": "display_data",
     "data": {
      "text/plain": [
       "<Figure size 432x288 with 1 Axes>"
      ],
      "image/png": "[encoded data removed]"
     },
     "metadata": {
      "needs_background": "light"
     }
    }
   ],
   "metadata": {}
  },
  {
   "cell_type": "code",
   "execution_count": 192,
   "source": [
    "ocean_temp_anom = pd.read_csv('ocean_temp_anom1880-2020.csv')\n",
    "x = ocean_temp_anom['Year']\n",
    "y = ocean_temp_anom['Value']\n",
    "plt.bar(x, y)"
   ],
   "outputs": [
    {
     "output_type": "execute_result",
     "data": {
      "text/plain": [
       "<BarContainer object of 141 artists>"
      ]
     },
     "metadata": {},
     "execution_count": 192
    },
    {
     "output_type": "display_data",
     "data": {
      "text/plain": [
       "<Figure size 432x288 with 1 Axes>"
      ],
      "image/png": "[encoded data removed]"
     },
     "metadata": {
      "needs_background": "light"
     }
    }
   ],
   "metadata": {}
  },
  {
   "cell_type": "code",
   "execution_count": 193,
   "source": [
    "land_temp_anom = pd.read_csv('land_temp_anom1880-2020.csv')\n",
    "x = land_temp_anom['Year']\n",
    "y = land_temp_anom['Value']\n",
    "plt.bar(x, y)"
   ],
   "outputs": [
    {
     "output_type": "execute_result",
     "data": {
      "text/plain": [
       "<BarContainer object of 141 artists>"
      ]
     },
     "metadata": {},
     "execution_count": 193
    },
    {
     "output_type": "display_data",
     "data": {
      "text/plain": [
       "<Figure size 432x288 with 1 Axes>"
      ],
      "image/png": "[encoded data removed]"
     },
     "metadata": {
      "needs_background": "light"
     }
    }
   ],
   "metadata": {}
  },
  {
   "cell_type": "code",
   "execution_count": null,
   "source": [
    "coral_df_to_use"
   ],
   "outputs": [],
   "metadata": {}
  },
  {
   "cell_type": "code",
   "execution_count": null,
   "source": [
    "coral_df_lon_formatted."
   ],
   "outputs": [],
   "metadata": {}
  },
  {
   "cell_type": "markdown",
   "source": [
    "Now, let's make a csv that only has coral for which we do not have testable temperature measurements."
   ],
   "metadata": {}
  },
  {
   "cell_type": "code",
   "execution_count": null,
   "source": [
    "og_coral = pd.read_csv('all_coral_with_temp.csv')"
   ],
   "outputs": [],
   "metadata": {}
  },
  {
   "cell_type": "code",
   "execution_count": 11,
   "source": [
    "past_corals = og_coral[og_coral['year'] < 1880]\n",
    "past_corals"
   ],
   "outputs": [
    {
     "output_type": "error",
     "ename": "NameError",
     "evalue": "name 'coral_df_lon_formatted_with_temp_outliers_removed' is not defined",
     "traceback": [
      "\u001b[0;31m---------------------------------------------------------------------------\u001b[0m",
      "\u001b[0;31mNameError\u001b[0m                                 Traceback (most recent call last)",
      "\u001b[0;32m<ipython-input-11-8d827641fcc2>\u001b[0m in \u001b[0;36m<module>\u001b[0;34m\u001b[0m\n\u001b[0;32m----> 1\u001b[0;31m \u001b[0mpast_corals\u001b[0m \u001b[0;34m=\u001b[0m \u001b[0mcoral_df_lon_formatted_with_temp_outliers_removed\u001b[0m\u001b[0;34m[\u001b[0m\u001b[0mcoral_df_lon_formatted_with_temp_outliers_removed\u001b[0m\u001b[0;34m[\u001b[0m\u001b[0;34m'year'\u001b[0m\u001b[0;34m]\u001b[0m \u001b[0;34m<\u001b[0m \u001b[0;36m1880\u001b[0m\u001b[0;34m]\u001b[0m\u001b[0;34m\u001b[0m\u001b[0;34m\u001b[0m\u001b[0m\n\u001b[0m\u001b[1;32m      2\u001b[0m \u001b[0mpast_corals\u001b[0m\u001b[0;34m\u001b[0m\u001b[0;34m\u001b[0m\u001b[0m\n",
      "\u001b[0;31mNameError\u001b[0m: name 'coral_df_lon_formatted_with_temp_outliers_removed' is not defined"
     ]
    }
   ],
   "metadata": {}
  },
  {
   "cell_type": "code",
   "execution_count": null,
   "source": [],
   "outputs": [],
   "metadata": {}
  }
 ],
 "metadata": {
  "orig_nbformat": 4,
  "language_info": {
   "name": "python",
   "version": "3.8.5",
   "mimetype": "text/x-python",
   "codemirror_mode": {
    "name": "ipython",
    "version": 3
   },
   "pygments_lexer": "ipython3",
   "nbconvert_exporter": "python",
   "file_extension": ".py"
  },
  "kernelspec": {
   "name": "python3",
   "display_name": "Python 3.8.5 64-bit ('base': conda)"
  },
  "interpreter": {
   "hash": "da0f4b2f549526c8eb110fe99ce30953b583bbcf13bb8926e556c8ad6926646c"
  }
 },
 "nbformat": 4,
 "nbformat_minor": 2
}