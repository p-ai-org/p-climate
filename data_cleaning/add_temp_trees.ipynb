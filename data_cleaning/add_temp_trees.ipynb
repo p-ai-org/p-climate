{
 "cells": [
  {
   "cell_type": "code",
   "execution_count": 1,
   "metadata": {},
   "outputs": [],
   "source": [
    "import pandas as pd\n",
    "import numpy as np"
   ]
  },
  {
   "cell_type": "code",
   "execution_count": 2,
   "metadata": {},
   "outputs": [
    {
     "name": "stderr",
     "output_type": "stream",
     "text": [
      "C:\\Users\\ngeta\\AppData\\Local\\Continuum\\anaconda3\\lib\\site-packages\\IPython\\core\\interactiveshell.py:3049: DtypeWarning: Columns (0) have mixed types. Specify dtype option on import or set low_memory=False.\n",
      "  interactivity=interactivity, compiler=compiler, result=result)\n"
     ]
    },
    {
     "data": {
      "text/html": [
       "<div>\n",
       "<style scoped>\n",
       "    .dataframe tbody tr th:only-of-type {\n",
       "        vertical-align: middle;\n",
       "    }\n",
       "\n",
       "    .dataframe tbody tr th {\n",
       "        vertical-align: top;\n",
       "    }\n",
       "\n",
       "    .dataframe thead th {\n",
       "        text-align: right;\n",
       "    }\n",
       "</style>\n",
       "<table border=\"1\" class=\"dataframe\">\n",
       "  <thead>\n",
       "    <tr style=\"text-align: right;\">\n",
       "      <th></th>\n",
       "      <th>year</th>\n",
       "      <th>avg_tree_ring_width</th>\n",
       "      <th>lat</th>\n",
       "      <th>long</th>\n",
       "      <th>elevation</th>\n",
       "      <th>tree_species</th>\n",
       "      <th>organism_group</th>\n",
       "    </tr>\n",
       "  </thead>\n",
       "  <tbody>\n",
       "    <tr>\n",
       "      <th>0</th>\n",
       "      <td>969.0</td>\n",
       "      <td>164.5</td>\n",
       "      <td>51.75041</td>\n",
       "      <td>-0.34223</td>\n",
       "      <td>NaN</td>\n",
       "      <td>Quercus spp. L.</td>\n",
       "      <td>0</td>\n",
       "    </tr>\n",
       "    <tr>\n",
       "      <th>1</th>\n",
       "      <td>970.0</td>\n",
       "      <td>188.5</td>\n",
       "      <td>51.75041</td>\n",
       "      <td>-0.34223</td>\n",
       "      <td>NaN</td>\n",
       "      <td>Quercus spp. L.</td>\n",
       "      <td>0</td>\n",
       "    </tr>\n",
       "    <tr>\n",
       "      <th>2</th>\n",
       "      <td>971.0</td>\n",
       "      <td>139.0</td>\n",
       "      <td>51.75041</td>\n",
       "      <td>-0.34223</td>\n",
       "      <td>NaN</td>\n",
       "      <td>Quercus spp. L.</td>\n",
       "      <td>0</td>\n",
       "    </tr>\n",
       "    <tr>\n",
       "      <th>3</th>\n",
       "      <td>972.0</td>\n",
       "      <td>173.0</td>\n",
       "      <td>51.75041</td>\n",
       "      <td>-0.34223</td>\n",
       "      <td>NaN</td>\n",
       "      <td>Quercus spp. L.</td>\n",
       "      <td>0</td>\n",
       "    </tr>\n",
       "    <tr>\n",
       "      <th>4</th>\n",
       "      <td>973.0</td>\n",
       "      <td>221.0</td>\n",
       "      <td>51.75041</td>\n",
       "      <td>-0.34223</td>\n",
       "      <td>NaN</td>\n",
       "      <td>Quercus spp. L.</td>\n",
       "      <td>0</td>\n",
       "    </tr>\n",
       "  </tbody>\n",
       "</table>\n",
       "</div>"
      ],
      "text/plain": [
       "    year  avg_tree_ring_width       lat     long  elevation     tree_species  \\\n",
       "0  969.0                164.5  51.75041 -0.34223        NaN  Quercus spp. L.   \n",
       "1  970.0                188.5  51.75041 -0.34223        NaN  Quercus spp. L.   \n",
       "2  971.0                139.0  51.75041 -0.34223        NaN  Quercus spp. L.   \n",
       "3  972.0                173.0  51.75041 -0.34223        NaN  Quercus spp. L.   \n",
       "4  973.0                221.0  51.75041 -0.34223        NaN  Quercus spp. L.   \n",
       "\n",
       "   organism_group  \n",
       "0               0  \n",
       "1               0  \n",
       "2               0  \n",
       "3               0  \n",
       "4               0  "
      ]
     },
     "execution_count": 2,
     "metadata": {},
     "output_type": "execute_result"
    }
   ],
   "source": [
    "temp_df_pt1 = pd.read_csv('../actual_temperature_data/gridded_averages_1880-2021/NOAAGlobalTemp_v5a_1.csv')\n",
    "temp_df_pt2 = pd.read_csv('../actual_temperature_data/gridded_averages_1880-2021/NOAAGlobalTemp_v5a_2.csv')\n",
    "\n",
    "# concatenate dataframes\n",
    "# gonna turn all the wrong years into -1\n",
    "frames = [temp_df_pt1, temp_df_pt2]\n",
    "temp_df = pd.concat(frames, sort=False)\n",
    "\n",
    "tree_df = pd.read_csv('../tree_data.csv')\n",
    "tree_df['year'] = tree_df['year'].apply(lambda x: float(x) if str(x).isdigit() else -1)\n",
    "tree_df.head()"
   ]
  },
  {
   "cell_type": "code",
   "execution_count": 26,
   "metadata": {},
   "outputs": [
    {
     "data": {
      "text/plain": [
       "Pseudotsuga menziesii (Mirb.) Franco                                            214694\n",
       "Pinus sylvestris L.                                                             152902\n",
       "Tsuga mertensiana (Bong.) Carriere                                              122337\n",
       "Pinus ponderosa Douglas ex C. Lawson                                            112764\n",
       "Picea glauca (Moench) Voss                                                       85047\n",
       "Pinus edulis Engelm.                                                             62735\n",
       "Picea abies (L.) H. Karst.                                                       50093\n",
       "Pinus flexilis E. James                                                          45869\n",
       "Pinus longaeva D.K. Bailey = Pinus aristata var. longaeva                        45638\n",
       "Larix sibirica Ledeb. = Larix russica (Endl.) Sabine ex Trautv.                  40882\n",
       "Sequoiadendron giganteum (Lindl.) Buchholz                                       39378\n",
       "Quercus spp. L.                                                                  38373\n",
       "Picea engelmannii Parry ex Engelm.                                               36935\n",
       "Picea mariana (Mill.) Britton, Sterns, & Poggenb.                                32064\n",
       "Quercus alba L.                                                                  29142\n",
       "Juniperus occidentalis Hook.                                                     28708\n",
       "Agathis australis (D. Don) Loudon                                                27697\n",
       "Taxodium distichum (L.) Rich.                                                    26802\n",
       "Tsuga canadensis (L.) Carr.                                                      26756\n",
       "Juniperus przewalskii Komarov = Sabina przewalskii Komarov                       25949\n",
       "Larix lyallii Parl.                                                              23995\n",
       "Pinus nigra J.F. Arnold                                                          23020\n",
       "Quercus robur L. = Quercus pendunculata Ehrl.                                    21673\n",
       "Pinus albicaulis Engelm.                                                         21568\n",
       "Abies alba Mill.                                                                 20734\n",
       "Larix decidua Mill.                                                              20033\n",
       "Araucaria araucana (Molina) K. Koch                                              19880\n",
       "Juniperus spp. L.                                                                18990\n",
       "Nothofagus pumilio (Poepp. & Endl.) Reiche                                       18723\n",
       "Abies lasiocarpa (Hook.) Nutt.                                                   18057\n",
       "                                                                                 ...  \n",
       "Adesmia uspallatensis Gill.                                                        155\n",
       "Canthium burttii                                                                   149\n",
       "Pinus peuce Griseb.                                                                145\n",
       "Quercus cerris L.                                                                  142\n",
       "Cedrela fissilis Vell.                                                             136\n",
       "Picea omorika (Pancic) Purk.                                                       126\n",
       "Pinus greggii Engelm. ex Parl.                                                     123\n",
       "Populus tremula L.                                                                 116\n",
       "Fraxinus americana L.                                                              111\n",
       "Callitris robusta (A. Cunn. ex Parl.) F.M. Bailey  = Callitris preissii Miq.       109\n",
       "Abies durangensis Martinez                                                         109\n",
       "Pinus engelmannii Carr.                                                            108\n",
       "Quercus falcata Michx.                                                             108\n",
       "Pinus elliottii Engelm.                                                            106\n",
       "Pinus leiophylla var. chihuahuana (Engelm.)                                         98\n",
       "Quercus boyntonii Beadle                                                            94\n",
       "Betula papyrifera Marsh.                                                            92\n",
       "Alnus viridis var. crispa (Ait.) Turrill                                            91\n",
       "Quercus shumardii Buckl.                                                            90\n",
       "Quercus macrolepis Kotschy                                                          90\n",
       "Salix lanata L.                                                                     85\n",
       "Salix spp.                                                                          81\n",
       "Hedera helix L.                                                                     79\n",
       "Abies koreana Wils.                                                                 73\n",
       "Carpinus betulus L.                                                                 65\n",
       "Previa maxima                                                                       60\n",
       "Vitex keniensis Turr                                                                56\n",
       "Quercus pubescens Willd.                                                            51\n",
       "Ulmus spp. L.                                                                       46\n",
       "Pistacia lentiscus  L.                                                              30\n",
       "Name: tree_species, Length: 246, dtype: int64"
      ]
     },
     "execution_count": 26,
     "metadata": {},
     "output_type": "execute_result"
    }
   ],
   "source": [
    "tree_df['tree_species'].value_counts()"
   ]
  },
  {
   "cell_type": "code",
   "execution_count": 3,
   "metadata": {},
   "outputs": [
    {
     "name": "stdout",
     "output_type": "stream",
     "text": [
      "(2062155, 7)\n"
     ]
    },
    {
     "data": {
      "text/plain": [
       "(120637, 7)"
      ]
     },
     "execution_count": 3,
     "metadata": {},
     "output_type": "execute_result"
    }
   ],
   "source": [
    "# How many have bad years\n",
    "print(tree_df.shape)\n",
    "tree_df[tree_df['year'] == -1].shape"
   ]
  },
  {
   "cell_type": "code",
   "execution_count": 4,
   "metadata": {},
   "outputs": [],
   "source": [
    "def get_5x5_grid(og_lat, og_lon, base=2.5):\n",
    "    lat1 = base * round((og_lat-2.5)/base)\n",
    "    lat2 = base * round((og_lat+2.5)/base)\n",
    "\n",
    "    lon1 = base * round((og_lon-2.5)/base)\n",
    "    lon2 = base * round((og_lon+2.5)/base)\n",
    "\n",
    "    if lat2-2.5 < og_lat:\n",
    "        lat2 += 2.5\n",
    "        lat1 += 2.5\n",
    "    else:\n",
    "        lat2 -= 2.5\n",
    "        lat1 -= 2.5\n",
    "\n",
    "    if lon2-2.5 < og_lon:\n",
    "        lon2 += 2.5\n",
    "        lon1 += 2.5\n",
    "    else:\n",
    "        lon2 -= 2.5\n",
    "        lon1 -= 2.5\n",
    "\n",
    "    if (lat1 % 5 )== 0 or (lat2 % 5 )== 0:\n",
    "        if lat1 < 0:\n",
    "            lat1 += 2.5\n",
    "            lat2 += 2.5\n",
    "        else: \n",
    "            lat1 -= 2.5\n",
    "            lat2 -= 2.5\n",
    "\n",
    "    if (lon1 % 5 )== 0 or (lon2 % 5 )== 0:\n",
    "        lon1 += 2.5\n",
    "        lon2 += 2.5\n",
    "\n",
    "    if (lat1 == -92.5 and lat2 == -87.5):\n",
    "        lat1 = -87.5\n",
    "        lat2 = -82.5\n",
    "    elif (lat1 == 87.5 and lat2 == 92.5):\n",
    "        lat1 = 82.5\n",
    "        lat2 = 87.5\n",
    "    \n",
    "    if (lon1 == 0.0 and lon2 == 5.0):\n",
    "        lon1 = 2.5\n",
    "        lon2 = 7.5\n",
    "    elif (lon1 == 355.0 and lon2 == 360.0):\n",
    "        lon1 = 352.5\n",
    "        lon2 = 357.5\n",
    "\n",
    "    return lat1, lat2, lon1, lon2"
   ]
  },
  {
   "cell_type": "code",
   "execution_count": 5,
   "metadata": {},
   "outputs": [],
   "source": [
    "temp_df['year'] = temp_df['time'].apply(lambda x: str(x)[0:4])\n",
    "temp_df = temp_df.dropna(subset=['anom'])\n",
    "temp_annual_df =  temp_df.groupby(['year', 'lat', 'lon']).agg({'anom': ['mean']}).reset_index()"
   ]
  },
  {
   "cell_type": "code",
   "execution_count": 31,
   "metadata": {},
   "outputs": [],
   "source": [
    "# given an observation row, return the row with the correct 5x5 temperature anomaly\n",
    "\n",
    "def get_gridded_temp_anom(lat, lon, year):\n",
    "    lat1, lat2, lon1, lon2 = get_5x5_grid(lat, lon)\n",
    "    temp_df_for_lat_lon = temp_df[((temp_df['lat'] == lat1) | (temp_df['lat'] == lat2)) &\n",
    "                                  ((temp_df['lon'] == lon1) | (temp_df['lon'] == lon2)) &\n",
    "                                  (temp_df['year'] == str(year))]\n",
    "    annual_temp_df_for_lat_lon = temp_df_for_lat_lon.groupby(['year']).agg({'anom': ['mean']}).reset_index()\n",
    "    if len(annual_temp_df_for_lat_lon[annual_temp_df_for_lat_lon['year']==str(year)]['anom']['mean'].tolist()) > 0:\n",
    "        temp_anom = annual_temp_df_for_lat_lon[annual_temp_df_for_lat_lon['year']==str(year)]['anom']['mean'].tolist()[0]\n",
    "        return temp_anom"
   ]
  },
  {
   "cell_type": "code",
   "execution_count": 33,
   "metadata": {},
   "outputs": [],
   "source": [
    "# run it on the data\n",
    "\n",
    "tree_df_temp = tree_df[tree_df['year'] > 1879]\n",
    "tree_df_temp = tree_df_temp[tree_df_temp['year'] < 2021]\n",
    "tree_df_temp = tree_df_temp[tree_df_temp['tree_species'] == 'Abies alba Mill.']\n",
    "tree_df_temp['temp_anom'] = tree_df.apply(lambda x: get_gridded_temp_anom(x['lat'], x['long'], x['year']), axis=1)\n",
    "tree_df_temp"
   ]
  }
 ],
 "metadata": {
  "interpreter": {
   "hash": "365cbab60d0a5140df95b3c5e40424a06d7260384923c43cfe08739e5d78531d"
  },
  "kernelspec": {
   "display_name": "Python 3.7.3 64-bit ('base': conda)",
   "name": "python3"
  },
  "language_info": {
   "codemirror_mode": {
    "name": "ipython",
    "version": 3
   },
   "file_extension": ".py",
   "mimetype": "text/x-python",
   "name": "python",
   "nbconvert_exporter": "python",
   "pygments_lexer": "ipython3",
   "version": "3.7.3"
  },
  "orig_nbformat": 4
 },
 "nbformat": 4,
 "nbformat_minor": 2
}
