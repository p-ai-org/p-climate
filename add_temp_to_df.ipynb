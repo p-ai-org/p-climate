{
 "cells": [
  {
   "cell_type": "code",
   "execution_count": 1,
   "source": [
    "import pandas as pd\n",
    "import numpy as np"
   ],
   "outputs": [],
   "metadata": {}
  },
  {
   "cell_type": "code",
   "execution_count": 2,
   "source": [
    "temp_df = pd.read_csv('NOAAGlobalTemp_v5a.csv')\n",
    "temp_df.head"
   ],
   "outputs": [
    {
     "output_type": "execute_result",
     "data": {
      "text/plain": [
       "<bound method NDFrame.head of                time   lat    lon    z  anom\n",
       "0        1880-01-01 -87.5    2.5  0.0   NaN\n",
       "1        1880-01-01 -87.5    7.5  0.0   NaN\n",
       "2        1880-01-01 -87.5   12.5  0.0   NaN\n",
       "3        1880-01-01 -87.5   17.5  0.0   NaN\n",
       "4        1880-01-01 -87.5   22.5  0.0   NaN\n",
       "...             ...   ...    ...  ...   ...\n",
       "4408987  2021-09-01  87.5  337.5  0.0   NaN\n",
       "4408988  2021-09-01  87.5  342.5  0.0   NaN\n",
       "4408989  2021-09-01  87.5  347.5  0.0   NaN\n",
       "4408990  2021-09-01  87.5  352.5  0.0   NaN\n",
       "4408991  2021-09-01  87.5  357.5  0.0   NaN\n",
       "\n",
       "[4408992 rows x 5 columns]>"
      ]
     },
     "metadata": {},
     "execution_count": 2
    }
   ],
   "metadata": {}
  },
  {
   "cell_type": "code",
   "execution_count": 7,
   "source": [
    "coral_df = pd.read_csv('all_coral.csv')\n",
    "coral_df.head"
   ],
   "outputs": [
    {
     "output_type": "execute_result",
     "data": {
      "text/plain": [
       "<bound method NDFrame.head of        Unnamed: 0      age    d18O    lat     lon elevation  \\\n",
       "0               0  1990.00 -4.1650  11.17  -60.85        -4   \n",
       "1               1  1989.00 -4.3400  11.17  -60.85        -4   \n",
       "2               2  1988.00 -4.1175  11.17  -60.85        -4   \n",
       "3               3  1987.00 -4.2375  11.17  -60.85        -4   \n",
       "4               4  1986.00 -4.4175  11.17  -60.85        -4   \n",
       "...           ...      ...     ...    ...     ...       ...   \n",
       "54245         848  1219.79 -4.5600   5.87 -162.13       NaN   \n",
       "54246         849  1219.88 -4.5600   5.87 -162.13       NaN   \n",
       "54247         850  1219.96 -4.6100   5.87 -162.13       NaN   \n",
       "54248         851  1220.04 -4.5100   5.87 -162.13       NaN   \n",
       "54249         852  1220.13 -4.4700   5.87 -162.13       NaN   \n",
       "\n",
       "                    species  \n",
       "0      Montastaea faveolata  \n",
       "1      Montastaea faveolata  \n",
       "2      Montastaea faveolata  \n",
       "3      Montastaea faveolata  \n",
       "4      Montastaea faveolata  \n",
       "...                     ...  \n",
       "54245        Porites lutea   \n",
       "54246        Porites lutea   \n",
       "54247        Porites lutea   \n",
       "54248        Porites lutea   \n",
       "54249        Porites lutea   \n",
       "\n",
       "[54250 rows x 7 columns]>"
      ]
     },
     "metadata": {},
     "execution_count": 7
    }
   ],
   "metadata": {}
  },
  {
   "cell_type": "code",
   "execution_count": 10,
   "source": [
    "temp_df.lat.unique()"
   ],
   "outputs": [
    {
     "output_type": "execute_result",
     "data": {
      "text/plain": [
       "array([-87.5, -82.5, -77.5, -72.5, -67.5, -62.5, -57.5, -52.5, -47.5,\n",
       "       -42.5, -37.5, -32.5, -27.5, -22.5, -17.5, -12.5,  -7.5,  -2.5,\n",
       "         2.5,   7.5,  12.5,  17.5,  22.5,  27.5,  32.5,  37.5,  42.5,\n",
       "        47.5,  52.5,  57.5,  62.5,  67.5,  72.5,  77.5,  82.5,  87.5])"
      ]
     },
     "metadata": {},
     "execution_count": 10
    }
   ],
   "metadata": {}
  },
  {
   "cell_type": "code",
   "execution_count": 11,
   "source": [
    "temp_df.lon.unique()"
   ],
   "outputs": [
    {
     "output_type": "execute_result",
     "data": {
      "text/plain": [
       "array([  2.5,   7.5,  12.5,  17.5,  22.5,  27.5,  32.5,  37.5,  42.5,\n",
       "        47.5,  52.5,  57.5,  62.5,  67.5,  72.5,  77.5,  82.5,  87.5,\n",
       "        92.5,  97.5, 102.5, 107.5, 112.5, 117.5, 122.5, 127.5, 132.5,\n",
       "       137.5, 142.5, 147.5, 152.5, 157.5, 162.5, 167.5, 172.5, 177.5,\n",
       "       182.5, 187.5, 192.5, 197.5, 202.5, 207.5, 212.5, 217.5, 222.5,\n",
       "       227.5, 232.5, 237.5, 242.5, 247.5, 252.5, 257.5, 262.5, 267.5,\n",
       "       272.5, 277.5, 282.5, 287.5, 292.5, 297.5, 302.5, 307.5, 312.5,\n",
       "       317.5, 322.5, 327.5, 332.5, 337.5, 342.5, 347.5, 352.5, 357.5])"
      ]
     },
     "metadata": {},
     "execution_count": 11
    }
   ],
   "metadata": {}
  },
  {
   "cell_type": "markdown",
   "source": [
    "Since this temperature dataset only has gridded increments of 5 degrees across both latitude and longitude, we need to find the closest gridded temp lat & long for each coral lat & long.\n",
    "\n",
    "We will be building 5x5 lat/lon grids around each data point!"
   ],
   "metadata": {}
  },
  {
   "cell_type": "code",
   "execution_count": 30,
   "source": [
    "def get_5x5_grid(og_lat, og_lon, base=2.5):\n",
    "    lat1 = base * round((og_lat-2.5)/base)\n",
    "    lat2 = base * round((og_lat+2.5)/base)\n",
    "    \n",
    "    print(str(lat1), str(lat2))\n",
    "\n",
    "    if lat2-2.5 < og_lat:\n",
    "        lat2 += 2.5\n",
    "        lat1 += 2.5\n",
    "    else:\n",
    "        lat2 -= 2.5\n",
    "        lat1 -= 2.5\n",
    "\n",
    "    print(str(lat1), str(lat2)) \n",
    "\n",
    "    if (lat1 % 5 )== 0:\n",
    "        if lat1 < 0:\n",
    "            lat1 += 2.5\n",
    "            lat2 += 2.5\n",
    "        else: \n",
    "            lat1 -= 2.5\n",
    "            lat2 -= 2.5\n",
    "\n",
    "    print(str(lat1), str(lat2)) \n",
    "\n",
    "    rounded_lat = base * round(og_lat/base)\n",
    "    rounded_lon = base * round(og_lon/base)\n",
    "    \n",
    "    \n",
    "    return lat1, lat2#, lon1, lon2"
   ],
   "outputs": [],
   "metadata": {}
  },
  {
   "cell_type": "code",
   "execution_count": 32,
   "source": [
    "get_5x5_grid(86, 0)"
   ],
   "outputs": [
    {
     "output_type": "stream",
     "name": "stdout",
     "text": [
      "82.5 87.5\n",
      "85.0 90.0\n",
      "87.5 92.5\n"
     ]
    },
    {
     "output_type": "execute_result",
     "data": {
      "text/plain": [
       "(87.5, 92.5)"
      ]
     },
     "metadata": {},
     "execution_count": 32
    }
   ],
   "metadata": {}
  },
  {
   "cell_type": "code",
   "execution_count": 16,
   "source": [
    "myround(6)\n",
    "\n",
    "#base_cases\n",
    "if rounded_lat == -87.5:\n",
    "    lat1, lat2 = -87.5, -82.5\n",
    "elif rounded_lat == 87.5:\n",
    "    lat1, lat2 = 82.5, 87.5\n",
    "# regular\n",
    "else:\n",
    "    if (rounded_lat // 5 )==0:\n",
    "        lat1 = rounded_lat - 2.5\n",
    "        lat2 = rounded_lat + 2.5\n",
    "    else: "
   ],
   "outputs": [
    {
     "output_type": "execute_result",
     "data": {
      "text/plain": [
       "5.0"
      ]
     },
     "metadata": {},
     "execution_count": 16
    }
   ],
   "metadata": {}
  },
  {
   "cell_type": "code",
   "execution_count": null,
   "source": [],
   "outputs": [],
   "metadata": {}
  }
 ],
 "metadata": {
  "orig_nbformat": 4,
  "language_info": {
   "name": "python",
   "version": "3.8.5",
   "mimetype": "text/x-python",
   "codemirror_mode": {
    "name": "ipython",
    "version": 3
   },
   "pygments_lexer": "ipython3",
   "nbconvert_exporter": "python",
   "file_extension": ".py"
  },
  "kernelspec": {
   "name": "python3",
   "display_name": "Python 3.8.5 64-bit ('.venv': venv)"
  },
  "interpreter": {
   "hash": "f969c20bddc0e8cccc77bc0328ca001a1a9f92a45fc1515440ba8f69194c0d5b"
  }
 },
 "nbformat": 4,
 "nbformat_minor": 2
}