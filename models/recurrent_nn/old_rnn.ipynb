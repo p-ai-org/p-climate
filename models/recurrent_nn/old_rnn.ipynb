{
 "cells": [
  {
   "cell_type": "code",
   "execution_count": 28,
   "source": [
    "import pandas as pd\n",
    "import numpy as np\n",
    "import matplotlib.pyplot as plt\n"
   ],
   "outputs": [],
   "metadata": {}
  },
  {
   "cell_type": "markdown",
   "source": [
    "historical_temps = pd.read_csv('../fully_connected_nn/preds_1880-1960_OUTSIDE.csv')\n",
    "# this is the file we created by running our `fully_connected_1960.ipynb` on data observations in the range 1880 - 1960\n",
    "historical_temps = historical_temps.drop('Unnamed: 0', axis=1)\n",
    "historical_temps"
   ],
   "metadata": {}
  },
  {
   "cell_type": "markdown",
   "source": [
    "We will run an RNN for both the NOAA `temp_anom`s and our own predicted `pred` temperature anomalies. Then, we will see how similar/different those predictions are."
   ],
   "metadata": {}
  },
  {
   "cell_type": "code",
   "execution_count": 30,
   "source": [
    "# flip the arrays so that they're goin in reverse order, and will thus predict the past rather than the future\n",
    "coral_temp_anoms = np.flip(np.array(historical_temps['pred']), axis=None)\n",
    "noaa_temp_anoms = np.flip(np.asarray(historical_temps['temp_anom']))\n",
    "coral_temp_anoms[:5], noaa_temp_anoms[:5]"
   ],
   "outputs": [
    {
     "output_type": "execute_result",
     "data": {
      "text/plain": [
       "(array([0.35283712, 0.34611344, 0.33838984, 0.33299208, 0.32665533]),\n",
       " array([-0.22745812, -0.25103928, -0.27221271, -0.65593149, -0.62889203]))"
      ]
     },
     "metadata": {},
     "execution_count": 30
    }
   ],
   "metadata": {}
  },
  {
   "cell_type": "code",
   "execution_count": 31,
   "source": [
    "len(coral_temp_anoms), len(noaa_temp_anoms)"
   ],
   "outputs": [
    {
     "output_type": "execute_result",
     "data": {
      "text/plain": [
       "(80, 80)"
      ]
     },
     "metadata": {},
     "execution_count": 31
    }
   ],
   "metadata": {}
  },
  {
   "cell_type": "markdown",
   "source": [
    "Predict the next annual temp anomaly based off of the previous 4."
   ],
   "metadata": {}
  },
  {
   "cell_type": "code",
   "execution_count": 32,
   "source": [
    "N = 80  # total unmber of records\n",
    "Tp = 65 # train on 65 records, test on 15"
   ],
   "outputs": [],
   "metadata": {}
  },
  {
   "cell_type": "code",
   "execution_count": 33,
   "source": [
    "coral_train, coral_test = coral_temp_anoms[0:Tp], coral_temp_anoms[Tp:N]\n",
    "noaa_train, noaa_test = noaa_temp_anoms[0:Tp], noaa_temp_anoms[Tp:N]"
   ],
   "outputs": [],
   "metadata": {}
  },
  {
   "cell_type": "code",
   "execution_count": 9,
   "source": [
    "len(coral_train), len(coral_test)"
   ],
   "outputs": [
    {
     "output_type": "execute_result",
     "data": {
      "text/plain": [
       "(65, 15)"
      ]
     },
     "metadata": {},
     "execution_count": 9
    }
   ],
   "metadata": {}
  },
  {
   "cell_type": "code",
   "execution_count": 10,
   "source": [
    "# predict the current year based on the past 4 years\n",
    "step = 4\n",
    "# add step elements into train and test\n",
    "coral_test = np.append(coral_test,np.repeat(coral_test[-1,],step))\n",
    "coral_train = np.append(coral_train,np.repeat(coral_train[-1,],step))\n",
    "\n",
    "noaa_test = np.append(noaa_test,np.repeat(noaa_test[-1,],step))\n",
    "noaa_train = np.append(noaa_train,np.repeat(noaa_train[-1,],step))"
   ],
   "outputs": [],
   "metadata": {}
  },
  {
   "cell_type": "code",
   "execution_count": 11,
   "source": [
    "# convert into dataset matrix\n",
    "def convertToMatrix(data, step):\n",
    " X, Y =[], []\n",
    " for i in range(len(data)-step):\n",
    "  d=i+step  \n",
    "  X.append(data[i:d,])\n",
    "  Y.append(data[d,])\n",
    " return np.array(X), np.array(Y)\n",
    "\n",
    "coral_trainX, coral_trainY = convertToMatrix(coral_train,step)\n",
    "coral_testX, coral_testY = convertToMatrix(coral_test,step)\n",
    "\n",
    "noaa_trainX, noaa_trainY = convertToMatrix(noaa_train,step)\n",
    "noaa_testX, noaa_testY = convertToMatrix(noaa_test,step)"
   ],
   "outputs": [],
   "metadata": {}
  },
  {
   "cell_type": "code",
   "execution_count": 12,
   "source": [
    "coral_trainX = np.reshape(coral_trainX, (coral_trainX.shape[0], 1, coral_trainX.shape[1]))\n",
    "coral_testX = np.reshape(coral_testX, (coral_testX.shape[0], 1, coral_testX.shape[1]))\n",
    "coral_testX.shape"
   ],
   "outputs": [
    {
     "output_type": "execute_result",
     "data": {
      "text/plain": [
       "(15, 1, 4)"
      ]
     },
     "metadata": {},
     "execution_count": 12
    }
   ],
   "metadata": {}
  },
  {
   "cell_type": "code",
   "execution_count": 13,
   "source": [
    "noaa_trainX = np.reshape(noaa_trainX, (noaa_trainX.shape[0], 1, noaa_trainX.shape[1]))\n",
    "noaa_testX = np.reshape(noaa_testX, (noaa_testX.shape[0], 1, noaa_testX.shape[1]))\n",
    "noaa_testX.shape"
   ],
   "outputs": [
    {
     "output_type": "execute_result",
     "data": {
      "text/plain": [
       "(15, 1, 4)"
      ]
     },
     "metadata": {},
     "execution_count": 13
    }
   ],
   "metadata": {}
  },
  {
   "cell_type": "code",
   "execution_count": 14,
   "source": [
    "from keras import Sequential\n",
    "from keras.layers import SimpleRNN, Dense"
   ],
   "outputs": [],
   "metadata": {}
  },
  {
   "cell_type": "code",
   "execution_count": 15,
   "source": [
    "# SimpleRNN model\n",
    "model = Sequential()\n",
    "model.add(SimpleRNN(units=32, input_shape=(1,step), activation=\"relu\"))\n",
    "model.add(Dense(8, activation=\"relu\")) \n",
    "model.add(Dense(1))\n",
    "model.compile(loss='mean_squared_error', optimizer='rmsprop')\n",
    "model.summary()"
   ],
   "outputs": [
    {
     "output_type": "stream",
     "name": "stdout",
     "text": [
      "Model: \"sequential_1\"\n",
      "_________________________________________________________________\n",
      "Layer (type)                 Output Shape              Param #   \n",
      "=================================================================\n",
      "simple_rnn (SimpleRNN)       (None, 32)                1184      \n",
      "_________________________________________________________________\n",
      "dense (Dense)                (None, 8)                 264       \n",
      "_________________________________________________________________\n",
      "dense_1 (Dense)              (None, 1)                 9         \n",
      "=================================================================\n",
      "Total params: 1,457\n",
      "Trainable params: 1,457\n",
      "Non-trainable params: 0\n",
      "_________________________________________________________________\n"
     ]
    }
   ],
   "metadata": {}
  },
  {
   "cell_type": "code",
   "execution_count": 16,
   "source": [
    "model.fit(coral_trainX,coral_trainY, epochs=100, batch_size=16, verbose=2)\n",
    "trainPredict = model.predict(coral_trainX)\n",
    "testPredict= model.predict(coral_testX)\n",
    "predicted=np.concatenate((trainPredict,testPredict),axis=0)"
   ],
   "outputs": [
    {
     "output_type": "stream",
     "name": "stdout",
     "text": [
      "Epoch 1/100\n",
      "5/5 - 1s - loss: 0.0210\n",
      "Epoch 2/100\n",
      "5/5 - 0s - loss: 0.0121\n",
      "Epoch 3/100\n",
      "5/5 - 0s - loss: 0.0075\n",
      "Epoch 4/100\n",
      "5/5 - 0s - loss: 0.0049\n",
      "Epoch 5/100\n",
      "5/5 - 0s - loss: 0.0029\n",
      "Epoch 6/100\n",
      "5/5 - 0s - loss: 0.0020\n",
      "Epoch 7/100\n",
      "5/5 - 0s - loss: 0.0014\n",
      "Epoch 8/100\n",
      "5/5 - 0s - loss: 9.1802e-04\n",
      "Epoch 9/100\n",
      "5/5 - 0s - loss: 5.8597e-04\n",
      "Epoch 10/100\n",
      "5/5 - 0s - loss: 4.1723e-04\n",
      "Epoch 11/100\n",
      "5/5 - 0s - loss: 3.6471e-04\n",
      "Epoch 12/100\n",
      "5/5 - 0s - loss: 2.9467e-04\n",
      "Epoch 13/100\n",
      "5/5 - 0s - loss: 2.2730e-04\n",
      "Epoch 14/100\n",
      "5/5 - 0s - loss: 1.9821e-04\n",
      "Epoch 15/100\n",
      "5/5 - 0s - loss: 1.4670e-04\n",
      "Epoch 16/100\n",
      "5/5 - 0s - loss: 1.5495e-04\n",
      "Epoch 17/100\n",
      "5/5 - 0s - loss: 1.1084e-04\n",
      "Epoch 18/100\n",
      "5/5 - 0s - loss: 5.9767e-05\n",
      "Epoch 19/100\n",
      "5/5 - 0s - loss: 5.6773e-05\n",
      "Epoch 20/100\n",
      "5/5 - 0s - loss: 4.4562e-05\n",
      "Epoch 21/100\n",
      "5/5 - 0s - loss: 6.2044e-05\n",
      "Epoch 22/100\n",
      "5/5 - 0s - loss: 3.9995e-05\n",
      "Epoch 23/100\n",
      "5/5 - 0s - loss: 4.4870e-05\n",
      "Epoch 24/100\n",
      "5/5 - 0s - loss: 8.4313e-05\n",
      "Epoch 25/100\n",
      "5/5 - 0s - loss: 2.3608e-05\n",
      "Epoch 26/100\n",
      "5/5 - 0s - loss: 5.6535e-05\n",
      "Epoch 27/100\n",
      "5/5 - 0s - loss: 8.7855e-05\n",
      "Epoch 28/100\n",
      "5/5 - 0s - loss: 1.2397e-05\n",
      "Epoch 29/100\n",
      "5/5 - 0s - loss: 2.0424e-05\n",
      "Epoch 30/100\n",
      "5/5 - 0s - loss: 7.8793e-05\n",
      "Epoch 31/100\n",
      "5/5 - 0s - loss: 1.8786e-05\n",
      "Epoch 32/100\n",
      "5/5 - 0s - loss: 1.6383e-05\n",
      "Epoch 33/100\n",
      "5/5 - 0s - loss: 2.9169e-05\n",
      "Epoch 34/100\n",
      "5/5 - 0s - loss: 5.4069e-05\n",
      "Epoch 35/100\n",
      "5/5 - 0s - loss: 5.5040e-05\n",
      "Epoch 36/100\n",
      "5/5 - 0s - loss: 1.1261e-05\n",
      "Epoch 37/100\n",
      "5/5 - 0s - loss: 6.7275e-05\n",
      "Epoch 38/100\n",
      "5/5 - 0s - loss: 1.3673e-05\n",
      "Epoch 39/100\n",
      "5/5 - 0s - loss: 4.9664e-05\n",
      "Epoch 40/100\n",
      "5/5 - 0s - loss: 7.5430e-05\n",
      "Epoch 41/100\n",
      "5/5 - 0s - loss: 1.4944e-05\n",
      "Epoch 42/100\n",
      "5/5 - 0s - loss: 1.4794e-05\n",
      "Epoch 43/100\n",
      "5/5 - 0s - loss: 1.0599e-04\n",
      "Epoch 44/100\n",
      "5/5 - 0s - loss: 3.0818e-05\n",
      "Epoch 45/100\n",
      "5/5 - 0s - loss: 6.5400e-05\n",
      "Epoch 46/100\n",
      "5/5 - 0s - loss: 2.4515e-05\n",
      "Epoch 47/100\n",
      "5/5 - 0s - loss: 3.7905e-05\n",
      "Epoch 48/100\n",
      "5/5 - 0s - loss: 2.1096e-05\n",
      "Epoch 49/100\n",
      "5/5 - 0s - loss: 4.3243e-05\n",
      "Epoch 50/100\n",
      "5/5 - 0s - loss: 2.7157e-05\n",
      "Epoch 51/100\n",
      "5/5 - 0s - loss: 7.9075e-05\n",
      "Epoch 52/100\n",
      "5/5 - 0s - loss: 3.6197e-05\n",
      "Epoch 53/100\n",
      "5/5 - 0s - loss: 6.2154e-05\n",
      "Epoch 54/100\n",
      "5/5 - 0s - loss: 1.2596e-05\n",
      "Epoch 55/100\n",
      "5/5 - 0s - loss: 9.9544e-05\n",
      "Epoch 56/100\n",
      "5/5 - 0s - loss: 1.0810e-05\n",
      "Epoch 57/100\n",
      "5/5 - 0s - loss: 2.1997e-05\n",
      "Epoch 58/100\n",
      "5/5 - 0s - loss: 5.8352e-05\n",
      "Epoch 59/100\n",
      "5/5 - 0s - loss: 2.1526e-05\n",
      "Epoch 60/100\n",
      "5/5 - 0s - loss: 1.0171e-04\n",
      "Epoch 61/100\n",
      "5/5 - 0s - loss: 2.2947e-05\n",
      "Epoch 62/100\n",
      "5/5 - 0s - loss: 1.1401e-05\n",
      "Epoch 63/100\n",
      "5/5 - 0s - loss: 2.8604e-05\n",
      "Epoch 64/100\n",
      "5/5 - 0s - loss: 6.0906e-05\n",
      "Epoch 65/100\n",
      "5/5 - 0s - loss: 3.9544e-05\n",
      "Epoch 66/100\n",
      "5/5 - 0s - loss: 4.9674e-05\n",
      "Epoch 67/100\n",
      "5/5 - 0s - loss: 6.7154e-06\n",
      "Epoch 68/100\n",
      "5/5 - 0s - loss: 5.7903e-05\n",
      "Epoch 69/100\n",
      "5/5 - 0s - loss: 9.6837e-06\n",
      "Epoch 70/100\n",
      "5/5 - 0s - loss: 7.2385e-05\n",
      "Epoch 71/100\n",
      "5/5 - 0s - loss: 4.6152e-05\n",
      "Epoch 72/100\n",
      "5/5 - 0s - loss: 9.2668e-06\n",
      "Epoch 73/100\n",
      "5/5 - 0s - loss: 7.6557e-05\n",
      "Epoch 74/100\n",
      "5/5 - 0s - loss: 1.6986e-05\n",
      "Epoch 75/100\n",
      "5/5 - 0s - loss: 5.1504e-05\n",
      "Epoch 76/100\n",
      "5/5 - 0s - loss: 4.7693e-05\n",
      "Epoch 77/100\n",
      "5/5 - 0s - loss: 6.9937e-06\n",
      "Epoch 78/100\n",
      "5/5 - 0s - loss: 7.4796e-05\n",
      "Epoch 79/100\n",
      "5/5 - 0s - loss: 3.9928e-05\n",
      "Epoch 80/100\n",
      "5/5 - 0s - loss: 2.6131e-05\n",
      "Epoch 81/100\n",
      "5/5 - 0s - loss: 5.8591e-05\n",
      "Epoch 82/100\n",
      "5/5 - 0s - loss: 1.2233e-05\n",
      "Epoch 83/100\n",
      "5/5 - 0s - loss: 1.9754e-05\n",
      "Epoch 84/100\n",
      "5/5 - 0s - loss: 5.3359e-05\n",
      "Epoch 85/100\n",
      "5/5 - 0s - loss: 2.2159e-05\n",
      "Epoch 86/100\n",
      "5/5 - 0s - loss: 5.4714e-05\n",
      "Epoch 87/100\n",
      "5/5 - 0s - loss: 1.1708e-05\n",
      "Epoch 88/100\n",
      "5/5 - 0s - loss: 1.0960e-05\n",
      "Epoch 89/100\n",
      "5/5 - 0s - loss: 5.1344e-05\n",
      "Epoch 90/100\n",
      "5/5 - 0s - loss: 1.6694e-05\n",
      "Epoch 91/100\n",
      "5/5 - 0s - loss: 2.9963e-05\n",
      "Epoch 92/100\n",
      "5/5 - 0s - loss: 1.8975e-05\n",
      "Epoch 93/100\n",
      "5/5 - 0s - loss: 7.9067e-05\n",
      "Epoch 94/100\n",
      "5/5 - 0s - loss: 1.6827e-05\n",
      "Epoch 95/100\n",
      "5/5 - 0s - loss: 9.4240e-06\n",
      "Epoch 96/100\n",
      "5/5 - 0s - loss: 4.9275e-05\n",
      "Epoch 97/100\n",
      "5/5 - 0s - loss: 4.6443e-05\n",
      "Epoch 98/100\n",
      "5/5 - 0s - loss: 1.0419e-05\n",
      "Epoch 99/100\n",
      "5/5 - 0s - loss: 4.1074e-05\n",
      "Epoch 100/100\n",
      "5/5 - 0s - loss: 1.4234e-05\n"
     ]
    }
   ],
   "metadata": {}
  },
  {
   "cell_type": "code",
   "execution_count": 17,
   "source": [
    "#Next, we'll check the loss\n",
    "trainScore = model.evaluate(coral_trainX, coral_trainY, verbose=0)\n",
    "print(trainScore)"
   ],
   "outputs": [
    {
     "output_type": "stream",
     "name": "stdout",
     "text": [
      "5.707129093934782e-05\n"
     ]
    }
   ],
   "metadata": {}
  },
  {
   "cell_type": "code",
   "execution_count": 18,
   "source": [
    "# put them in the right order again\n",
    "predicted = np.flip(predicted)"
   ],
   "outputs": [],
   "metadata": {}
  },
  {
   "cell_type": "code",
   "execution_count": 19,
   "source": [
    "# Finally, we check the result in a plot. \n",
    "index = historical_temps['year'].values\n",
    "plt.plot(index,historical_temps['pred'], color = 'blue')\n",
    "#plt.plot(index,historical_temps['temp_anom'], color = 'green')\n",
    "plt.plot(index,predicted, color=\"orange\")\n",
    "# A vertical line in a plot identifies a splitting point between the training and the test part.\n",
    "plt.axvline(historical_temps['year'][N - Tp], c=\"r\")\n",
    "plt.title('RNN Applied to Predicted Temperature Data from Fully-Connected Model\\n\\nRNN Model was run backwards (1960 --> 1880)\\nRed Line = Start of Test Data (1895 - 1880)')\n",
    "plt.ylabel('Temp Anom')\n",
    "plt.show() "
   ],
   "outputs": [
    {
     "output_type": "display_data",
     "data": {
      "text/plain": [
       "<Figure size 432x288 with 1 Axes>"
      ],
      "image/png": "[encoded data removed]"
     },
     "metadata": {
      "needs_background": "light"
     }
    }
   ],
   "metadata": {}
  },
  {
   "cell_type": "code",
   "execution_count": 20,
   "source": [
    "model.fit(noaa_trainX,noaa_trainY, epochs=100, batch_size=16, verbose=2)\n",
    "trainPredict_noaa = model.predict(noaa_trainX)\n",
    "testPredict_noaa= model.predict(noaa_testX)\n",
    "predicted_noaa=np.concatenate((trainPredict_noaa,testPredict_noaa),axis=0)"
   ],
   "outputs": [
    {
     "output_type": "stream",
     "name": "stdout",
     "text": [
      "Epoch 1/100\n",
      "5/5 - 0s - loss: 0.0310\n",
      "Epoch 2/100\n",
      "5/5 - 0s - loss: 0.0284\n",
      "Epoch 3/100\n",
      "5/5 - 0s - loss: 0.0265\n",
      "Epoch 4/100\n",
      "5/5 - 0s - loss: 0.0255\n",
      "Epoch 5/100\n",
      "5/5 - 0s - loss: 0.0248\n",
      "Epoch 6/100\n",
      "5/5 - 0s - loss: 0.0245\n",
      "Epoch 7/100\n",
      "5/5 - 0s - loss: 0.0238\n",
      "Epoch 8/100\n",
      "5/5 - 0s - loss: 0.0233\n",
      "Epoch 9/100\n",
      "5/5 - 0s - loss: 0.0228\n",
      "Epoch 10/100\n",
      "5/5 - 0s - loss: 0.0221\n",
      "Epoch 11/100\n",
      "5/5 - 0s - loss: 0.0221\n",
      "Epoch 12/100\n",
      "5/5 - 0s - loss: 0.0217\n",
      "Epoch 13/100\n",
      "5/5 - 0s - loss: 0.0208\n",
      "Epoch 14/100\n",
      "5/5 - 0s - loss: 0.0208\n",
      "Epoch 15/100\n",
      "5/5 - 0s - loss: 0.0209\n",
      "Epoch 16/100\n",
      "5/5 - 0s - loss: 0.0200\n",
      "Epoch 17/100\n",
      "5/5 - 0s - loss: 0.0197\n",
      "Epoch 18/100\n",
      "5/5 - 0s - loss: 0.0200\n",
      "Epoch 19/100\n",
      "5/5 - 0s - loss: 0.0191\n",
      "Epoch 20/100\n",
      "5/5 - 0s - loss: 0.0201\n",
      "Epoch 21/100\n",
      "5/5 - 0s - loss: 0.0191\n",
      "Epoch 22/100\n",
      "5/5 - 0s - loss: 0.0195\n",
      "Epoch 23/100\n",
      "5/5 - 0s - loss: 0.0191\n",
      "Epoch 24/100\n",
      "5/5 - 0s - loss: 0.0187\n",
      "Epoch 25/100\n",
      "5/5 - 0s - loss: 0.0183\n",
      "Epoch 26/100\n",
      "5/5 - 0s - loss: 0.0182\n",
      "Epoch 27/100\n",
      "5/5 - 0s - loss: 0.0179\n",
      "Epoch 28/100\n",
      "5/5 - 0s - loss: 0.0177\n",
      "Epoch 29/100\n",
      "5/5 - 0s - loss: 0.0175\n",
      "Epoch 30/100\n",
      "5/5 - 0s - loss: 0.0184\n",
      "Epoch 31/100\n",
      "5/5 - 0s - loss: 0.0177\n",
      "Epoch 32/100\n",
      "5/5 - 0s - loss: 0.0183\n",
      "Epoch 33/100\n",
      "5/5 - 0s - loss: 0.0176\n",
      "Epoch 34/100\n",
      "5/5 - 0s - loss: 0.0176\n",
      "Epoch 35/100\n",
      "5/5 - 0s - loss: 0.0190\n",
      "Epoch 36/100\n",
      "5/5 - 0s - loss: 0.0171\n",
      "Epoch 37/100\n",
      "5/5 - 0s - loss: 0.0170\n",
      "Epoch 38/100\n",
      "5/5 - 0s - loss: 0.0170\n",
      "Epoch 39/100\n",
      "5/5 - 0s - loss: 0.0181\n",
      "Epoch 40/100\n",
      "5/5 - 0s - loss: 0.0187\n",
      "Epoch 41/100\n",
      "5/5 - 0s - loss: 0.0170\n",
      "Epoch 42/100\n",
      "5/5 - 0s - loss: 0.0180\n",
      "Epoch 43/100\n",
      "5/5 - 0s - loss: 0.0170\n",
      "Epoch 44/100\n",
      "5/5 - 0s - loss: 0.0174\n",
      "Epoch 45/100\n",
      "5/5 - 0s - loss: 0.0168\n",
      "Epoch 46/100\n",
      "5/5 - 0s - loss: 0.0172\n",
      "Epoch 47/100\n",
      "5/5 - 0s - loss: 0.0168\n",
      "Epoch 48/100\n",
      "5/5 - 0s - loss: 0.0166\n",
      "Epoch 49/100\n",
      "5/5 - 0s - loss: 0.0169\n",
      "Epoch 50/100\n",
      "5/5 - 0s - loss: 0.0172\n",
      "Epoch 51/100\n",
      "5/5 - 0s - loss: 0.0173\n",
      "Epoch 52/100\n",
      "5/5 - 0s - loss: 0.0181\n",
      "Epoch 53/100\n",
      "5/5 - 0s - loss: 0.0170\n",
      "Epoch 54/100\n",
      "5/5 - 0s - loss: 0.0177\n",
      "Epoch 55/100\n",
      "5/5 - 0s - loss: 0.0168\n",
      "Epoch 56/100\n",
      "5/5 - 0s - loss: 0.0170\n",
      "Epoch 57/100\n",
      "5/5 - 0s - loss: 0.0168\n",
      "Epoch 58/100\n",
      "5/5 - 0s - loss: 0.0165\n",
      "Epoch 59/100\n",
      "5/5 - 0s - loss: 0.0166\n",
      "Epoch 60/100\n",
      "5/5 - 0s - loss: 0.0172\n",
      "Epoch 61/100\n",
      "5/5 - 0s - loss: 0.0164\n",
      "Epoch 62/100\n",
      "5/5 - 0s - loss: 0.0162\n",
      "Epoch 63/100\n",
      "5/5 - 0s - loss: 0.0180\n",
      "Epoch 64/100\n",
      "5/5 - 0s - loss: 0.0164\n",
      "Epoch 65/100\n",
      "5/5 - 0s - loss: 0.0176\n",
      "Epoch 66/100\n",
      "5/5 - 0s - loss: 0.0169\n",
      "Epoch 67/100\n",
      "5/5 - 0s - loss: 0.0174\n",
      "Epoch 68/100\n",
      "5/5 - 0s - loss: 0.0167\n",
      "Epoch 69/100\n",
      "5/5 - 0s - loss: 0.0170\n",
      "Epoch 70/100\n",
      "5/5 - 0s - loss: 0.0164\n",
      "Epoch 71/100\n",
      "5/5 - 0s - loss: 0.0170\n",
      "Epoch 72/100\n",
      "5/5 - 0s - loss: 0.0164\n",
      "Epoch 73/100\n",
      "5/5 - 0s - loss: 0.0179\n",
      "Epoch 74/100\n",
      "5/5 - 0s - loss: 0.0168\n",
      "Epoch 75/100\n",
      "5/5 - 0s - loss: 0.0161\n",
      "Epoch 76/100\n",
      "5/5 - 0s - loss: 0.0170\n",
      "Epoch 77/100\n",
      "5/5 - 0s - loss: 0.0161\n",
      "Epoch 78/100\n",
      "5/5 - 0s - loss: 0.0172\n",
      "Epoch 79/100\n",
      "5/5 - 0s - loss: 0.0166\n",
      "Epoch 80/100\n",
      "5/5 - 0s - loss: 0.0165\n",
      "Epoch 81/100\n",
      "5/5 - 0s - loss: 0.0162\n",
      "Epoch 82/100\n",
      "5/5 - 0s - loss: 0.0178\n",
      "Epoch 83/100\n",
      "5/5 - 0s - loss: 0.0161\n",
      "Epoch 84/100\n",
      "5/5 - 0s - loss: 0.0174\n",
      "Epoch 85/100\n",
      "5/5 - 0s - loss: 0.0165\n",
      "Epoch 86/100\n",
      "5/5 - 0s - loss: 0.0164\n",
      "Epoch 87/100\n",
      "5/5 - 0s - loss: 0.0167\n",
      "Epoch 88/100\n",
      "5/5 - 0s - loss: 0.0165\n",
      "Epoch 89/100\n",
      "5/5 - 0s - loss: 0.0162\n",
      "Epoch 90/100\n",
      "5/5 - 0s - loss: 0.0169\n",
      "Epoch 91/100\n",
      "5/5 - 0s - loss: 0.0159\n",
      "Epoch 92/100\n",
      "5/5 - 0s - loss: 0.0159\n",
      "Epoch 93/100\n",
      "5/5 - 0s - loss: 0.0173\n",
      "Epoch 94/100\n",
      "5/5 - 0s - loss: 0.0169\n",
      "Epoch 95/100\n",
      "5/5 - 0s - loss: 0.0166\n",
      "Epoch 96/100\n",
      "5/5 - 0s - loss: 0.0173\n",
      "Epoch 97/100\n",
      "5/5 - 0s - loss: 0.0163\n",
      "Epoch 98/100\n",
      "5/5 - 0s - loss: 0.0166\n",
      "Epoch 99/100\n",
      "5/5 - 0s - loss: 0.0163\n",
      "Epoch 100/100\n",
      "5/5 - 0s - loss: 0.0160\n"
     ]
    }
   ],
   "metadata": {}
  },
  {
   "cell_type": "code",
   "execution_count": 21,
   "source": [
    "#Next, we'll check the loss\n",
    "trainScore = model.evaluate(noaa_trainX, noaa_trainY, verbose=0)\n",
    "print(trainScore)"
   ],
   "outputs": [
    {
     "output_type": "stream",
     "name": "stdout",
     "text": [
      "0.015670571476221085\n"
     ]
    }
   ],
   "metadata": {}
  },
  {
   "cell_type": "code",
   "execution_count": 22,
   "source": [
    "# put them in the right order again\n",
    "predicted_noaa = np.flip(predicted_noaa)"
   ],
   "outputs": [],
   "metadata": {}
  },
  {
   "cell_type": "code",
   "execution_count": 27,
   "source": [
    "# Finally, we check the result in a plot. \n",
    "index = historical_temps['year'].values\n",
    "#plt.plot(index,historical_temps['pred'], color = 'blue')\n",
    "plt.plot(index,historical_temps['temp_anom'], color = 'C0')\n",
    "plt.plot(index,predicted_noaa, color=\"C1\")\n",
    "# A vertical line in a plot identifies a splitting point between the training and the test part.\n",
    "plt.axvline(historical_temps['year'][N - Tp], c=\"r\")\n",
    "plt.title('RNN Applied to Actual Temperature Data\\n\\nActual Model was run backwards (1960 --> 1880)\\nRed Line = Start of Test Data (1895 - 1880)')\n",
    "plt.ylabel('Temp Anom')\n",
    "plt.show() "
   ],
   "outputs": [
    {
     "output_type": "display_data",
     "data": {
      "text/plain": [
       "<Figure size 432x288 with 1 Axes>"
      ],
      "image/png": "[encoded data removed]"
     },
     "metadata": {
      "needs_background": "light"
     }
    }
   ],
   "metadata": {}
  },
  {
   "cell_type": "code",
   "execution_count": 26,
   "source": [
    "# Finally, we check the result in a plot. \n",
    "index = historical_temps['year'].values\n",
    "plt.plot(index,historical_temps['pred'], color = 'blue')\n",
    "plt.plot(index,predicted, color=\"orange\")\n",
    "plt.plot(index,historical_temps['temp_anom'], color = 'blue')\n",
    "plt.plot(index,predicted_noaa, color=\"orange\")\n",
    "# A vertical line in a plot identifies a splitting point between the training and the test part.\n",
    "plt.axvline(historical_temps['year'][N - Tp], c=\"r\")\n",
    "plt.title('RNN Applied to Actual Temperature Data\\n\\nActual Model was run backwards (1960 --> 1880)\\nRed Line = Start of Test Data (1895 - 1880)')\n",
    "plt.ylabel('Temp Anom')\n",
    "plt.show() "
   ],
   "outputs": [
    {
     "output_type": "display_data",
     "data": {
      "text/plain": [
       "<Figure size 432x288 with 1 Axes>"
      ],
      "image/png": "[encoded data removed]"
     },
     "metadata": {
      "needs_background": "light"
     }
    }
   ],
   "metadata": {}
  },
  {
   "cell_type": "code",
   "execution_count": null,
   "source": [],
   "outputs": [],
   "metadata": {}
  }
 ],
 "metadata": {
  "orig_nbformat": 4,
  "language_info": {
   "name": "python",
   "version": "3.8.5",
   "mimetype": "text/x-python",
   "codemirror_mode": {
    "name": "ipython",
    "version": 3
   },
   "pygments_lexer": "ipython3",
   "nbconvert_exporter": "python",
   "file_extension": ".py"
  },
  "kernelspec": {
   "name": "python3",
   "display_name": "Python 3.8.5 64-bit"
  },
  "interpreter": {
   "hash": "d0c7e0373360c0398b3823388552e4599ebb30cc354d57c8febec5023c974254"
  }
 },
 "nbformat": 4,
 "nbformat_minor": 2
}