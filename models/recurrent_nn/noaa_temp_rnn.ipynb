{
 "cells": [
  {
   "cell_type": "code",
   "execution_count": 1,
   "source": [
    "import pandas as pd\n",
    "import numpy as np\n",
    "import matplotlib.pyplot as plt"
   ],
   "outputs": [],
   "metadata": {}
  },
  {
   "cell_type": "code",
   "execution_count": 9,
   "source": [
    "historical_temps_18801959 = pd.read_csv('../fully_connected_nn/preds_1880-1960_OUTSIDE.csv')\n",
    "historical_temps_19602012 = pd.read_csv('../fully_connected_nn/preds_1960-2012_WITHIN.csv')\n",
    "\n",
    "# this is the file we created by running our `fully_connected_1960.ipynb` on data observations in the range 1880 - 1960\n",
    "historical_temps = pd.concat([historical_temps_18801959, historical_temps_19602012]).reset_index(drop=True)\n",
    "historical_temps"
   ],
   "outputs": [
    {
     "output_type": "execute_result",
     "data": {
      "text/plain": [
       "     Unnamed: 0    year  temp_anom      pred\n",
       "0             0  1880.0  -0.580696 -0.301994\n",
       "1             1  1881.0  -0.437284 -0.304912\n",
       "2             2  1882.0  -0.448660 -0.292852\n",
       "3             3  1883.0  -0.535872 -0.288944\n",
       "4             4  1884.0  -0.577859 -0.279507\n",
       "..          ...     ...        ...       ...\n",
       "128          48  2008.0   0.262481  0.423056\n",
       "129          49  2009.0   0.351948  0.487363\n",
       "130          50  2010.0   0.760148  0.333517\n",
       "131          51  2011.0   0.519282  0.475413\n",
       "132          52  2012.0   0.498143  0.526378\n",
       "\n",
       "[133 rows x 4 columns]"
      ],
      "text/html": [
       "<div>\n",
       "<style scoped>\n",
       "    .dataframe tbody tr th:only-of-type {\n",
       "        vertical-align: middle;\n",
       "    }\n",
       "\n",
       "    .dataframe tbody tr th {\n",
       "        vertical-align: top;\n",
       "    }\n",
       "\n",
       "    .dataframe thead th {\n",
       "        text-align: right;\n",
       "    }\n",
       "</style>\n",
       "<table border=\"1\" class=\"dataframe\">\n",
       "  <thead>\n",
       "    <tr style=\"text-align: right;\">\n",
       "      <th></th>\n",
       "      <th>Unnamed: 0</th>\n",
       "      <th>year</th>\n",
       "      <th>temp_anom</th>\n",
       "      <th>pred</th>\n",
       "    </tr>\n",
       "  </thead>\n",
       "  <tbody>\n",
       "    <tr>\n",
       "      <th>0</th>\n",
       "      <td>0</td>\n",
       "      <td>1880.0</td>\n",
       "      <td>-0.580696</td>\n",
       "      <td>-0.301994</td>\n",
       "    </tr>\n",
       "    <tr>\n",
       "      <th>1</th>\n",
       "      <td>1</td>\n",
       "      <td>1881.0</td>\n",
       "      <td>-0.437284</td>\n",
       "      <td>-0.304912</td>\n",
       "    </tr>\n",
       "    <tr>\n",
       "      <th>2</th>\n",
       "      <td>2</td>\n",
       "      <td>1882.0</td>\n",
       "      <td>-0.448660</td>\n",
       "      <td>-0.292852</td>\n",
       "    </tr>\n",
       "    <tr>\n",
       "      <th>3</th>\n",
       "      <td>3</td>\n",
       "      <td>1883.0</td>\n",
       "      <td>-0.535872</td>\n",
       "      <td>-0.288944</td>\n",
       "    </tr>\n",
       "    <tr>\n",
       "      <th>4</th>\n",
       "      <td>4</td>\n",
       "      <td>1884.0</td>\n",
       "      <td>-0.577859</td>\n",
       "      <td>-0.279507</td>\n",
       "    </tr>\n",
       "    <tr>\n",
       "      <th>...</th>\n",
       "      <td>...</td>\n",
       "      <td>...</td>\n",
       "      <td>...</td>\n",
       "      <td>...</td>\n",
       "    </tr>\n",
       "    <tr>\n",
       "      <th>128</th>\n",
       "      <td>48</td>\n",
       "      <td>2008.0</td>\n",
       "      <td>0.262481</td>\n",
       "      <td>0.423056</td>\n",
       "    </tr>\n",
       "    <tr>\n",
       "      <th>129</th>\n",
       "      <td>49</td>\n",
       "      <td>2009.0</td>\n",
       "      <td>0.351948</td>\n",
       "      <td>0.487363</td>\n",
       "    </tr>\n",
       "    <tr>\n",
       "      <th>130</th>\n",
       "      <td>50</td>\n",
       "      <td>2010.0</td>\n",
       "      <td>0.760148</td>\n",
       "      <td>0.333517</td>\n",
       "    </tr>\n",
       "    <tr>\n",
       "      <th>131</th>\n",
       "      <td>51</td>\n",
       "      <td>2011.0</td>\n",
       "      <td>0.519282</td>\n",
       "      <td>0.475413</td>\n",
       "    </tr>\n",
       "    <tr>\n",
       "      <th>132</th>\n",
       "      <td>52</td>\n",
       "      <td>2012.0</td>\n",
       "      <td>0.498143</td>\n",
       "      <td>0.526378</td>\n",
       "    </tr>\n",
       "  </tbody>\n",
       "</table>\n",
       "<p>133 rows × 4 columns</p>\n",
       "</div>"
      ]
     },
     "metadata": {},
     "execution_count": 9
    }
   ],
   "metadata": {}
  },
  {
   "cell_type": "code",
   "execution_count": 10,
   "source": [
    "# flip the arrays so that they're goin in reverse order, and will thus predict the past rather than the future\n",
    "noaa_temp_anoms = np.flip(np.asarray(historical_temps['temp_anom']))\n",
    "noaa_temp_anoms[:5], len(noaa_temp_anoms)"
   ],
   "outputs": [
    {
     "output_type": "execute_result",
     "data": {
      "text/plain": [
       "(array([0.49814306, 0.51928214, 0.76014816, 0.35194782, 0.26248107]), 133)"
      ]
     },
     "metadata": {},
     "execution_count": 10
    }
   ],
   "metadata": {}
  },
  {
   "cell_type": "code",
   "execution_count": 11,
   "source": [
    "#Predict the next annual temp anomaly based off of the previous 4.\n",
    "N = 133  # total unmber of records\n",
    "Tp = 54 # train on 54 records, test on 79"
   ],
   "outputs": [],
   "metadata": {}
  },
  {
   "cell_type": "code",
   "execution_count": 12,
   "source": [
    "noaa_train, noaa_test = noaa_temp_anoms[0:Tp], noaa_temp_anoms[Tp:N]"
   ],
   "outputs": [],
   "metadata": {}
  },
  {
   "cell_type": "code",
   "execution_count": 13,
   "source": [
    "# predict the current year based on the past 4 years\n",
    "step = 4\n",
    "# add step elements into train and test\n",
    "noaa_test = np.append(noaa_test,np.repeat(noaa_test[-1,],step))\n",
    "noaa_train = np.append(noaa_train,np.repeat(noaa_train[-1,],step))"
   ],
   "outputs": [],
   "metadata": {}
  },
  {
   "cell_type": "code",
   "execution_count": 14,
   "source": [
    "# convert into dataset matrix\n",
    "def convertToMatrix(data, step):\n",
    " X, Y =[], []\n",
    " for i in range(len(data)-step):\n",
    "  d=i+step  \n",
    "  X.append(data[i:d,])\n",
    "  Y.append(data[d,])\n",
    " return np.array(X), np.array(Y)"
   ],
   "outputs": [],
   "metadata": {}
  },
  {
   "cell_type": "code",
   "execution_count": 15,
   "source": [
    "noaa_trainX, noaa_trainY = convertToMatrix(noaa_train,step)\n",
    "noaa_testX, noaa_testY = convertToMatrix(noaa_test,step)"
   ],
   "outputs": [],
   "metadata": {}
  },
  {
   "cell_type": "code",
   "execution_count": 16,
   "source": [
    "noaa_trainX = np.reshape(noaa_trainX, (noaa_trainX.shape[0], 1, noaa_trainX.shape[1]))\n",
    "noaa_testX = np.reshape(noaa_testX, (noaa_testX.shape[0], 1, noaa_testX.shape[1]))\n",
    "noaa_testX.shape"
   ],
   "outputs": [
    {
     "output_type": "execute_result",
     "data": {
      "text/plain": [
       "(79, 1, 4)"
      ]
     },
     "metadata": {},
     "execution_count": 16
    }
   ],
   "metadata": {}
  },
  {
   "cell_type": "code",
   "execution_count": 17,
   "source": [
    "from keras import Sequential\n",
    "from keras.layers import SimpleRNN, Dense"
   ],
   "outputs": [],
   "metadata": {}
  },
  {
   "cell_type": "code",
   "execution_count": 21,
   "source": [
    "# SimpleRNN model\n",
    "model = Sequential()\n",
    "model.add(SimpleRNN(units=32, input_shape=(1,step), activation=\"relu\"))\n",
    "model.add(Dense(8, activation=\"relu\")) \n",
    "model.add(Dense(1))\n",
    "model.compile(loss='mean_squared_error', optimizer='rmsprop')\n",
    "model.summary()\n",
    "# model.fit(noaa_trainX,noaa_trainY, epochs=100, batch_size=16, verbose=2)"
   ],
   "outputs": [
    {
     "output_type": "stream",
     "name": "stdout",
     "text": [
      "Model: \"sequential_2\"\n",
      "_________________________________________________________________\n",
      "Layer (type)                 Output Shape              Param #   \n",
      "=================================================================\n",
      "simple_rnn_2 (SimpleRNN)     (None, 32)                1184      \n",
      "_________________________________________________________________\n",
      "dense_4 (Dense)              (None, 8)                 264       \n",
      "_________________________________________________________________\n",
      "dense_5 (Dense)              (None, 1)                 9         \n",
      "=================================================================\n",
      "Total params: 1,457\n",
      "Trainable params: 1,457\n",
      "Non-trainable params: 0\n",
      "_________________________________________________________________\n"
     ]
    }
   ],
   "metadata": {}
  },
  {
   "cell_type": "code",
   "execution_count": 20,
   "source": [
    "model.fit(noaa_trainX,noaa_trainY, epochs=100, batch_size=16, verbose=2)\n",
    "trainPredict_noaa = model.predict(noaa_trainX)\n",
    "testPredict_noaa= model.predict(noaa_testX)\n",
    "predicted_noaa=np.concatenate((trainPredict_noaa,testPredict_noaa),axis=0)\n"
   ],
   "outputs": [
    {
     "output_type": "stream",
     "name": "stdout",
     "text": [
      "Epoch 1/100\n",
      "4/4 - 0s - loss: 0.0168\n",
      "Epoch 2/100\n",
      "4/4 - 0s - loss: 0.0168\n",
      "Epoch 3/100\n",
      "4/4 - 0s - loss: 0.0168\n",
      "Epoch 4/100\n",
      "4/4 - 0s - loss: 0.0167\n",
      "Epoch 5/100\n",
      "4/4 - 0s - loss: 0.0166\n",
      "Epoch 6/100\n",
      "4/4 - 0s - loss: 0.0165\n",
      "Epoch 7/100\n",
      "4/4 - 0s - loss: 0.0167\n",
      "Epoch 8/100\n",
      "4/4 - 0s - loss: 0.0168\n",
      "Epoch 9/100\n",
      "4/4 - 0s - loss: 0.0167\n",
      "Epoch 10/100\n",
      "4/4 - 0s - loss: 0.0168\n",
      "Epoch 11/100\n",
      "4/4 - 0s - loss: 0.0164\n",
      "Epoch 12/100\n",
      "4/4 - 0s - loss: 0.0164\n",
      "Epoch 13/100\n",
      "4/4 - 0s - loss: 0.0165\n",
      "Epoch 14/100\n",
      "4/4 - 0s - loss: 0.0165\n",
      "Epoch 15/100\n",
      "4/4 - 0s - loss: 0.0168\n",
      "Epoch 16/100\n",
      "4/4 - 0s - loss: 0.0165\n",
      "Epoch 17/100\n",
      "4/4 - 0s - loss: 0.0165\n",
      "Epoch 18/100\n",
      "4/4 - 0s - loss: 0.0164\n",
      "Epoch 19/100\n",
      "4/4 - 0s - loss: 0.0164\n",
      "Epoch 20/100\n",
      "4/4 - 0s - loss: 0.0164\n",
      "Epoch 21/100\n",
      "4/4 - 0s - loss: 0.0164\n",
      "Epoch 22/100\n",
      "4/4 - 0s - loss: 0.0164\n",
      "Epoch 23/100\n",
      "4/4 - 0s - loss: 0.0164\n",
      "Epoch 24/100\n",
      "4/4 - 0s - loss: 0.0166\n",
      "Epoch 25/100\n",
      "4/4 - 0s - loss: 0.0164\n",
      "Epoch 26/100\n",
      "4/4 - 0s - loss: 0.0162\n",
      "Epoch 27/100\n",
      "4/4 - 0s - loss: 0.0162\n",
      "Epoch 28/100\n",
      "4/4 - 0s - loss: 0.0162\n",
      "Epoch 29/100\n",
      "4/4 - 0s - loss: 0.0162\n",
      "Epoch 30/100\n",
      "4/4 - 0s - loss: 0.0161\n",
      "Epoch 31/100\n",
      "4/4 - 0s - loss: 0.0162\n",
      "Epoch 32/100\n",
      "4/4 - 0s - loss: 0.0162\n",
      "Epoch 33/100\n",
      "4/4 - 0s - loss: 0.0163\n",
      "Epoch 34/100\n",
      "4/4 - 0s - loss: 0.0161\n",
      "Epoch 35/100\n",
      "4/4 - 0s - loss: 0.0161\n",
      "Epoch 36/100\n",
      "4/4 - 0s - loss: 0.0163\n",
      "Epoch 37/100\n",
      "4/4 - 0s - loss: 0.0161\n",
      "Epoch 38/100\n",
      "4/4 - 0s - loss: 0.0160\n",
      "Epoch 39/100\n",
      "4/4 - 0s - loss: 0.0162\n",
      "Epoch 40/100\n",
      "4/4 - 0s - loss: 0.0160\n",
      "Epoch 41/100\n",
      "4/4 - 0s - loss: 0.0159\n",
      "Epoch 42/100\n",
      "4/4 - 0s - loss: 0.0159\n",
      "Epoch 43/100\n",
      "4/4 - 0s - loss: 0.0159\n",
      "Epoch 44/100\n",
      "4/4 - 0s - loss: 0.0159\n",
      "Epoch 45/100\n",
      "4/4 - 0s - loss: 0.0160\n",
      "Epoch 46/100\n",
      "4/4 - 0s - loss: 0.0158\n",
      "Epoch 47/100\n",
      "4/4 - 0s - loss: 0.0158\n",
      "Epoch 48/100\n",
      "4/4 - 0s - loss: 0.0158\n",
      "Epoch 49/100\n",
      "4/4 - 0s - loss: 0.0160\n",
      "Epoch 50/100\n",
      "4/4 - 0s - loss: 0.0158\n",
      "Epoch 51/100\n",
      "4/4 - 0s - loss: 0.0157\n",
      "Epoch 52/100\n",
      "4/4 - 0s - loss: 0.0158\n",
      "Epoch 53/100\n",
      "4/4 - 0s - loss: 0.0157\n",
      "Epoch 54/100\n",
      "4/4 - 0s - loss: 0.0157\n",
      "Epoch 55/100\n",
      "4/4 - 0s - loss: 0.0161\n",
      "Epoch 56/100\n",
      "4/4 - 0s - loss: 0.0156\n",
      "Epoch 57/100\n",
      "4/4 - 0s - loss: 0.0156\n",
      "Epoch 58/100\n",
      "4/4 - 0s - loss: 0.0157\n",
      "Epoch 59/100\n",
      "4/4 - 0s - loss: 0.0157\n",
      "Epoch 60/100\n",
      "4/4 - 0s - loss: 0.0155\n",
      "Epoch 61/100\n",
      "4/4 - 0s - loss: 0.0155\n",
      "Epoch 62/100\n",
      "4/4 - 0s - loss: 0.0155\n",
      "Epoch 63/100\n",
      "4/4 - 0s - loss: 0.0155\n",
      "Epoch 64/100\n",
      "4/4 - 0s - loss: 0.0157\n",
      "Epoch 65/100\n",
      "4/4 - 0s - loss: 0.0156\n",
      "Epoch 66/100\n",
      "4/4 - 0s - loss: 0.0154\n",
      "Epoch 67/100\n",
      "4/4 - 0s - loss: 0.0155\n",
      "Epoch 68/100\n",
      "4/4 - 0s - loss: 0.0154\n",
      "Epoch 69/100\n",
      "4/4 - 0s - loss: 0.0154\n",
      "Epoch 70/100\n",
      "4/4 - 0s - loss: 0.0155\n",
      "Epoch 71/100\n",
      "4/4 - 0s - loss: 0.0154\n",
      "Epoch 72/100\n",
      "4/4 - 0s - loss: 0.0154\n",
      "Epoch 73/100\n",
      "4/4 - 0s - loss: 0.0153\n",
      "Epoch 74/100\n",
      "4/4 - 0s - loss: 0.0152\n",
      "Epoch 75/100\n",
      "4/4 - 0s - loss: 0.0154\n",
      "Epoch 76/100\n",
      "4/4 - 0s - loss: 0.0153\n",
      "Epoch 77/100\n",
      "4/4 - 0s - loss: 0.0152\n",
      "Epoch 78/100\n",
      "4/4 - 0s - loss: 0.0153\n",
      "Epoch 79/100\n",
      "4/4 - 0s - loss: 0.0153\n",
      "Epoch 80/100\n",
      "4/4 - 0s - loss: 0.0154\n",
      "Epoch 81/100\n",
      "4/4 - 0s - loss: 0.0151\n",
      "Epoch 82/100\n",
      "4/4 - 0s - loss: 0.0152\n",
      "Epoch 83/100\n",
      "4/4 - 0s - loss: 0.0154\n",
      "Epoch 84/100\n",
      "4/4 - 0s - loss: 0.0151\n",
      "Epoch 85/100\n",
      "4/4 - 0s - loss: 0.0151\n",
      "Epoch 86/100\n",
      "4/4 - 0s - loss: 0.0151\n",
      "Epoch 87/100\n",
      "4/4 - 0s - loss: 0.0152\n",
      "Epoch 88/100\n",
      "4/4 - 0s - loss: 0.0151\n",
      "Epoch 89/100\n",
      "4/4 - 0s - loss: 0.0150\n",
      "Epoch 90/100\n",
      "4/4 - 0s - loss: 0.0151\n",
      "Epoch 91/100\n",
      "4/4 - 0s - loss: 0.0150\n",
      "Epoch 92/100\n",
      "4/4 - 0s - loss: 0.0151\n",
      "Epoch 93/100\n",
      "4/4 - 0s - loss: 0.0149\n",
      "Epoch 94/100\n",
      "4/4 - 0s - loss: 0.0149\n",
      "Epoch 95/100\n",
      "4/4 - 0s - loss: 0.0152\n",
      "Epoch 96/100\n",
      "4/4 - 0s - loss: 0.0151\n",
      "Epoch 97/100\n",
      "4/4 - 0s - loss: 0.0151\n",
      "Epoch 98/100\n",
      "4/4 - 0s - loss: 0.0150\n",
      "Epoch 99/100\n",
      "4/4 - 0s - loss: 0.0149\n",
      "Epoch 100/100\n",
      "4/4 - 0s - loss: 0.0149\n"
     ]
    }
   ],
   "metadata": {}
  },
  {
   "cell_type": "code",
   "execution_count": 22,
   "source": [
    "#Next, we'll check the loss\n",
    "trainScore = model.evaluate(noaa_trainX, noaa_trainY, verbose=0)\n",
    "print(trainScore)\n",
    "# put them in the right order again\n",
    "predicted_noaa = np.flip(predicted_noaa)"
   ],
   "outputs": [
    {
     "output_type": "stream",
     "name": "stdout",
     "text": [
      "0.04314137250185013\n"
     ]
    }
   ],
   "metadata": {}
  },
  {
   "cell_type": "code",
   "execution_count": 27,
   "source": [
    "# Finally, we check the result in a plot. \n",
    "index = historical_temps['year'].values\n",
    "#plt.plot(index,historical_temps['pred'], color = 'blue')\n",
    "plt.plot(index,historical_temps['temp_anom'], color = 'C0')\n",
    "plt.plot(index,predicted_noaa, color=\"C1\")\n",
    "# A vertical line in a plot identifies a splitting point between the training and the test part.\n",
    "plt.axvline(historical_temps['year'][N - Tp], c=\"r\")\n",
    "plt.title('Model was run backwards (2012 --> 1960)\\nRed Line = Start of Test Data (1959 - 1880)')\n",
    "plt.ylabel('Temp Anom')\n",
    "plt.show() \n"
   ],
   "outputs": [
    {
     "output_type": "display_data",
     "data": {
      "text/plain": [
       "<Figure size 432x288 with 1 Axes>"
      ],
      "image/png": "[encoded data removed]"
     },
     "metadata": {
      "needs_background": "light"
     }
    }
   ],
   "metadata": {}
  },
  {
   "cell_type": "code",
   "execution_count": 33,
   "source": [
    "compare_df = pd.DataFrame()\n",
    "compare_df['year'] = historical_temps['year']\n",
    "compare_df['predicted'] = predicted_noaa\n",
    "compare_df['temp_anom'] = historical_temps['temp_anom']\n",
    "compare_df"
   ],
   "outputs": [
    {
     "output_type": "execute_result",
     "data": {
      "text/plain": [
       "       year  predicted  temp_anom\n",
       "0    1880.0  -0.385870  -0.580696\n",
       "1    1881.0  -0.362405  -0.437284\n",
       "2    1882.0  -0.354622  -0.448660\n",
       "3    1883.0  -0.346220  -0.535872\n",
       "4    1884.0  -0.364134  -0.577859\n",
       "..      ...        ...        ...\n",
       "128  2008.0   0.257555   0.262481\n",
       "129  2009.0   0.188949   0.351948\n",
       "130  2010.0   0.364016   0.760148\n",
       "131  2011.0   0.407930   0.519282\n",
       "132  2012.0   0.247797   0.498143\n",
       "\n",
       "[133 rows x 3 columns]"
      ],
      "text/html": [
       "<div>\n",
       "<style scoped>\n",
       "    .dataframe tbody tr th:only-of-type {\n",
       "        vertical-align: middle;\n",
       "    }\n",
       "\n",
       "    .dataframe tbody tr th {\n",
       "        vertical-align: top;\n",
       "    }\n",
       "\n",
       "    .dataframe thead th {\n",
       "        text-align: right;\n",
       "    }\n",
       "</style>\n",
       "<table border=\"1\" class=\"dataframe\">\n",
       "  <thead>\n",
       "    <tr style=\"text-align: right;\">\n",
       "      <th></th>\n",
       "      <th>year</th>\n",
       "      <th>predicted</th>\n",
       "      <th>temp_anom</th>\n",
       "    </tr>\n",
       "  </thead>\n",
       "  <tbody>\n",
       "    <tr>\n",
       "      <th>0</th>\n",
       "      <td>1880.0</td>\n",
       "      <td>-0.385870</td>\n",
       "      <td>-0.580696</td>\n",
       "    </tr>\n",
       "    <tr>\n",
       "      <th>1</th>\n",
       "      <td>1881.0</td>\n",
       "      <td>-0.362405</td>\n",
       "      <td>-0.437284</td>\n",
       "    </tr>\n",
       "    <tr>\n",
       "      <th>2</th>\n",
       "      <td>1882.0</td>\n",
       "      <td>-0.354622</td>\n",
       "      <td>-0.448660</td>\n",
       "    </tr>\n",
       "    <tr>\n",
       "      <th>3</th>\n",
       "      <td>1883.0</td>\n",
       "      <td>-0.346220</td>\n",
       "      <td>-0.535872</td>\n",
       "    </tr>\n",
       "    <tr>\n",
       "      <th>4</th>\n",
       "      <td>1884.0</td>\n",
       "      <td>-0.364134</td>\n",
       "      <td>-0.577859</td>\n",
       "    </tr>\n",
       "    <tr>\n",
       "      <th>...</th>\n",
       "      <td>...</td>\n",
       "      <td>...</td>\n",
       "      <td>...</td>\n",
       "    </tr>\n",
       "    <tr>\n",
       "      <th>128</th>\n",
       "      <td>2008.0</td>\n",
       "      <td>0.257555</td>\n",
       "      <td>0.262481</td>\n",
       "    </tr>\n",
       "    <tr>\n",
       "      <th>129</th>\n",
       "      <td>2009.0</td>\n",
       "      <td>0.188949</td>\n",
       "      <td>0.351948</td>\n",
       "    </tr>\n",
       "    <tr>\n",
       "      <th>130</th>\n",
       "      <td>2010.0</td>\n",
       "      <td>0.364016</td>\n",
       "      <td>0.760148</td>\n",
       "    </tr>\n",
       "    <tr>\n",
       "      <th>131</th>\n",
       "      <td>2011.0</td>\n",
       "      <td>0.407930</td>\n",
       "      <td>0.519282</td>\n",
       "    </tr>\n",
       "    <tr>\n",
       "      <th>132</th>\n",
       "      <td>2012.0</td>\n",
       "      <td>0.247797</td>\n",
       "      <td>0.498143</td>\n",
       "    </tr>\n",
       "  </tbody>\n",
       "</table>\n",
       "<p>133 rows × 3 columns</p>\n",
       "</div>"
      ]
     },
     "metadata": {},
     "execution_count": 33
    }
   ],
   "metadata": {}
  },
  {
   "cell_type": "code",
   "execution_count": 34,
   "source": [
    "compare_df_past = compare_df[compare_df['year']<1960]\n",
    "compare_df_past"
   ],
   "outputs": [
    {
     "output_type": "execute_result",
     "data": {
      "text/plain": [
       "      year  predicted  temp_anom\n",
       "0   1880.0  -0.385870  -0.580696\n",
       "1   1881.0  -0.362405  -0.437284\n",
       "2   1882.0  -0.354622  -0.448660\n",
       "3   1883.0  -0.346220  -0.535872\n",
       "4   1884.0  -0.364134  -0.577859\n",
       "..     ...        ...        ...\n",
       "75  1955.0  -0.353452  -0.628892\n",
       "76  1956.0  -0.388137  -0.655931\n",
       "77  1957.0  -0.347235  -0.272213\n",
       "78  1958.0  -0.325913  -0.251039\n",
       "79  1959.0  -0.238056  -0.227458\n",
       "\n",
       "[80 rows x 3 columns]"
      ],
      "text/html": [
       "<div>\n",
       "<style scoped>\n",
       "    .dataframe tbody tr th:only-of-type {\n",
       "        vertical-align: middle;\n",
       "    }\n",
       "\n",
       "    .dataframe tbody tr th {\n",
       "        vertical-align: top;\n",
       "    }\n",
       "\n",
       "    .dataframe thead th {\n",
       "        text-align: right;\n",
       "    }\n",
       "</style>\n",
       "<table border=\"1\" class=\"dataframe\">\n",
       "  <thead>\n",
       "    <tr style=\"text-align: right;\">\n",
       "      <th></th>\n",
       "      <th>year</th>\n",
       "      <th>predicted</th>\n",
       "      <th>temp_anom</th>\n",
       "    </tr>\n",
       "  </thead>\n",
       "  <tbody>\n",
       "    <tr>\n",
       "      <th>0</th>\n",
       "      <td>1880.0</td>\n",
       "      <td>-0.385870</td>\n",
       "      <td>-0.580696</td>\n",
       "    </tr>\n",
       "    <tr>\n",
       "      <th>1</th>\n",
       "      <td>1881.0</td>\n",
       "      <td>-0.362405</td>\n",
       "      <td>-0.437284</td>\n",
       "    </tr>\n",
       "    <tr>\n",
       "      <th>2</th>\n",
       "      <td>1882.0</td>\n",
       "      <td>-0.354622</td>\n",
       "      <td>-0.448660</td>\n",
       "    </tr>\n",
       "    <tr>\n",
       "      <th>3</th>\n",
       "      <td>1883.0</td>\n",
       "      <td>-0.346220</td>\n",
       "      <td>-0.535872</td>\n",
       "    </tr>\n",
       "    <tr>\n",
       "      <th>4</th>\n",
       "      <td>1884.0</td>\n",
       "      <td>-0.364134</td>\n",
       "      <td>-0.577859</td>\n",
       "    </tr>\n",
       "    <tr>\n",
       "      <th>...</th>\n",
       "      <td>...</td>\n",
       "      <td>...</td>\n",
       "      <td>...</td>\n",
       "    </tr>\n",
       "    <tr>\n",
       "      <th>75</th>\n",
       "      <td>1955.0</td>\n",
       "      <td>-0.353452</td>\n",
       "      <td>-0.628892</td>\n",
       "    </tr>\n",
       "    <tr>\n",
       "      <th>76</th>\n",
       "      <td>1956.0</td>\n",
       "      <td>-0.388137</td>\n",
       "      <td>-0.655931</td>\n",
       "    </tr>\n",
       "    <tr>\n",
       "      <th>77</th>\n",
       "      <td>1957.0</td>\n",
       "      <td>-0.347235</td>\n",
       "      <td>-0.272213</td>\n",
       "    </tr>\n",
       "    <tr>\n",
       "      <th>78</th>\n",
       "      <td>1958.0</td>\n",
       "      <td>-0.325913</td>\n",
       "      <td>-0.251039</td>\n",
       "    </tr>\n",
       "    <tr>\n",
       "      <th>79</th>\n",
       "      <td>1959.0</td>\n",
       "      <td>-0.238056</td>\n",
       "      <td>-0.227458</td>\n",
       "    </tr>\n",
       "  </tbody>\n",
       "</table>\n",
       "<p>80 rows × 3 columns</p>\n",
       "</div>"
      ]
     },
     "metadata": {},
     "execution_count": 34
    }
   ],
   "metadata": {}
  },
  {
   "cell_type": "code",
   "execution_count": 36,
   "source": [
    "from sklearn.metrics import mean_squared_error\n",
    "mean_squared_error(compare_df_past['predicted'],compare_df_past['temp_anom'])"
   ],
   "outputs": [
    {
     "output_type": "execute_result",
     "data": {
      "text/plain": [
       "0.036500274251604396"
      ]
     },
     "metadata": {},
     "execution_count": 36
    }
   ],
   "metadata": {}
  },
  {
   "cell_type": "code",
   "execution_count": 37,
   "source": [
    "np.var(compare_df_past['predicted']),np.var(compare_df_past['temp_anom'])"
   ],
   "outputs": [
    {
     "output_type": "execute_result",
     "data": {
      "text/plain": [
       "(0.003295841161161661, 0.03296224554920191)"
      ]
     },
     "metadata": {},
     "execution_count": 37
    }
   ],
   "metadata": {}
  },
  {
   "cell_type": "code",
   "execution_count": 38,
   "source": [
    "np.corrcoef(compare_df_past['predicted'],compare_df_past['temp_anom'])"
   ],
   "outputs": [
    {
     "output_type": "execute_result",
     "data": {
      "text/plain": [
       "array([[1.        , 0.79479422],\n",
       "       [0.79479422, 1.        ]])"
      ]
     },
     "metadata": {},
     "execution_count": 38
    }
   ],
   "metadata": {}
  }
 ],
 "metadata": {
  "orig_nbformat": 4,
  "language_info": {
   "name": "python",
   "version": "3.8.5",
   "mimetype": "text/x-python",
   "codemirror_mode": {
    "name": "ipython",
    "version": 3
   },
   "pygments_lexer": "ipython3",
   "nbconvert_exporter": "python",
   "file_extension": ".py"
  },
  "kernelspec": {
   "name": "python3",
   "display_name": "Python 3.8.5 64-bit"
  },
  "interpreter": {
   "hash": "d0c7e0373360c0398b3823388552e4599ebb30cc354d57c8febec5023c974254"
  }
 },
 "nbformat": 4,
 "nbformat_minor": 2
}