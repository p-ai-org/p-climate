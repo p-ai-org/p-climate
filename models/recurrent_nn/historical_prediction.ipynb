{
 "cells": [
  {
   "cell_type": "code",
   "execution_count": 51,
   "source": [
    "import pandas as pd\n",
    "import numpy as np\n",
    "import matplotlib.pyplot as plt\n"
   ],
   "outputs": [],
   "metadata": {}
  },
  {
   "cell_type": "code",
   "execution_count": 5,
   "source": [
    "historical_temps = pd.read_csv('preds_1880-1960.csv')\n",
    "# this is the file we created by running our `fully_connected_1960.ipynb` on data observations in the range 1880 - 1960\n",
    "historical_temps = historical_temps.drop('Unnamed: 0', axis=1)\n",
    "historical_temps"
   ],
   "outputs": [
    {
     "output_type": "execute_result",
     "data": {
      "text/plain": [
       "    year  temp_anom      pred\n",
       "0   1880  -0.580696 -0.319498\n",
       "1   1881  -0.437284 -0.322879\n",
       "2   1882  -0.448660 -0.311360\n",
       "3   1883  -0.535872 -0.312129\n",
       "4   1884  -0.577859 -0.296652\n",
       "..   ...        ...       ...\n",
       "75  1955  -0.628892  0.479466\n",
       "76  1956  -0.655931  0.500699\n",
       "77  1957  -0.272213  0.523098\n",
       "78  1958  -0.251039  0.544479\n",
       "79  1959  -0.227458  0.569019\n",
       "\n",
       "[80 rows x 3 columns]"
      ],
      "text/html": [
       "<div>\n",
       "<style scoped>\n",
       "    .dataframe tbody tr th:only-of-type {\n",
       "        vertical-align: middle;\n",
       "    }\n",
       "\n",
       "    .dataframe tbody tr th {\n",
       "        vertical-align: top;\n",
       "    }\n",
       "\n",
       "    .dataframe thead th {\n",
       "        text-align: right;\n",
       "    }\n",
       "</style>\n",
       "<table border=\"1\" class=\"dataframe\">\n",
       "  <thead>\n",
       "    <tr style=\"text-align: right;\">\n",
       "      <th></th>\n",
       "      <th>year</th>\n",
       "      <th>temp_anom</th>\n",
       "      <th>pred</th>\n",
       "    </tr>\n",
       "  </thead>\n",
       "  <tbody>\n",
       "    <tr>\n",
       "      <th>0</th>\n",
       "      <td>1880</td>\n",
       "      <td>-0.580696</td>\n",
       "      <td>-0.319498</td>\n",
       "    </tr>\n",
       "    <tr>\n",
       "      <th>1</th>\n",
       "      <td>1881</td>\n",
       "      <td>-0.437284</td>\n",
       "      <td>-0.322879</td>\n",
       "    </tr>\n",
       "    <tr>\n",
       "      <th>2</th>\n",
       "      <td>1882</td>\n",
       "      <td>-0.448660</td>\n",
       "      <td>-0.311360</td>\n",
       "    </tr>\n",
       "    <tr>\n",
       "      <th>3</th>\n",
       "      <td>1883</td>\n",
       "      <td>-0.535872</td>\n",
       "      <td>-0.312129</td>\n",
       "    </tr>\n",
       "    <tr>\n",
       "      <th>4</th>\n",
       "      <td>1884</td>\n",
       "      <td>-0.577859</td>\n",
       "      <td>-0.296652</td>\n",
       "    </tr>\n",
       "    <tr>\n",
       "      <th>...</th>\n",
       "      <td>...</td>\n",
       "      <td>...</td>\n",
       "      <td>...</td>\n",
       "    </tr>\n",
       "    <tr>\n",
       "      <th>75</th>\n",
       "      <td>1955</td>\n",
       "      <td>-0.628892</td>\n",
       "      <td>0.479466</td>\n",
       "    </tr>\n",
       "    <tr>\n",
       "      <th>76</th>\n",
       "      <td>1956</td>\n",
       "      <td>-0.655931</td>\n",
       "      <td>0.500699</td>\n",
       "    </tr>\n",
       "    <tr>\n",
       "      <th>77</th>\n",
       "      <td>1957</td>\n",
       "      <td>-0.272213</td>\n",
       "      <td>0.523098</td>\n",
       "    </tr>\n",
       "    <tr>\n",
       "      <th>78</th>\n",
       "      <td>1958</td>\n",
       "      <td>-0.251039</td>\n",
       "      <td>0.544479</td>\n",
       "    </tr>\n",
       "    <tr>\n",
       "      <th>79</th>\n",
       "      <td>1959</td>\n",
       "      <td>-0.227458</td>\n",
       "      <td>0.569019</td>\n",
       "    </tr>\n",
       "  </tbody>\n",
       "</table>\n",
       "<p>80 rows × 3 columns</p>\n",
       "</div>"
      ]
     },
     "metadata": {},
     "execution_count": 5
    }
   ],
   "metadata": {}
  },
  {
   "cell_type": "markdown",
   "source": [
    "We will run an RNN for both the NOAA `temp_anom`s and our own predicted `pred` temperature anomalies. Then, we will see how similar/different those predictions are."
   ],
   "metadata": {}
  },
  {
   "cell_type": "code",
   "execution_count": 52,
   "source": [
    "# flip the arrays so that they're goin in reverse order, and will thus predict the past rather than the future\n",
    "coral_temp_anoms = np.flip(np.array(historical_temps['pred']), axis=None)\n",
    "noaa_temp_anoms = np.flip(np.asarray(historical_temps['temp_anom']))\n",
    "coral_temp_anoms[:5], noaa_temp_anoms[:5]"
   ],
   "outputs": [
    {
     "output_type": "execute_result",
     "data": {
      "text/plain": [
       "(array([0.56901944, 0.54447895, 0.5230977 , 0.50069875, 0.47946632]),\n",
       " array([-0.22745812, -0.25103928, -0.27221271, -0.65593149, -0.62889203]))"
      ]
     },
     "metadata": {},
     "execution_count": 52
    }
   ],
   "metadata": {}
  },
  {
   "cell_type": "code",
   "execution_count": 53,
   "source": [
    "len(coral_temp_anoms), len(noaa_temp_anoms)"
   ],
   "outputs": [
    {
     "output_type": "execute_result",
     "data": {
      "text/plain": [
       "(80, 80)"
      ]
     },
     "metadata": {},
     "execution_count": 53
    }
   ],
   "metadata": {}
  },
  {
   "cell_type": "markdown",
   "source": [
    "Predict the next annual temp anomaly based off of the previous 4."
   ],
   "metadata": {}
  },
  {
   "cell_type": "code",
   "execution_count": 54,
   "source": [
    "N = 80  # total unmber of records\n",
    "Tp = 65 # train on 65 records, test on 15"
   ],
   "outputs": [],
   "metadata": {}
  },
  {
   "cell_type": "code",
   "execution_count": 55,
   "source": [
    "coral_train, coral_test = coral_temp_anoms[0:Tp], coral_temp_anoms[Tp:N]\n",
    "noaa_train, noaa_test = noaa_temp_anoms[0:Tp], noaa_temp_anoms[Tp:N]"
   ],
   "outputs": [],
   "metadata": {}
  },
  {
   "cell_type": "code",
   "execution_count": 56,
   "source": [
    "len(coral_train), len(coral_test)"
   ],
   "outputs": [
    {
     "output_type": "execute_result",
     "data": {
      "text/plain": [
       "(65, 15)"
      ]
     },
     "metadata": {},
     "execution_count": 56
    }
   ],
   "metadata": {}
  },
  {
   "cell_type": "code",
   "execution_count": 57,
   "source": [
    "step = 4\n",
    "# add step elements into train and test\n",
    "coral_test = np.append(coral_test,np.repeat(coral_test[-1,],step))\n",
    "coral_train = np.append(coral_train,np.repeat(coral_train[-1,],step))\n",
    "\n",
    "noaa_test = np.append(noaa_test,np.repeat(noaa_test[-1,],step))\n",
    "noaa_train = np.append(noaa_train,np.repeat(noaa_train[-1,],step))"
   ],
   "outputs": [],
   "metadata": {}
  },
  {
   "cell_type": "code",
   "execution_count": 58,
   "source": [
    "# convert into dataset matrix\n",
    "def convertToMatrix(data, step):\n",
    " X, Y =[], []\n",
    " for i in range(len(data)-step):\n",
    "  d=i+step  \n",
    "  X.append(data[i:d,])\n",
    "  Y.append(data[d,])\n",
    " return np.array(X), np.array(Y)\n",
    "\n",
    "coral_trainX, coral_trainY = convertToMatrix(coral_train,step)\n",
    "coral_testX, coral_testY = convertToMatrix(coral_test,step)\n",
    "\n",
    "noaa_trainX, noaa_trainY = convertToMatrix(noaa_train,step)\n",
    "noaa_testX, noaa_testY = convertToMatrix(noaa_test,step)"
   ],
   "outputs": [],
   "metadata": {}
  },
  {
   "cell_type": "code",
   "execution_count": 59,
   "source": [
    "coral_trainX = np.reshape(coral_trainX, (coral_trainX.shape[0], 1, coral_trainX.shape[1]))\n",
    "coral_testX = np.reshape(coral_testX, (coral_testX.shape[0], 1, coral_testX.shape[1]))\n",
    "coral_testX.shape"
   ],
   "outputs": [
    {
     "output_type": "execute_result",
     "data": {
      "text/plain": [
       "(15, 1, 4)"
      ]
     },
     "metadata": {},
     "execution_count": 59
    }
   ],
   "metadata": {}
  },
  {
   "cell_type": "code",
   "execution_count": 60,
   "source": [
    "noaa_trainX = np.reshape(noaa_trainX, (noaa_trainX.shape[0], 1, noaa_trainX.shape[1]))\n",
    "noaa_testX = np.reshape(noaa_testX, (noaa_testX.shape[0], 1, noaa_testX.shape[1]))\n",
    "noaa_testX.shape"
   ],
   "outputs": [
    {
     "output_type": "execute_result",
     "data": {
      "text/plain": [
       "(15, 1, 4)"
      ]
     },
     "metadata": {},
     "execution_count": 60
    }
   ],
   "metadata": {}
  },
  {
   "cell_type": "code",
   "execution_count": 61,
   "source": [
    "from keras import Sequential\n",
    "from keras.layers import SimpleRNN, Dense"
   ],
   "outputs": [],
   "metadata": {}
  },
  {
   "cell_type": "code",
   "execution_count": 62,
   "source": [
    "# SimpleRNN model\n",
    "model = Sequential()\n",
    "model.add(SimpleRNN(units=32, input_shape=(1,step), activation=\"relu\"))\n",
    "model.add(Dense(8, activation=\"relu\")) \n",
    "model.add(Dense(1))\n",
    "model.compile(loss='mean_squared_error', optimizer='rmsprop')\n",
    "model.summary()"
   ],
   "outputs": [
    {
     "output_type": "stream",
     "name": "stdout",
     "text": [
      "Model: \"sequential_1\"\n",
      "_________________________________________________________________\n",
      "Layer (type)                 Output Shape              Param #   \n",
      "=================================================================\n",
      "simple_rnn_1 (SimpleRNN)     (None, 32)                1184      \n",
      "_________________________________________________________________\n",
      "dense_2 (Dense)              (None, 8)                 264       \n",
      "_________________________________________________________________\n",
      "dense_3 (Dense)              (None, 1)                 9         \n",
      "=================================================================\n",
      "Total params: 1,457\n",
      "Trainable params: 1,457\n",
      "Non-trainable params: 0\n",
      "_________________________________________________________________\n"
     ]
    }
   ],
   "metadata": {}
  },
  {
   "cell_type": "code",
   "execution_count": 63,
   "source": [
    "model.fit(coral_trainX,coral_trainY, epochs=100, batch_size=16, verbose=2)\n",
    "trainPredict = model.predict(coral_trainX)\n",
    "testPredict= model.predict(coral_testX)\n",
    "predicted=np.concatenate((trainPredict,testPredict),axis=0)"
   ],
   "outputs": [
    {
     "output_type": "stream",
     "name": "stdout",
     "text": [
      "Epoch 1/100\n",
      "5/5 - 1s - loss: 0.0738\n",
      "Epoch 2/100\n",
      "5/5 - 0s - loss: 0.0539\n",
      "Epoch 3/100\n",
      "5/5 - 0s - loss: 0.0431\n",
      "Epoch 4/100\n",
      "5/5 - 0s - loss: 0.0355\n",
      "Epoch 5/100\n",
      "5/5 - 0s - loss: 0.0292\n",
      "Epoch 6/100\n",
      "5/5 - 0s - loss: 0.0225\n",
      "Epoch 7/100\n",
      "5/5 - 0s - loss: 0.0209\n",
      "Epoch 8/100\n",
      "5/5 - 0s - loss: 0.0191\n",
      "Epoch 9/100\n",
      "5/5 - 0s - loss: 0.0176\n",
      "Epoch 10/100\n",
      "5/5 - 0s - loss: 0.0159\n",
      "Epoch 11/100\n",
      "5/5 - 0s - loss: 0.0148\n",
      "Epoch 12/100\n",
      "5/5 - 0s - loss: 0.0136\n",
      "Epoch 13/100\n",
      "5/5 - 0s - loss: 0.0125\n",
      "Epoch 14/100\n",
      "5/5 - 0s - loss: 0.0110\n",
      "Epoch 15/100\n",
      "5/5 - 0s - loss: 0.0101\n",
      "Epoch 16/100\n",
      "5/5 - 0s - loss: 0.0091\n",
      "Epoch 17/100\n",
      "5/5 - 0s - loss: 0.0082\n",
      "Epoch 18/100\n",
      "5/5 - 0s - loss: 0.0071\n",
      "Epoch 19/100\n",
      "5/5 - 0s - loss: 0.0059\n",
      "Epoch 20/100\n",
      "5/5 - 0s - loss: 0.0054\n",
      "Epoch 21/100\n",
      "5/5 - 0s - loss: 0.0049\n",
      "Epoch 22/100\n",
      "5/5 - 0s - loss: 0.0044\n",
      "Epoch 23/100\n",
      "5/5 - 0s - loss: 0.0038\n",
      "Epoch 24/100\n",
      "5/5 - 0s - loss: 0.0033\n",
      "Epoch 25/100\n",
      "5/5 - 0s - loss: 0.0028\n",
      "Epoch 26/100\n",
      "5/5 - 0s - loss: 0.0023\n",
      "Epoch 27/100\n",
      "5/5 - 0s - loss: 0.0019\n",
      "Epoch 28/100\n",
      "5/5 - 0s - loss: 0.0013\n",
      "Epoch 29/100\n",
      "5/5 - 0s - loss: 0.0012\n",
      "Epoch 30/100\n",
      "5/5 - 0s - loss: 8.5254e-04\n",
      "Epoch 31/100\n",
      "5/5 - 0s - loss: 7.6863e-04\n",
      "Epoch 32/100\n",
      "5/5 - 0s - loss: 6.3861e-04\n",
      "Epoch 33/100\n",
      "5/5 - 0s - loss: 5.3890e-04\n",
      "Epoch 34/100\n",
      "5/5 - 0s - loss: 4.5560e-04\n",
      "Epoch 35/100\n",
      "5/5 - 0s - loss: 2.6392e-04\n",
      "Epoch 36/100\n",
      "5/5 - 0s - loss: 2.5111e-04\n",
      "Epoch 37/100\n",
      "5/5 - 0s - loss: 1.7825e-04\n",
      "Epoch 38/100\n",
      "5/5 - 0s - loss: 1.4750e-04\n",
      "Epoch 39/100\n",
      "5/5 - 0s - loss: 1.9610e-04\n",
      "Epoch 40/100\n",
      "5/5 - 0s - loss: 8.8509e-05\n",
      "Epoch 41/100\n",
      "5/5 - 0s - loss: 1.7532e-04\n",
      "Epoch 42/100\n",
      "5/5 - 0s - loss: 7.2008e-05\n",
      "Epoch 43/100\n",
      "5/5 - 0s - loss: 6.8035e-05\n",
      "Epoch 44/100\n",
      "5/5 - 0s - loss: 4.2099e-05\n",
      "Epoch 45/100\n",
      "5/5 - 0s - loss: 1.0948e-04\n",
      "Epoch 46/100\n",
      "5/5 - 0s - loss: 6.5493e-05\n",
      "Epoch 47/100\n",
      "5/5 - 0s - loss: 2.5150e-05\n",
      "Epoch 48/100\n",
      "5/5 - 0s - loss: 7.0538e-05\n",
      "Epoch 49/100\n",
      "5/5 - 0s - loss: 2.8629e-05\n",
      "Epoch 50/100\n",
      "5/5 - 0s - loss: 5.7475e-05\n",
      "Epoch 51/100\n",
      "5/5 - 0s - loss: 5.5762e-05\n",
      "Epoch 52/100\n",
      "5/5 - 0s - loss: 5.9996e-05\n",
      "Epoch 53/100\n",
      "5/5 - 0s - loss: 2.7183e-05\n",
      "Epoch 54/100\n",
      "5/5 - 0s - loss: 4.2996e-05\n",
      "Epoch 55/100\n",
      "5/5 - 0s - loss: 1.4131e-04\n",
      "Epoch 56/100\n",
      "5/5 - 0s - loss: 4.7065e-05\n",
      "Epoch 57/100\n",
      "5/5 - 0s - loss: 2.7066e-05\n",
      "Epoch 58/100\n",
      "5/5 - 0s - loss: 7.0010e-05\n",
      "Epoch 59/100\n",
      "5/5 - 0s - loss: 2.5918e-05\n",
      "Epoch 60/100\n",
      "5/5 - 0s - loss: 6.0134e-05\n",
      "Epoch 61/100\n",
      "5/5 - 0s - loss: 6.3931e-05\n",
      "Epoch 62/100\n",
      "5/5 - 0s - loss: 2.3726e-05\n",
      "Epoch 63/100\n",
      "5/5 - 0s - loss: 2.6417e-05\n",
      "Epoch 64/100\n",
      "5/5 - 0s - loss: 9.9274e-05\n",
      "Epoch 65/100\n",
      "5/5 - 0s - loss: 1.5663e-05\n",
      "Epoch 66/100\n",
      "5/5 - 0s - loss: 8.5922e-05\n",
      "Epoch 67/100\n",
      "5/5 - 0s - loss: 4.5078e-05\n",
      "Epoch 68/100\n",
      "5/5 - 0s - loss: 3.6033e-05\n",
      "Epoch 69/100\n",
      "5/5 - 0s - loss: 1.1282e-04\n",
      "Epoch 70/100\n",
      "5/5 - 0s - loss: 3.6611e-05\n",
      "Epoch 71/100\n",
      "5/5 - 0s - loss: 1.2912e-05\n",
      "Epoch 72/100\n",
      "5/5 - 0s - loss: 5.8639e-05\n",
      "Epoch 73/100\n",
      "5/5 - 0s - loss: 1.8064e-05\n",
      "Epoch 74/100\n",
      "5/5 - 0s - loss: 1.1469e-04\n",
      "Epoch 75/100\n",
      "5/5 - 0s - loss: 1.4652e-05\n",
      "Epoch 76/100\n",
      "5/5 - 0s - loss: 6.5639e-05\n",
      "Epoch 77/100\n",
      "5/5 - 0s - loss: 7.5848e-05\n",
      "Epoch 78/100\n",
      "5/5 - 0s - loss: 4.3532e-05\n",
      "Epoch 79/100\n",
      "5/5 - 0s - loss: 2.8462e-05\n",
      "Epoch 80/100\n",
      "5/5 - 0s - loss: 6.5094e-05\n",
      "Epoch 81/100\n",
      "5/5 - 0s - loss: 3.1016e-05\n",
      "Epoch 82/100\n",
      "5/5 - 0s - loss: 1.7048e-05\n",
      "Epoch 83/100\n",
      "5/5 - 0s - loss: 1.0961e-04\n",
      "Epoch 84/100\n",
      "5/5 - 0s - loss: 1.2462e-05\n",
      "Epoch 85/100\n",
      "5/5 - 0s - loss: 1.0952e-04\n",
      "Epoch 86/100\n",
      "5/5 - 0s - loss: 5.0501e-05\n",
      "Epoch 87/100\n",
      "5/5 - 0s - loss: 3.7912e-05\n",
      "Epoch 88/100\n",
      "5/5 - 0s - loss: 2.7132e-05\n",
      "Epoch 89/100\n",
      "5/5 - 0s - loss: 8.6136e-05\n",
      "Epoch 90/100\n",
      "5/5 - 0s - loss: 2.4216e-05\n",
      "Epoch 91/100\n",
      "5/5 - 0s - loss: 3.5960e-05\n",
      "Epoch 92/100\n",
      "5/5 - 0s - loss: 5.4162e-05\n",
      "Epoch 93/100\n",
      "5/5 - 0s - loss: 3.2990e-05\n",
      "Epoch 94/100\n",
      "5/5 - 0s - loss: 7.8971e-05\n",
      "Epoch 95/100\n",
      "5/5 - 0s - loss: 1.3330e-05\n",
      "Epoch 96/100\n",
      "5/5 - 0s - loss: 3.6718e-05\n",
      "Epoch 97/100\n",
      "5/5 - 0s - loss: 6.7035e-05\n",
      "Epoch 98/100\n",
      "5/5 - 0s - loss: 4.6691e-05\n",
      "Epoch 99/100\n",
      "5/5 - 0s - loss: 3.7718e-05\n",
      "Epoch 100/100\n",
      "5/5 - 0s - loss: 3.1691e-05\n"
     ]
    }
   ],
   "metadata": {}
  },
  {
   "cell_type": "code",
   "execution_count": 64,
   "source": [
    "#Next, we'll check the loss\n",
    "trainScore = model.evaluate(coral_trainX, coral_trainY, verbose=0)\n",
    "print(trainScore)"
   ],
   "outputs": [
    {
     "output_type": "stream",
     "name": "stdout",
     "text": [
      "1.3601122191175818e-05\n"
     ]
    }
   ],
   "metadata": {}
  },
  {
   "cell_type": "code",
   "execution_count": 65,
   "source": [
    "# put them in the right order again\n",
    "predicted = np.flip(predicted)"
   ],
   "outputs": [],
   "metadata": {}
  },
  {
   "cell_type": "code",
   "execution_count": 66,
   "source": [
    "# Finally, we check the result in a plot. \n",
    "# A vertical line in a plot identifies a splitting point between the training and the test part.\n",
    "index = historical_temps['year'].values\n",
    "plt.plot(index,historical_temps['pred'], color = 'blue')\n",
    "plt.plot(index,historical_temps['temp_anom'], color = 'green')\n",
    "plt.plot(index,predicted, color=\"orange\")\n",
    "plt.axvline(historical_temps['year'][Tp], c=\"r\")\n",
    "plt.show() "
   ],
   "outputs": [
    {
     "output_type": "display_data",
     "data": {
      "text/plain": [
       "<Figure size 432x288 with 1 Axes>"
      ],
      "image/png": "[encoded data removed]"
     },
     "metadata": {
      "needs_background": "light"
     }
    }
   ],
   "metadata": {}
  },
  {
   "cell_type": "code",
   "execution_count": 67,
   "source": [
    "model.fit(noaa_trainX,noaa_trainY, epochs=100, batch_size=16, verbose=2)\n",
    "trainPredict_noaa = model.predict(noaa_trainX)\n",
    "testPredict_noaa= model.predict(noaa_testX)\n",
    "predicted_noaa=np.concatenate((trainPredict_noaa,testPredict_noaa),axis=0)"
   ],
   "outputs": [
    {
     "output_type": "stream",
     "name": "stdout",
     "text": [
      "Epoch 1/100\n",
      "5/5 - 0s - loss: 0.0201\n",
      "Epoch 2/100\n",
      "5/5 - 0s - loss: 0.0197\n",
      "Epoch 3/100\n",
      "5/5 - 0s - loss: 0.0198\n",
      "Epoch 4/100\n",
      "5/5 - 0s - loss: 0.0194\n",
      "Epoch 5/100\n",
      "5/5 - 0s - loss: 0.0201\n",
      "Epoch 6/100\n",
      "5/5 - 0s - loss: 0.0200\n",
      "Epoch 7/100\n",
      "5/5 - 0s - loss: 0.0191\n",
      "Epoch 8/100\n",
      "5/5 - 0s - loss: 0.0198\n",
      "Epoch 9/100\n",
      "5/5 - 0s - loss: 0.0191\n",
      "Epoch 10/100\n",
      "5/5 - 0s - loss: 0.0197\n",
      "Epoch 11/100\n",
      "5/5 - 0s - loss: 0.0188\n",
      "Epoch 12/100\n",
      "5/5 - 0s - loss: 0.0187\n",
      "Epoch 13/100\n",
      "5/5 - 0s - loss: 0.0193\n",
      "Epoch 14/100\n",
      "5/5 - 0s - loss: 0.0187\n",
      "Epoch 15/100\n",
      "5/5 - 0s - loss: 0.0192\n",
      "Epoch 16/100\n",
      "5/5 - 0s - loss: 0.0196\n",
      "Epoch 17/100\n",
      "5/5 - 0s - loss: 0.0184\n",
      "Epoch 18/100\n",
      "5/5 - 0s - loss: 0.0191\n",
      "Epoch 19/100\n",
      "5/5 - 0s - loss: 0.0187\n",
      "Epoch 20/100\n",
      "5/5 - 0s - loss: 0.0194\n",
      "Epoch 21/100\n",
      "5/5 - 0s - loss: 0.0187\n",
      "Epoch 22/100\n",
      "5/5 - 0s - loss: 0.0196\n",
      "Epoch 23/100\n",
      "5/5 - 0s - loss: 0.0181\n",
      "Epoch 24/100\n",
      "5/5 - 0s - loss: 0.0186\n",
      "Epoch 25/100\n",
      "5/5 - 0s - loss: 0.0192\n",
      "Epoch 26/100\n",
      "5/5 - 0s - loss: 0.0200\n",
      "Epoch 27/100\n",
      "5/5 - 0s - loss: 0.0182\n",
      "Epoch 28/100\n",
      "5/5 - 0s - loss: 0.0183\n",
      "Epoch 29/100\n",
      "5/5 - 0s - loss: 0.0182\n",
      "Epoch 30/100\n",
      "5/5 - 0s - loss: 0.0183\n",
      "Epoch 31/100\n",
      "5/5 - 0s - loss: 0.0187\n",
      "Epoch 32/100\n",
      "5/5 - 0s - loss: 0.0187\n",
      "Epoch 33/100\n",
      "5/5 - 0s - loss: 0.0183\n",
      "Epoch 34/100\n",
      "5/5 - 0s - loss: 0.0185\n",
      "Epoch 35/100\n",
      "5/5 - 0s - loss: 0.0180\n",
      "Epoch 36/100\n",
      "5/5 - 0s - loss: 0.0178\n",
      "Epoch 37/100\n",
      "5/5 - 0s - loss: 0.0184\n",
      "Epoch 38/100\n",
      "5/5 - 0s - loss: 0.0185\n",
      "Epoch 39/100\n",
      "5/5 - 0s - loss: 0.0181\n",
      "Epoch 40/100\n",
      "5/5 - 0s - loss: 0.0180\n",
      "Epoch 41/100\n",
      "5/5 - 0s - loss: 0.0187\n",
      "Epoch 42/100\n",
      "5/5 - 0s - loss: 0.0187\n",
      "Epoch 43/100\n",
      "5/5 - 0s - loss: 0.0181\n",
      "Epoch 44/100\n",
      "5/5 - 0s - loss: 0.0178\n",
      "Epoch 45/100\n",
      "5/5 - 0s - loss: 0.0188\n",
      "Epoch 46/100\n",
      "5/5 - 0s - loss: 0.0184\n",
      "Epoch 47/100\n",
      "5/5 - 0s - loss: 0.0176\n",
      "Epoch 48/100\n",
      "5/5 - 0s - loss: 0.0175\n",
      "Epoch 49/100\n",
      "5/5 - 0s - loss: 0.0188\n",
      "Epoch 50/100\n",
      "5/5 - 0s - loss: 0.0183\n",
      "Epoch 51/100\n",
      "5/5 - 0s - loss: 0.0178\n",
      "Epoch 52/100\n",
      "5/5 - 0s - loss: 0.0173\n",
      "Epoch 53/100\n",
      "5/5 - 0s - loss: 0.0178\n",
      "Epoch 54/100\n",
      "5/5 - 0s - loss: 0.0176\n",
      "Epoch 55/100\n",
      "5/5 - 0s - loss: 0.0179\n",
      "Epoch 56/100\n",
      "5/5 - 0s - loss: 0.0178\n",
      "Epoch 57/100\n",
      "5/5 - 0s - loss: 0.0172\n",
      "Epoch 58/100\n",
      "5/5 - 0s - loss: 0.0174\n",
      "Epoch 59/100\n",
      "5/5 - 0s - loss: 0.0177\n",
      "Epoch 60/100\n",
      "5/5 - 0s - loss: 0.0172\n",
      "Epoch 61/100\n",
      "5/5 - 0s - loss: 0.0182\n",
      "Epoch 62/100\n",
      "5/5 - 0s - loss: 0.0169\n",
      "Epoch 63/100\n",
      "5/5 - 0s - loss: 0.0170\n",
      "Epoch 64/100\n",
      "5/5 - 0s - loss: 0.0175\n",
      "Epoch 65/100\n",
      "5/5 - 0s - loss: 0.0171\n",
      "Epoch 66/100\n",
      "5/5 - 0s - loss: 0.0173\n",
      "Epoch 67/100\n",
      "5/5 - 0s - loss: 0.0171\n",
      "Epoch 68/100\n",
      "5/5 - 0s - loss: 0.0180\n",
      "Epoch 69/100\n",
      "5/5 - 0s - loss: 0.0172\n",
      "Epoch 70/100\n",
      "5/5 - 0s - loss: 0.0176\n",
      "Epoch 71/100\n",
      "5/5 - 0s - loss: 0.0170\n",
      "Epoch 72/100\n",
      "5/5 - 0s - loss: 0.0171\n",
      "Epoch 73/100\n",
      "5/5 - 0s - loss: 0.0172\n",
      "Epoch 74/100\n",
      "5/5 - 0s - loss: 0.0171\n",
      "Epoch 75/100\n",
      "5/5 - 0s - loss: 0.0174\n",
      "Epoch 76/100\n",
      "5/5 - 0s - loss: 0.0177\n",
      "Epoch 77/100\n",
      "5/5 - 0s - loss: 0.0169\n",
      "Epoch 78/100\n",
      "5/5 - 0s - loss: 0.0174\n",
      "Epoch 79/100\n",
      "5/5 - 0s - loss: 0.0173\n",
      "Epoch 80/100\n",
      "5/5 - 0s - loss: 0.0165\n",
      "Epoch 81/100\n",
      "5/5 - 0s - loss: 0.0168\n",
      "Epoch 82/100\n",
      "5/5 - 0s - loss: 0.0181\n",
      "Epoch 83/100\n",
      "5/5 - 0s - loss: 0.0171\n",
      "Epoch 84/100\n",
      "5/5 - 0s - loss: 0.0166\n",
      "Epoch 85/100\n",
      "5/5 - 0s - loss: 0.0171\n",
      "Epoch 86/100\n",
      "5/5 - 0s - loss: 0.0169\n",
      "Epoch 87/100\n",
      "5/5 - 0s - loss: 0.0173\n",
      "Epoch 88/100\n",
      "5/5 - 0s - loss: 0.0173\n",
      "Epoch 89/100\n",
      "5/5 - 0s - loss: 0.0167\n",
      "Epoch 90/100\n",
      "5/5 - 0s - loss: 0.0170\n",
      "Epoch 91/100\n",
      "5/5 - 0s - loss: 0.0165\n",
      "Epoch 92/100\n",
      "5/5 - 0s - loss: 0.0173\n",
      "Epoch 93/100\n",
      "5/5 - 0s - loss: 0.0164\n",
      "Epoch 94/100\n",
      "5/5 - 0s - loss: 0.0162\n",
      "Epoch 95/100\n",
      "5/5 - 0s - loss: 0.0186\n",
      "Epoch 96/100\n",
      "5/5 - 0s - loss: 0.0166\n",
      "Epoch 97/100\n",
      "5/5 - 0s - loss: 0.0165\n",
      "Epoch 98/100\n",
      "5/5 - 0s - loss: 0.0164\n",
      "Epoch 99/100\n",
      "5/5 - 0s - loss: 0.0161\n",
      "Epoch 100/100\n",
      "5/5 - 0s - loss: 0.0174\n"
     ]
    }
   ],
   "metadata": {}
  },
  {
   "cell_type": "code",
   "execution_count": 68,
   "source": [
    "#Next, we'll check the loss\n",
    "trainScore = model.evaluate(noaa_trainX, noaa_trainY, verbose=0)\n",
    "print(trainScore)"
   ],
   "outputs": [
    {
     "output_type": "stream",
     "name": "stdout",
     "text": [
      "0.015891747549176216\n"
     ]
    }
   ],
   "metadata": {}
  },
  {
   "cell_type": "code",
   "execution_count": 69,
   "source": [
    "# put them in the right order again\n",
    "predicted_noaa = np.flip(predicted_noaa)"
   ],
   "outputs": [],
   "metadata": {}
  },
  {
   "cell_type": "code",
   "execution_count": 70,
   "source": [
    "# Finally, we check the result in a plot. \n",
    "# A vertical line in a plot identifies a splitting point between the training and the test part.\n",
    "index = historical_temps['year'].values\n",
    "plt.plot(index,historical_temps['pred'], color = 'blue')\n",
    "plt.plot(index,historical_temps['temp_anom'], color = 'green')\n",
    "plt.plot(index,predicted_noaa, color=\"orange\")\n",
    "plt.axvline(historical_temps['year'][Tp], c=\"r\")\n",
    "plt.show() "
   ],
   "outputs": [
    {
     "output_type": "display_data",
     "data": {
      "text/plain": [
       "<Figure size 432x288 with 1 Axes>"
      ],
      "image/png": "[encoded data removed]"
     },
     "metadata": {
      "needs_background": "light"
     }
    }
   ],
   "metadata": {}
  }
 ],
 "metadata": {
  "orig_nbformat": 4,
  "language_info": {
   "name": "python",
   "version": "3.8.5",
   "mimetype": "text/x-python",
   "codemirror_mode": {
    "name": "ipython",
    "version": 3
   },
   "pygments_lexer": "ipython3",
   "nbconvert_exporter": "python",
   "file_extension": ".py"
  },
  "kernelspec": {
   "name": "python3",
   "display_name": "Python 3.8.5 64-bit ('base': conda)"
  },
  "interpreter": {
   "hash": "da0f4b2f549526c8eb110fe99ce30953b583bbcf13bb8926e556c8ad6926646c"
  }
 },
 "nbformat": 4,
 "nbformat_minor": 2
}