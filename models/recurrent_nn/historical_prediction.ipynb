{
 "cells": [
  {
   "cell_type": "code",
   "execution_count": 1,
   "source": [
    "import pandas as pd\n",
    "import numpy as np\n",
    "import matplotlib.pyplot as plt\n"
   ],
   "outputs": [],
   "metadata": {}
  },
  {
   "cell_type": "code",
   "execution_count": 4,
   "source": [
    "historical_temps = pd.read_csv('../fully_connected_nn/preds_1880-1960_OUTSIDE.csv')\n",
    "# this is the file we created by running our `fully_connected_1960.ipynb` on data observations in the range 1880 - 1960\n",
    "historical_temps = historical_temps.drop('Unnamed: 0', axis=1)\n",
    "historical_temps"
   ],
   "outputs": [
    {
     "output_type": "execute_result",
     "data": {
      "text/plain": [
       "    year  temp_anom      pred\n",
       "0   1880  -0.580696 -0.301994\n",
       "1   1881  -0.437284 -0.304912\n",
       "2   1882  -0.448660 -0.292852\n",
       "3   1883  -0.535872 -0.288944\n",
       "4   1884  -0.577859 -0.279507\n",
       "..   ...        ...       ...\n",
       "75  1955  -0.628892  0.326655\n",
       "76  1956  -0.655931  0.332992\n",
       "77  1957  -0.272213  0.338390\n",
       "78  1958  -0.251039  0.346113\n",
       "79  1959  -0.227458  0.352837\n",
       "\n",
       "[80 rows x 3 columns]"
      ],
      "text/html": [
       "<div>\n",
       "<style scoped>\n",
       "    .dataframe tbody tr th:only-of-type {\n",
       "        vertical-align: middle;\n",
       "    }\n",
       "\n",
       "    .dataframe tbody tr th {\n",
       "        vertical-align: top;\n",
       "    }\n",
       "\n",
       "    .dataframe thead th {\n",
       "        text-align: right;\n",
       "    }\n",
       "</style>\n",
       "<table border=\"1\" class=\"dataframe\">\n",
       "  <thead>\n",
       "    <tr style=\"text-align: right;\">\n",
       "      <th></th>\n",
       "      <th>year</th>\n",
       "      <th>temp_anom</th>\n",
       "      <th>pred</th>\n",
       "    </tr>\n",
       "  </thead>\n",
       "  <tbody>\n",
       "    <tr>\n",
       "      <th>0</th>\n",
       "      <td>1880</td>\n",
       "      <td>-0.580696</td>\n",
       "      <td>-0.301994</td>\n",
       "    </tr>\n",
       "    <tr>\n",
       "      <th>1</th>\n",
       "      <td>1881</td>\n",
       "      <td>-0.437284</td>\n",
       "      <td>-0.304912</td>\n",
       "    </tr>\n",
       "    <tr>\n",
       "      <th>2</th>\n",
       "      <td>1882</td>\n",
       "      <td>-0.448660</td>\n",
       "      <td>-0.292852</td>\n",
       "    </tr>\n",
       "    <tr>\n",
       "      <th>3</th>\n",
       "      <td>1883</td>\n",
       "      <td>-0.535872</td>\n",
       "      <td>-0.288944</td>\n",
       "    </tr>\n",
       "    <tr>\n",
       "      <th>4</th>\n",
       "      <td>1884</td>\n",
       "      <td>-0.577859</td>\n",
       "      <td>-0.279507</td>\n",
       "    </tr>\n",
       "    <tr>\n",
       "      <th>...</th>\n",
       "      <td>...</td>\n",
       "      <td>...</td>\n",
       "      <td>...</td>\n",
       "    </tr>\n",
       "    <tr>\n",
       "      <th>75</th>\n",
       "      <td>1955</td>\n",
       "      <td>-0.628892</td>\n",
       "      <td>0.326655</td>\n",
       "    </tr>\n",
       "    <tr>\n",
       "      <th>76</th>\n",
       "      <td>1956</td>\n",
       "      <td>-0.655931</td>\n",
       "      <td>0.332992</td>\n",
       "    </tr>\n",
       "    <tr>\n",
       "      <th>77</th>\n",
       "      <td>1957</td>\n",
       "      <td>-0.272213</td>\n",
       "      <td>0.338390</td>\n",
       "    </tr>\n",
       "    <tr>\n",
       "      <th>78</th>\n",
       "      <td>1958</td>\n",
       "      <td>-0.251039</td>\n",
       "      <td>0.346113</td>\n",
       "    </tr>\n",
       "    <tr>\n",
       "      <th>79</th>\n",
       "      <td>1959</td>\n",
       "      <td>-0.227458</td>\n",
       "      <td>0.352837</td>\n",
       "    </tr>\n",
       "  </tbody>\n",
       "</table>\n",
       "<p>80 rows × 3 columns</p>\n",
       "</div>"
      ]
     },
     "metadata": {},
     "execution_count": 4
    }
   ],
   "metadata": {}
  },
  {
   "cell_type": "markdown",
   "source": [
    "We will run an RNN for both the NOAA `temp_anom`s and our own predicted `pred` temperature anomalies. Then, we will see how similar/different those predictions are."
   ],
   "metadata": {}
  },
  {
   "cell_type": "code",
   "execution_count": 5,
   "source": [
    "# flip the arrays so that they're goin in reverse order, and will thus predict the past rather than the future\n",
    "coral_temp_anoms = np.flip(np.array(historical_temps['pred']), axis=None)\n",
    "noaa_temp_anoms = np.flip(np.asarray(historical_temps['temp_anom']))\n",
    "coral_temp_anoms[:5], noaa_temp_anoms[:5]"
   ],
   "outputs": [
    {
     "output_type": "execute_result",
     "data": {
      "text/plain": [
       "(array([0.35283712, 0.34611344, 0.33838984, 0.33299208, 0.32665533]),\n",
       " array([-0.22745812, -0.25103928, -0.27221271, -0.65593149, -0.62889203]))"
      ]
     },
     "metadata": {},
     "execution_count": 5
    }
   ],
   "metadata": {}
  },
  {
   "cell_type": "code",
   "execution_count": 6,
   "source": [
    "len(coral_temp_anoms), len(noaa_temp_anoms)"
   ],
   "outputs": [
    {
     "output_type": "execute_result",
     "data": {
      "text/plain": [
       "(80, 80)"
      ]
     },
     "metadata": {},
     "execution_count": 6
    }
   ],
   "metadata": {}
  },
  {
   "cell_type": "markdown",
   "source": [
    "Predict the next annual temp anomaly based off of the previous 4."
   ],
   "metadata": {}
  },
  {
   "cell_type": "code",
   "execution_count": 15,
   "source": [
    "N = 80  # total unmber of records\n",
    "Tp = 65 # train on 65 records, test on 15"
   ],
   "outputs": [],
   "metadata": {}
  },
  {
   "cell_type": "code",
   "execution_count": 16,
   "source": [
    "coral_train, coral_test = coral_temp_anoms[0:Tp], coral_temp_anoms[Tp:N]\n",
    "noaa_train, noaa_test = noaa_temp_anoms[0:Tp], noaa_temp_anoms[Tp:N]"
   ],
   "outputs": [],
   "metadata": {}
  },
  {
   "cell_type": "code",
   "execution_count": 17,
   "source": [
    "len(coral_train), len(coral_test)"
   ],
   "outputs": [
    {
     "output_type": "execute_result",
     "data": {
      "text/plain": [
       "(65, 15)"
      ]
     },
     "metadata": {},
     "execution_count": 17
    }
   ],
   "metadata": {}
  },
  {
   "cell_type": "code",
   "execution_count": 18,
   "source": [
    "# predict the current year based on the past 4 years\n",
    "step = 4\n",
    "# add step elements into train and test\n",
    "coral_test = np.append(coral_test,np.repeat(coral_test[-1,],step))\n",
    "coral_train = np.append(coral_train,np.repeat(coral_train[-1,],step))\n",
    "\n",
    "noaa_test = np.append(noaa_test,np.repeat(noaa_test[-1,],step))\n",
    "noaa_train = np.append(noaa_train,np.repeat(noaa_train[-1,],step))"
   ],
   "outputs": [],
   "metadata": {}
  },
  {
   "cell_type": "code",
   "execution_count": 19,
   "source": [
    "# convert into dataset matrix\n",
    "def convertToMatrix(data, step):\n",
    " X, Y =[], []\n",
    " for i in range(len(data)-step):\n",
    "  d=i+step  \n",
    "  X.append(data[i:d,])\n",
    "  Y.append(data[d,])\n",
    " return np.array(X), np.array(Y)\n",
    "\n",
    "coral_trainX, coral_trainY = convertToMatrix(coral_train,step)\n",
    "coral_testX, coral_testY = convertToMatrix(coral_test,step)\n",
    "\n",
    "noaa_trainX, noaa_trainY = convertToMatrix(noaa_train,step)\n",
    "noaa_testX, noaa_testY = convertToMatrix(noaa_test,step)"
   ],
   "outputs": [],
   "metadata": {}
  },
  {
   "cell_type": "code",
   "execution_count": 20,
   "source": [
    "coral_trainX = np.reshape(coral_trainX, (coral_trainX.shape[0], 1, coral_trainX.shape[1]))\n",
    "coral_testX = np.reshape(coral_testX, (coral_testX.shape[0], 1, coral_testX.shape[1]))\n",
    "coral_testX.shape"
   ],
   "outputs": [
    {
     "output_type": "execute_result",
     "data": {
      "text/plain": [
       "(15, 1, 4)"
      ]
     },
     "metadata": {},
     "execution_count": 20
    }
   ],
   "metadata": {}
  },
  {
   "cell_type": "code",
   "execution_count": 21,
   "source": [
    "noaa_trainX = np.reshape(noaa_trainX, (noaa_trainX.shape[0], 1, noaa_trainX.shape[1]))\n",
    "noaa_testX = np.reshape(noaa_testX, (noaa_testX.shape[0], 1, noaa_testX.shape[1]))\n",
    "noaa_testX.shape"
   ],
   "outputs": [
    {
     "output_type": "execute_result",
     "data": {
      "text/plain": [
       "(15, 1, 4)"
      ]
     },
     "metadata": {},
     "execution_count": 21
    }
   ],
   "metadata": {}
  },
  {
   "cell_type": "code",
   "execution_count": 22,
   "source": [
    "from keras import Sequential\n",
    "from keras.layers import SimpleRNN, Dense"
   ],
   "outputs": [],
   "metadata": {}
  },
  {
   "cell_type": "code",
   "execution_count": 23,
   "source": [
    "# SimpleRNN model\n",
    "model = Sequential()\n",
    "model.add(SimpleRNN(units=32, input_shape=(1,step), activation=\"relu\"))\n",
    "model.add(Dense(8, activation=\"relu\")) \n",
    "model.add(Dense(1))\n",
    "model.compile(loss='mean_squared_error', optimizer='rmsprop')\n",
    "model.summary()"
   ],
   "outputs": [
    {
     "output_type": "stream",
     "name": "stdout",
     "text": [
      "Model: \"sequential\"\n",
      "_________________________________________________________________\n",
      "Layer (type)                 Output Shape              Param #   \n",
      "=================================================================\n",
      "simple_rnn (SimpleRNN)       (None, 32)                1184      \n",
      "_________________________________________________________________\n",
      "dense (Dense)                (None, 8)                 264       \n",
      "_________________________________________________________________\n",
      "dense_1 (Dense)              (None, 1)                 9         \n",
      "=================================================================\n",
      "Total params: 1,457\n",
      "Trainable params: 1,457\n",
      "Non-trainable params: 0\n",
      "_________________________________________________________________\n"
     ]
    }
   ],
   "metadata": {}
  },
  {
   "cell_type": "code",
   "execution_count": 24,
   "source": [
    "model.fit(coral_trainX,coral_trainY, epochs=100, batch_size=16, verbose=2)\n",
    "trainPredict = model.predict(coral_trainX)\n",
    "testPredict= model.predict(coral_testX)\n",
    "predicted=np.concatenate((trainPredict,testPredict),axis=0)"
   ],
   "outputs": [
    {
     "output_type": "stream",
     "name": "stdout",
     "text": [
      "Epoch 1/100\n",
      "5/5 - 1s - loss: 0.0194\n",
      "Epoch 2/100\n",
      "5/5 - 0s - loss: 0.0128\n",
      "Epoch 3/100\n",
      "5/5 - 0s - loss: 0.0108\n",
      "Epoch 4/100\n",
      "5/5 - 0s - loss: 0.0090\n",
      "Epoch 5/100\n",
      "5/5 - 0s - loss: 0.0078\n",
      "Epoch 6/100\n",
      "5/5 - 0s - loss: 0.0068\n",
      "Epoch 7/100\n",
      "5/5 - 0s - loss: 0.0062\n",
      "Epoch 8/100\n",
      "5/5 - 0s - loss: 0.0055\n",
      "Epoch 9/100\n",
      "5/5 - 0s - loss: 0.0050\n",
      "Epoch 10/100\n",
      "5/5 - 0s - loss: 0.0044\n",
      "Epoch 11/100\n",
      "5/5 - 0s - loss: 0.0036\n",
      "Epoch 12/100\n",
      "5/5 - 0s - loss: 0.0032\n",
      "Epoch 13/100\n",
      "5/5 - 0s - loss: 0.0028\n",
      "Epoch 14/100\n",
      "5/5 - 0s - loss: 0.0024\n",
      "Epoch 15/100\n",
      "5/5 - 0s - loss: 0.0021\n",
      "Epoch 16/100\n",
      "5/5 - 0s - loss: 0.0018\n",
      "Epoch 17/100\n",
      "5/5 - 0s - loss: 0.0015\n",
      "Epoch 18/100\n",
      "5/5 - 0s - loss: 0.0012\n",
      "Epoch 19/100\n",
      "5/5 - 0s - loss: 8.4907e-04\n",
      "Epoch 20/100\n",
      "5/5 - 0s - loss: 6.7414e-04\n",
      "Epoch 21/100\n",
      "5/5 - 0s - loss: 5.9649e-04\n",
      "Epoch 22/100\n",
      "5/5 - 0s - loss: 5.0399e-04\n",
      "Epoch 23/100\n",
      "5/5 - 0s - loss: 4.5523e-04\n",
      "Epoch 24/100\n",
      "5/5 - 0s - loss: 3.7165e-04\n",
      "Epoch 25/100\n",
      "5/5 - 0s - loss: 2.6910e-04\n",
      "Epoch 26/100\n",
      "5/5 - 0s - loss: 2.1959e-04\n",
      "Epoch 27/100\n",
      "5/5 - 0s - loss: 1.9277e-04\n",
      "Epoch 28/100\n",
      "5/5 - 0s - loss: 1.6313e-04\n",
      "Epoch 29/100\n",
      "5/5 - 0s - loss: 1.1007e-04\n",
      "Epoch 30/100\n",
      "5/5 - 0s - loss: 1.5080e-04\n",
      "Epoch 31/100\n",
      "5/5 - 0s - loss: 9.9612e-05\n",
      "Epoch 32/100\n",
      "5/5 - 0s - loss: 8.7245e-05\n",
      "Epoch 33/100\n",
      "5/5 - 0s - loss: 8.7257e-05\n",
      "Epoch 34/100\n",
      "5/5 - 0s - loss: 1.0248e-04\n",
      "Epoch 35/100\n",
      "5/5 - 0s - loss: 4.2522e-05\n",
      "Epoch 36/100\n",
      "5/5 - 0s - loss: 4.5963e-05\n",
      "Epoch 37/100\n",
      "5/5 - 0s - loss: 5.1175e-05\n",
      "Epoch 38/100\n",
      "5/5 - 0s - loss: 9.2321e-05\n",
      "Epoch 39/100\n",
      "5/5 - 0s - loss: 6.4891e-05\n",
      "Epoch 40/100\n",
      "5/5 - 0s - loss: 3.8558e-05\n",
      "Epoch 41/100\n",
      "5/5 - 0s - loss: 2.6202e-05\n",
      "Epoch 42/100\n",
      "5/5 - 0s - loss: 2.5941e-05\n",
      "Epoch 43/100\n",
      "5/5 - 0s - loss: 7.6399e-05\n",
      "Epoch 44/100\n",
      "5/5 - 0s - loss: 2.6782e-05\n",
      "Epoch 45/100\n",
      "5/5 - 0s - loss: 3.7367e-05\n",
      "Epoch 46/100\n",
      "5/5 - 0s - loss: 4.4844e-05\n",
      "Epoch 47/100\n",
      "5/5 - 0s - loss: 5.0773e-05\n",
      "Epoch 48/100\n",
      "5/5 - 0s - loss: 1.2467e-05\n",
      "Epoch 49/100\n",
      "5/5 - 0s - loss: 1.5476e-05\n",
      "Epoch 50/100\n",
      "5/5 - 0s - loss: 1.0782e-05\n",
      "Epoch 51/100\n",
      "5/5 - 0s - loss: 8.7273e-05\n",
      "Epoch 52/100\n",
      "5/5 - 0s - loss: 2.4445e-05\n",
      "Epoch 53/100\n",
      "5/5 - 0s - loss: 3.2699e-05\n",
      "Epoch 54/100\n",
      "5/5 - 0s - loss: 5.1033e-05\n",
      "Epoch 55/100\n",
      "5/5 - 0s - loss: 1.3654e-05\n",
      "Epoch 56/100\n",
      "5/5 - 0s - loss: 3.4248e-05\n",
      "Epoch 57/100\n",
      "5/5 - 0s - loss: 9.7282e-06\n",
      "Epoch 58/100\n",
      "5/5 - 0s - loss: 7.5181e-05\n",
      "Epoch 59/100\n",
      "5/5 - 0s - loss: 9.1490e-06\n",
      "Epoch 60/100\n",
      "5/5 - 0s - loss: 4.7370e-05\n",
      "Epoch 61/100\n",
      "5/5 - 0s - loss: 1.9101e-05\n",
      "Epoch 62/100\n",
      "5/5 - 0s - loss: 2.7092e-05\n",
      "Epoch 63/100\n",
      "5/5 - 0s - loss: 2.2011e-05\n",
      "Epoch 64/100\n",
      "5/5 - 0s - loss: 4.0371e-05\n",
      "Epoch 65/100\n",
      "5/5 - 0s - loss: 3.9333e-05\n",
      "Epoch 66/100\n",
      "5/5 - 0s - loss: 2.4641e-05\n",
      "Epoch 67/100\n",
      "5/5 - 0s - loss: 5.0416e-06\n",
      "Epoch 68/100\n",
      "5/5 - 0s - loss: 5.5146e-05\n",
      "Epoch 69/100\n",
      "5/5 - 0s - loss: 3.1013e-05\n",
      "Epoch 70/100\n",
      "5/5 - 0s - loss: 8.3679e-06\n",
      "Epoch 71/100\n",
      "5/5 - 0s - loss: 2.9561e-05\n",
      "Epoch 72/100\n",
      "5/5 - 0s - loss: 5.3182e-05\n",
      "Epoch 73/100\n",
      "5/5 - 0s - loss: 8.4912e-06\n",
      "Epoch 74/100\n",
      "5/5 - 0s - loss: 3.1051e-05\n",
      "Epoch 75/100\n",
      "5/5 - 0s - loss: 5.8919e-05\n",
      "Epoch 76/100\n",
      "5/5 - 0s - loss: 1.4611e-05\n",
      "Epoch 77/100\n",
      "5/5 - 0s - loss: 5.3232e-06\n",
      "Epoch 78/100\n",
      "5/5 - 0s - loss: 7.6217e-05\n",
      "Epoch 79/100\n",
      "5/5 - 0s - loss: 1.5716e-05\n",
      "Epoch 80/100\n",
      "5/5 - 0s - loss: 1.4160e-05\n",
      "Epoch 81/100\n",
      "5/5 - 0s - loss: 4.5002e-05\n",
      "Epoch 82/100\n",
      "5/5 - 0s - loss: 7.3774e-06\n",
      "Epoch 83/100\n",
      "5/5 - 0s - loss: 7.1908e-05\n",
      "Epoch 84/100\n",
      "5/5 - 0s - loss: 8.3758e-06\n",
      "Epoch 85/100\n",
      "5/5 - 0s - loss: 3.9135e-05\n",
      "Epoch 86/100\n",
      "5/5 - 0s - loss: 1.0222e-05\n",
      "Epoch 87/100\n",
      "5/5 - 0s - loss: 2.8874e-05\n",
      "Epoch 88/100\n",
      "5/5 - 0s - loss: 6.0826e-05\n",
      "Epoch 89/100\n",
      "5/5 - 0s - loss: 5.7773e-06\n",
      "Epoch 90/100\n",
      "5/5 - 0s - loss: 4.1077e-06\n",
      "Epoch 91/100\n",
      "5/5 - 0s - loss: 5.5811e-05\n",
      "Epoch 92/100\n",
      "5/5 - 0s - loss: 2.3519e-05\n",
      "Epoch 93/100\n",
      "5/5 - 0s - loss: 4.1214e-06\n",
      "Epoch 94/100\n",
      "5/5 - 0s - loss: 3.6400e-05\n",
      "Epoch 95/100\n",
      "5/5 - 0s - loss: 2.6295e-05\n",
      "Epoch 96/100\n",
      "5/5 - 0s - loss: 2.4765e-05\n",
      "Epoch 97/100\n",
      "5/5 - 0s - loss: 1.9989e-05\n",
      "Epoch 98/100\n",
      "5/5 - 0s - loss: 3.1709e-05\n",
      "Epoch 99/100\n",
      "5/5 - 0s - loss: 2.4941e-05\n",
      "Epoch 100/100\n",
      "5/5 - 0s - loss: 4.5007e-06\n"
     ]
    }
   ],
   "metadata": {}
  },
  {
   "cell_type": "code",
   "execution_count": 25,
   "source": [
    "#Next, we'll check the loss\n",
    "trainScore = model.evaluate(coral_trainX, coral_trainY, verbose=0)\n",
    "print(trainScore)"
   ],
   "outputs": [
    {
     "output_type": "stream",
     "name": "stdout",
     "text": [
      "1.2596336091519333e-05\n"
     ]
    }
   ],
   "metadata": {}
  },
  {
   "cell_type": "code",
   "execution_count": 26,
   "source": [
    "# put them in the right order again\n",
    "predicted = np.flip(predicted)"
   ],
   "outputs": [],
   "metadata": {}
  },
  {
   "cell_type": "code",
   "execution_count": 38,
   "source": [
    "# Finally, we check the result in a plot. \n",
    "index = historical_temps['year'].values\n",
    "plt.plot(index,historical_temps['pred'], color = 'blue')\n",
    "#plt.plot(index,historical_temps['temp_anom'], color = 'green')\n",
    "plt.plot(index,predicted, color=\"orange\")\n",
    "# A vertical line in a plot identifies a splitting point between the training and the test part.\n",
    "plt.axvline(historical_temps['year'][N - Tp], c=\"r\")\n",
    "plt.title('RNN Applied to Predicted Temperature Data from Fully-Connected Model\\n\\nRNN Model was run backwards (1960 --> 1880)\\nRed Line = Start of Test Data (1895 - 1880)')\n",
    "plt.ylabel('Temp Anom')\n",
    "plt.show() "
   ],
   "outputs": [
    {
     "output_type": "display_data",
     "data": {
      "text/plain": [
       "<Figure size 432x288 with 1 Axes>"
      ],
      "image/png": "[encoded data removed]"
     },
     "metadata": {
      "needs_background": "light"
     }
    }
   ],
   "metadata": {}
  },
  {
   "cell_type": "code",
   "execution_count": 29,
   "source": [
    "model.fit(noaa_trainX,noaa_trainY, epochs=100, batch_size=16, verbose=2)\n",
    "trainPredict_noaa = model.predict(noaa_trainX)\n",
    "testPredict_noaa= model.predict(noaa_testX)\n",
    "predicted_noaa=np.concatenate((trainPredict_noaa,testPredict_noaa),axis=0)"
   ],
   "outputs": [
    {
     "output_type": "stream",
     "name": "stdout",
     "text": [
      "Epoch 1/100\n",
      "5/5 - 0s - loss: 0.0487\n",
      "Epoch 2/100\n",
      "5/5 - 0s - loss: 0.0367\n",
      "Epoch 3/100\n",
      "5/5 - 0s - loss: 0.0341\n",
      "Epoch 4/100\n",
      "5/5 - 0s - loss: 0.0304\n",
      "Epoch 5/100\n",
      "5/5 - 0s - loss: 0.0287\n",
      "Epoch 6/100\n",
      "5/5 - 0s - loss: 0.0280\n",
      "Epoch 7/100\n",
      "5/5 - 0s - loss: 0.0272\n",
      "Epoch 8/100\n",
      "5/5 - 0s - loss: 0.0271\n",
      "Epoch 9/100\n",
      "5/5 - 0s - loss: 0.0266\n",
      "Epoch 10/100\n",
      "5/5 - 0s - loss: 0.0263\n",
      "Epoch 11/100\n",
      "5/5 - 0s - loss: 0.0264\n",
      "Epoch 12/100\n",
      "5/5 - 0s - loss: 0.0258\n",
      "Epoch 13/100\n",
      "5/5 - 0s - loss: 0.0260\n",
      "Epoch 14/100\n",
      "5/5 - 0s - loss: 0.0258\n",
      "Epoch 15/100\n",
      "5/5 - 0s - loss: 0.0263\n",
      "Epoch 16/100\n",
      "5/5 - 0s - loss: 0.0253\n",
      "Epoch 17/100\n",
      "5/5 - 0s - loss: 0.0249\n",
      "Epoch 18/100\n",
      "5/5 - 0s - loss: 0.0245\n",
      "Epoch 19/100\n",
      "5/5 - 0s - loss: 0.0243\n",
      "Epoch 20/100\n",
      "5/5 - 0s - loss: 0.0242\n",
      "Epoch 21/100\n",
      "5/5 - 0s - loss: 0.0236\n",
      "Epoch 22/100\n",
      "5/5 - 0s - loss: 0.0236\n",
      "Epoch 23/100\n",
      "5/5 - 0s - loss: 0.0229\n",
      "Epoch 24/100\n",
      "5/5 - 0s - loss: 0.0230\n",
      "Epoch 25/100\n",
      "5/5 - 0s - loss: 0.0224\n",
      "Epoch 26/100\n",
      "5/5 - 0s - loss: 0.0222\n",
      "Epoch 27/100\n",
      "5/5 - 0s - loss: 0.0224\n",
      "Epoch 28/100\n",
      "5/5 - 0s - loss: 0.0222\n",
      "Epoch 29/100\n",
      "5/5 - 0s - loss: 0.0223\n",
      "Epoch 30/100\n",
      "5/5 - 0s - loss: 0.0224\n",
      "Epoch 31/100\n",
      "5/5 - 0s - loss: 0.0218\n",
      "Epoch 32/100\n",
      "5/5 - 0s - loss: 0.0210\n",
      "Epoch 33/100\n",
      "5/5 - 0s - loss: 0.0207\n",
      "Epoch 34/100\n",
      "5/5 - 0s - loss: 0.0212\n",
      "Epoch 35/100\n",
      "5/5 - 0s - loss: 0.0208\n",
      "Epoch 36/100\n",
      "5/5 - 0s - loss: 0.0206\n",
      "Epoch 37/100\n",
      "5/5 - 0s - loss: 0.0205\n",
      "Epoch 38/100\n",
      "5/5 - 0s - loss: 0.0200\n",
      "Epoch 39/100\n",
      "5/5 - 0s - loss: 0.0199\n",
      "Epoch 40/100\n",
      "5/5 - 0s - loss: 0.0203\n",
      "Epoch 41/100\n",
      "5/5 - 0s - loss: 0.0205\n",
      "Epoch 42/100\n",
      "5/5 - 0s - loss: 0.0194\n",
      "Epoch 43/100\n",
      "5/5 - 0s - loss: 0.0192\n",
      "Epoch 44/100\n",
      "5/5 - 0s - loss: 0.0192\n",
      "Epoch 45/100\n",
      "5/5 - 0s - loss: 0.0194\n",
      "Epoch 46/100\n",
      "5/5 - 0s - loss: 0.0189\n",
      "Epoch 47/100\n",
      "5/5 - 0s - loss: 0.0192\n",
      "Epoch 48/100\n",
      "5/5 - 0s - loss: 0.0189\n",
      "Epoch 49/100\n",
      "5/5 - 0s - loss: 0.0201\n",
      "Epoch 50/100\n",
      "5/5 - 0s - loss: 0.0202\n",
      "Epoch 51/100\n",
      "5/5 - 0s - loss: 0.0203\n",
      "Epoch 52/100\n",
      "5/5 - 0s - loss: 0.0185\n",
      "Epoch 53/100\n",
      "5/5 - 0s - loss: 0.0187\n",
      "Epoch 54/100\n",
      "5/5 - 0s - loss: 0.0182\n",
      "Epoch 55/100\n",
      "5/5 - 0s - loss: 0.0184\n",
      "Epoch 56/100\n",
      "5/5 - 0s - loss: 0.0190\n",
      "Epoch 57/100\n",
      "5/5 - 0s - loss: 0.0192\n",
      "Epoch 58/100\n",
      "5/5 - 0s - loss: 0.0189\n",
      "Epoch 59/100\n",
      "5/5 - 0s - loss: 0.0180\n",
      "Epoch 60/100\n",
      "5/5 - 0s - loss: 0.0181\n",
      "Epoch 61/100\n",
      "5/5 - 0s - loss: 0.0198\n",
      "Epoch 62/100\n",
      "5/5 - 0s - loss: 0.0177\n",
      "Epoch 63/100\n",
      "5/5 - 0s - loss: 0.0183\n",
      "Epoch 64/100\n",
      "5/5 - 0s - loss: 0.0176\n",
      "Epoch 65/100\n",
      "5/5 - 0s - loss: 0.0178\n",
      "Epoch 66/100\n",
      "5/5 - 0s - loss: 0.0179\n",
      "Epoch 67/100\n",
      "5/5 - 0s - loss: 0.0176\n",
      "Epoch 68/100\n",
      "5/5 - 0s - loss: 0.0176\n",
      "Epoch 69/100\n",
      "5/5 - 0s - loss: 0.0182\n",
      "Epoch 70/100\n",
      "5/5 - 0s - loss: 0.0179\n",
      "Epoch 71/100\n",
      "5/5 - 0s - loss: 0.0173\n",
      "Epoch 72/100\n",
      "5/5 - 0s - loss: 0.0181\n",
      "Epoch 73/100\n",
      "5/5 - 0s - loss: 0.0175\n",
      "Epoch 74/100\n",
      "5/5 - 0s - loss: 0.0176\n",
      "Epoch 75/100\n",
      "5/5 - 0s - loss: 0.0180\n",
      "Epoch 76/100\n",
      "5/5 - 0s - loss: 0.0173\n",
      "Epoch 77/100\n",
      "5/5 - 0s - loss: 0.0173\n",
      "Epoch 78/100\n",
      "5/5 - 0s - loss: 0.0178\n",
      "Epoch 79/100\n",
      "5/5 - 0s - loss: 0.0173\n",
      "Epoch 80/100\n",
      "5/5 - 0s - loss: 0.0171\n",
      "Epoch 81/100\n",
      "5/5 - 0s - loss: 0.0173\n",
      "Epoch 82/100\n",
      "5/5 - 0s - loss: 0.0169\n",
      "Epoch 83/100\n",
      "5/5 - 0s - loss: 0.0173\n",
      "Epoch 84/100\n",
      "5/5 - 0s - loss: 0.0176\n",
      "Epoch 85/100\n",
      "5/5 - 0s - loss: 0.0166\n",
      "Epoch 86/100\n",
      "5/5 - 0s - loss: 0.0182\n",
      "Epoch 87/100\n",
      "5/5 - 0s - loss: 0.0163\n",
      "Epoch 88/100\n",
      "5/5 - 0s - loss: 0.0164\n",
      "Epoch 89/100\n",
      "5/5 - 0s - loss: 0.0174\n",
      "Epoch 90/100\n",
      "5/5 - 0s - loss: 0.0163\n",
      "Epoch 91/100\n",
      "5/5 - 0s - loss: 0.0167\n",
      "Epoch 92/100\n",
      "5/5 - 0s - loss: 0.0171\n",
      "Epoch 93/100\n",
      "5/5 - 0s - loss: 0.0170\n",
      "Epoch 94/100\n",
      "5/5 - 0s - loss: 0.0165\n",
      "Epoch 95/100\n",
      "5/5 - 0s - loss: 0.0163\n",
      "Epoch 96/100\n",
      "5/5 - 0s - loss: 0.0169\n",
      "Epoch 97/100\n",
      "5/5 - 0s - loss: 0.0161\n",
      "Epoch 98/100\n",
      "5/5 - 0s - loss: 0.0162\n",
      "Epoch 99/100\n",
      "5/5 - 0s - loss: 0.0167\n",
      "Epoch 100/100\n",
      "5/5 - 0s - loss: 0.0170\n"
     ]
    }
   ],
   "metadata": {}
  },
  {
   "cell_type": "code",
   "execution_count": 31,
   "source": [
    "#Next, we'll check the loss\n",
    "trainScore = model.evaluate(noaa_trainX, noaa_trainY, verbose=0)\n",
    "print(trainScore)"
   ],
   "outputs": [
    {
     "output_type": "stream",
     "name": "stdout",
     "text": [
      "0.016928454861044884\n"
     ]
    }
   ],
   "metadata": {}
  },
  {
   "cell_type": "code",
   "execution_count": 32,
   "source": [
    "# put them in the right order again\n",
    "predicted_noaa = np.flip(predicted_noaa)"
   ],
   "outputs": [],
   "metadata": {}
  },
  {
   "cell_type": "code",
   "execution_count": 47,
   "source": [
    "# Finally, we check the result in a plot. \n",
    "index = historical_temps['year'].values\n",
    "#plt.plot(index,historical_temps['pred'], color = 'blue')\n",
    "plt.plot(index,historical_temps['temp_anom'], color = 'green')\n",
    "plt.plot(index,predicted_noaa, color=\"orange\")\n",
    "# A vertical line in a plot identifies a splitting point between the training and the test part.\n",
    "plt.axvline(historical_temps['year'][N - Tp], c=\"r\")\n",
    "plt.title('RNN Applied to Actual Temperature Data\\n\\nActual Model was run backwards (1960 --> 1880)\\nRed Line = Start of Test Data (1895 - 1880)')\n",
    "plt.ylabel('Temp Anom')\n",
    "plt.show() "
   ],
   "outputs": [
    {
     "output_type": "display_data",
     "data": {
      "text/plain": [
       "<Figure size 432x288 with 1 Axes>"
      ],
      "image/png": "[encoded data removed]"
     },
     "metadata": {
      "needs_background": "light"
     }
    }
   ],
   "metadata": {}
  },
  {
   "cell_type": "code",
   "execution_count": null,
   "source": [],
   "outputs": [],
   "metadata": {}
  }
 ],
 "metadata": {
  "orig_nbformat": 4,
  "language_info": {
   "name": "python",
   "version": "3.8.5",
   "mimetype": "text/x-python",
   "codemirror_mode": {
    "name": "ipython",
    "version": 3
   },
   "pygments_lexer": "ipython3",
   "nbconvert_exporter": "python",
   "file_extension": ".py"
  },
  "kernelspec": {
   "name": "python3",
   "display_name": "Python 3.8.5 64-bit ('base': conda)"
  },
  "interpreter": {
   "hash": "da0f4b2f549526c8eb110fe99ce30953b583bbcf13bb8926e556c8ad6926646c"
  }
 },
 "nbformat": 4,
 "nbformat_minor": 2
}