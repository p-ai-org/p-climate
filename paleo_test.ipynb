{
 "cells": [
  {
   "cell_type": "code",
   "execution_count": 205,
   "metadata": {},
   "outputs": [],
   "source": [
    "import pandas as pd\n",
    "import numpy as np\n",
    "import tensorflow as tf\n",
    "from sklearn.metrics import explained_variance_score, \\\n",
    "    mean_absolute_error, \\\n",
    "    median_absolute_error\n",
    "from sklearn.model_selection import train_test_split"
   ]
  },
  {
   "cell_type": "markdown",
   "metadata": {},
   "source": [
    "## Let's run through a basic analysis of one proxy Organism"
   ]
  },
  {
   "attachments": {},
   "cell_type": "markdown",
   "metadata": {},
   "source": [
    "#### Arctic Bay, Arctic: Coralline Algae (1967-2008)"
   ]
  },
  {
   "cell_type": "code",
   "execution_count": 206,
   "metadata": {},
   "outputs": [
    {
     "data": {
      "text/html": [
       "<div>\n",
       "<style scoped>\n",
       "    .dataframe tbody tr th:only-of-type {\n",
       "        vertical-align: middle;\n",
       "    }\n",
       "\n",
       "    .dataframe tbody tr th {\n",
       "        vertical-align: top;\n",
       "    }\n",
       "\n",
       "    .dataframe thead th {\n",
       "        text-align: right;\n",
       "    }\n",
       "</style>\n",
       "<table border=\"1\" class=\"dataframe\">\n",
       "  <thead>\n",
       "    <tr style=\"text-align: right;\">\n",
       "      <th></th>\n",
       "      <th>year</th>\n",
       "      <th>d18O</th>\n",
       "    </tr>\n",
       "  </thead>\n",
       "  <tbody>\n",
       "    <tr>\n",
       "      <th>0</th>\n",
       "      <td>2008</td>\n",
       "      <td>-0.048160</td>\n",
       "    </tr>\n",
       "    <tr>\n",
       "      <th>1</th>\n",
       "      <td>2007</td>\n",
       "      <td>-0.045444</td>\n",
       "    </tr>\n",
       "    <tr>\n",
       "      <th>2</th>\n",
       "      <td>2006</td>\n",
       "      <td>-0.070624</td>\n",
       "    </tr>\n",
       "    <tr>\n",
       "      <th>3</th>\n",
       "      <td>2005</td>\n",
       "      <td>-0.095804</td>\n",
       "    </tr>\n",
       "    <tr>\n",
       "      <th>4</th>\n",
       "      <td>2004</td>\n",
       "      <td>0.027000</td>\n",
       "    </tr>\n",
       "  </tbody>\n",
       "</table>\n",
       "</div>"
      ],
      "text/plain": [
       "   year      d18O\n",
       "0  2008 -0.048160\n",
       "1  2007 -0.045444\n",
       "2  2006 -0.070624\n",
       "3  2005 -0.095804\n",
       "4  2004  0.027000"
      ]
     },
     "execution_count": 206,
     "metadata": {},
     "output_type": "execute_result"
    }
   ],
   "source": [
    "raw_paleo_data = pd.read_csv(\"d18O_raw/ab_d18O_raw.csv\")\n",
    "raw_paleo_data.head()"
   ]
  },
  {
   "cell_type": "code",
   "execution_count": 207,
   "metadata": {},
   "outputs": [
    {
     "data": {
      "text/html": [
       "<div>\n",
       "<style scoped>\n",
       "    .dataframe tbody tr th:only-of-type {\n",
       "        vertical-align: middle;\n",
       "    }\n",
       "\n",
       "    .dataframe tbody tr th {\n",
       "        vertical-align: top;\n",
       "    }\n",
       "\n",
       "    .dataframe thead th {\n",
       "        text-align: right;\n",
       "    }\n",
       "</style>\n",
       "<table border=\"1\" class=\"dataframe\">\n",
       "  <thead>\n",
       "    <tr style=\"text-align: right;\">\n",
       "      <th></th>\n",
       "      <th>Unnamed: 0</th>\n",
       "      <th>time</th>\n",
       "      <th>lat</th>\n",
       "      <th>lon</th>\n",
       "      <th>depth</th>\n",
       "      <th>temp</th>\n",
       "      <th>salt</th>\n",
       "    </tr>\n",
       "  </thead>\n",
       "  <tbody>\n",
       "    <tr>\n",
       "      <th>0</th>\n",
       "      <td>1</td>\n",
       "      <td>1967-01-15T00:00:00Z</td>\n",
       "      <td>72.75</td>\n",
       "      <td>273.75</td>\n",
       "      <td>5.01</td>\n",
       "      <td>-1.280347</td>\n",
       "      <td>31.575184</td>\n",
       "    </tr>\n",
       "    <tr>\n",
       "      <th>1</th>\n",
       "      <td>2</td>\n",
       "      <td>1967-01-15T00:00:00Z</td>\n",
       "      <td>72.75</td>\n",
       "      <td>274.25</td>\n",
       "      <td>5.01</td>\n",
       "      <td>-1.280931</td>\n",
       "      <td>31.576525</td>\n",
       "    </tr>\n",
       "    <tr>\n",
       "      <th>2</th>\n",
       "      <td>3</td>\n",
       "      <td>1967-01-15T00:00:00Z</td>\n",
       "      <td>73.25</td>\n",
       "      <td>273.75</td>\n",
       "      <td>5.01</td>\n",
       "      <td>-1.298791</td>\n",
       "      <td>31.579832</td>\n",
       "    </tr>\n",
       "    <tr>\n",
       "      <th>3</th>\n",
       "      <td>4</td>\n",
       "      <td>1967-01-15T00:00:00Z</td>\n",
       "      <td>73.25</td>\n",
       "      <td>274.25</td>\n",
       "      <td>5.01</td>\n",
       "      <td>-1.324163</td>\n",
       "      <td>31.503399</td>\n",
       "    </tr>\n",
       "    <tr>\n",
       "      <th>4</th>\n",
       "      <td>5</td>\n",
       "      <td>1967-01-15T00:00:00Z</td>\n",
       "      <td>73.75</td>\n",
       "      <td>273.75</td>\n",
       "      <td>5.01</td>\n",
       "      <td>-1.425924</td>\n",
       "      <td>30.357185</td>\n",
       "    </tr>\n",
       "    <tr>\n",
       "      <th>5</th>\n",
       "      <td>6</td>\n",
       "      <td>1967-01-15T00:00:00Z</td>\n",
       "      <td>73.75</td>\n",
       "      <td>274.25</td>\n",
       "      <td>5.01</td>\n",
       "      <td>-1.409098</td>\n",
       "      <td>30.414881</td>\n",
       "    </tr>\n",
       "    <tr>\n",
       "      <th>6</th>\n",
       "      <td>7</td>\n",
       "      <td>1967-02-15T00:00:00Z</td>\n",
       "      <td>72.75</td>\n",
       "      <td>273.75</td>\n",
       "      <td>5.01</td>\n",
       "      <td>-1.279240</td>\n",
       "      <td>31.829067</td>\n",
       "    </tr>\n",
       "    <tr>\n",
       "      <th>7</th>\n",
       "      <td>8</td>\n",
       "      <td>1967-02-15T00:00:00Z</td>\n",
       "      <td>72.75</td>\n",
       "      <td>274.25</td>\n",
       "      <td>5.01</td>\n",
       "      <td>-1.281839</td>\n",
       "      <td>31.826092</td>\n",
       "    </tr>\n",
       "    <tr>\n",
       "      <th>8</th>\n",
       "      <td>9</td>\n",
       "      <td>1967-02-15T00:00:00Z</td>\n",
       "      <td>73.25</td>\n",
       "      <td>273.75</td>\n",
       "      <td>5.01</td>\n",
       "      <td>-1.320389</td>\n",
       "      <td>31.776814</td>\n",
       "    </tr>\n",
       "    <tr>\n",
       "      <th>9</th>\n",
       "      <td>10</td>\n",
       "      <td>1967-02-15T00:00:00Z</td>\n",
       "      <td>73.25</td>\n",
       "      <td>274.25</td>\n",
       "      <td>5.01</td>\n",
       "      <td>-1.360575</td>\n",
       "      <td>31.597593</td>\n",
       "    </tr>\n",
       "  </tbody>\n",
       "</table>\n",
       "</div>"
      ],
      "text/plain": [
       "   Unnamed: 0                  time    lat     lon  depth      temp       salt\n",
       "0           1  1967-01-15T00:00:00Z  72.75  273.75   5.01 -1.280347  31.575184\n",
       "1           2  1967-01-15T00:00:00Z  72.75  274.25   5.01 -1.280931  31.576525\n",
       "2           3  1967-01-15T00:00:00Z  73.25  273.75   5.01 -1.298791  31.579832\n",
       "3           4  1967-01-15T00:00:00Z  73.25  274.25   5.01 -1.324163  31.503399\n",
       "4           5  1967-01-15T00:00:00Z  73.75  273.75   5.01 -1.425924  30.357185\n",
       "5           6  1967-01-15T00:00:00Z  73.75  274.25   5.01 -1.409098  30.414881\n",
       "6           7  1967-02-15T00:00:00Z  72.75  273.75   5.01 -1.279240  31.829067\n",
       "7           8  1967-02-15T00:00:00Z  72.75  274.25   5.01 -1.281839  31.826092\n",
       "8           9  1967-02-15T00:00:00Z  73.25  273.75   5.01 -1.320389  31.776814\n",
       "9          10  1967-02-15T00:00:00Z  73.25  274.25   5.01 -1.360575  31.597593"
      ]
     },
     "execution_count": 207,
     "metadata": {},
     "output_type": "execute_result"
    }
   ],
   "source": [
    "temp_data = pd.read_csv(\"temp_raw/ab_SODA_1x1_raw.csv\")\n",
    "temp_data.head(10)"
   ]
  },
  {
   "cell_type": "markdown",
   "metadata": {},
   "source": [
    "Let's make sure this temperature is averaged across the grid such that each month only has one temperature and one salinity value across the multiple lat/long pairs. "
   ]
  },
  {
   "cell_type": "code",
   "execution_count": 208,
   "metadata": {},
   "outputs": [
    {
     "name": "stdout",
     "output_type": "stream",
     "text": [
      "time\n",
      "1967-01-15T00:00:00Z   -1.336542\n",
      "1967-02-15T00:00:00Z   -1.343062\n",
      "1967-03-15T00:00:00Z   -1.377000\n",
      "1967-04-15T00:00:00Z   -1.455148\n",
      "1967-05-15T00:00:00Z   -1.514044\n",
      "                          ...   \n",
      "2008-08-15T00:00:00Z   -0.197338\n",
      "2008-09-15T00:00:00Z   -0.944179\n",
      "2008-10-15T00:00:00Z   -1.022546\n",
      "2008-11-15T00:00:00Z   -1.116120\n",
      "2008-12-15T00:00:00Z   -1.164364\n",
      "Name: temp, Length: 504, dtype: float64\n"
     ]
    }
   ],
   "source": [
    "monthly_temp_data = temp_data.groupby('time')\n",
    "\n",
    "print(monthly_temp_data['temp'].agg(np.mean))"
   ]
  },
  {
   "cell_type": "markdown",
   "metadata": {},
   "source": [
    "Let's average these temperatures across years, across the grids. "
   ]
  },
  {
   "cell_type": "code",
   "execution_count": 209,
   "metadata": {},
   "outputs": [
    {
     "data": {
      "text/html": [
       "<div>\n",
       "<style scoped>\n",
       "    .dataframe tbody tr th:only-of-type {\n",
       "        vertical-align: middle;\n",
       "    }\n",
       "\n",
       "    .dataframe tbody tr th {\n",
       "        vertical-align: top;\n",
       "    }\n",
       "\n",
       "    .dataframe thead th {\n",
       "        text-align: right;\n",
       "    }\n",
       "</style>\n",
       "<table border=\"1\" class=\"dataframe\">\n",
       "  <thead>\n",
       "    <tr style=\"text-align: right;\">\n",
       "      <th></th>\n",
       "      <th>Unnamed: 0</th>\n",
       "      <th>time</th>\n",
       "      <th>lat</th>\n",
       "      <th>lon</th>\n",
       "      <th>depth</th>\n",
       "      <th>temp</th>\n",
       "      <th>salt</th>\n",
       "      <th>year</th>\n",
       "    </tr>\n",
       "  </thead>\n",
       "  <tbody>\n",
       "    <tr>\n",
       "      <th>0</th>\n",
       "      <td>1</td>\n",
       "      <td>1967-01-15T00:00:00Z</td>\n",
       "      <td>72.75</td>\n",
       "      <td>273.75</td>\n",
       "      <td>5.01</td>\n",
       "      <td>-1.280347</td>\n",
       "      <td>31.575184</td>\n",
       "      <td>1967</td>\n",
       "    </tr>\n",
       "    <tr>\n",
       "      <th>1</th>\n",
       "      <td>2</td>\n",
       "      <td>1967-01-15T00:00:00Z</td>\n",
       "      <td>72.75</td>\n",
       "      <td>274.25</td>\n",
       "      <td>5.01</td>\n",
       "      <td>-1.280931</td>\n",
       "      <td>31.576525</td>\n",
       "      <td>1967</td>\n",
       "    </tr>\n",
       "    <tr>\n",
       "      <th>2</th>\n",
       "      <td>3</td>\n",
       "      <td>1967-01-15T00:00:00Z</td>\n",
       "      <td>73.25</td>\n",
       "      <td>273.75</td>\n",
       "      <td>5.01</td>\n",
       "      <td>-1.298791</td>\n",
       "      <td>31.579832</td>\n",
       "      <td>1967</td>\n",
       "    </tr>\n",
       "    <tr>\n",
       "      <th>3</th>\n",
       "      <td>4</td>\n",
       "      <td>1967-01-15T00:00:00Z</td>\n",
       "      <td>73.25</td>\n",
       "      <td>274.25</td>\n",
       "      <td>5.01</td>\n",
       "      <td>-1.324163</td>\n",
       "      <td>31.503399</td>\n",
       "      <td>1967</td>\n",
       "    </tr>\n",
       "    <tr>\n",
       "      <th>4</th>\n",
       "      <td>5</td>\n",
       "      <td>1967-01-15T00:00:00Z</td>\n",
       "      <td>73.75</td>\n",
       "      <td>273.75</td>\n",
       "      <td>5.01</td>\n",
       "      <td>-1.425924</td>\n",
       "      <td>30.357185</td>\n",
       "      <td>1967</td>\n",
       "    </tr>\n",
       "    <tr>\n",
       "      <th>...</th>\n",
       "      <td>...</td>\n",
       "      <td>...</td>\n",
       "      <td>...</td>\n",
       "      <td>...</td>\n",
       "      <td>...</td>\n",
       "      <td>...</td>\n",
       "      <td>...</td>\n",
       "      <td>...</td>\n",
       "    </tr>\n",
       "    <tr>\n",
       "      <th>3019</th>\n",
       "      <td>3020</td>\n",
       "      <td>2008-12-15T00:00:00Z</td>\n",
       "      <td>72.75</td>\n",
       "      <td>274.25</td>\n",
       "      <td>5.01</td>\n",
       "      <td>-1.109940</td>\n",
       "      <td>31.780386</td>\n",
       "      <td>2008</td>\n",
       "    </tr>\n",
       "    <tr>\n",
       "      <th>3020</th>\n",
       "      <td>3021</td>\n",
       "      <td>2008-12-15T00:00:00Z</td>\n",
       "      <td>73.25</td>\n",
       "      <td>273.75</td>\n",
       "      <td>5.01</td>\n",
       "      <td>-1.116151</td>\n",
       "      <td>31.646585</td>\n",
       "      <td>2008</td>\n",
       "    </tr>\n",
       "    <tr>\n",
       "      <th>3021</th>\n",
       "      <td>3022</td>\n",
       "      <td>2008-12-15T00:00:00Z</td>\n",
       "      <td>73.25</td>\n",
       "      <td>274.25</td>\n",
       "      <td>5.01</td>\n",
       "      <td>-1.128340</td>\n",
       "      <td>31.521568</td>\n",
       "      <td>2008</td>\n",
       "    </tr>\n",
       "    <tr>\n",
       "      <th>3022</th>\n",
       "      <td>3023</td>\n",
       "      <td>2008-12-15T00:00:00Z</td>\n",
       "      <td>73.75</td>\n",
       "      <td>273.75</td>\n",
       "      <td>5.01</td>\n",
       "      <td>-1.263921</td>\n",
       "      <td>30.873104</td>\n",
       "      <td>2008</td>\n",
       "    </tr>\n",
       "    <tr>\n",
       "      <th>3023</th>\n",
       "      <td>3024</td>\n",
       "      <td>2008-12-15T00:00:00Z</td>\n",
       "      <td>73.75</td>\n",
       "      <td>274.25</td>\n",
       "      <td>5.01</td>\n",
       "      <td>-1.255458</td>\n",
       "      <td>30.926878</td>\n",
       "      <td>2008</td>\n",
       "    </tr>\n",
       "  </tbody>\n",
       "</table>\n",
       "<p>3024 rows × 8 columns</p>\n",
       "</div>"
      ],
      "text/plain": [
       "      Unnamed: 0                  time    lat     lon  depth      temp  \\\n",
       "0              1  1967-01-15T00:00:00Z  72.75  273.75   5.01 -1.280347   \n",
       "1              2  1967-01-15T00:00:00Z  72.75  274.25   5.01 -1.280931   \n",
       "2              3  1967-01-15T00:00:00Z  73.25  273.75   5.01 -1.298791   \n",
       "3              4  1967-01-15T00:00:00Z  73.25  274.25   5.01 -1.324163   \n",
       "4              5  1967-01-15T00:00:00Z  73.75  273.75   5.01 -1.425924   \n",
       "...          ...                   ...    ...     ...    ...       ...   \n",
       "3019        3020  2008-12-15T00:00:00Z  72.75  274.25   5.01 -1.109940   \n",
       "3020        3021  2008-12-15T00:00:00Z  73.25  273.75   5.01 -1.116151   \n",
       "3021        3022  2008-12-15T00:00:00Z  73.25  274.25   5.01 -1.128340   \n",
       "3022        3023  2008-12-15T00:00:00Z  73.75  273.75   5.01 -1.263921   \n",
       "3023        3024  2008-12-15T00:00:00Z  73.75  274.25   5.01 -1.255458   \n",
       "\n",
       "           salt  year  \n",
       "0     31.575184  1967  \n",
       "1     31.576525  1967  \n",
       "2     31.579832  1967  \n",
       "3     31.503399  1967  \n",
       "4     30.357185  1967  \n",
       "...         ...   ...  \n",
       "3019  31.780386  2008  \n",
       "3020  31.646585  2008  \n",
       "3021  31.521568  2008  \n",
       "3022  30.873104  2008  \n",
       "3023  30.926878  2008  \n",
       "\n",
       "[3024 rows x 8 columns]"
      ]
     },
     "execution_count": 209,
     "metadata": {},
     "output_type": "execute_result"
    }
   ],
   "source": [
    "temp_data['year'] = temp_data['time'].apply(lambda x: x[0:4])\n",
    "temp_data"
   ]
  },
  {
   "cell_type": "markdown",
   "metadata": {},
   "source": [
    "Voila, now we have the average Sea Surface Temp for that lat/long grid on an annual basis:"
   ]
  },
  {
   "cell_type": "code",
   "execution_count": 210,
   "metadata": {},
   "outputs": [
    {
     "data": {
      "text/html": [
       "<div>\n",
       "<style scoped>\n",
       "    .dataframe tbody tr th:only-of-type {\n",
       "        vertical-align: middle;\n",
       "    }\n",
       "\n",
       "    .dataframe tbody tr th {\n",
       "        vertical-align: top;\n",
       "    }\n",
       "\n",
       "    .dataframe thead th {\n",
       "        text-align: right;\n",
       "    }\n",
       "</style>\n",
       "<table border=\"1\" class=\"dataframe\">\n",
       "  <thead>\n",
       "    <tr style=\"text-align: right;\">\n",
       "      <th></th>\n",
       "      <th>year</th>\n",
       "      <th>temp</th>\n",
       "    </tr>\n",
       "  </thead>\n",
       "  <tbody>\n",
       "    <tr>\n",
       "      <th>0</th>\n",
       "      <td>1967</td>\n",
       "      <td>-1.301917</td>\n",
       "    </tr>\n",
       "    <tr>\n",
       "      <th>1</th>\n",
       "      <td>1968</td>\n",
       "      <td>-0.175512</td>\n",
       "    </tr>\n",
       "    <tr>\n",
       "      <th>2</th>\n",
       "      <td>1969</td>\n",
       "      <td>-0.575391</td>\n",
       "    </tr>\n",
       "    <tr>\n",
       "      <th>3</th>\n",
       "      <td>1970</td>\n",
       "      <td>-1.314653</td>\n",
       "    </tr>\n",
       "    <tr>\n",
       "      <th>4</th>\n",
       "      <td>1971</td>\n",
       "      <td>-1.344812</td>\n",
       "    </tr>\n",
       "  </tbody>\n",
       "</table>\n",
       "</div>"
      ],
      "text/plain": [
       "   year      temp\n",
       "0  1967 -1.301917\n",
       "1  1968 -0.175512\n",
       "2  1969 -0.575391\n",
       "3  1970 -1.314653\n",
       "4  1971 -1.344812"
      ]
     },
     "execution_count": 210,
     "metadata": {},
     "output_type": "execute_result"
    }
   ],
   "source": [
    "actual_annual_temp = temp_data.groupby('year')['temp'].agg(np.mean).to_frame().reset_index()\n",
    "# annual_temp['lat'] = 73.25\n",
    "# annual_temp['long'] = 274.75\n",
    "\n",
    "actual_annual_temp.head()"
   ]
  },
  {
   "cell_type": "markdown",
   "metadata": {},
   "source": [
    "Let's see how these two factors naturally correlate:"
   ]
  },
  {
   "cell_type": "code",
   "execution_count": 211,
   "metadata": {},
   "outputs": [],
   "source": [
    "#pre-process for the merge\n",
    "\n",
    "actual_annual_temp['year'] = actual_annual_temp['year'].apply(lambda x: int(x))"
   ]
  },
  {
   "cell_type": "code",
   "execution_count": 212,
   "metadata": {},
   "outputs": [
    {
     "data": {
      "text/html": [
       "<div>\n",
       "<style scoped>\n",
       "    .dataframe tbody tr th:only-of-type {\n",
       "        vertical-align: middle;\n",
       "    }\n",
       "\n",
       "    .dataframe tbody tr th {\n",
       "        vertical-align: top;\n",
       "    }\n",
       "\n",
       "    .dataframe thead th {\n",
       "        text-align: right;\n",
       "    }\n",
       "</style>\n",
       "<table border=\"1\" class=\"dataframe\">\n",
       "  <thead>\n",
       "    <tr style=\"text-align: right;\">\n",
       "      <th></th>\n",
       "      <th>temp</th>\n",
       "      <th>d18O</th>\n",
       "    </tr>\n",
       "    <tr>\n",
       "      <th>year</th>\n",
       "      <th></th>\n",
       "      <th></th>\n",
       "    </tr>\n",
       "  </thead>\n",
       "  <tbody>\n",
       "    <tr>\n",
       "      <th>1967</th>\n",
       "      <td>-1.301917</td>\n",
       "      <td>-0.132046</td>\n",
       "    </tr>\n",
       "    <tr>\n",
       "      <th>1968</th>\n",
       "      <td>-0.175512</td>\n",
       "      <td>-0.134891</td>\n",
       "    </tr>\n",
       "    <tr>\n",
       "      <th>1969</th>\n",
       "      <td>-0.575391</td>\n",
       "      <td>-0.137737</td>\n",
       "    </tr>\n",
       "    <tr>\n",
       "      <th>1970</th>\n",
       "      <td>-1.314653</td>\n",
       "      <td>-0.134845</td>\n",
       "    </tr>\n",
       "    <tr>\n",
       "      <th>1971</th>\n",
       "      <td>-1.344812</td>\n",
       "      <td>-0.131952</td>\n",
       "    </tr>\n",
       "  </tbody>\n",
       "</table>\n",
       "</div>"
      ],
      "text/plain": [
       "          temp      d18O\n",
       "year                    \n",
       "1967 -1.301917 -0.132046\n",
       "1968 -0.175512 -0.134891\n",
       "1969 -0.575391 -0.137737\n",
       "1970 -1.314653 -0.134845\n",
       "1971 -1.344812 -0.131952"
      ]
     },
     "execution_count": 212,
     "metadata": {},
     "output_type": "execute_result"
    }
   ],
   "source": [
    "temp_and_algae = pd.merge(actual_annual_temp, paleo_data, on='year')\n",
    "temp_and_algae.set_index('year').head()"
   ]
  },
  {
   "cell_type": "code",
   "execution_count": 213,
   "metadata": {},
   "outputs": [],
   "source": [
    "import matplotlib.pyplot as plt\n"
   ]
  },
  {
   "cell_type": "code",
   "execution_count": 214,
   "metadata": {},
   "outputs": [
    {
     "data": {
      "image/png": "[encoded data removed]",
      "text/plain": [
       "<Figure size 432x288 with 1 Axes>"
      ]
     },
     "metadata": {
      "needs_background": "light"
     },
     "output_type": "display_data"
    }
   ],
   "source": [
    "plt.plot(temp_and_algae['year'], temp_and_algae['temp'])\n",
    "plt.plot(temp_and_algae['year'], temp_and_algae['d18O'])\n",
    "plt.title('Arctic Bay: Temperature and D18O')\n",
    "plt.xlabel('Year')\n",
    "plt.legend(['temp', 'd18O'], loc='upper right')\n",
    "plt.show()"
   ]
  },
  {
   "cell_type": "markdown",
   "metadata": {},
   "source": [
    "We can see from the graph that there's some sort of relationships between the spikes in temp and d18O, but our correlation coefficient is rather underwhelming:"
   ]
  },
  {
   "cell_type": "code",
   "execution_count": 215,
   "metadata": {},
   "outputs": [
    {
     "data": {
      "text/plain": [
       "array([[ 1.        , -0.12974504],\n",
       "       [-0.12974504,  1.        ]])"
      ]
     },
     "execution_count": 215,
     "metadata": {},
     "output_type": "execute_result"
    }
   ],
   "source": [
    "np.corrcoef(temp_and_algae['temp'], temp_and_algae['d18O'])"
   ]
  },
  {
   "cell_type": "code",
   "execution_count": 216,
   "metadata": {},
   "outputs": [
    {
     "data": {
      "text/plain": [
       "(0.19341078570023343, 0.015289237992896332)"
      ]
     },
     "execution_count": 216,
     "metadata": {},
     "output_type": "execute_result"
    }
   ],
   "source": [
    "import statistics\n",
    "statistics.variance(temp_and_algae['temp']), statistics.variance(temp_and_algae['d18O'])"
   ]
  },
  {
   "cell_type": "code",
   "execution_count": 217,
   "metadata": {},
   "outputs": [
    {
     "data": {
      "image/png": "[encoded data removed]",
      "text/plain": [
       "<Figure size 432x288 with 1 Axes>"
      ]
     },
     "metadata": {
      "needs_background": "light"
     },
     "output_type": "display_data"
    }
   ],
   "source": [
    "plt.scatter(temp_and_algae['temp'], temp_and_algae['d18O'])\n",
    "plt.title('Arctic Bay: Temperature and D18O')\n",
    "plt.xlabel('temp')\n",
    "plt.ylabel('d18O')\n",
    "\n",
    "# plt.legend(['temp', 'd18O'], loc='upper right')\n",
    "plt.show()"
   ]
  },
  {
   "cell_type": "markdown",
   "metadata": {},
   "source": [
    "Writing a function that can do this for any of the organisms on file:"
   ]
  },
  {
   "cell_type": "code",
   "execution_count": 218,
   "metadata": {},
   "outputs": [],
   "source": [
    "def exploration(d18O_raw_filename, temp_raw_filename):\n",
    "    raw_paleo_data = pd.read_csv(\"d18O_raw/\" + d18O_raw_filename)\n",
    "    temp_data = pd.read_csv(\"temp_raw/\" + temp_raw_filename)\n",
    "    \n",
    "    temp_data['year'] = temp_data['time'].apply(lambda x: x[0:4])\n",
    "    \n",
    "    actual_annual_temp = temp_data.groupby('year')['temp'].agg(np.mean).to_frame().reset_index()\n",
    "    actual_annual_temp['year'] = actual_annual_temp['year'].apply(lambda x: int(x))\n",
    "    \n",
    "    temp_and_algae = pd.merge(actual_annual_temp, paleo_data, on='year')\n",
    "    temp_and_algae.set_index('year')\n",
    "    \n",
    "    print('pearson correlation:')\n",
    "    print(np.corrcoef(temp_and_algae['temp'], temp_and_algae['d18O']))\n",
    "    \n",
    "    plt.plot(temp_and_algae['year'], temp_and_algae['temp'])\n",
    "    plt.plot(temp_and_algae['year'], temp_and_algae['d18O'])\n",
    "    plt.title(d18O_raw_filename.split(\"_\")[0] +\": Temperature and D18O\")\n",
    "    plt.xlabel('Year')\n",
    "    plt.legend(['temp', 'd18O'], loc='upper right')\n",
    "    plt.show()"
   ]
  },
  {
   "cell_type": "code",
   "execution_count": 219,
   "metadata": {},
   "outputs": [
    {
     "name": "stdout",
     "output_type": "stream",
     "text": [
      "pearson correlation:\n",
      "[[1.         0.29219553]\n",
      " [0.29219553 1.        ]]\n"
     ]
    },
    {
     "data": {
      "image/png": "[encoded data removed]",
      "text/plain": [
       "<Figure size 432x288 with 1 Axes>"
      ]
     },
     "metadata": {
      "needs_background": "light"
     },
     "output_type": "display_data"
    }
   ],
   "source": [
    "exploration('amchitka_d18O_raw.csv', 'amchitka_SODA_1x1_raw.csv')"
   ]
  },
  {
   "cell_type": "code",
   "execution_count": 220,
   "metadata": {},
   "outputs": [
    {
     "name": "stdout",
     "output_type": "stream",
     "text": [
      "pearson correlation:\n",
      "[[1.         0.22937195]\n",
      " [0.22937195 1.        ]]\n"
     ]
    },
    {
     "data": {
      "image/png": "[encoded data removed]",
      "text/plain": [
       "<Figure size 432x288 with 1 Axes>"
      ]
     },
     "metadata": {
      "needs_background": "light"
     },
     "output_type": "display_data"
    }
   ],
   "source": [
    "exploration('attu_d18O_raw.csv', 'attu_SODA_1x1_raw.csv')"
   ]
  },
  {
   "cell_type": "code",
   "execution_count": 221,
   "metadata": {},
   "outputs": [
    {
     "name": "stdout",
     "output_type": "stream",
     "text": [
      "pearson correlation:\n",
      "[[ 1.         -0.15474578]\n",
      " [-0.15474578  1.        ]]\n"
     ]
    },
    {
     "data": {
      "image/png": "[encoded data removed]",
      "text/plain": [
       "<Figure size 432x288 with 1 Axes>"
      ]
     },
     "metadata": {
      "needs_background": "light"
     },
     "output_type": "display_data"
    }
   ],
   "source": [
    "exploration('kingitok_d18O_raw.csv', 'Kingitok_SODA_1x1_raw.csv')"
   ]
  },
  {
   "cell_type": "code",
   "execution_count": 222,
   "metadata": {},
   "outputs": [
    {
     "name": "stdout",
     "output_type": "stream",
     "text": [
      "pearson correlation:\n",
      "[[ 1.         -0.39210198]\n",
      " [-0.39210198  1.        ]]\n"
     ]
    },
    {
     "data": {
      "image/png": "[encoded data removed]",
      "text/plain": [
       "<Figure size 432x288 with 1 Axes>"
      ]
     },
     "metadata": {
      "needs_background": "light"
     },
     "output_type": "display_data"
    }
   ],
   "source": [
    "exploration('maine_d18O_raw.csv', 'maine_SODA_1x1_raw.csv')"
   ]
  },
  {
   "cell_type": "code",
   "execution_count": 223,
   "metadata": {},
   "outputs": [
    {
     "name": "stdout",
     "output_type": "stream",
     "text": [
      "pearson correlation:\n",
      "[[ 1.         -0.12939033]\n",
      " [-0.12939033  1.        ]]\n"
     ]
    },
    {
     "data": {
      "image/png": "[encoded data removed]",
      "text/plain": [
       "<Figure size 432x288 with 1 Axes>"
      ]
     },
     "metadata": {
      "needs_background": "light"
     },
     "output_type": "display_data"
    }
   ],
   "source": [
    "exploration('qikA_d18O_raw.csv', 'qikA_SODA_1x1_raw.csv')"
   ]
  },
  {
   "cell_type": "code",
   "execution_count": 224,
   "metadata": {},
   "outputs": [
    {
     "name": "stdout",
     "output_type": "stream",
     "text": [
      "pearson correlation:\n",
      "[[ 1.         -0.10766705]\n",
      " [-0.10766705  1.        ]]\n"
     ]
    },
    {
     "data": {
      "image/png": "[encoded data removed]",
      "text/plain": [
       "<Figure size 432x288 with 1 Axes>"
      ]
     },
     "metadata": {
      "needs_background": "light"
     },
     "output_type": "display_data"
    }
   ],
   "source": [
    "exploration('qikB_d18O_raw.csv', 'qikB_SODA_1x1_raw.csv')"
   ]
  },
  {
   "cell_type": "markdown",
   "metadata": {},
   "source": [
    "## Introducing, Aspects of Machine Learning"
   ]
  },
  {
   "cell_type": "code",
   "execution_count": 225,
   "metadata": {},
   "outputs": [
    {
     "data": {
      "text/html": [
       "<div>\n",
       "<style scoped>\n",
       "    .dataframe tbody tr th:only-of-type {\n",
       "        vertical-align: middle;\n",
       "    }\n",
       "\n",
       "    .dataframe tbody tr th {\n",
       "        vertical-align: top;\n",
       "    }\n",
       "\n",
       "    .dataframe thead th {\n",
       "        text-align: right;\n",
       "    }\n",
       "</style>\n",
       "<table border=\"1\" class=\"dataframe\">\n",
       "  <thead>\n",
       "    <tr style=\"text-align: right;\">\n",
       "      <th></th>\n",
       "      <th>index</th>\n",
       "      <th>year</th>\n",
       "      <th>temp</th>\n",
       "      <th>d18O</th>\n",
       "      <th>lat</th>\n",
       "      <th>long</th>\n",
       "    </tr>\n",
       "  </thead>\n",
       "  <tbody>\n",
       "    <tr>\n",
       "      <th>0</th>\n",
       "      <td>0</td>\n",
       "      <td>1967</td>\n",
       "      <td>-1.301917</td>\n",
       "      <td>-0.132046</td>\n",
       "      <td>73.25</td>\n",
       "      <td>274.75</td>\n",
       "    </tr>\n",
       "    <tr>\n",
       "      <th>1</th>\n",
       "      <td>1</td>\n",
       "      <td>1968</td>\n",
       "      <td>-0.175512</td>\n",
       "      <td>-0.134891</td>\n",
       "      <td>73.25</td>\n",
       "      <td>274.75</td>\n",
       "    </tr>\n",
       "    <tr>\n",
       "      <th>2</th>\n",
       "      <td>2</td>\n",
       "      <td>1969</td>\n",
       "      <td>-0.575391</td>\n",
       "      <td>-0.137737</td>\n",
       "      <td>73.25</td>\n",
       "      <td>274.75</td>\n",
       "    </tr>\n",
       "    <tr>\n",
       "      <th>3</th>\n",
       "      <td>3</td>\n",
       "      <td>1970</td>\n",
       "      <td>-1.314653</td>\n",
       "      <td>-0.134845</td>\n",
       "      <td>73.25</td>\n",
       "      <td>274.75</td>\n",
       "    </tr>\n",
       "    <tr>\n",
       "      <th>4</th>\n",
       "      <td>4</td>\n",
       "      <td>1971</td>\n",
       "      <td>-1.344812</td>\n",
       "      <td>-0.131952</td>\n",
       "      <td>73.25</td>\n",
       "      <td>274.75</td>\n",
       "    </tr>\n",
       "  </tbody>\n",
       "</table>\n",
       "</div>"
      ],
      "text/plain": [
       "   index  year      temp      d18O    lat    long\n",
       "0      0  1967 -1.301917 -0.132046  73.25  274.75\n",
       "1      1  1968 -0.175512 -0.134891  73.25  274.75\n",
       "2      2  1969 -0.575391 -0.137737  73.25  274.75\n",
       "3      3  1970 -1.314653 -0.134845  73.25  274.75\n",
       "4      4  1971 -1.344812 -0.131952  73.25  274.75"
      ]
     },
     "execution_count": 225,
     "metadata": {},
     "output_type": "execute_result"
    }
   ],
   "source": [
    "temp_and_algae['lat'] = 73.25\n",
    "temp_and_algae['long'] = 274.75\n",
    "temp_and_algae = temp_and_algae.reset_index()\n",
    "temp_and_algae.head()"
   ]
  },
  {
   "cell_type": "markdown",
   "metadata": {},
   "source": [
    "As a proof of concept, let's build a little 'neural network' with all of our algae datasets. We want to predict `temp`, given `year`, `d18O`, `lat`, and `long`.\n",
    "\n",
    "First, let'sconfigure all the data into one big dataframe.\n",
    "\n",
    "Then, let's scale everything between 1 and 0"
   ]
  },
  {
   "cell_type": "code",
   "execution_count": 333,
   "metadata": {},
   "outputs": [
    {
     "data": {
      "text/plain": [
       "''"
      ]
     },
     "execution_count": 333,
     "metadata": {},
     "output_type": "execute_result"
    }
   ],
   "source": [
    "paleo_df = ''\n",
    "paleo_df"
   ]
  },
  {
   "cell_type": "code",
   "execution_count": 334,
   "metadata": {},
   "outputs": [],
   "source": [
    "algae_files = [['ab_d18O_raw.csv', 73.25, 274.75, 5],\n",
    "                ['amchitka_d18O_raw.csv', 51.42, 179.23, 5], \n",
    "                ['attu_d18O_raw.csv', 52.78, 173.17, 5],\n",
    "                ['Kingitok_d18O_raw.csv', 55.4, 300.15, 15],\n",
    "                #['maine_d18O_raw.csv',44.13,291.75,10],\n",
    "                ['qikA_d18O_raw.csv', 67.56,295.98,5],\n",
    "                ['qikB_d18O_raw.csv', 67.56,295.98,5]\n",
    "               ]\n",
    "                 \n",
    "                 \n",
    "temperature_files = [\n",
    "    'ab_SODA_1x1_raw.csv', \n",
    "    'amchitka_SODA_1x1_raw.csv',\n",
    "    'attu_SODA_1x1_raw.csv',\n",
    "    'kingitok_SODA_1x1_raw.csv', \n",
    "    #'maine_SODA_1x1_raw.csv',\n",
    "    'qikA_SODA_1x1_raw.csv', \n",
    "    'qikB_SODA_1x1_raw.csv']"
   ]
  },
  {
   "cell_type": "code",
   "execution_count": 335,
   "metadata": {},
   "outputs": [
    {
     "name": "stdout",
     "output_type": "stream",
     "text": [
      "ab_SODA_1x1_raw.csv\n",
      "ab_d18O_raw.csv\n",
      "amchitka_SODA_1x1_raw.csv\n",
      "amchitka_d18O_raw.csv\n",
      "attu_SODA_1x1_raw.csv\n",
      "attu_d18O_raw.csv\n",
      "kingitok_SODA_1x1_raw.csv\n",
      "Kingitok_d18O_raw.csv\n",
      "qikA_SODA_1x1_raw.csv\n",
      "qikA_d18O_raw.csv\n",
      "qikB_SODA_1x1_raw.csv\n",
      "qikB_d18O_raw.csv\n"
     ]
    },
    {
     "data": {
      "text/html": [
       "<div>\n",
       "<style scoped>\n",
       "    .dataframe tbody tr th:only-of-type {\n",
       "        vertical-align: middle;\n",
       "    }\n",
       "\n",
       "    .dataframe tbody tr th {\n",
       "        vertical-align: top;\n",
       "    }\n",
       "\n",
       "    .dataframe thead th {\n",
       "        text-align: right;\n",
       "    }\n",
       "</style>\n",
       "<table border=\"1\" class=\"dataframe\">\n",
       "  <thead>\n",
       "    <tr style=\"text-align: right;\">\n",
       "      <th></th>\n",
       "      <th>year</th>\n",
       "      <th>temp</th>\n",
       "      <th>d18O</th>\n",
       "      <th>lat</th>\n",
       "      <th>long</th>\n",
       "      <th>depth</th>\n",
       "    </tr>\n",
       "  </thead>\n",
       "  <tbody>\n",
       "    <tr>\n",
       "      <th>0</th>\n",
       "      <td>1967</td>\n",
       "      <td>-1.301917</td>\n",
       "      <td>-0.132046</td>\n",
       "      <td>73.25</td>\n",
       "      <td>274.75</td>\n",
       "      <td>5</td>\n",
       "    </tr>\n",
       "    <tr>\n",
       "      <th>1</th>\n",
       "      <td>1968</td>\n",
       "      <td>-0.175512</td>\n",
       "      <td>-0.134891</td>\n",
       "      <td>73.25</td>\n",
       "      <td>274.75</td>\n",
       "      <td>5</td>\n",
       "    </tr>\n",
       "    <tr>\n",
       "      <th>2</th>\n",
       "      <td>1969</td>\n",
       "      <td>-0.575391</td>\n",
       "      <td>-0.137737</td>\n",
       "      <td>73.25</td>\n",
       "      <td>274.75</td>\n",
       "      <td>5</td>\n",
       "    </tr>\n",
       "    <tr>\n",
       "      <th>3</th>\n",
       "      <td>1970</td>\n",
       "      <td>-1.314653</td>\n",
       "      <td>-0.134845</td>\n",
       "      <td>73.25</td>\n",
       "      <td>274.75</td>\n",
       "      <td>5</td>\n",
       "    </tr>\n",
       "    <tr>\n",
       "      <th>4</th>\n",
       "      <td>1971</td>\n",
       "      <td>-1.344812</td>\n",
       "      <td>-0.131952</td>\n",
       "      <td>73.25</td>\n",
       "      <td>274.75</td>\n",
       "      <td>5</td>\n",
       "    </tr>\n",
       "    <tr>\n",
       "      <th>...</th>\n",
       "      <td>...</td>\n",
       "      <td>...</td>\n",
       "      <td>...</td>\n",
       "      <td>...</td>\n",
       "      <td>...</td>\n",
       "      <td>...</td>\n",
       "    </tr>\n",
       "    <tr>\n",
       "      <th>22</th>\n",
       "      <td>2004</td>\n",
       "      <td>-1.368374</td>\n",
       "      <td>-1.801891</td>\n",
       "      <td>67.56</td>\n",
       "      <td>295.98</td>\n",
       "      <td>5</td>\n",
       "    </tr>\n",
       "    <tr>\n",
       "      <th>23</th>\n",
       "      <td>2005</td>\n",
       "      <td>-1.031412</td>\n",
       "      <td>-2.045915</td>\n",
       "      <td>67.56</td>\n",
       "      <td>295.98</td>\n",
       "      <td>5</td>\n",
       "    </tr>\n",
       "    <tr>\n",
       "      <th>24</th>\n",
       "      <td>2006</td>\n",
       "      <td>-0.294162</td>\n",
       "      <td>-2.200304</td>\n",
       "      <td>67.56</td>\n",
       "      <td>295.98</td>\n",
       "      <td>5</td>\n",
       "    </tr>\n",
       "    <tr>\n",
       "      <th>25</th>\n",
       "      <td>2007</td>\n",
       "      <td>-0.349986</td>\n",
       "      <td>-2.143647</td>\n",
       "      <td>67.56</td>\n",
       "      <td>295.98</td>\n",
       "      <td>5</td>\n",
       "    </tr>\n",
       "    <tr>\n",
       "      <th>26</th>\n",
       "      <td>2008</td>\n",
       "      <td>-0.626585</td>\n",
       "      <td>-2.214013</td>\n",
       "      <td>67.56</td>\n",
       "      <td>295.98</td>\n",
       "      <td>5</td>\n",
       "    </tr>\n",
       "  </tbody>\n",
       "</table>\n",
       "<p>233 rows × 6 columns</p>\n",
       "</div>"
      ],
      "text/plain": [
       "    year      temp      d18O    lat    long  depth\n",
       "0   1967 -1.301917 -0.132046  73.25  274.75      5\n",
       "1   1968 -0.175512 -0.134891  73.25  274.75      5\n",
       "2   1969 -0.575391 -0.137737  73.25  274.75      5\n",
       "3   1970 -1.314653 -0.134845  73.25  274.75      5\n",
       "4   1971 -1.344812 -0.131952  73.25  274.75      5\n",
       "..   ...       ...       ...    ...     ...    ...\n",
       "22  2004 -1.368374 -1.801891  67.56  295.98      5\n",
       "23  2005 -1.031412 -2.045915  67.56  295.98      5\n",
       "24  2006 -0.294162 -2.200304  67.56  295.98      5\n",
       "25  2007 -0.349986 -2.143647  67.56  295.98      5\n",
       "26  2008 -0.626585 -2.214013  67.56  295.98      5\n",
       "\n",
       "[233 rows x 6 columns]"
      ]
     },
     "execution_count": 335,
     "metadata": {},
     "output_type": "execute_result"
    }
   ],
   "source": [
    "paleo_df = ''\n",
    "paleo_df = pd.DataFrame()\n",
    "\n",
    "count = 0\n",
    "for temperature_file in temperature_files:\n",
    "    temp_data = pd.read_csv('temp_raw/' + temperature_file)\n",
    "    print(temperature_file)\n",
    "    # locate the year value\n",
    "    temp_data['year'] = temp_data['time'].apply(lambda x: x[0:4])\n",
    "    # group data annually\n",
    "    actual_annual_temp = temp_data.groupby('year')['temp'].agg(np.mean).to_frame().reset_index()\n",
    "    # convert year to an int type\n",
    "    actual_annual_temp['year'] = actual_annual_temp['year'].apply(lambda x: int(x))\n",
    "    algae_file = pd.read_csv('d18O_raw/' + algae_files[count][0])\n",
    "    \n",
    "    if algae_files[count][0] == \"amchitka_d18O_raw.csv\":\n",
    "        algae_file = algae_file[['Year', 'AM-KR-80_d18O']]\n",
    "        algae_file['d18O'] = algae_file['AM-KR-80_d18O']\n",
    "        algae_file['year'] = algae_file['Year'].apply(lambda x: int(x))\n",
    "        del algae_file['AM-KR-80_d18O']\n",
    "        del algae_file['Year']\n",
    "    \n",
    "    elif algae_files[count][0] == \"attu_d18O_raw.csv\":\n",
    "        algae_file = algae_file[['year', 'd18O']]\n",
    "    else:\n",
    "        algae_file['year'] = algae_file['year'].apply(lambda x: int(x))\n",
    "    print(algae_files[count][0])\n",
    "    \n",
    "    \n",
    "    temp_and_algae = pd.merge(actual_annual_temp, algae_file, on='year')\n",
    "    #temp_and_algae = temp_and_algae.set_index('year').head()\n",
    "    temp_and_algae['lat'] = algae_files[count][1]\n",
    "    temp_and_algae['long'] = algae_files[count][2]\n",
    "    temp_and_algae['depth'] = algae_files[count][3]\n",
    "    paleo_df = pd.concat([paleo_df, temp_and_algae], axis= 0)\n",
    "    \n",
    "    count += 1\n",
    "    \n",
    "paleo_df"
   ]
  },
  {
   "cell_type": "code",
   "execution_count": null,
   "metadata": {},
   "outputs": [],
   "source": []
  },
  {
   "cell_type": "code",
   "execution_count": null,
   "metadata": {},
   "outputs": [],
   "source": []
  },
  {
   "cell_type": "code",
   "execution_count": null,
   "metadata": {},
   "outputs": [],
   "source": []
  },
  {
   "cell_type": "code",
   "execution_count": null,
   "metadata": {},
   "outputs": [],
   "source": []
  },
  {
   "cell_type": "code",
   "execution_count": null,
   "metadata": {},
   "outputs": [],
   "source": []
  },
  {
   "cell_type": "code",
   "execution_count": null,
   "metadata": {},
   "outputs": [],
   "source": []
  },
  {
   "cell_type": "code",
   "execution_count": null,
   "metadata": {},
   "outputs": [],
   "source": []
  },
  {
   "cell_type": "code",
   "execution_count": 336,
   "metadata": {},
   "outputs": [
    {
     "data": {
      "text/plain": [
       "array([[ 1.96700000e+03, -1.30191672e+00, -1.32045520e-01,\n",
       "         7.32500000e+01,  2.74750000e+02,  5.00000000e+00],\n",
       "       [ 1.96800000e+03, -1.75511654e-01, -1.34891320e-01,\n",
       "         7.32500000e+01,  2.74750000e+02,  5.00000000e+00],\n",
       "       [ 1.96900000e+03, -5.75391262e-01, -1.37737130e-01,\n",
       "         7.32500000e+01,  2.74750000e+02,  5.00000000e+00],\n",
       "       ...,\n",
       "       [ 2.00600000e+03, -2.94161577e-01, -2.20030379e+00,\n",
       "         6.75600000e+01,  2.95980000e+02,  5.00000000e+00],\n",
       "       [ 2.00700000e+03, -3.49985778e-01, -2.14364670e+00,\n",
       "         6.75600000e+01,  2.95980000e+02,  5.00000000e+00],\n",
       "       [ 2.00800000e+03, -6.26584879e-01, -2.21401299e+00,\n",
       "         6.75600000e+01,  2.95980000e+02,  5.00000000e+00]])"
      ]
     },
     "execution_count": 336,
     "metadata": {},
     "output_type": "execute_result"
    }
   ],
   "source": [
    "dataset = paleo_df.values\n",
    "dataset"
   ]
  },
  {
   "cell_type": "code",
   "execution_count": 337,
   "metadata": {},
   "outputs": [],
   "source": [
    "# dataset[row indices, column indices]\n",
    "X =  dataset[:,(0,2,3,4,5)] # input\n",
    "Y = dataset[:, 2] # output"
   ]
  },
  {
   "cell_type": "code",
   "execution_count": 338,
   "metadata": {},
   "outputs": [
    {
     "data": {
      "text/plain": [
       "array([-0.13204552, -0.13489132, -0.13773713, -0.1348445 , -0.13195188,\n",
       "       -0.12905925, -0.07683414,  0.09888595,  0.04896547,  0.07226169,\n",
       "        0.09555791,  0.11885414,  0.17127064,  0.22368714,  0.03997978,\n",
       "        0.10737243,  0.17476507, -0.04688185, -0.15593565, -0.1008198 ,\n",
       "       -0.04570395, -0.09260757, -0.13951119, -0.25754628, -0.01093911,\n",
       "        0.23566806,  0.20222907,  0.16879007,  0.13535108,  0.10191208,\n",
       "        0.05760745,  0.01330281, -0.03100182, -0.07530646, -0.0593797 ,\n",
       "       -0.09023779,  0.14980484,  0.02700046, -0.09580392, -0.07062386,\n",
       "       -0.04544379, -0.04815964, -1.709     , -1.8371    , -1.481     ,\n",
       "       -1.4354    , -1.4718    , -1.3871    , -1.4854    , -1.4936    ,\n",
       "       -1.4419    , -1.3087    , -1.2882    , -1.3734    , -1.5276    ,\n",
       "       -1.5573    , -1.8168    , -1.8275    , -1.5315    , -1.6704    ,\n",
       "       -1.7024    , -1.7384    , -1.634     , -1.6999    , -1.4932    ,\n",
       "       -1.5826    , -1.2431    , -1.1839    , -1.4757    , -1.7097    ,\n",
       "       -1.8031    , -1.7242    , -1.6114    , -1.6666    , -1.963     ,\n",
       "       -2.032     , -1.60566667, -1.5512    , -1.7553    , -1.99843333,\n",
       "       -1.71      , -1.52      , -1.7       , -1.77      , -1.83      ,\n",
       "       -1.76      , -1.82      , -1.91      , -1.97      , -1.72      ,\n",
       "       -1.75      , -1.79      , -1.85      , -2.04      , -1.88      ,\n",
       "       -2.02      , -1.56      , -1.69      , -1.9       , -1.8       ,\n",
       "       -1.96      , -1.78      , -1.74      , -2.25      , -2.05      ,\n",
       "       -1.97      , -1.92      , -2.11      , -2.03      , -1.7       ,\n",
       "       -2.06      , -1.68      , -1.88      , -1.78      , -1.75      ,\n",
       "       -1.61      , -1.72      , -1.94      , -2.4128711 , -2.3026733 ,\n",
       "       -1.8601979 , -2.0651485 , -2.3269307 , -2.4302971 , -2.5545541 ,\n",
       "       -2.8158423 , -1.8160394 , -2.0654455 , -2.4046537 , -2.6642575 ,\n",
       "       -2.3197029 , -2.6826733 , -2.8425743 , -2.4324752 , -2.4173268 ,\n",
       "       -1.9752477 , -1.973168  , -2.3613861 , -1.9110888 , -2.0869309 ,\n",
       "       -2.5161387 , -2.2349505 , -2.3852475 , -2.2608911 , -2.3515843 ,\n",
       "       -2.0284158 , -2.1474258 , -1.869604  , -1.8758417 , -2.6504953 ,\n",
       "       -2.3165345 , -2.2820792 , -2.2433663 , -2.3648515 , -1.9951486 ,\n",
       "       -1.971386  , -2.1442575 , -2.1984158 , -2.5616833 , -2.0998017 ,\n",
       "       -2.4426734 , -2.4615841 , -2.480198  , -2.5043564 , -2.5233664 ,\n",
       "       -2.6134652 , -2.6474261 , -2.4424752 , -2.7866337 , -2.204375  ,\n",
       "       -2.433125  , -2.5975    , -2.56625   , -2.338125  , -1.84      ,\n",
       "       -1.82625   , -1.904375  , -1.955     , -2.023125  , -2.02875   ,\n",
       "       -1.910625  , -1.97875   , -1.91875   , -1.934375  , -1.9375    ,\n",
       "       -1.928125  , -1.85125   , -2.075     , -2.0725    , -1.95625   ,\n",
       "       -2.0125    , -1.97041667, -2.09083333, -2.26666667, -2.33895833,\n",
       "       -2.423125  , -2.349375  , -2.08625   , -2.076875  , -2.1375    ,\n",
       "       -1.995     , -2.170625  , -2.10854167, -2.105     , -2.12166667,\n",
       "       -2.0575    , -1.92996364, -2.03596605, -1.65648141, -1.80447693,\n",
       "       -1.82248173, -1.65281305, -1.74920937, -1.966724  , -2.06982448,\n",
       "       -2.15407273, -2.22767786, -2.23486417, -2.25132592, -2.12929698,\n",
       "       -1.59275462, -2.06374539, -2.43890032, -2.41591058, -2.27342616,\n",
       "       -2.00088505, -1.76815622, -1.77447708, -1.80189145, -2.04591522,\n",
       "       -2.20030379, -2.1436467 , -2.21401299])"
      ]
     },
     "execution_count": 338,
     "metadata": {},
     "output_type": "execute_result"
    }
   ],
   "source": [
    "Y"
   ]
  },
  {
   "cell_type": "code",
   "execution_count": 339,
   "metadata": {},
   "outputs": [],
   "source": [
    "from sklearn import preprocessing"
   ]
  },
  {
   "cell_type": "code",
   "execution_count": 342,
   "metadata": {},
   "outputs": [
    {
     "data": {
      "text/plain": [
       "array([[0.18      , 0.88054431, 1.        , 0.7999685 , 0.        ],\n",
       "       [0.2       , 0.87961982, 1.        , 0.7999685 , 0.        ],\n",
       "       [0.22      , 0.87869532, 1.        , 0.7999685 , 0.        ],\n",
       "       ...,\n",
       "       [0.96      , 0.20864845, 0.73934952, 0.96716018, 0.        ],\n",
       "       [0.98      , 0.22705412, 0.73934952, 0.96716018, 0.        ],\n",
       "       [1.        , 0.20419487, 0.73934952, 0.96716018, 0.        ]])"
      ]
     },
     "execution_count": 342,
     "metadata": {},
     "output_type": "execute_result"
    }
   ],
   "source": [
    "min_max_scaler = preprocessing.MinMaxScaler()\n",
    "X_scale = min_max_scaler.fit_transform(X)\n",
    "X_scale"
   ]
  },
  {
   "cell_type": "code",
   "execution_count": 343,
   "metadata": {},
   "outputs": [],
   "source": [
    "from sklearn.model_selection import train_test_split"
   ]
  },
  {
   "cell_type": "code",
   "execution_count": 344,
   "metadata": {},
   "outputs": [],
   "source": [
    "X_train, X_val_and_test, Y_train, Y_val_and_test = train_test_split(\n",
    "    X_scale, Y, test_size=0.3)"
   ]
  },
  {
   "cell_type": "code",
   "execution_count": 345,
   "metadata": {},
   "outputs": [],
   "source": [
    "from keras.models import Sequential\n",
    "from keras.layers import Dense"
   ]
  },
  {
   "cell_type": "code",
   "execution_count": 433,
   "metadata": {},
   "outputs": [],
   "source": [
    "model = Sequential([\n",
    "    Dense(32, activation='relu', input_shape=(5,)),\n",
    "    Dense(32, activation='relu'),\n",
    "#     Dense(16, activation='relu'),\n",
    "#     Dense(16, activation='relu'),\n",
    "#     Dense(16, activation='relu'),\n",
    "    Dense(1, activation='sigmoid'),\n",
    "])"
   ]
  },
  {
   "cell_type": "code",
   "execution_count": 434,
   "metadata": {},
   "outputs": [],
   "source": [
    "model.compile(\n",
    "    optimizer='adam',\n",
    "    loss='mean_squared_error',\n",
    "    metrics=[\n",
    "        'MeanSquaredError',\n",
    "    ]\n",
    ")"
   ]
  },
  {
   "cell_type": "code",
   "execution_count": 328,
   "metadata": {},
   "outputs": [],
   "source": [
    "# from sklearn.metrics import r2_score\n",
    "\n",
    "# model.compile(optimizer='sgd',\n",
    "#               loss='binary_crossentropy',\n",
    "#               metrics=['r2_score'])"
   ]
  },
  {
   "cell_type": "code",
   "execution_count": 435,
   "metadata": {},
   "outputs": [
    {
     "name": "stdout",
     "output_type": "stream",
     "text": [
      "Epoch 1/36\n",
      "11/11 [==============================] - 0s 11ms/step - loss: 5.1058 - mean_squared_error: 5.1058 - val_loss: 5.1129 - val_mean_squared_error: 5.1129\n",
      "Epoch 2/36\n",
      "11/11 [==============================] - 0s 2ms/step - loss: 4.9275 - mean_squared_error: 4.9275 - val_loss: 4.9470 - val_mean_squared_error: 4.9470\n",
      "Epoch 3/36\n",
      "11/11 [==============================] - 0s 3ms/step - loss: 4.7573 - mean_squared_error: 4.7573 - val_loss: 4.7867 - val_mean_squared_error: 4.7867\n",
      "Epoch 4/36\n",
      "11/11 [==============================] - 0s 3ms/step - loss: 4.5973 - mean_squared_error: 4.5973 - val_loss: 4.6325 - val_mean_squared_error: 4.6325\n",
      "Epoch 5/36\n",
      "11/11 [==============================] - 0s 3ms/step - loss: 4.4453 - mean_squared_error: 4.4453 - val_loss: 4.4879 - val_mean_squared_error: 4.4879\n",
      "Epoch 6/36\n",
      "11/11 [==============================] - 0s 3ms/step - loss: 4.3007 - mean_squared_error: 4.3007 - val_loss: 4.3496 - val_mean_squared_error: 4.3496\n",
      "Epoch 7/36\n",
      "11/11 [==============================] - 0s 3ms/step - loss: 4.1662 - mean_squared_error: 4.1662 - val_loss: 4.2193 - val_mean_squared_error: 4.2193\n",
      "Epoch 8/36\n",
      "11/11 [==============================] - 0s 3ms/step - loss: 4.0448 - mean_squared_error: 4.0448 - val_loss: 4.1046 - val_mean_squared_error: 4.1046\n",
      "Epoch 9/36\n",
      "11/11 [==============================] - 0s 4ms/step - loss: 3.9401 - mean_squared_error: 3.9401 - val_loss: 4.0089 - val_mean_squared_error: 4.0089\n",
      "Epoch 10/36\n",
      "11/11 [==============================] - 0s 3ms/step - loss: 3.8526 - mean_squared_error: 3.8526 - val_loss: 3.9267 - val_mean_squared_error: 3.9267\n",
      "Epoch 11/36\n",
      "11/11 [==============================] - 0s 3ms/step - loss: 3.7796 - mean_squared_error: 3.7796 - val_loss: 3.8536 - val_mean_squared_error: 3.8536\n",
      "Epoch 12/36\n",
      "11/11 [==============================] - 0s 3ms/step - loss: 3.7163 - mean_squared_error: 3.7163 - val_loss: 3.7907 - val_mean_squared_error: 3.7907\n",
      "Epoch 13/36\n",
      "11/11 [==============================] - 0s 3ms/step - loss: 3.6616 - mean_squared_error: 3.6616 - val_loss: 3.7341 - val_mean_squared_error: 3.7341\n",
      "Epoch 14/36\n",
      "11/11 [==============================] - 0s 3ms/step - loss: 3.6116 - mean_squared_error: 3.6116 - val_loss: 3.6857 - val_mean_squared_error: 3.6857\n",
      "Epoch 15/36\n",
      "11/11 [==============================] - 0s 3ms/step - loss: 3.5706 - mean_squared_error: 3.5706 - val_loss: 3.6445 - val_mean_squared_error: 3.6445\n",
      "Epoch 16/36\n",
      "11/11 [==============================] - 0s 3ms/step - loss: 3.5358 - mean_squared_error: 3.5358 - val_loss: 3.6109 - val_mean_squared_error: 3.6109\n",
      "Epoch 17/36\n",
      "11/11 [==============================] - 0s 3ms/step - loss: 3.5078 - mean_squared_error: 3.5078 - val_loss: 3.5826 - val_mean_squared_error: 3.5826\n",
      "Epoch 18/36\n",
      "11/11 [==============================] - 0s 3ms/step - loss: 3.4846 - mean_squared_error: 3.4846 - val_loss: 3.5601 - val_mean_squared_error: 3.5601\n",
      "Epoch 19/36\n",
      "11/11 [==============================] - 0s 3ms/step - loss: 3.4661 - mean_squared_error: 3.4661 - val_loss: 3.5412 - val_mean_squared_error: 3.5412\n",
      "Epoch 20/36\n",
      "11/11 [==============================] - 0s 3ms/step - loss: 3.4503 - mean_squared_error: 3.4503 - val_loss: 3.5253 - val_mean_squared_error: 3.5253\n",
      "Epoch 21/36\n",
      "11/11 [==============================] - 0s 3ms/step - loss: 3.4379 - mean_squared_error: 3.4379 - val_loss: 3.5108 - val_mean_squared_error: 3.5108\n",
      "Epoch 22/36\n",
      "11/11 [==============================] - 0s 3ms/step - loss: 3.4262 - mean_squared_error: 3.4262 - val_loss: 3.4999 - val_mean_squared_error: 3.4999\n",
      "Epoch 23/36\n",
      "11/11 [==============================] - 0s 3ms/step - loss: 3.4173 - mean_squared_error: 3.4173 - val_loss: 3.4908 - val_mean_squared_error: 3.4908\n",
      "Epoch 24/36\n",
      "11/11 [==============================] - 0s 3ms/step - loss: 3.4098 - mean_squared_error: 3.4098 - val_loss: 3.4823 - val_mean_squared_error: 3.4823\n",
      "Epoch 25/36\n",
      "11/11 [==============================] - 0s 3ms/step - loss: 3.4027 - mean_squared_error: 3.4027 - val_loss: 3.4749 - val_mean_squared_error: 3.4749\n",
      "Epoch 26/36\n",
      "11/11 [==============================] - 0s 3ms/step - loss: 3.3968 - mean_squared_error: 3.3968 - val_loss: 3.4683 - val_mean_squared_error: 3.4683\n",
      "Epoch 27/36\n",
      "11/11 [==============================] - 0s 4ms/step - loss: 3.3915 - mean_squared_error: 3.3915 - val_loss: 3.4625 - val_mean_squared_error: 3.4625\n",
      "Epoch 28/36\n",
      "11/11 [==============================] - 0s 4ms/step - loss: 3.3867 - mean_squared_error: 3.3867 - val_loss: 3.4575 - val_mean_squared_error: 3.4575\n",
      "Epoch 29/36\n",
      "11/11 [==============================] - 0s 3ms/step - loss: 3.3826 - mean_squared_error: 3.3826 - val_loss: 3.4530 - val_mean_squared_error: 3.4530\n",
      "Epoch 30/36\n",
      "11/11 [==============================] - 0s 3ms/step - loss: 3.3792 - mean_squared_error: 3.3792 - val_loss: 3.4490 - val_mean_squared_error: 3.4490\n",
      "Epoch 31/36\n",
      "11/11 [==============================] - 0s 3ms/step - loss: 3.3759 - mean_squared_error: 3.3759 - val_loss: 3.4455 - val_mean_squared_error: 3.4455\n",
      "Epoch 32/36\n",
      "11/11 [==============================] - 0s 3ms/step - loss: 3.3731 - mean_squared_error: 3.3731 - val_loss: 3.4423 - val_mean_squared_error: 3.4423\n",
      "Epoch 33/36\n",
      "11/11 [==============================] - 0s 3ms/step - loss: 3.3706 - mean_squared_error: 3.3706 - val_loss: 3.4394 - val_mean_squared_error: 3.4394\n",
      "Epoch 34/36\n",
      "11/11 [==============================] - 0s 4ms/step - loss: 3.3683 - mean_squared_error: 3.3683 - val_loss: 3.4368 - val_mean_squared_error: 3.4368\n",
      "Epoch 35/36\n",
      "11/11 [==============================] - 0s 3ms/step - loss: 3.3663 - mean_squared_error: 3.3663 - val_loss: 3.4346 - val_mean_squared_error: 3.4346\n",
      "Epoch 36/36\n",
      "11/11 [==============================] - 0s 3ms/step - loss: 3.3645 - mean_squared_error: 3.3645 - val_loss: 3.4324 - val_mean_squared_error: 3.4324\n"
     ]
    }
   ],
   "source": [
    "hist = model.fit(X_train, Y_train,\n",
    "          batch_size=16, epochs=36,\n",
    "          validation_data=(X_val_and_test, Y_val_and_test))"
   ]
  },
  {
   "cell_type": "code",
   "execution_count": 436,
   "metadata": {},
   "outputs": [
    {
     "name": "stdout",
     "output_type": "stream",
     "text": [
      "3/3 [==============================] - 0s 3ms/step - loss: 3.4324 - mean_squared_error: 3.4324\n"
     ]
    },
    {
     "data": {
      "text/plain": [
       "3.4324374198913574"
      ]
     },
     "execution_count": 436,
     "metadata": {},
     "output_type": "execute_result"
    }
   ],
   "source": [
    "model.evaluate(X_val_and_test, Y_val_and_test)[1]"
   ]
  },
  {
   "cell_type": "code",
   "execution_count": 362,
   "metadata": {},
   "outputs": [],
   "source": [
    "import matplotlib.pyplot as plt\n",
    "\n",
    "# plt.plot(hist.history['loss'])\n",
    "# plt.plot(hist.history['val_loss'])\n",
    "# plt.title('Model RMSE')\n",
    "# plt.ylabel('Loss')\n",
    "# plt.xlabel('Epoch')\n",
    "# plt.legend(['Train', 'Test'], loc='upper right')\n",
    "# plt.show()"
   ]
  },
  {
   "cell_type": "code",
   "execution_count": 361,
   "metadata": {},
   "outputs": [],
   "source": [
    "# hist.history"
   ]
  },
  {
   "cell_type": "code",
   "execution_count": 437,
   "metadata": {},
   "outputs": [
    {
     "data": {
      "image/png": "[encoded data removed]",
      "text/plain": [
       "<Figure size 432x288 with 1 Axes>"
      ]
     },
     "metadata": {
      "needs_background": "light"
     },
     "output_type": "display_data"
    }
   ],
   "source": [
    "plt.plot(hist.history['mean_squared_error'])\n",
    "plt.plot(hist.history['val_mean_squared_error'])\n",
    "plt.title('Model RMSE')\n",
    "plt.ylabel('Loss')\n",
    "plt.xlabel('Epoch')\n",
    "plt.legend(['Train', 'Test'], loc='upper right')\n",
    "plt.show()"
   ]
  },
  {
   "cell_type": "markdown",
   "metadata": {},
   "source": [
    "Let's try to visualize this on a time series plot"
   ]
  },
  {
   "cell_type": "code",
   "execution_count": 372,
   "metadata": {},
   "outputs": [],
   "source": [
    "# X_val_and_test"
   ]
  },
  {
   "cell_type": "code",
   "execution_count": 371,
   "metadata": {},
   "outputs": [],
   "source": [
    "# model.predict(X_val_and_test)"
   ]
  },
  {
   "cell_type": "code",
   "execution_count": 370,
   "metadata": {},
   "outputs": [],
   "source": [
    "# Y_val_and_test"
   ]
  },
  {
   "cell_type": "code",
   "execution_count": 438,
   "metadata": {},
   "outputs": [
    {
     "data": {
      "text/html": [
       "<div>\n",
       "<style scoped>\n",
       "    .dataframe tbody tr th:only-of-type {\n",
       "        vertical-align: middle;\n",
       "    }\n",
       "\n",
       "    .dataframe tbody tr th {\n",
       "        vertical-align: top;\n",
       "    }\n",
       "\n",
       "    .dataframe thead th {\n",
       "        text-align: right;\n",
       "    }\n",
       "</style>\n",
       "<table border=\"1\" class=\"dataframe\">\n",
       "  <thead>\n",
       "    <tr style=\"text-align: right;\">\n",
       "      <th></th>\n",
       "      <th>actual</th>\n",
       "    </tr>\n",
       "  </thead>\n",
       "  <tbody>\n",
       "    <tr>\n",
       "      <th>0</th>\n",
       "      <td>-1.816800</td>\n",
       "    </tr>\n",
       "    <tr>\n",
       "      <th>1</th>\n",
       "      <td>0.223687</td>\n",
       "    </tr>\n",
       "    <tr>\n",
       "      <th>2</th>\n",
       "      <td>-1.937500</td>\n",
       "    </tr>\n",
       "    <tr>\n",
       "      <th>3</th>\n",
       "      <td>-1.780000</td>\n",
       "    </tr>\n",
       "    <tr>\n",
       "      <th>4</th>\n",
       "      <td>-0.045704</td>\n",
       "    </tr>\n",
       "    <tr>\n",
       "      <th>...</th>\n",
       "      <td>...</td>\n",
       "    </tr>\n",
       "    <tr>\n",
       "      <th>65</th>\n",
       "      <td>-0.100820</td>\n",
       "    </tr>\n",
       "    <tr>\n",
       "      <th>66</th>\n",
       "      <td>-1.880000</td>\n",
       "    </tr>\n",
       "    <tr>\n",
       "      <th>67</th>\n",
       "      <td>-2.200304</td>\n",
       "    </tr>\n",
       "    <tr>\n",
       "      <th>68</th>\n",
       "      <td>-1.790000</td>\n",
       "    </tr>\n",
       "    <tr>\n",
       "      <th>69</th>\n",
       "      <td>-2.144258</td>\n",
       "    </tr>\n",
       "  </tbody>\n",
       "</table>\n",
       "<p>70 rows × 1 columns</p>\n",
       "</div>"
      ],
      "text/plain": [
       "      actual\n",
       "0  -1.816800\n",
       "1   0.223687\n",
       "2  -1.937500\n",
       "3  -1.780000\n",
       "4  -0.045704\n",
       "..       ...\n",
       "65 -0.100820\n",
       "66 -1.880000\n",
       "67 -2.200304\n",
       "68 -1.790000\n",
       "69 -2.144258\n",
       "\n",
       "[70 rows x 1 columns]"
      ]
     },
     "execution_count": 438,
     "metadata": {},
     "output_type": "execute_result"
    }
   ],
   "source": [
    "actual = pd.DataFrame(Y_val_and_test, columns=[\"actual\"])\n",
    "actual"
   ]
  },
  {
   "cell_type": "code",
   "execution_count": 439,
   "metadata": {},
   "outputs": [
    {
     "data": {
      "text/html": [
       "<div>\n",
       "<style scoped>\n",
       "    .dataframe tbody tr th:only-of-type {\n",
       "        vertical-align: middle;\n",
       "    }\n",
       "\n",
       "    .dataframe tbody tr th {\n",
       "        vertical-align: top;\n",
       "    }\n",
       "\n",
       "    .dataframe thead th {\n",
       "        text-align: right;\n",
       "    }\n",
       "</style>\n",
       "<table border=\"1\" class=\"dataframe\">\n",
       "  <thead>\n",
       "    <tr style=\"text-align: right;\">\n",
       "      <th></th>\n",
       "      <th>pred</th>\n",
       "    </tr>\n",
       "  </thead>\n",
       "  <tbody>\n",
       "    <tr>\n",
       "      <th>0</th>\n",
       "      <td>0.027567</td>\n",
       "    </tr>\n",
       "    <tr>\n",
       "      <th>1</th>\n",
       "      <td>0.000200</td>\n",
       "    </tr>\n",
       "    <tr>\n",
       "      <th>2</th>\n",
       "      <td>0.001721</td>\n",
       "    </tr>\n",
       "    <tr>\n",
       "      <th>3</th>\n",
       "      <td>0.016140</td>\n",
       "    </tr>\n",
       "    <tr>\n",
       "      <th>4</th>\n",
       "      <td>0.000216</td>\n",
       "    </tr>\n",
       "    <tr>\n",
       "      <th>...</th>\n",
       "      <td>...</td>\n",
       "    </tr>\n",
       "    <tr>\n",
       "      <th>65</th>\n",
       "      <td>0.000232</td>\n",
       "    </tr>\n",
       "    <tr>\n",
       "      <th>66</th>\n",
       "      <td>0.018027</td>\n",
       "    </tr>\n",
       "    <tr>\n",
       "      <th>67</th>\n",
       "      <td>0.001451</td>\n",
       "    </tr>\n",
       "    <tr>\n",
       "      <th>68</th>\n",
       "      <td>0.026463</td>\n",
       "    </tr>\n",
       "    <tr>\n",
       "      <th>69</th>\n",
       "      <td>0.001266</td>\n",
       "    </tr>\n",
       "  </tbody>\n",
       "</table>\n",
       "<p>70 rows × 1 columns</p>\n",
       "</div>"
      ],
      "text/plain": [
       "        pred\n",
       "0   0.027567\n",
       "1   0.000200\n",
       "2   0.001721\n",
       "3   0.016140\n",
       "4   0.000216\n",
       "..       ...\n",
       "65  0.000232\n",
       "66  0.018027\n",
       "67  0.001451\n",
       "68  0.026463\n",
       "69  0.001266\n",
       "\n",
       "[70 rows x 1 columns]"
      ]
     },
     "execution_count": 439,
     "metadata": {},
     "output_type": "execute_result"
    }
   ],
   "source": [
    "predicted = pd.DataFrame(model.predict(X_val_and_test), columns=[\"pred\"])\n",
    "predicted"
   ]
  },
  {
   "cell_type": "code",
   "execution_count": 443,
   "metadata": {},
   "outputs": [
    {
     "data": {
      "text/html": [
       "<div>\n",
       "<style scoped>\n",
       "    .dataframe tbody tr th:only-of-type {\n",
       "        vertical-align: middle;\n",
       "    }\n",
       "\n",
       "    .dataframe tbody tr th {\n",
       "        vertical-align: top;\n",
       "    }\n",
       "\n",
       "    .dataframe thead th {\n",
       "        text-align: right;\n",
       "    }\n",
       "</style>\n",
       "<table border=\"1\" class=\"dataframe\">\n",
       "  <thead>\n",
       "    <tr style=\"text-align: right;\">\n",
       "      <th></th>\n",
       "      <th>actual</th>\n",
       "      <th>pred</th>\n",
       "      <th>pred_mult_neg100</th>\n",
       "    </tr>\n",
       "  </thead>\n",
       "  <tbody>\n",
       "    <tr>\n",
       "      <th>0</th>\n",
       "      <td>-1.816800</td>\n",
       "      <td>0.027567</td>\n",
       "      <td>-2.756676</td>\n",
       "    </tr>\n",
       "    <tr>\n",
       "      <th>1</th>\n",
       "      <td>0.223687</td>\n",
       "      <td>0.000200</td>\n",
       "      <td>-0.020030</td>\n",
       "    </tr>\n",
       "    <tr>\n",
       "      <th>2</th>\n",
       "      <td>-1.937500</td>\n",
       "      <td>0.001721</td>\n",
       "      <td>-0.172096</td>\n",
       "    </tr>\n",
       "    <tr>\n",
       "      <th>3</th>\n",
       "      <td>-1.780000</td>\n",
       "      <td>0.016140</td>\n",
       "      <td>-1.614043</td>\n",
       "    </tr>\n",
       "    <tr>\n",
       "      <th>4</th>\n",
       "      <td>-0.045704</td>\n",
       "      <td>0.000216</td>\n",
       "      <td>-0.021601</td>\n",
       "    </tr>\n",
       "    <tr>\n",
       "      <th>...</th>\n",
       "      <td>...</td>\n",
       "      <td>...</td>\n",
       "      <td>...</td>\n",
       "    </tr>\n",
       "    <tr>\n",
       "      <th>65</th>\n",
       "      <td>-0.100820</td>\n",
       "      <td>0.000232</td>\n",
       "      <td>-0.023186</td>\n",
       "    </tr>\n",
       "    <tr>\n",
       "      <th>66</th>\n",
       "      <td>-1.880000</td>\n",
       "      <td>0.018027</td>\n",
       "      <td>-1.802719</td>\n",
       "    </tr>\n",
       "    <tr>\n",
       "      <th>67</th>\n",
       "      <td>-2.200304</td>\n",
       "      <td>0.001451</td>\n",
       "      <td>-0.145131</td>\n",
       "    </tr>\n",
       "    <tr>\n",
       "      <th>68</th>\n",
       "      <td>-1.790000</td>\n",
       "      <td>0.026463</td>\n",
       "      <td>-2.646303</td>\n",
       "    </tr>\n",
       "    <tr>\n",
       "      <th>69</th>\n",
       "      <td>-2.144258</td>\n",
       "      <td>0.001266</td>\n",
       "      <td>-0.126624</td>\n",
       "    </tr>\n",
       "  </tbody>\n",
       "</table>\n",
       "<p>70 rows × 3 columns</p>\n",
       "</div>"
      ],
      "text/plain": [
       "      actual      pred  pred_mult_neg100\n",
       "0  -1.816800  0.027567         -2.756676\n",
       "1   0.223687  0.000200         -0.020030\n",
       "2  -1.937500  0.001721         -0.172096\n",
       "3  -1.780000  0.016140         -1.614043\n",
       "4  -0.045704  0.000216         -0.021601\n",
       "..       ...       ...               ...\n",
       "65 -0.100820  0.000232         -0.023186\n",
       "66 -1.880000  0.018027         -1.802719\n",
       "67 -2.200304  0.001451         -0.145131\n",
       "68 -1.790000  0.026463         -2.646303\n",
       "69 -2.144258  0.001266         -0.126624\n",
       "\n",
       "[70 rows x 3 columns]"
      ]
     },
     "execution_count": 443,
     "metadata": {},
     "output_type": "execute_result"
    }
   ],
   "source": [
    "actual_v_pred = actual.join(predicted, how = \"inner\")\n",
    "actual_v_pred['pred_mult_neg100'] = actual_v_pred['pred'].apply(lambda x: x*-100)\n",
    "actual_v_pred"
   ]
  },
  {
   "cell_type": "code",
   "execution_count": 444,
   "metadata": {},
   "outputs": [
    {
     "data": {
      "text/plain": [
       "[<matplotlib.lines.Line2D at 0x7fd53f325eb0>,\n",
       " <matplotlib.lines.Line2D at 0x7fd53fbe7f10>,\n",
       " <matplotlib.lines.Line2D at 0x7fd542907040>]"
      ]
     },
     "execution_count": 444,
     "metadata": {},
     "output_type": "execute_result"
    },
    {
     "data": {
      "image/png": "[encoded data removed]",
      "text/plain": [
       "<Figure size 432x288 with 1 Axes>"
      ]
     },
     "metadata": {
      "needs_background": "light"
     },
     "output_type": "display_data"
    }
   ],
   "source": [
    "plt.plot(actual_v_pred)"
   ]
  },
  {
   "cell_type": "code",
   "execution_count": 445,
   "metadata": {},
   "outputs": [
    {
     "data": {
      "text/plain": [
       "array([[1.        , 0.18128497],\n",
       "       [0.18128497, 1.        ]])"
      ]
     },
     "execution_count": 445,
     "metadata": {},
     "output_type": "execute_result"
    }
   ],
   "source": [
    "import numpy as np\n",
    "np.corrcoef(actual_v_pred['actual'], actual_v_pred['pred_mult_neg100'])"
   ]
  },
  {
   "cell_type": "code",
   "execution_count": 446,
   "metadata": {},
   "outputs": [
    {
     "data": {
      "text/plain": [
       "array([[ 1.        , -0.18128497],\n",
       "       [-0.18128497,  1.        ]])"
      ]
     },
     "execution_count": 446,
     "metadata": {},
     "output_type": "execute_result"
    }
   ],
   "source": [
    "np.corrcoef(actual_v_pred['actual'], actual_v_pred['pred'])"
   ]
  },
  {
   "cell_type": "code",
   "execution_count": 449,
   "metadata": {},
   "outputs": [
    {
     "data": {
      "text/plain": [
       "(-0.18128497321199105, 0.13312191170609836)"
      ]
     },
     "execution_count": 449,
     "metadata": {},
     "output_type": "execute_result"
    }
   ],
   "source": [
    "from scipy.stats import pearsonr\n",
    "\n",
    "pearsonr(actual_v_pred['actual'], actual_v_pred['pred'])"
   ]
  },
  {
   "cell_type": "markdown",
   "metadata": {},
   "source": [
    "This says that the two variables have a p-value of 0.13 and a correlation of -0.18). "
   ]
  },
  {
   "cell_type": "markdown",
   "metadata": {},
   "source": [
    "Let's try a regular linear regression model:"
   ]
  },
  {
   "cell_type": "code",
   "execution_count": 451,
   "metadata": {},
   "outputs": [],
   "source": [
    "from sklearn.linear_model import LinearRegression"
   ]
  },
  {
   "cell_type": "code",
   "execution_count": 463,
   "metadata": {},
   "outputs": [],
   "source": [
    "model = LinearRegression()\n",
    "model.fit(X_train, Y_train)\n",
    "preds_linear = pd.DataFrame(model.predict(X_val_and_test), columns=[\"pred\"])\n",
    "#print(\"Loss: \" + str(loss(rounded_preds, test_labels)))"
   ]
  },
  {
   "cell_type": "code",
   "execution_count": null,
   "metadata": {},
   "outputs": [],
   "source": []
  },
  {
   "cell_type": "code",
   "execution_count": 467,
   "metadata": {},
   "outputs": [
    {
     "data": {
      "text/html": [
       "<div>\n",
       "<style scoped>\n",
       "    .dataframe tbody tr th:only-of-type {\n",
       "        vertical-align: middle;\n",
       "    }\n",
       "\n",
       "    .dataframe tbody tr th {\n",
       "        vertical-align: top;\n",
       "    }\n",
       "\n",
       "    .dataframe thead th {\n",
       "        text-align: right;\n",
       "    }\n",
       "</style>\n",
       "<table border=\"1\" class=\"dataframe\">\n",
       "  <thead>\n",
       "    <tr style=\"text-align: right;\">\n",
       "      <th></th>\n",
       "      <th>actual</th>\n",
       "      <th>pred</th>\n",
       "      <th>diff</th>\n",
       "    </tr>\n",
       "  </thead>\n",
       "  <tbody>\n",
       "    <tr>\n",
       "      <th>0</th>\n",
       "      <td>-1.816800</td>\n",
       "      <td>-1.816800</td>\n",
       "      <td>-2.220446e-16</td>\n",
       "    </tr>\n",
       "    <tr>\n",
       "      <th>1</th>\n",
       "      <td>0.223687</td>\n",
       "      <td>0.223687</td>\n",
       "      <td>0.000000e+00</td>\n",
       "    </tr>\n",
       "    <tr>\n",
       "      <th>2</th>\n",
       "      <td>-1.937500</td>\n",
       "      <td>-1.937500</td>\n",
       "      <td>-6.661338e-16</td>\n",
       "    </tr>\n",
       "    <tr>\n",
       "      <th>3</th>\n",
       "      <td>-1.780000</td>\n",
       "      <td>-1.780000</td>\n",
       "      <td>4.440892e-16</td>\n",
       "    </tr>\n",
       "    <tr>\n",
       "      <th>4</th>\n",
       "      <td>-0.045704</td>\n",
       "      <td>-0.045704</td>\n",
       "      <td>4.857226e-17</td>\n",
       "    </tr>\n",
       "    <tr>\n",
       "      <th>...</th>\n",
       "      <td>...</td>\n",
       "      <td>...</td>\n",
       "      <td>...</td>\n",
       "    </tr>\n",
       "    <tr>\n",
       "      <th>65</th>\n",
       "      <td>-0.100820</td>\n",
       "      <td>-0.100820</td>\n",
       "      <td>1.387779e-17</td>\n",
       "    </tr>\n",
       "    <tr>\n",
       "      <th>66</th>\n",
       "      <td>-1.880000</td>\n",
       "      <td>-1.880000</td>\n",
       "      <td>2.220446e-16</td>\n",
       "    </tr>\n",
       "    <tr>\n",
       "      <th>67</th>\n",
       "      <td>-2.200304</td>\n",
       "      <td>-2.200304</td>\n",
       "      <td>-4.440892e-16</td>\n",
       "    </tr>\n",
       "    <tr>\n",
       "      <th>68</th>\n",
       "      <td>-1.790000</td>\n",
       "      <td>-1.790000</td>\n",
       "      <td>0.000000e+00</td>\n",
       "    </tr>\n",
       "    <tr>\n",
       "      <th>69</th>\n",
       "      <td>-2.144258</td>\n",
       "      <td>-2.144257</td>\n",
       "      <td>-4.440892e-16</td>\n",
       "    </tr>\n",
       "  </tbody>\n",
       "</table>\n",
       "<p>70 rows × 3 columns</p>\n",
       "</div>"
      ],
      "text/plain": [
       "      actual      pred          diff\n",
       "0  -1.816800 -1.816800 -2.220446e-16\n",
       "1   0.223687  0.223687  0.000000e+00\n",
       "2  -1.937500 -1.937500 -6.661338e-16\n",
       "3  -1.780000 -1.780000  4.440892e-16\n",
       "4  -0.045704 -0.045704  4.857226e-17\n",
       "..       ...       ...           ...\n",
       "65 -0.100820 -0.100820  1.387779e-17\n",
       "66 -1.880000 -1.880000  2.220446e-16\n",
       "67 -2.200304 -2.200304 -4.440892e-16\n",
       "68 -1.790000 -1.790000  0.000000e+00\n",
       "69 -2.144258 -2.144257 -4.440892e-16\n",
       "\n",
       "[70 rows x 3 columns]"
      ]
     },
     "execution_count": 467,
     "metadata": {},
     "output_type": "execute_result"
    }
   ],
   "source": [
    "actual_v_pred_linear = actual.join(preds_linear, how = \"inner\")\n",
    "actual_v_pred_linear['diff'] = actual_v_pred_linear['actual'] - actual_v_pred_linear['pred']\n",
    "actual_v_pred_linear"
   ]
  },
  {
   "cell_type": "code",
   "execution_count": 465,
   "metadata": {},
   "outputs": [
    {
     "data": {
      "text/plain": [
       "[<matplotlib.lines.Line2D at 0x7fd542a88cd0>,\n",
       " <matplotlib.lines.Line2D at 0x7fd542a88dc0>]"
      ]
     },
     "execution_count": 465,
     "metadata": {},
     "output_type": "execute_result"
    },
    {
     "data": {
      "image/png": "[encoded data removed]",
      "text/plain": [
       "<Figure size 432x288 with 1 Axes>"
      ]
     },
     "metadata": {
      "needs_background": "light"
     },
     "output_type": "display_data"
    }
   ],
   "source": [
    "plt.plot(actual_v_pred_linear)"
   ]
  },
  {
   "cell_type": "code",
   "execution_count": null,
   "metadata": {},
   "outputs": [],
   "source": []
  },
  {
   "cell_type": "code",
   "execution_count": null,
   "metadata": {},
   "outputs": [],
   "source": []
  },
  {
   "cell_type": "code",
   "execution_count": null,
   "metadata": {},
   "outputs": [],
   "source": []
  },
  {
   "cell_type": "code",
   "execution_count": null,
   "metadata": {},
   "outputs": [],
   "source": []
  },
  {
   "cell_type": "code",
   "execution_count": null,
   "metadata": {},
   "outputs": [],
   "source": []
  }
 ],
 "metadata": {
  "kernelspec": {
   "display_name": "Python 3",
   "language": "python",
   "name": "python3"
  },
  "language_info": {
   "codemirror_mode": {
    "name": "ipython",
    "version": 3
   },
   "file_extension": ".py",
   "mimetype": "text/x-python",
   "name": "python",
   "nbconvert_exporter": "python",
   "pygments_lexer": "ipython3",
   "version": "3.8.5"
  }
 },
 "nbformat": 4,
 "nbformat_minor": 4
}
